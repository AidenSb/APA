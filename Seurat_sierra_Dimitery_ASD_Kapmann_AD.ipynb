{
 "cells": [
  {
   "cell_type": "code",
   "execution_count": 3,
   "id": "0609d9ec",
   "metadata": {
    "scrolled": true
   },
   "outputs": [
    {
     "name": "stderr",
     "output_type": "stream",
     "text": [
      "Attaching SeuratObject\n",
      "\n",
      "\n",
      "Attaching package: ‘dplyr’\n",
      "\n",
      "\n",
      "The following objects are masked from ‘package:stats’:\n",
      "\n",
      "    filter, lag\n",
      "\n",
      "\n",
      "The following objects are masked from ‘package:base’:\n",
      "\n",
      "    intersect, setdiff, setequal, union\n",
      "\n",
      "\n",
      "Warning message:\n",
      "\"replacing previous import 'GenomicRanges::union' by 'dplyr::union' when loading 'Sierra'\"\n",
      "Warning message:\n",
      "\"replacing previous import 'GenomicRanges::intersect' by 'dplyr::intersect' when loading 'Sierra'\"\n",
      "Warning message:\n",
      "\"replacing previous import 'GenomicRanges::setdiff' by 'dplyr::setdiff' when loading 'Sierra'\"\n",
      "Warning message:\n",
      "\"replacing previous import 'Gviz::tail' by 'utils::tail' when loading 'Sierra'\"\n",
      "Warning message:\n",
      "\"replacing previous import 'Gviz::head' by 'utils::head' when loading 'Sierra'\"\n",
      "Loading required package: Rcpp\n",
      "\n",
      "Loading required package: data.table\n",
      "\n",
      "\n",
      "Attaching package: 'data.table'\n",
      "\n",
      "\n",
      "The following objects are masked from 'package:dplyr':\n",
      "\n",
      "    between, first, last\n",
      "\n",
      "\n",
      "Registered S3 method overwritten by 'cli':\n",
      "  method     from         \n",
      "  print.boxx spatstat.geom\n",
      "\n",
      "── \u001b[1mAttaching packages\u001b[22m ─────────────────────────────────────── tidyverse 1.3.1 ──\n",
      "\n",
      "\u001b[32m✔\u001b[39m \u001b[34mtibble \u001b[39m 3.1.3     \u001b[32m✔\u001b[39m \u001b[34mpurrr  \u001b[39m 0.3.4\n",
      "\u001b[32m✔\u001b[39m \u001b[34mtidyr  \u001b[39m 1.1.3     \u001b[32m✔\u001b[39m \u001b[34mforcats\u001b[39m 0.5.1\n",
      "\u001b[32m✔\u001b[39m \u001b[34mreadr  \u001b[39m 2.0.1     \n",
      "\n",
      "── \u001b[1mConflicts\u001b[22m ────────────────────────────────────────── tidyverse_conflicts() ──\n",
      "\u001b[31m✖\u001b[39m \u001b[34mdata.table\u001b[39m::\u001b[32mbetween()\u001b[39m masks \u001b[34mdplyr\u001b[39m::between()\n",
      "\u001b[31m✖\u001b[39m \u001b[34mdplyr\u001b[39m::\u001b[32mfilter()\u001b[39m       masks \u001b[34mstats\u001b[39m::filter()\n",
      "\u001b[31m✖\u001b[39m \u001b[34mdata.table\u001b[39m::\u001b[32mfirst()\u001b[39m   masks \u001b[34mdplyr\u001b[39m::first()\n",
      "\u001b[31m✖\u001b[39m \u001b[34mdplyr\u001b[39m::\u001b[32mlag()\u001b[39m          masks \u001b[34mstats\u001b[39m::lag()\n",
      "\u001b[31m✖\u001b[39m \u001b[34mdata.table\u001b[39m::\u001b[32mlast()\u001b[39m    masks \u001b[34mdplyr\u001b[39m::last()\n",
      "\u001b[31m✖\u001b[39m \u001b[34mpurrr\u001b[39m::\u001b[32mtranspose()\u001b[39m    masks \u001b[34mdata.table\u001b[39m::transpose()\n",
      "\n"
     ]
    }
   ],
   "source": [
    "library(Seurat)\n",
    "library(ggplot2)\n",
    "library(dplyr)\n",
    "library(stringr)\n",
    "library(Sierra)\n",
    "library(presto)\n",
    "library(ggplot2)\n",
    "library(msigdbr)\n",
    "library(fgsea)\n",
    "library(Seurat)\n",
    "library(tidyverse)\n",
    "setwd('/data/APAproject/post_qual/data/Dimitry_Velmeshev_ASD/')"
   ]
  },
  {
   "cell_type": "code",
   "execution_count": null,
   "id": "1a0dd6d0",
   "metadata": {},
   "outputs": [],
   "source": [
    "data_dir <- '/data/APAproject//post_qual//data//Dimitry_Velmeshev_ASD/count_matrices/raw_matrix/'\n",
    "ge_so <- Read10X(data.dir = data_dir)"
   ]
  },
  {
   "cell_type": "code",
   "execution_count": null,
   "id": "01f017f2",
   "metadata": {},
   "outputs": [],
   "source": [
    "ge_so = CreateSeuratObject(counts = ge_so)"
   ]
  },
  {
   "cell_type": "code",
   "execution_count": null,
   "id": "bd0d91c3",
   "metadata": {
    "scrolled": true
   },
   "outputs": [],
   "source": [
    "metadata <- data.frame(read_table(paste0(data_dir,'meta.txt')))\n",
    "metadata = metadata[,1:13]\n",
    "rownames(metadata) <-  metadata$cell\n",
    "head(metadata)"
   ]
  },
  {
   "cell_type": "code",
   "execution_count": null,
   "id": "f26b6f2e",
   "metadata": {},
   "outputs": [],
   "source": [
    "ge_so <- AddMetaData(ge_so, metadata = metadata)\n",
    "ge_so"
   ]
  },
  {
   "cell_type": "code",
   "execution_count": null,
   "id": "98e569a1",
   "metadata": {},
   "outputs": [],
   "source": [
    "process_pca <- function (so, n_features){\n",
    "    so <- NormalizeData(so, normalization.method = \"LogNormalize\",scale.factor = 10000, verbose = F)\n",
    "    so <- FindVariableFeatures(object = so,selection.method = \"vst\", nfeatures = n_features, verbose = F)\n",
    "    so <- ScaleData(so, features = rownames(so))\n",
    "    so <- RunPCA(so, features = VariableFeatures(object = so), verbose = F)\n",
    "    return(so)\n",
    "}"
   ]
  },
  {
   "cell_type": "code",
   "execution_count": null,
   "id": "b996238f",
   "metadata": {},
   "outputs": [],
   "source": [
    "ge_so <- subset(ge_so , subset=diagnosis=='Control')\n",
    "ge_so <- process_pca(ge_so, 2000)\n",
    "ElbowPlot(ge_so)"
   ]
  },
  {
   "cell_type": "code",
   "execution_count": null,
   "id": "4c2b5aea",
   "metadata": {
    "scrolled": true
   },
   "outputs": [],
   "source": [
    "ge_so <- RunUMAP(ge_so , dims = 1:20, min.dist = 0.001,  n_neighbors = 50)    ##parameteres need to be set\n",
    "ge_so <- FindNeighbors(ge_so, dims = 1:20)\n",
    "#find cluster\n",
    "ge_so <- FindClusters(ge_so, resolution =1)\n",
    "DimPlot(ge_so, reduction='umap', group.by='cluster')\n",
    "DimPlot(ge_so, reduction='umap', group.by='Capbatch', label = T)"
   ]
  },
  {
   "cell_type": "code",
   "execution_count": null,
   "id": "71f4cd77",
   "metadata": {},
   "outputs": [],
   "source": []
  },
  {
   "cell_type": "code",
   "execution_count": null,
   "id": "5d5d86e4",
   "metadata": {},
   "outputs": [],
   "source": [
    "DimPlot(ge_so, reduction='umap', group.by='seurat_clusters', label=T)\n",
    "DimPlot(ge_so, reduction='umap', group.by='cluster', label=T)\n",
    "DimPlot(ge_so, reduction='umap', group.by='sample', label=T)"
   ]
  },
  {
   "cell_type": "code",
   "execution_count": null,
   "id": "af5cd3c5",
   "metadata": {
    "scrolled": false
   },
   "outputs": [],
   "source": [
    "table(ge_so$cluster)"
   ]
  },
  {
   "cell_type": "code",
   "execution_count": null,
   "id": "4590525e",
   "metadata": {},
   "outputs": [],
   "source": [
    "ge_so$neuron_type <- 'Other'"
   ]
  },
  {
   "cell_type": "code",
   "execution_count": null,
   "id": "f421bdc8",
   "metadata": {},
   "outputs": [],
   "source": [
    "IN_idx <- which(ge_so$cluster %in% c('IN-SST','IN-VIP','IN-SV2C','IN-PV'))\n",
    "ge_so$neuron_type[IN_idx] = 'Inhibitory_Neurons'"
   ]
  },
  {
   "cell_type": "code",
   "execution_count": null,
   "id": "f0e08fe5",
   "metadata": {},
   "outputs": [],
   "source": [
    "Ex_idx <- which(ge_so$cluster %in% c('L2/3','L4',' L5/6','L5/6-CC','Neu-NRGN-II','Neu-NRGN-I','Neu-mat'))\n",
    "ge_so$neuron_type[Ex_idx] = 'Excitatory_Neurons'"
   ]
  },
  {
   "cell_type": "code",
   "execution_count": null,
   "id": "731545eb",
   "metadata": {},
   "outputs": [],
   "source": [
    "ge_so$main_cellTypes <- 'NA'\n",
    "IN_idx <- which(ge_so$cluster %in% c('IN-SST','IN-VIP','IN-SV2C','IN-PV'))\n",
    "ge_so$main_cellTypes[IN_idx] = 'Inhibitory_Neurons'\n",
    "##\n",
    "Ex_idx <- which(ge_so$cluster %in% c('L2/3','L4','L5/6','L5/6-CC','Neu-NRGN-II','Neu-NRGN-I','Neu-mat'))\n",
    "ge_so$main_cellTypes[Ex_idx] = 'Excitatory_Neurons'\n",
    "##\n",
    "En_idx <- which(ge_so$cluster %in% c('Endothelial'))\n",
    "ge_so$main_cellTypes[En_idx] = 'Endothelial'\n",
    "##\n",
    "Ast_idx <- which(ge_so$cluster %in% c('AST-FB','AST-PP'))\n",
    "ge_so$main_cellTypes[Ast_idx] = 'Astrocytes'\n",
    "##\n",
    "Mg_idx <- which(ge_so$cluster %in% c('Microglia'))\n",
    "ge_so$main_cellTypes[Mg_idx] = 'Microglia'\n",
    "##\n",
    "Og_idx <- which(ge_so$cluster %in% c('Oligodendrocytes'))\n",
    "ge_so$main_cellTypes[Og_idx] = 'Oligodendrocytes'\n",
    "\n",
    "##\n",
    "OPC_idx <- which(ge_so$cluster %in% c('OPC'))\n",
    "ge_so$main_cellTypes[OPC_idx] = 'OPC'"
   ]
  },
  {
   "cell_type": "code",
   "execution_count": null,
   "id": "8ee83da0",
   "metadata": {},
   "outputs": [],
   "source": [
    "DimPlot(ge_so, reduction='umap', group.by='neuron_type', label=T)\n",
    "DimPlot(ge_so, reduction='umap', group.by='main_cellTypes', label=T)\n",
    "DimPlot(ge_so, reduction='umap', group.by='cluster', label=T)"
   ]
  },
  {
   "cell_type": "code",
   "execution_count": null,
   "id": "d0d2208b",
   "metadata": {},
   "outputs": [],
   "source": [
    "table(ge_so$main_cellTypes)"
   ]
  },
  {
   "cell_type": "markdown",
   "id": "6e457214",
   "metadata": {},
   "source": [
    "## QCed and processed bam files are stored here \n",
    "### /data/APAproject/pre_qual/controls_raw/QCed_for_APA_usage_study"
   ]
  },
  {
   "cell_type": "code",
   "execution_count": null,
   "id": "45132dec",
   "metadata": {},
   "outputs": [],
   "source": [
    "## get the cell barcodes per patient and then filter the main bamfiles to only keep the QCed cellbarcodes. \n",
    "head(Cells(ge_so))"
   ]
  },
  {
   "cell_type": "code",
   "execution_count": null,
   "id": "fbd5b189",
   "metadata": {},
   "outputs": [],
   "source": [
    "cells_samples <- data.frame(ge_so$sample)\n",
    "samples <- unique(cells_samples$ge_so.sample)\n",
    "dir_to_save <- '/data/APAproject/pre_qual/controls_raw/QCed_for_APA_usage_study/'\n",
    "for (sample in samples){\n",
    "    outname <- paste0(dir_to_save, sample,'_filtered_barcodes.tsv')\n",
    "    prefix <- paste0(\"_\", sample)\n",
    "    df <- gsub(prefix,\"\",rownames(cells_samples[cells_samples$ge_so.sample==sample,,drop=F]))\n",
    "    write.table(df, file = outname,row.names = F, col.names = F, quote = FALSE)\n",
    "}"
   ]
  },
  {
   "cell_type": "code",
   "execution_count": null,
   "id": "f8864203",
   "metadata": {},
   "outputs": [],
   "source": [
    "## extract the qced cells from main bam file and then submit to Sierra pipeline"
   ]
  },
  {
   "cell_type": "code",
   "execution_count": null,
   "id": "f18aa84c",
   "metadata": {
    "scrolled": true
   },
   "outputs": [],
   "source": [
    "tst <- read.table('/data/APAproject/pre_qual/controls_raw/QCed_for_APA_usage_study/filtered_bams/metadata_for_sierra.txt', header=T)\n",
    "tst"
   ]
  },
  {
   "cell_type": "code",
   "execution_count": null,
   "id": "4879172d",
   "metadata": {},
   "outputs": [],
   "source": [
    "library(Sierra)\n",
    "library(dplyr)\n",
    "library(stringr)\n",
    "workingdir <- '/data/APAproject/post_qual/data/Dimitry_Velmeshev_ASD/Sierra_out_1/'\n",
    "setwd(workingdir)\n",
    "reference.file <- '/home/aiden/data/refgenome/refdata-gex-GRCh38-2020-A/genes//genes.gtf'\n",
    "root <- '/data/APAproject/post_qual/data/Dimitry_Velmeshev_ASD/bams_in/'\n",
    "samples <- read.table(paste0(root,'metadata_for_sierra.txt'), header = T)\n",
    "peak.output.file <- c(paste0(samples$name, '_FindPeak_out'))\n",
    "L <- dim(samples)[1]\n",
    "print('Step 1: Samples are read and now performing the peak calling per sample')\n",
    "for (row in 1:L){\n",
    "    FindPeaks(output.file = peak.output.file[row],      # output filename\n",
    "    gtf.file = reference.file,                   # gene model as a GTF file\n",
    "    bamfile = paste0(root,samples[row,]$bam),                   # BAM alignment filename.\n",
    "    junctions.file = paste0(root,samples[row,]$junctions),     # BED filename of splice junctions exising in BAM file. \n",
    "    ncores = 32)\n",
    "}\n",
    "\n",
    "print('Step 2: peak calling per sample is done now mergeing the peaks')\n",
    "peak.dataset.table = data.frame(Peak_file = peak.output.file,\n",
    "  Identifier = samples$name,\n",
    "  stringsAsFactors = FALSE)\n",
    "peak.merge.output.file = \"DimitryV_merged_peaks.txt\"\n",
    "MergePeakCoordinates(peak.dataset.table, output.file = peak.merge.output.file, ncores = 32)\n",
    "####\n",
    "print('Step 3: merging is done now counting the per peak, this can take a while')\n",
    "\n",
    "count.dir <- paste0(samples$name, \"_sierra_counts\")\n",
    "for (row in 1:L){\n",
    "    print(count.dir[row])\n",
    "    CountPeaks(peak.sites.file = peak.merge.output.file,\n",
    "    gtf.file = reference.file,\n",
    "    bamfile = paste0(root,samples[row,]$bam),\n",
    "    whitelist.file = paste0(root,samples[row,]$barcodes),\n",
    "    output.dir = count.dir[row],\n",
    "    countUMI = TRUE,\n",
    "    ncores = 32)\n",
    "\n",
    "}\n",
    "\n",
    "print('Step 4: counting is done now aggeragating the peaks for all samples')\n",
    "count.dir <- paste0(samples$name, \"_sierra_counts\")\n",
    "barcode_extensions <- data.frame(samples$name)\n",
    "colnames(barcode_extensions) <- c('ext')\n",
    "barcode_extensions <- paste0(\"_\",barcode_extensions$ext)\n",
    "print(barcode_extensions)\n",
    "out.dir <- \"DimitryV_Sierra_aggregate\"\n",
    "#Now aggregate the counts for all datasets\n",
    "AggregatePeakCounts(peak.sites.file = peak.merge.output.file,\n",
    "                    count.dirs = count.dir,\n",
    "                    exp.labels = barcode_extensions,\n",
    "                    output.dir = out.dir)\n",
    "\n"
   ]
  },
  {
   "cell_type": "code",
   "execution_count": null,
   "id": "a22d9d32",
   "metadata": {},
   "outputs": [],
   "source": [
    "## Save the objects and free the memory\n"
   ]
  },
  {
   "cell_type": "code",
   "execution_count": null,
   "id": "e35e1da3",
   "metadata": {},
   "outputs": [],
   "source": [
    "saveRDS(object = ge_so,\n",
    "        file = '/data/APAproject/post_qual/data/Dimitry_Velmeshev_ASD/rdata/Control_celltypes_GE.rds')"
   ]
  },
  {
   "cell_type": "code",
   "execution_count": null,
   "id": "75826b3e",
   "metadata": {},
   "outputs": [],
   "source": [
    "ge_so <- readRDS('/data/APAproject/post_qual/data/Dimitry_Velmeshev_ASD/rdata/Control_celltypes_GE.rds')"
   ]
  },
  {
   "cell_type": "code",
   "execution_count": null,
   "id": "4a594943",
   "metadata": {},
   "outputs": [],
   "source": [
    "setwd('/data/APAproject/post_qual/data/Dimitry_Velmeshev_ASD/')"
   ]
  },
  {
   "cell_type": "code",
   "execution_count": null,
   "id": "75376b04",
   "metadata": {},
   "outputs": [],
   "source": [
    "## read and annotated the aggregated peaks\n",
    "reference.file <- '/home/aiden/data/refgenome/refdata-gex-GRCh38-2020-A/genes//genes.gtf'\n",
    "Agg_peak <- read.table('Sierra_out_1/DimitryV_merged_peaks.txt',header = T)\n",
    "Agg_peak"
   ]
  },
  {
   "cell_type": "code",
   "execution_count": null,
   "id": "794d98b5",
   "metadata": {},
   "outputs": [],
   "source": [
    "genome <- BSgenome.Hsapiens.UCSC.hg38::BSgenome.Hsapiens.UCSC.hg38\n",
    "print('Aggeration is done; now annotating the peaks')\n",
    "AnnotatePeaksFromGTF(peak.sites.file = 'Sierra_out_1/DimitryV_merged_peaks.txt', \n",
    "                     gtf.file = reference.file,\n",
    "                     output.file = \"Sierra_out_1/DimitryV_peaks_annotated.txt\", \n",
    "                     genome = genome)\n",
    "print('Last step 5: reading and writing the annotated peak counts')\n"
   ]
  },
  {
   "cell_type": "code",
   "execution_count": null,
   "id": "7bfbc772",
   "metadata": {},
   "outputs": [],
   "source": [
    "#Read in peak annotations\n",
    "peak.annotations <- read.table(\"Sierra_out_1/DimitryV_peaks_annotated.txt\", \n",
    "                               header = TRUE,\n",
    "                               sep = \"\\t\",\n",
    "                               row.names = 1,\n",
    "                               stringsAsFactors = FALSE)\n",
    "peak.annotations"
   ]
  },
  {
   "cell_type": "code",
   "execution_count": null,
   "id": "76ba0512",
   "metadata": {},
   "outputs": [],
   "source": [
    "## make a seurat object\n",
    "peak.counts <- ReadPeakCounts(data.dir = \"Sierra_out_1/DimitryV_Sierra_aggregate/\")\n",
    "peaks.seurat <- NewPeakSeurat(peak.data = peak.counts, \n",
    "                              annot.info = peak.annotations, \n",
    "                              min.cells = 0, min.peaks = 200)"
   ]
  },
  {
   "cell_type": "code",
   "execution_count": null,
   "id": "e57f89b2",
   "metadata": {},
   "outputs": [],
   "source": [
    "peaks.seurat"
   ]
  },
  {
   "cell_type": "code",
   "execution_count": null,
   "id": "52d7d1c1",
   "metadata": {},
   "outputs": [],
   "source": [
    "DimPlot(ge_so, reduction='umap', group.by='seurat_clusters')"
   ]
  },
  {
   "cell_type": "code",
   "execution_count": null,
   "id": "13143cef",
   "metadata": {},
   "outputs": [],
   "source": [
    "peaks.seurat <- process_pca(peaks.seurat, 4000)\n",
    "ElbowPlot(peaks.seurat)"
   ]
  },
  {
   "cell_type": "code",
   "execution_count": null,
   "id": "768d183b",
   "metadata": {
    "scrolled": true
   },
   "outputs": [],
   "source": [
    "peaks.seurat <- RunUMAP(peaks.seurat , dims = 1:20, min.dist = 0.001,  n_neighbors = 25)    ##parameteres need to be set\n",
    "peaks.seurat <- FindNeighbors(peaks.seurat, dims = 1:20)\n",
    "#find cluster\n",
    "peaks.seurat <- FindClusters(peaks.seurat, resolution =1)"
   ]
  },
  {
   "cell_type": "code",
   "execution_count": null,
   "id": "a6c14d03",
   "metadata": {},
   "outputs": [],
   "source": [
    "peaks.seurat <- AddMetaData(peaks.seurat, metadata = ge_so@meta.data)"
   ]
  },
  {
   "cell_type": "code",
   "execution_count": null,
   "id": "2d882436",
   "metadata": {
    "scrolled": true
   },
   "outputs": [],
   "source": [
    "DimPlot(peaks.seurat, reduction='umap', group.by='main_cellTypes',label=T)\n",
    "DimPlot(peaks.seurat, reduction='umap', group.by='cluster', label=T)\n",
    "DimPlot(peaks.seurat, reduction='umap', group.by='seurat_clusters',label=T)"
   ]
  },
  {
   "cell_type": "code",
   "execution_count": null,
   "id": "3fdc57ad",
   "metadata": {},
   "outputs": [],
   "source": [
    "saveRDS(object = peaks.seurat, file = 'rdata/Control_celltypes_peaks.rds')"
   ]
  },
  {
   "cell_type": "code",
   "execution_count": null,
   "id": "986767c9",
   "metadata": {},
   "outputs": [],
   "source": [
    "peaks_so <- readRDS('rdata/Control_celltypes_peaks.rds')\n"
   ]
  },
  {
   "cell_type": "code",
   "execution_count": null,
   "id": "cbb67680",
   "metadata": {},
   "outputs": [],
   "source": [
    "peaks_so <- process_pca(peaks_so, 4000)"
   ]
  },
  {
   "cell_type": "code",
   "execution_count": null,
   "id": "e96fe988",
   "metadata": {},
   "outputs": [],
   "source": [
    "ElbowPlot(peaks_so)"
   ]
  },
  {
   "cell_type": "markdown",
   "id": "8a05eb0d",
   "metadata": {},
   "source": [
    "## Ok its a bitimessed up here!!! have to do some stuff again so the order is not really true in this notebook!\n",
    "### it is better to use only one UMAP to study the celltypes and subclusters!\n",
    "# Chapter1\n",
    "### 1-get the overal dimplots from gene expression profiles\n",
    "### 2-subset neurons, and do the subclustering\n",
    "### 3-make the overal peaks file and add the metadata\n",
    "### 4-subset the neurons from peaks seurat object and add the metadata!"
   ]
  },
  {
   "cell_type": "code",
   "execution_count": null,
   "id": "de284748",
   "metadata": {},
   "outputs": [],
   "source": [
    "ge_so <- readRDS('rdata/Control_celltypes_GE.rds')\n",
    "#Read in peak annotations\n",
    "peak.annotations <- read.table(\"Sierra_out_1/DimitryV_peaks_annotated.txt\", \n",
    "                               header = TRUE,\n",
    "                               sep = \"\\t\",\n",
    "                               row.names = 1,\n",
    "                               stringsAsFactors = FALSE)\n",
    "peak.annotations"
   ]
  },
  {
   "cell_type": "code",
   "execution_count": null,
   "id": "3966ece6",
   "metadata": {},
   "outputs": [],
   "source": [
    "peak.counts <- ReadPeakCounts(data.dir = \"Sierra_out_1/DimitryV_Sierra_aggregate/\")\n",
    "peaks_so <- PeakSeuratFromTransfer(peak.data = peak.counts, \n",
    "                                       genes.seurat = ge_so, \n",
    "                                       annot.info = peak.annotations, \n",
    "                                       min.cells = 10, min.peaks = 200)\n",
    "peaks_so"
   ]
  },
  {
   "cell_type": "code",
   "execution_count": null,
   "id": "dbd190b7",
   "metadata": {},
   "outputs": [],
   "source": [
    "peaks_so <- AddMetaData(peaks_so, metadata=ge_so@meta.data)"
   ]
  },
  {
   "cell_type": "code",
   "execution_count": null,
   "id": "de64f88a",
   "metadata": {},
   "outputs": [],
   "source": [
    "DimPlot(peaks_so, reduction='umap', group.by='main_cellTypes',label=T)\n",
    "DimPlot(peaks_so, reduction='umap', group.by='cluster', label=T)\n",
    "DimPlot(peaks_so, reduction='umap', group.by='seurat_clusters',label=T)\n",
    "results_root <- '/data/APAproject/post_qual/data/Dimitry_Velmeshev_ASD/results/'\n",
    "plotname <- paste0(results_root, 'DimV_brain_celltypes_and_subclusters.pdf')\n",
    "pdf(file=plotname, width = 8.27, height = 11.69, paper='A4r', onefile=T)\n",
    "DimPlot(peaks_so, reduction='umap', group.by='main_cellTypes',label=T)\n",
    "DimPlot(peaks_so, reduction='umap', group.by='cluster', label=T)\n",
    "DimPlot(peaks_so, reduction='umap', group.by='seurat_clusters',label=T)\n",
    "dev.off()"
   ]
  },
  {
   "cell_type": "markdown",
   "id": "bd95cd29",
   "metadata": {},
   "source": [
    "## So the peaks makes same amount of clusters! which I think its a good thing. \n",
    "## Now the interesting thing is despite well labeld map we still have more subclusters than cell types. so I'm wondering if we can see difference in APA usage of these subclusters! it would be the golden nugget"
   ]
  },
  {
   "cell_type": "code",
   "execution_count": null,
   "id": "bb00f26b",
   "metadata": {},
   "outputs": [],
   "source": [
    "DimPlot(ge_so, reduction='umap', group.by='main_cellTypes',label=T)\n",
    "DimPlot(ge_so, reduction='umap', group.by='cluster', label=T)\n",
    "DimPlot(ge_so, reduction='umap', group.by='seurat_clusters',label=T)\n",
    "results_root <- '/data/APAproject/post_qual/data/Dimitry_Velmeshev_ASD/results/'\n",
    "plotname <- paste0(results_root, 'DimV_brain_celltypes_and_subclusters.pdf')\n",
    "pdf(file=plotname, width = 8.27, height = 11.69, paper='A4r', onefile=T)\n",
    "DimPlot(ge_so, reduction='umap', group.by='main_cellTypes',label=T)\n",
    "DimPlot(ge_so, reduction='umap', group.by='cluster', label=T)\n",
    "DimPlot(ge_so, reduction='umap', group.by='seurat_clusters',label=T)\n",
    "dev.off()"
   ]
  },
  {
   "cell_type": "code",
   "execution_count": null,
   "id": "1b277d33",
   "metadata": {},
   "outputs": [],
   "source": [
    "## lets first subset the the Neurons as the main dataset is huge!\n",
    "neurons_ge_so <- subset(ge_so, subset=main_cellTypes %in% c(\"Excitatory_Neurons\",\"Inhibitory_Neurons\"))\n",
    "neurons_ge_so"
   ]
  },
  {
   "cell_type": "code",
   "execution_count": null,
   "id": "a70a05c7",
   "metadata": {},
   "outputs": [],
   "source": [
    "neurons_ge_so <- FindVariableFeatures(object = neurons_ge_so,\n",
    "                                   selection.method = \"vst\", nfeatures = 2000, verbose = F)\n",
    "neurons_ge_so <- RunPCA(neurons_ge_so, features = VariableFeatures(object = neurons_ge_so), verbose = F)\n",
    "ElbowPlot(neurons_ge_so)"
   ]
  },
  {
   "cell_type": "code",
   "execution_count": null,
   "id": "e5cdf7c5",
   "metadata": {},
   "outputs": [],
   "source": [
    "neurons_ge_so <- RunUMAP(neurons_ge_so , dims = 1:20, min.dist = 0.001,  n_neighbors = 25, verbose=F)    ##parameteres need to be set\n",
    "neurons_ge_so <- FindNeighbors(neurons_ge_so, dims = 1:20)\n",
    "#find cluster\n",
    "neurons_ge_so <- FindClusters(neurons_ge_so, resolution =1)"
   ]
  },
  {
   "cell_type": "code",
   "execution_count": null,
   "id": "4e339298",
   "metadata": {
    "scrolled": true
   },
   "outputs": [],
   "source": [
    "DimPlot(neurons_ge_so, reduction='umap', group.by='main_cellTypes',label=T)\n",
    "DimPlot(neurons_ge_so, reduction='umap', group.by='cluster', label=T)\n",
    "DimPlot(neurons_ge_so, reduction='umap', group.by='seurat_clusters',label=T)\n",
    "results_root <- '/data/APAproject/post_qual/data/Dimitry_Velmeshev_ASD/results/'\n",
    "plotname <- paste0(results_root, 'Neurons_and_subtupes.pdf')\n",
    "pdf(file=plotname, width = 8.27, height = 11.69, paper='A4r', onefile=T)\n",
    "DimPlot(neurons_ge_so, reduction='umap', group.by='main_cellTypes',label=T)\n",
    "DimPlot(neurons_ge_so, reduction='umap', group.by='cluster', label=T)\n",
    "DimPlot(neurons_ge_so, reduction='umap', group.by='seurat_clusters',label=T)\n",
    "dev.off()"
   ]
  },
  {
   "cell_type": "code",
   "execution_count": null,
   "id": "7d1dedd2",
   "metadata": {},
   "outputs": [],
   "source": [
    "Cellnames <- Cells(neurons_ge_so)\n",
    "head(Cellnames)"
   ]
  },
  {
   "cell_type": "code",
   "execution_count": null,
   "id": "92070c66",
   "metadata": {},
   "outputs": [],
   "source": [
    "## to subset raw Neurons (or other celltypes) with no UMAP(so we can add the celltype specific UMAP\n",
    "## coordinates to the peaks subset we need to load the peaks_so again and subset based on cellnames)\n",
    "print(dim(peak.counts))\n",
    "peak.counts <- peak.counts[,colnames(peak.counts) %in% Cellnames]\n",
    "print(dim(peak.counts))\n",
    "neurons_peaks_so <- PeakSeuratFromTransfer(peak.data = peak.counts, \n",
    "                                       genes.seurat = neurons_ge_so, \n",
    "                                       annot.info = peak.annotations, \n",
    "                                       min.cells = 10, min.peaks = 200)\n",
    "\n",
    "neurons_peaks_so <- AddMetaData(neurons_peaks_so, metadata=neurons_ge_so@meta.data)"
   ]
  },
  {
   "cell_type": "code",
   "execution_count": null,
   "id": "381257df",
   "metadata": {},
   "outputs": [],
   "source": [
    "saveRDS(object = neurons_peaks_so, file = 'rdata/neurons_peaks_so.rds',compress = T)\n",
    "saveRDS(object = neurons_ge_so, file='rdata/neurons_peaks_so.rds', compress=T)\n",
    "saveRDS(object = ge_so, file = 'rdata/Control_celltypes_GE.rds',compress=T)\n",
    "saveRDS(object = peaks_so, file = 'rdata/Control_celltypes_peaks.rds', compress=T)"
   ]
  },
  {
   "cell_type": "code",
   "execution_count": null,
   "id": "d54aa271",
   "metadata": {},
   "outputs": [],
   "source": [
    "DimPlot(neurons_peaks_so, reduction='umap', group.by='main_cellTypes',label=T)\n",
    "DimPlot(neurons_peaks_so, reduction='umap', group.by='cluster', label=T)\n",
    "DimPlot(neurons_peaks_so, reduction='umap', group.by='seurat_clusters',label=T)"
   ]
  },
  {
   "cell_type": "code",
   "execution_count": null,
   "id": "c87a8df2",
   "metadata": {},
   "outputs": [],
   "source": [
    "## 3'UTR global shifts and APA usage in general neuron types IN vs Ex\n",
    "neurons_peaks_so <- SetIdent(neurons_peaks_so, value = \"main_cellTypes\")\n",
    "reference.file <- '/home/aiden/data/refgenome/refdata-gex-GRCh38-2020-A/genes//genes.gtf'\n",
    "gtf_gr <- rtracklayer::import(reference.file)\n",
    "gtf_TxDb <- GenomicFeatures::makeTxDbFromGFF(reference.file, format=\"gtf\")\n",
    "IE_neruons_UTR_shift <- DetectUTRLengthShift(peaks.object = neurons_peaks_so, \n",
    "                                  gtf_gr = gtf_gr,\n",
    "                                  gtf_TxDb = gtf_TxDb,\n",
    "                                  population.1 = \"Excitatory_Neurons\", \n",
    "                                  population.2 = \"Inhibitory_Neurons\")\n",
    "PlotUTRLengthShift(IE_neruons_UTR_shift)"
   ]
  },
  {
   "cell_type": "code",
   "execution_count": null,
   "id": "64b3b620",
   "metadata": {},
   "outputs": [],
   "source": [
    "plotname <- paste0(results_root, 'Neurons_IvsE_3UTR_shift.pdf')\n",
    "pdf(file=plotname, width = 8.27, height = 11.69, paper='A4r', onefile=T)\n",
    "PlotUTRLengthShift(IE_neruons_UTR_shift)\n",
    "dev.off()"
   ]
  },
  {
   "cell_type": "code",
   "execution_count": null,
   "id": "cc8a4bad",
   "metadata": {},
   "outputs": [],
   "source": [
    "plotname <- paste0(results_root, 'Neurons_IvsE_APAusage.pdf')\n",
    "pdf(file=plotname, width = 8.27, height = 11.69, paper='A4r', onefile=T)\n",
    "IE_neruons_APA_usage <- DetectAEU(peaks.object = neurons_peaks_so, \n",
    "                       gtf_gr = gtf_gr,\n",
    "                       gtf_TxDb = gtf_TxDb,\n",
    "                       do.MAPlot = T,\n",
    "                       population.1 = \"Excitatory_Neurons\", \n",
    "                       population.2 = \"Inhibitory_Neurons\")\n",
    "IE_neruons_APA_usage"
   ]
  },
  {
   "cell_type": "code",
   "execution_count": null,
   "id": "d8fb0aa2",
   "metadata": {},
   "outputs": [],
   "source": [
    "IE_neruons_UTR_shift"
   ]
  },
  {
   "cell_type": "code",
   "execution_count": null,
   "id": "00dd4375",
   "metadata": {},
   "outputs": [],
   "source": [
    "IE_neruons_APA_usage[IE_neruons_APA_usage['population1_pct'] > 0.10 & IE_neruons_APA_usage['population2_pct'] < 0.03,]"
   ]
  },
  {
   "cell_type": "code",
   "execution_count": null,
   "id": "8922fe9a",
   "metadata": {},
   "outputs": [],
   "source": [
    "IE_neruons_APA_usage[IE_neruons_APA_usage['population1_pct'] < 0.03 & IE_neruons_APA_usage['population2_pct'] > 0.10,]"
   ]
  },
  {
   "cell_type": "code",
   "execution_count": null,
   "id": "d8d7481d",
   "metadata": {},
   "outputs": [],
   "source": []
  },
  {
   "cell_type": "markdown",
   "id": "4ec7e771",
   "metadata": {},
   "source": [
    "## so wirte a piece of code that does the global shift analysis for:\n",
    "### 1- all the subclusters combinations in each neuron category\n",
    "### 2- all the subclusters cobinations for all neuron types\n",
    "## also do and save the results for APA usage and save the global shif tables as well.\n"
   ]
  },
  {
   "cell_type": "code",
   "execution_count": null,
   "id": "87939507",
   "metadata": {},
   "outputs": [],
   "source": [
    "neurons_peaks_so <- readRDS('rdata/neurons_peaks_so.rds')"
   ]
  },
  {
   "cell_type": "code",
   "execution_count": null,
   "id": "d9188593",
   "metadata": {},
   "outputs": [],
   "source": [
    "table(neurons_peaks_so$cluster)"
   ]
  },
  {
   "cell_type": "code",
   "execution_count": null,
   "id": "e65276a2",
   "metadata": {},
   "outputs": [],
   "source": [
    "combn(unique(neurons_peaks_so$cluster), 2)"
   ]
  },
  {
   "cell_type": "code",
   "execution_count": null,
   "id": "1df30f39",
   "metadata": {},
   "outputs": [],
   "source": [
    "neurons_peaks_so <- SetIdent(neurons_peaks_so, value = \"cluster\")"
   ]
  },
  {
   "cell_type": "code",
   "execution_count": null,
   "id": "b2364cde",
   "metadata": {},
   "outputs": [],
   "source": [
    "reference.file <- '/home/aiden/data/refgenome/refdata-gex-GRCh38-2020-A/genes//genes.gtf'\n",
    "gtf_gr <- rtracklayer::import(reference.file)\n",
    "gtf_TxDb <- GenomicFeatures::makeTxDbFromGFF(reference.file, format=\"gtf\")\n",
    "# IE_neruons_UTR_shift <- DetectUTRLengthShift(peaks.object = neurons_peaks_so, \n",
    "#                                   gtf_gr = gtf_gr,\n",
    "#                                   gtf_TxDb = gtf_TxDb,\n",
    "#                                   population.1 = \"Excitatory_Neurons\", \n",
    "#                                   population.2 = \"Inhibitory_Neurons\")"
   ]
  },
  {
   "cell_type": "code",
   "execution_count": null,
   "id": "02e98810",
   "metadata": {},
   "outputs": [],
   "source": [
    "p <- PlotUTRLengthShift(IE_neruons_UTR_shift, plot.title = \"Inhibitory vs Excitatory Neurons 3'UTR shifts\")"
   ]
  },
  {
   "cell_type": "code",
   "execution_count": null,
   "id": "905016fb",
   "metadata": {},
   "outputs": [],
   "source": [
    "neurons_peaks_so <- SetIdent(neurons_peaks_so, value = \"main_cellTypes\")\n"
   ]
  },
  {
   "cell_type": "code",
   "execution_count": null,
   "id": "46dcde82",
   "metadata": {},
   "outputs": [],
   "source": [
    "IE_neruons_APA_usage <- DetectAEU(peaks.object = neurons_peaks_so, \n",
    "                                 gtf_gr = gtf_gr,\n",
    "                                 gtf_TxDb = gtf_TxDb,\n",
    "                                 do.MAPlot = T,\n",
    "                                 population.1 = \"Neu-NRGN-II\", \n",
    "                                 population.2 = \"L5/6-CC\")"
   ]
  },
  {
   "cell_type": "code",
   "execution_count": null,
   "id": "ea3d2f2e",
   "metadata": {},
   "outputs": [],
   "source": [
    "print(IE_neruons_APA_usage"
   ]
  },
  {
   "cell_type": "code",
   "execution_count": null,
   "id": "8b6a01cc",
   "metadata": {
    "scrolled": true
   },
   "outputs": [],
   "source": [
    "tst <- DetectUTRLengthShift(peaks.object = neurons_peaks_so, \n",
    "                                    gtf_gr = gtf_gr,\n",
    "                                    gtf_TxDb = gtf_TxDb,\n",
    "                                    population.1 = \"Neu-NRGN-II\", \n",
    "                                    population.2 = \"L5/6-CC\")"
   ]
  },
  {
   "cell_type": "code",
   "execution_count": null,
   "id": "d5e62c54",
   "metadata": {},
   "outputs": [],
   "source": [
    "PlotUTRLengthShift(tst)"
   ]
  },
  {
   "cell_type": "code",
   "execution_count": null,
   "id": "64f8bd24",
   "metadata": {},
   "outputs": [],
   "source": [
    "DEXSeq::plotMA(dxr1, alpha = adj.pval.thresh,\n",
    "                                ylim = c(min(dxr1$log2fold_target_comparison), max(dxr1$log2fold_target_comparison)))"
   ]
  },
  {
   "cell_type": "code",
   "execution_count": null,
   "id": "ea7c3433",
   "metadata": {},
   "outputs": [],
   "source": [
    "IE_neruons_APA_usage <- DetectAEU(peaks.object = neurons_peaks_so, \n",
    "                                 gtf_gr = gtf_gr,\n",
    "                                 gtf_TxDb = gtf_TxDb,\n",
    "                                 do.MAPlot = T,\n",
    "                                 population.1 = \"Neu-NRGN-II\", \n",
    "                                 population.2 = \"L5/6-CC\")"
   ]
  },
  {
   "cell_type": "code",
   "execution_count": null,
   "id": "fd944a97",
   "metadata": {},
   "outputs": [],
   "source": [
    "results_root <- '/data/APAproject/post_qual/data/Dimitry_Velmeshev_ASD/results/'\n",
    "plotname <- paste0(results_root, 'Neurons_IvsE_3UTR_shift.pdf')\n",
    "page = pdf(file=plotname, width = 8.27, height = 11.69, paper='A4r', onefile=T)\n",
    "print(page, PlotUTRLengthShift(IE_neruons_UTR_shift, plot.title = \"Inhibitory vs Excitatory Neurons 3'UTR shifts\"))\n",
    "printImage(PlotUTRLengthShift(IE_neruons_UTR_shift, plot.title = \"Inhibitory vs Excitatory Neurons 3'UTR shifts\"), \"someimage.jpg\")\n",
    "close(page)"
   ]
  },
  {
   "cell_type": "code",
   "execution_count": null,
   "id": "7664512f",
   "metadata": {},
   "outputs": [],
   "source": [
    "\n",
    "library(foreach)\n",
    "library(doParallel)\n",
    "\n",
    "combinations <-  combn(unique(neurons_peaks_so$cluster), 2)\n",
    "cores=detectCores()\n",
    "cl <- makeCluster(cores[1]-20) #not to overload your computer\n",
    "registerDoParallel(cl)\n",
    "\n",
    "finalMatrix <- foreach(i=1:ncol(combinations)) %dopar% {\n",
    "  #tempMatrix = functionThatDoesSomething() #calling a function\n",
    "  #do other things if you want\n",
    "  print(combinations[1, i])\n",
    "  #tempMatrix #Equivalent to finalMatrix = cbind(finalMatrix, tempMatrix)\n",
    "}\n",
    "#stop cluster\n",
    "stopCluster(cl)"
   ]
  },
  {
   "cell_type": "code",
   "execution_count": null,
   "id": "975e3c78",
   "metadata": {},
   "outputs": [],
   "source": [
    "table(neurons_peaks_so$region)"
   ]
  },
  {
   "cell_type": "code",
   "execution_count": null,
   "id": "05b84468",
   "metadata": {},
   "outputs": [],
   "source": [
    "DimPlot(neurons_peaks_so , reduction='umap', group.by='region')"
   ]
  },
  {
   "cell_type": "markdown",
   "id": "09cfc47e",
   "metadata": {},
   "source": [
    "# chapter2\n",
    "## for simplicity its better if I just focus on the frontol cortex regions! so:\n",
    "### 1- subset the PFC from Dimitry et al for all the celltypes\n",
    "### 2- use the Dim et al map as reference to label the neurons in Kapmann\n",
    "### 3- start comparing the Kapmann and normal\n",
    "### 4- add more datasets (Marinaro et al,  and Mathys et al)"
   ]
  },
  {
   "cell_type": "code",
   "execution_count": null,
   "id": "53e2b96f",
   "metadata": {},
   "outputs": [],
   "source": [
    "neurons_ge_so <- readRDS('rdata/neurons_ge_so.rds')\n",
    "neurons_ge_so_PFC <- subset(neurons_ge_so, subset=region=='PFC')\n",
    "neurons_ge_so_PFC"
   ]
  },
  {
   "cell_type": "code",
   "execution_count": null,
   "id": "341e1257",
   "metadata": {},
   "outputs": [],
   "source": [
    "neurons_ge_so_PFC <- FindVariableFeatures(object = neurons_ge_so_PFC,\n",
    "                                   selection.method = \"vst\", nfeatures = 2000, verbose = F)\n",
    "neurons_ge_so_PFC <- RunPCA(neurons_ge_so_PFC, features = VariableFeatures(object = neurons_ge_so),\n",
    "                            verbose = F)\n",
    "ElbowPlot(neurons_ge_so_PFC)"
   ]
  },
  {
   "cell_type": "code",
   "execution_count": null,
   "id": "fbf31fa6",
   "metadata": {},
   "outputs": [],
   "source": [
    "neurons_ge_so_PFC <- RunUMAP(neurons_ge_so_PFC , dims = 1:20, min.dist = 0.001,  n_neighbors = 25, verbose=F)    ##parameteres need to be set\n",
    "neurons_ge_so_PFC <- FindNeighbors(neurons_ge_so_PFC, dims = 1:20)\n",
    "#find cluster\n",
    "neurons_ge_so_PFC <- FindClusters(neurons_ge_so_PFC, resolution =1)"
   ]
  },
  {
   "cell_type": "code",
   "execution_count": null,
   "id": "026d2743",
   "metadata": {
    "scrolled": true
   },
   "outputs": [],
   "source": [
    "DimPlot(neurons_ge_so_PFC, reduction='umap', group.by='main_cellTypes',label=T)\n",
    "DimPlot(neurons_ge_so_PFC, reduction='umap', group.by='cluster', label=T)\n",
    "DimPlot(neurons_ge_so_PFC, reduction='umap', group.by='seurat_clusters',label=T)\n",
    "results_root <- '/data/APAproject/post_qual/data/Dimitry_Velmeshev_ASD/results/'\n",
    "plotname <- paste0(results_root, 'PFC_Neurons_and_subtupes.pdf')\n",
    "pdf(file=plotname, width = 8.27, height = 11.69, paper='A4r', onefile=T)\n",
    "DimPlot(neurons_ge_so_PFC, reduction='umap', group.by='main_cellTypes',label=T)\n",
    "DimPlot(neurons_ge_so_PFC, reduction='umap', group.by='cluster', label=T)\n",
    "DimPlot(neurons_ge_so_PFC, reduction='umap', group.by='seurat_clusters',label=T)\n",
    "dev.off()"
   ]
  },
  {
   "cell_type": "code",
   "execution_count": null,
   "id": "ac5429d1",
   "metadata": {},
   "outputs": [],
   "source": [
    "saveRDS(neurons_ge_so_PFC, 'rdata/PFC_neurons_ge_so.rds')"
   ]
  },
  {
   "cell_type": "code",
   "execution_count": null,
   "id": "8008e9e4",
   "metadata": {},
   "outputs": [],
   "source": [
    "### PFC_neuron_peaks_so also generated and saved in rdata"
   ]
  },
  {
   "cell_type": "code",
   "execution_count": null,
   "id": "676de232",
   "metadata": {},
   "outputs": [],
   "source": [
    "# lets load SFG neurons from Kapmann and label them\n",
    "SFG_AD_ECneurons_so <- readRDS('/data/APAproject/post_qual/data//Kapmann/from_paper/sce.SFG.Exc.scAlign.rds')\n",
    "SFG_AD_INneurons_so <- readRDS('/data/APAproject/post_qual/data//Kapmann/from_paper/sce.SFG.Inh.scAlign.rds')"
   ]
  },
  {
   "cell_type": "code",
   "execution_count": null,
   "id": "b4517b5a",
   "metadata": {},
   "outputs": [],
   "source": [
    "SFG_AD_ECneurons_so <- as.Seurat(SFG_AD_ECneurons_so)\n",
    "SFG_AD_INneurons_so <- as.Seurat(SFG_AD_INneurons_so)"
   ]
  },
  {
   "cell_type": "code",
   "execution_count": null,
   "id": "94d7021f",
   "metadata": {},
   "outputs": [],
   "source": [
    "table(SFG_AD_ECneurons_so$subclusterAssignment)"
   ]
  },
  {
   "cell_type": "code",
   "execution_count": null,
   "id": "472b5da3",
   "metadata": {},
   "outputs": [],
   "source": [
    "DimPlot(SFG_AD_ECneurons_so, reduction='TSNE', group.by='subclusterAssignment')"
   ]
  },
  {
   "cell_type": "code",
   "execution_count": null,
   "id": "fb76aae7",
   "metadata": {},
   "outputs": [],
   "source": [
    "## merge the Ex and In neurons:\n",
    "SFG_all_neurons <- merge(SFG_AD_ECneurons_so, SFG_AD_INneurons_so)\n",
    "SFG_all_neurons"
   ]
  },
  {
   "cell_type": "code",
   "execution_count": null,
   "id": "044373ec",
   "metadata": {},
   "outputs": [],
   "source": [
    "SFG_all_neurons <- process_pca(SFG_all_neurons,2000)\n",
    "ElbowPlot(SFG_all_neurons)"
   ]
  },
  {
   "cell_type": "code",
   "execution_count": null,
   "id": "cc4bcef3",
   "metadata": {},
   "outputs": [],
   "source": [
    "SFG_all_neurons <- RunUMAP(SFG_all_neurons , dims = 1:20, min.dist = 0.001,  n_neighbors = 25, verbose=F)    ##parameteres need to be set\n",
    "SFG_all_neurons <- FindNeighbors(SFG_all_neurons, dims = 1:20)\n",
    "#find cluster\n",
    "SFG_all_neurons <- FindClusters(SFG_all_neurons, resolution =1)"
   ]
  },
  {
   "cell_type": "code",
   "execution_count": null,
   "id": "a4e541e6",
   "metadata": {},
   "outputs": [],
   "source": [
    "DimPlot(SFG_all_neurons, reduction='umap', group.by='subclusterAssignment',label=T)\n",
    "DimPlot(SFG_all_neurons, reduction='umap', group.by='seurat_clusters',label=T)\n",
    "results_root <- '/data/APAproject/post_qual/data/Dimitry_Velmeshev_ASD/results/'\n",
    "plotname <- paste0(results_root, 'SFG_Neurons_and_subtupes.pdf')\n",
    "pdf(file=plotname, width = 8.27, height = 11.69, paper='A4r', onefile=T)\n",
    "DimPlot(SFG_all_neurons, reduction='umap', group.by='subclusterAssignment',label=T)\n",
    "DimPlot(SFG_all_neurons, reduction='umap', group.by='seurat_clusters',label=T)\n",
    "dev.off()"
   ]
  },
  {
   "cell_type": "markdown",
   "id": "675c1e6d",
   "metadata": {},
   "source": [
    "## ok now lets annotate these clusters using the control reference!"
   ]
  },
  {
   "cell_type": "code",
   "execution_count": null,
   "id": "1737644b",
   "metadata": {},
   "outputs": [],
   "source": [
    "neuron.anchors <- FindTransferAnchors(reference = neurons_ge_so, query = SFG_all_neurons,\n",
    "                                      dims = 1:20, reference.reduction = \"pca\")"
   ]
  },
  {
   "cell_type": "code",
   "execution_count": null,
   "id": "19c72349",
   "metadata": {},
   "outputs": [],
   "source": [
    "pedictions <- TransferData(anchorset = neuron.anchors, refdata = neurons_ge_so$cluster, dims = 1:20)\n",
    "SFG_all_neurons_labeled <- AddMetaData(SFG_all_neurons, metadata = predictions)"
   ]
  },
  {
   "cell_type": "code",
   "execution_count": null,
   "id": "f09c794c",
   "metadata": {},
   "outputs": [],
   "source": [
    "SFG_all_neurons_labeled <- MapQuery(anchorset = neuron.anchors, reference = neurons_ge_so_PFC,\n",
    "                                    query = SFG_all_neurons, refdata = list(celltype = \"cluster\"),\n",
    "                                    reference.reduction = \"pca\", reduction.model = \"umap\")"
   ]
  },
  {
   "cell_type": "code",
   "execution_count": null,
   "id": "6bca600c",
   "metadata": {},
   "outputs": [],
   "source": [
    "table(SFG_all_neurons_labeled$predicted.id)"
   ]
  },
  {
   "cell_type": "code",
   "execution_count": null,
   "id": "65cd427e",
   "metadata": {},
   "outputs": [],
   "source": [
    "p1 <- DimPlot(neurons_ge_so_PFC, reduction = \"umap\", group.by = \"cluster\", label = TRUE, label.size = 3,\n",
    "    repel = TRUE) + NoLegend() + ggtitle(\"Reference Control annotations\")\n",
    "p2 <- DimPlot(SFG_all_neurons_labeled, reduction = \"umap\", group.by = \"predicted.id\", label = TRUE,\n",
    "    label.size = 3, repel = TRUE) + NoLegend() + ggtitle(\"AD transferred labels\")\n",
    "p1 + p2\n",
    "results_root <- '/data/APAproject/post_qual/data/Dimitry_Velmeshev_ASD/results/'\n",
    "plotname <- paste0(results_root, '{FC_Control_vs_SFG_Neurons_annotated.pdf')\n",
    "pdf(file=plotname, width = 8.27, height = 11.69, paper='A4r', onefile=T)\n",
    "p1 + p2\n",
    "dev.off()"
   ]
  },
  {
   "cell_type": "code",
   "execution_count": null,
   "id": "bb145f12",
   "metadata": {},
   "outputs": [],
   "source": [
    "DimPlot(SFG_all_neurons_labeled, reduction = \"umap\", group.by = \"subclusterAssignment\", label = TRUE)\n",
    "DimPlot(SFG_all_neurons_labeled, reduction = \"umap\", group.by = \"predicted.id\", label = TRUE)\n",
    "DimPlot(SFG_all_neurons_labeled, reduction = \"umap\", group.by = \"seurat_clusters\", label = TRUE)\n",
    "plotname <- paste0(results_root, 'SFG_Neurons_pre_post_annotation.pdf')\n",
    "pdf(file=plotname, width = 8.27, height = 11.69, paper='A4r', onefile=T)\n",
    "DimPlot(SFG_all_neurons_labeled, reduction = \"umap\", group.by = \"subclusterAssignment\", label = TRUE)\n",
    "DimPlot(SFG_all_neurons_labeled, reduction = \"umap\", group.by = \"predicted.id\", label = TRUE)\n",
    "DimPlot(SFG_all_neurons_labeled, reduction = \"umap\", group.by = \"seurat_clusters\", label = TRUE)\n",
    "dev.off()"
   ]
  },
  {
   "cell_type": "markdown",
   "id": "2c946fff",
   "metadata": {},
   "source": [
    "## So we have the SFG map! now I guess the best is to get the barcodes of the SFG and do the peaks calling!"
   ]
  },
  {
   "cell_type": "code",
   "execution_count": null,
   "id": "11334a33",
   "metadata": {},
   "outputs": [],
   "source": [
    "table(SFG_all_neurons_labeled$SampleID)"
   ]
  },
  {
   "cell_type": "code",
   "execution_count": null,
   "id": "50aff9a9",
   "metadata": {},
   "outputs": [],
   "source": [
    "SFG_AD_all_cells_so <- readRDS('/data/APAproject/post_qual/data//Kapmann/from_paper/sce.SFG.scAlign.assigned.rds')\n",
    "SFG_AD_all_cells_so <- as.Seurat(SFG_AD_all_cells_so)"
   ]
  },
  {
   "cell_type": "code",
   "execution_count": null,
   "id": "ee2c3674",
   "metadata": {},
   "outputs": [],
   "source": [
    "Cells(SFG_AD_all_cells_so)[1:10]"
   ]
  },
  {
   "cell_type": "code",
   "execution_count": null,
   "id": "9cda2375",
   "metadata": {},
   "outputs": [],
   "source": [
    "SFG1_cells <- Cells(SFG_AD_all_cells_so)[which(startsWith(Cells(SFG_AD_all_cells_so), 'SFG1_'))]\n",
    "SFG1_cells <- paste0(gsub('SFG1_','', SFG1_cells),\"-1\")\n",
    "SFG1_cells"
   ]
  },
  {
   "cell_type": "code",
   "execution_count": null,
   "id": "a8bde86b",
   "metadata": {},
   "outputs": [],
   "source": [
    "samples <- unique(SFG_AD_all_cells_so$SampleID)\n",
    "for (id in samples){\n",
    "    cell_barcodes <- Cells(SFG_AD_all_cells_so)[which(startsWith(Cells(SFG_AD_all_cells_so), id))]\n",
    "    cell_barcodes <- paste0(gsub(paste0(id,'_'),'', cell_barcodes),\"-1\")\n",
    "    root <- \"/data/APAproject/post_qual/data/Kapmann/raw_files/SFG_samples/QCed_barcodes/\"\n",
    "    outname <- paste0(root,id,'_barcodes.tsv')\n",
    "    write.table(cell_barcodes, file = outname, row.names = F, quote = F,col.names = F)\n",
    "}"
   ]
  },
  {
   "cell_type": "code",
   "execution_count": null,
   "id": "6cc690fa",
   "metadata": {},
   "outputs": [],
   "source": [
    "table(SFG_AD_all_cells_so$SampleID)"
   ]
  },
  {
   "cell_type": "code",
   "execution_count": null,
   "id": "297939b9",
   "metadata": {},
   "outputs": [],
   "source": [
    "saveRDS(SFG_all_neurons_labeled, file = 'rdata/SFG_all_Neurons.rds')"
   ]
  },
  {
   "cell_type": "markdown",
   "id": "8a8d8bc0",
   "metadata": {},
   "source": [
    "## read in and annotate the all celltypes together"
   ]
  },
  {
   "cell_type": "code",
   "execution_count": null,
   "id": "9af95b9b",
   "metadata": {
    "scrolled": true
   },
   "outputs": [],
   "source": [
    "SFG_all_cells <- readRDS('/data/APAproject/post_qual/data//Kapmann/from_paper/sce.SFG.scAlign.assigned.rds')\n",
    "SFG_all_cells <- as.Seurat(SFG_all_cells)\n",
    "SFG_all_cells"
   ]
  },
  {
   "cell_type": "code",
   "execution_count": null,
   "id": "94fbf696",
   "metadata": {},
   "outputs": [],
   "source": [
    "## read in the Dimitry reference:"
   ]
  },
  {
   "cell_type": "code",
   "execution_count": null,
   "id": "48242210",
   "metadata": {},
   "outputs": [],
   "source": [
    "Dim_ge_so <- readRDS('rdata/Control_celltypes_GE.rds')\n",
    "Dim_ge_so"
   ]
  },
  {
   "cell_type": "code",
   "execution_count": null,
   "id": "33a2b1b3",
   "metadata": {},
   "outputs": [],
   "source": [
    "# ref.anchors <- FindTransferAnchors(reference = Dim_ge_so, query = SFG_all_cells,\n",
    "#                                       dims = 1:20, reference.reduction = \"pca\")\n",
    "pedictions <- TransferData(anchorset = ref.anchors, refdata = Dim_ge_so$cluster, dims = 1:20)\n",
    "SFG_all_cells_labeled <- AddMetaData(SFG_all_cells, metadata = predictions)"
   ]
  },
  {
   "cell_type": "code",
   "execution_count": null,
   "id": "6b98c31e",
   "metadata": {},
   "outputs": [],
   "source": [
    "SFG_all_cells_labeled <- NormalizeData(SFG_all_cells_labeled, normalization.method = \"LogNormalize\",scale.factor = 10000, verbose = F)\n",
    "SFG_all_cells_labeled <- FindVariableFeatures(object = SFG_all_cells_labeled,selection.method = \"vst\", nfeatures = 2000, verbose = F)\n",
    "SFG_all_cells_labeled <- ScaleData(SFG_all_cells_labeled, features = rownames(SFG_all_cells_labeled))\n",
    "SFG_all_cells_labeled <- RunPCA(SFG_all_cells_labeled, features = VariableFeatures(object = SFG_all_cells_labeled), verbose = F)\n",
    "ElbowPlot(SFG_all_cells_labeled)"
   ]
  },
  {
   "cell_type": "code",
   "execution_count": null,
   "id": "fb422faa",
   "metadata": {},
   "outputs": [],
   "source": [
    "SFG_all_cells_labeled <- RunUMAP(SFG_all_cells_labeled , dims = 1:20, min.dist = 0.001,  n_neighbors = 50)    ##parameteres need to be set\n",
    "SFG_all_cells_labeled <- FindNeighbors(SFG_all_cells_labeled, dims = 1:20)\n",
    "#find cluster\n",
    "SFG_all_cells_labeled <- FindClusters(SFG_all_cells_labeled, resolution =1)"
   ]
  },
  {
   "cell_type": "code",
   "execution_count": null,
   "id": "f40b49ee",
   "metadata": {},
   "outputs": [],
   "source": [
    "DimPlot(SFG_all_cells_labeled, reduction = \"umap\", group.by = \"clusterAssignment\", label = TRUE)\n",
    "DimPlot(SFG_all_cells_labeled, reduction = \"umap\", group.by = \"predicted.id\", label = TRUE)\n",
    "DimPlot(SFG_all_cells_labeled, reduction = \"umap\", group.by = \"seurat_clusters\", label = TRUE)\n",
    "plotname <- paste0(results_root, 'SFG_all_cells_pre_post_annotation.pdf')\n",
    "pdf(file=plotname, width = 8.27, height = 11.69, paper='A4r', onefile=T)\n",
    "DimPlot(SFG_all_cells_labeled, reduction = \"umap\", group.by = \"clusterAssignment\", label = TRUE)\n",
    "DimPlot(SFG_all_cells_labeled, reduction = \"umap\", group.by = \"predicted.id\", label = TRUE)\n",
    "DimPlot(SFG_all_cells_labeled, reduction = \"umap\", group.by = \"seurat_clusters\", label = TRUE)\n",
    "dev.off()"
   ]
  },
  {
   "cell_type": "code",
   "execution_count": null,
   "id": "6d935aad",
   "metadata": {},
   "outputs": [],
   "source": []
  },
  {
   "cell_type": "code",
   "execution_count": null,
   "id": "8d2fb8fc",
   "metadata": {},
   "outputs": [],
   "source": [
    "Dim_ge_so_PFC <- subset(Dim_ge_so, subset=region=='PFC')\n",
    "Dim_ge_so_PFC\n"
   ]
  },
  {
   "cell_type": "code",
   "execution_count": null,
   "id": "a84eef5b",
   "metadata": {},
   "outputs": [],
   "source": [
    "Dim_ge_so_PFC$cellType <- paste0('Dim_',Dim_ge_so_PFC$cluster)"
   ]
  },
  {
   "cell_type": "code",
   "execution_count": null,
   "id": "320817ed",
   "metadata": {},
   "outputs": [],
   "source": [
    "saveRDS(Dim_ge_so_PFC, file='rdata/Control_cell_types_GE_PFC.rds')"
   ]
  },
  {
   "cell_type": "code",
   "execution_count": null,
   "id": "db56ed06",
   "metadata": {},
   "outputs": [],
   "source": [
    "###\n",
    "peaks_so_pfc <- readRDS('rdata/neurons_peaks_so.rds')\n",
    "ge_so_pfc <- readRDS('rdata/neurons_ge_so.rds')\n",
    "DimPlot(peaks_so_pfc, reduction='umap', group.by='cluster', label=T )\n",
    "DimPlot(ge_so_pfc, reduction='umap', group.by='cluster', label=T )\n"
   ]
  },
  {
   "cell_type": "code",
   "execution_count": null,
   "id": "38ddc06e",
   "metadata": {
    "scrolled": true
   },
   "outputs": [],
   "source": [
    "##load the DTU test:\n",
    "L23vsINSV2C <- read.table('results/neuron_subtypes/Neu-NRGN-II_vs_IN-PV_APAusage_table.tsv', sep='\\t')\n",
    "L23vsINSV2C"
   ]
  },
  {
   "cell_type": "code",
   "execution_count": null,
   "id": "f0793287",
   "metadata": {},
   "outputs": [],
   "source": [
    "res.table.top <- subset(L23vsINSV2C, abs(Log2_fold_change) > 2)\n",
    "res.table.top"
   ]
  },
  {
   "cell_type": "code",
   "execution_count": null,
   "id": "d8d761cc",
   "metadata": {},
   "outputs": [],
   "source": [
    "#GABRB3\n",
    "peaks.to.plot <- rownames(subset(L23vsINSV2C, gene_name == \"DLG2\"))\n",
    "results_root <- '/data/APAproject/post_qual/data/Dimitry_Velmeshev_ASD/results/'\n",
    "plotname <- paste0(results_root, 'peakUMAP_test_ARPP21.pdf')\n",
    "pdf(file=plotname, width = 20, height = 11.69, onefile=T)\n",
    "DimPlot(peaks_so_pfc, reduction='umap', group.by='cluster', label=T )\n",
    "FeaturePlot(object = ge_so_pfc, features = 'DLG2', reduction = 'umap')\n",
    "PlotRelativeExpressionUMAP(peaks_so_pfc, peaks.to.plot = peaks.to.plot, use.facet=F)\n",
    "dev.off()\n",
    "DimPlot(peaks_so_pfc, reduction='umap', group.by='cluster', label=T )\n",
    "FeaturePlot(object = ge_so_pfc, features = 'DLG2', reduction = 'umap')\n",
    "PlotRelativeExpressionUMAP(peaks_so_pfc, peaks.to.plot = peaks.to.plot, use.facet=F)"
   ]
  },
  {
   "cell_type": "code",
   "execution_count": null,
   "id": "4b903ce4",
   "metadata": {},
   "outputs": [],
   "source": [
    "FeaturePlot(object = ge_so_pfc, features = 'PRKAG2', reduction = 'umap')"
   ]
  },
  {
   "cell_type": "code",
   "execution_count": null,
   "id": "d17dd551",
   "metadata": {},
   "outputs": [],
   "source": [
    "# reference.file <- '/home/aiden/data/refgenome/refdata-gex-GRCh38-2020-A/genes//genes.gtf'\n",
    "# gtf_gr <- rtracklayer::import(reference.file)\n",
    "# gtf_TxDb <- GenomicFeatures::makeTxDbFromGFF(reference.file, format=\"gtf\")\n",
    "\n",
    "peaks_so_pfc <- SetIdent(peaks_so_pfc, value=peaks_so_pfc$cluster)\n",
    "# res.table = DUTest(peaks_so_pfc, \n",
    "#                    population.1 = \"Neu-NRGN-II\", \n",
    "#                    population.2 = NULL,\n",
    "#                    exp.thresh = 0.1, \n",
    "#                    feature.type = c(\"UTR3\"))\n",
    "apa.res <- DetectAEU(peaks.object = peaks_so_pfc, \n",
    "                                 gtf_gr = gtf_gr,\n",
    "                                 gtf_TxDb = gtf_TxDb,\n",
    "                                 do.MAPlot = F,\n",
    "                                 population.1 = 'Neu-NRGN-II',\n",
    "                                population.2 = NULL)\n",
    "apa.res"
   ]
  },
  {
   "cell_type": "code",
   "execution_count": null,
   "id": "624327e2",
   "metadata": {},
   "outputs": [],
   "source": [
    "res.table.top <- subset(apa.res, abs(Log2_fold_change) > 2)\n",
    "res.table.top"
   ]
  },
  {
   "cell_type": "code",
   "execution_count": null,
   "id": "a933695a",
   "metadata": {},
   "outputs": [],
   "source": [
    "res.table.top %>% filter(population1_pct >= 0.1)"
   ]
  },
  {
   "cell_type": "code",
   "execution_count": null,
   "id": "e047ae85",
   "metadata": {
    "scrolled": false
   },
   "outputs": [],
   "source": [
    "peaks.to.plot <- rownames(subset(apa.res, gene_name == \"PPP2R2B\"))\n",
    "FeaturePlot(object = ge_so_pfc, features = 'PPP2R2B', reduction = 'umap')\n",
    "PlotRelativeExpressionUMAP(peaks_so_pfc, peaks.to.plot = peaks.to.plot, use.facet=F)"
   ]
  },
  {
   "cell_type": "code",
   "execution_count": null,
   "id": "89ce8745",
   "metadata": {},
   "outputs": [],
   "source": [
    "# peaks_so_pfc <- NormalizeData(peaks_so_pfc, normalization.method = \"LogNormalize\",scale.factor = 10000, verbose = F)\n",
    "# peaks_so_pfc <- FindVariableFeatures(object = peaks_so_pfc,selection.method = \"vst\", nfeatures = 2000, verbose = F)\n",
    "# peaks_so_pfc <- ScaleData(peaks_so_pfc, features = rownames(peaks_so_pfc))\n",
    "# peaks_so_pfc <- RunPCA(peaks_so_pfc, features = VariableFeatures(object = peaks_so_pfc), verbose = F)\n",
    "peaks_so_pfc <- RunTSNE(peaks_so_pfc, dims = 1:20, perplexity=200)\n",
    "DimPlot(peaks_so_pfc, reduction = 'tsne', group.by='cluster',label=T, repel=T)"
   ]
  },
  {
   "cell_type": "code",
   "execution_count": null,
   "id": "811f9c8d",
   "metadata": {},
   "outputs": [],
   "source": [
    "results_root <- '/data/APAproject/post_qual/data/Dimitry_Velmeshev_ASD/results/'\n",
    "plotname <- paste0(results_root, 'PPP2R2B_test.pdf')\n",
    "pdf(file=plotname, width = 16, height = 11.69, onefile=T)\n",
    "peaks.to.plot <- rownames(subset(apa.res, gene_name == \"PPP2R2B\"))\n",
    "FeaturePlot(object = ge_so_pfc, features = 'PPP2R2B', reduction = 'umap')\n",
    "PlotRelativeExpressionUMAP(peaks_so_pfc, peaks.to.plot = peaks.to.plot, use.facet=F)\n",
    "PlotRelativeExpressionBox(peaks_so_pfc, peaks.to.plot = peaks.to.plot)\n",
    "dev.off()"
   ]
  },
  {
   "cell_type": "code",
   "execution_count": null,
   "id": "78718a79",
   "metadata": {},
   "outputs": [],
   "source": [
    "results_root <- '/data/APAproject/post_qual/data/Dimitry_Velmeshev_ASD/results/'\n",
    "plotname <- paste0(results_root, 'MYT1L_test.pdf')\n",
    "pdf(file=plotname, width = 20, height = 11.69, onefile=T)\n",
    "peaks.to.plot <- rownames(subset(apa.res, gene_name == \"MYT1L\"))\n",
    "FeaturePlot(object = ge_so_pfc, features = 'MYT1L', reduction = 'umap')\n",
    "PlotRelativeExpressionUMAP(peaks_so_pfc, peaks.to.plot = peaks.to.plot, use.facet=F)\n",
    "PlotRelativeExpressionBox(peaks_so_pfc, peaks.to.plot = peaks.to.plot)\n",
    "dev.off()"
   ]
  },
  {
   "cell_type": "code",
   "execution_count": null,
   "id": "cff866c9",
   "metadata": {
    "scrolled": true
   },
   "outputs": [],
   "source": [
    "utr_shift <- DetectUTRLengthShift(peaks.object = peaks_so_pfc, \n",
    "                                  gtf_gr = gtf_gr,\n",
    "                                  gtf_TxDb = gtf_TxDb,\n",
    "                                  population.1 = 'Neu-NRGN-II', \n",
    "                                  population.2 = NULL)"
   ]
  },
  {
   "cell_type": "code",
   "execution_count": null,
   "id": "6c4f96fa",
   "metadata": {},
   "outputs": [],
   "source": [
    "plotname <- paste0(results_root, 'Neu-NRGN-II_3UTR_shift.pdf')\n",
    "pdf(file=plotname, width = 20, height = 11.69, paper='A4r' ,onefile=T)\n",
    "PlotUTRLengthShift(utr_shift)\n",
    "dev.off()"
   ]
  },
  {
   "cell_type": "markdown",
   "id": "6a80523e",
   "metadata": {},
   "source": [
    "# Chapter 2\n",
    "## lets make a fully annotated map of Kapman ( remove the SFG7)  \n",
    "### then I can merge the Dim with SFG and do the comparison I want to do."
   ]
  },
  {
   "cell_type": "code",
   "execution_count": null,
   "id": "d56d1aec",
   "metadata": {},
   "outputs": [],
   "source": [
    "### doing these steps in the rstudio for better visualizaion, and the will move back here for the integrations\n",
    "setwd('/data/APAproject/post_qual/data/Kapmann/raw_files/SFG_samples/')"
   ]
  },
  {
   "cell_type": "code",
   "execution_count": null,
   "id": "95b202d3",
   "metadata": {},
   "outputs": [],
   "source": [
    "## read in and process peaks from Kapmann\n",
    "genome <- BSgenome.Hsapiens.UCSC.hg38::BSgenome.Hsapiens.UCSC.hg38\n",
    "print('Aggeration is done; now annotating the peaks')\n",
    "peak.annotations <- AnnotatePeaksFromGTF(peak.sites.file = 'Sierra_out_1/Kapmann_merged_peaks.txt', \n",
    "                     gtf.file = reference.file,\n",
    "                     output.file = \"Sierra_out_1/Kapmann_peaks_annotated.txt\", \n",
    "                     genome = genome)\n",
    "peak.annotations"
   ]
  },
  {
   "cell_type": "code",
   "execution_count": null,
   "id": "f61f6b87",
   "metadata": {},
   "outputs": [],
   "source": [
    "peak.annotations <- read.table('Sierra_out_1/Kapmann_peaks_annotated.txt', sep='\\t')\n",
    "peak.annotations"
   ]
  },
  {
   "cell_type": "code",
   "execution_count": null,
   "id": "adb16217",
   "metadata": {},
   "outputs": [],
   "source": [
    "## read in the ge-so and subset out the SGF7 and then add the TSNE and UMAP cooridnates to new peaks so\n",
    "SFG_AD_all_cells_so <- readRDS('/data/APAproject/post_qual/data//Kapmann/from_paper/sce.SFG.scAlign.assigned.rds')\n",
    "SFG_AD_all_cells_so <- as.Seurat(SFG_AD_all_cells_so)\n",
    "DimPlot(SFG_AD_all_cells_so, reduction = \"TSNE\", group.by = \"clusterCellType\", label = TRUE, repel=T)"
   ]
  },
  {
   "cell_type": "code",
   "execution_count": null,
   "id": "beb5eeab",
   "metadata": {},
   "outputs": [],
   "source": [
    "SFG_AD_all_cells_so <- NormalizeData(SFG_AD_all_cells_so, normalization.method = \"LogNormalize\",scale.factor = 10000, verbose = F)\n",
    "SFG_AD_all_cells_so <- FindVariableFeatures(object = SFG_AD_all_cells_so,selection.method = \"vst\", nfeatures = 2000, verbose = F)\n",
    "SFG_AD_all_cells_so <- ScaleData(SFG_AD_all_cells_so, features = rownames(SFG_AD_all_cells_so))\n",
    "SFG_AD_all_cells_so <- RunPCA(SFG_AD_all_cells_so, features = VariableFeatures(object = SFG_AD_all_cells_so), verbose = F)\n",
    "SFG_AD_all_cells_so <- RunUMAP(SFG_AD_all_cells_so , dims = 1:20, min.dist = 0.001,  n_neighbors = 50)    ##parameteres need to be set\n",
    "SFG_AD_all_cells_so <- FindNeighbors(SFG_AD_all_cells_so, dims = 1:20)\n",
    "#find cluster\n",
    "SFG_AD_all_cells_so <- FindClusters(SFG_AD_all_cells_so, resolution =1)\n",
    "DimPlot(SFG_AD_all_cells_so, reduction = 'umap', group.by='clusterCellType',label=T, repel=T)"
   ]
  },
  {
   "cell_type": "code",
   "execution_count": null,
   "id": "688fd71f",
   "metadata": {},
   "outputs": [],
   "source": [
    "## now subset out the SFG7\n",
    "SFG_AD_all_cells_so_filtered <- subset(SFG_AD_all_cells_so, subset=SampleID!='SFG7')\n",
    "table(SFG_AD_all_cells_so_filtered$SampleID)"
   ]
  },
  {
   "cell_type": "code",
   "execution_count": null,
   "id": "dfb4d43f",
   "metadata": {},
   "outputs": [],
   "source": [
    "DimPlot(SFG_AD_all_cells_so_filtered, reduction = \"TSNE\", group.by = \"clusterCellType\", label = TRUE, repel=T)"
   ]
  },
  {
   "cell_type": "code",
   "execution_count": null,
   "id": "bce293e6",
   "metadata": {},
   "outputs": [],
   "source": [
    "saveRDS(SFG_AD_all_cells_so_filtered, file = '../../rdata/SFG_all_cells_ge_so_nosfg7.rds')"
   ]
  },
  {
   "cell_type": "code",
   "execution_count": null,
   "id": "87bcd4cb",
   "metadata": {},
   "outputs": [],
   "source": [
    "## make a seurat object\n",
    "peak.counts <- ReadPeakCounts(data.dir = \"Sierra_out_1/Kapmann_Sierra_aggregate/\")\n",
    "SFG_peaks_so <- PeakSeuratFromTransfer(peak.data = peak.counts, \n",
    "                                       genes.seurat = SFG_AD_all_cells_so_filtered, \n",
    "                                       annot.info = peak.annotations, \n",
    "                                       min.cells = 0, min.peaks = 0)"
   ]
  },
  {
   "cell_type": "code",
   "execution_count": null,
   "id": "196419b9",
   "metadata": {},
   "outputs": [],
   "source": [
    "colnames(peak.counts)"
   ]
  },
  {
   "cell_type": "code",
   "execution_count": null,
   "id": "a9acc4e2",
   "metadata": {},
   "outputs": [],
   "source": [
    "Cells(SFG_AD_all_cells_so_filtered)[20]"
   ]
  },
  {
   "cell_type": "code",
   "execution_count": null,
   "id": "1d044d03",
   "metadata": {},
   "outputs": [],
   "source": [
    "SFG_AD_all_cells_so_filtered <- readRDS('../Kapmann/rdata/SFG_all_cells_ge_so_nosfg7.rds')"
   ]
  },
  {
   "cell_type": "code",
   "execution_count": null,
   "id": "7e30cf57",
   "metadata": {},
   "outputs": [],
   "source": [
    "samples <- unique(SFG_AD_all_cells_so_filtered$SampleID)\n",
    "for (id in samples){\n",
    "    cell_barcodes <- Cells(SFG_AD_all_cells_so_filtered)[which(startsWith(Cells(SFG_AD_all_cells_so_filtered), id))]\n",
    "    cell_barcodes <- paste0(gsub(paste0(id,'_'),'', cell_barcodes),\"-1\")\n",
    "    root <- \"/data/APAproject/post_qual/data/Kapmann/raw_files/SFG_samples/bams_in/\"\n",
    "    outname <- paste0(root,id,'_barcodes.tsv')\n",
    "    write.table(cell_barcodes, file = outname, row.names = F, quote = F,col.names = F)\n",
    "}"
   ]
  },
  {
   "cell_type": "markdown",
   "id": "6cffed65",
   "metadata": {},
   "source": [
    "### ok now everything is done the GE seurat object is ready for Kapmann and the peak count is done and barcodes are corrected to match with the seurat object lets load the peaks to a new seurat object\n"
   ]
  },
  {
   "cell_type": "code",
   "execution_count": null,
   "id": "e6779a12",
   "metadata": {},
   "outputs": [],
   "source": [
    "peak.annotations <- read.table('Sierra_out_1/new_runs/Kapmann_peaks_annotated.txt', sep='\\t')\n",
    "peak.annotations"
   ]
  },
  {
   "cell_type": "code",
   "execution_count": null,
   "id": "a153378d",
   "metadata": {},
   "outputs": [],
   "source": [
    "## make a seurat object\n",
    "#peak.counts <- ReadPeakCounts(data.dir = \"Sierra_out_1/new_runs/Kapmann_Sierra_aggregate/\")\n",
    "SFG_peaks_so <- PeakSeuratFromTransfer(peak.data = peak.counts, \n",
    "                                       genes.seurat = SFG_AD_all_cells_so_filtered, \n",
    "                                       annot.info = peak.annotations, \n",
    "                                       min.cells = 50,\n",
    "                                       min.peaks = 200)"
   ]
  },
  {
   "cell_type": "code",
   "execution_count": null,
   "id": "b87df8e5",
   "metadata": {},
   "outputs": [],
   "source": [
    "## Ooh finally we have the AD peaks SO, lets save \n",
    "#it and then for comparisions we should subset celltypes and and \n",
    "#then do the analysis\n",
    "saveRDS(SFG_peaks_so, file='../../rdata/SFG_all_cells_PEAKS_so_nosfg7.rds')"
   ]
  },
  {
   "cell_type": "code",
   "execution_count": null,
   "id": "bc0a89d0",
   "metadata": {},
   "outputs": [],
   "source": [
    "SFG_peaks_so <- AddMetaData(SFG_peaks_so, metadata = SFG_AD_all_cells_so_filtered@meta.data)\n",
    "table()"
   ]
  },
  {
   "cell_type": "code",
   "execution_count": null,
   "id": "cdb22a29",
   "metadata": {},
   "outputs": [],
   "source": [
    "for (ct in unique(SFG_peaks_so$clusterCellType)){\n",
    "    so <- subset(SFG_peaks_so, subset=clusterCellType==ct)\n",
    "    outname <- paste0(\"SFG_\",ct,\"_peaks.rds\")\n",
    "    print(outname)\n",
    "    saveRDS(so, file=paste0('../../rdata/peaks_celltype_Sos/', 'SFG_',ct,'_peaks.rds'))\n",
    "}\n",
    "\n",
    "## downlaod subtypes from study and add metadata to each of these object and save again"
   ]
  },
  {
   "cell_type": "code",
   "execution_count": null,
   "id": "cce42052",
   "metadata": {},
   "outputs": [],
   "source": [
    "## lets try the code below for one sample to find a right way to update the UMAP and TSNE coordinates\n",
    "ct <- 'Astro'\n",
    "filename <- paste0('../../rdata/ge_celltypes_Sos/', 'SFG_',ct,'_ge.rds')\n",
    "print(filename)\n",
    "ge_so <- readRDS(filename)\n",
    "ge_so <- as.Seurat(ge_so)\n",
    "ge_so <- process_pca(ge_so,1000)\n",
    "ge_so <- RunUMAP(ge_so , dims = 1:10, min.dist = 0.001, \n",
    "                 n_neighbors = 25, verbose=F)\n",
    "print('gene expression profile process and UMAP added to the GE so')\n",
    "peaks_so <- readRDS(paste0('../../rdata/peaks_celltype_Sos/','SFG_',ct,'_peaks.rds'))\n",
    "### have to make sure that both object are same size and cells are in the same order\n",
    "ge_so$cellnames <- Cells(ge_so)\n",
    "peaks_so$cellnames <- Cells(peaks_so)\n",
    "peaks_so <- subset(peaks_so, subset= cellnames %in% ge_so$cellnames)\n",
    "ge_so <- subset(ge_so, subset= cellnames %in% peaks_so$cellnames)\n",
    "ge_so <- RenameCells(ge_so, new.names = str_sort(as.character(Cells(ge_so))))\n",
    "peaks_so <- RenameCells(peaks_so, new.names = str_sort(as.character(Cells(peaks_so))))\n",
    "peaks_so <- AddMetaData(peaks_so, metadata=ge_so@meta.data)\n",
    "peaks_so@reductions <- ge_so@reductions\n",
    "saveRDS(peaks_so, file=paste0('../../rdata/peaks_celltype_Sos/','SFG_',ct,'_peaks.rds'))\n",
    "saveRDS(ge_so, file=paste0('../../rdata/ge_celltypes_Sos/', 'SFG_',ct,'_ge.rds'))"
   ]
  },
  {
   "cell_type": "code",
   "execution_count": null,
   "id": "e50825fa",
   "metadata": {},
   "outputs": [],
   "source": [
    "peaks_so@reductions <- ge_so@reductions\n",
    "DimPlot(ge_so, reduction='TSNE', group.by='subclusterAssignment')\n",
    "DimPlot(peaks_so, reduction='TSNE', group.by='subclusterAssignment')"
   ]
  },
  {
   "cell_type": "code",
   "execution_count": null,
   "id": "53ce9962",
   "metadata": {},
   "outputs": [],
   "source": []
  },
  {
   "cell_type": "code",
   "execution_count": null,
   "id": "4533535e",
   "metadata": {},
   "outputs": [],
   "source": [
    "DimPlot(peaks_so, reduction='TSNE', group.by='subclusterAssignment')"
   ]
  },
  {
   "cell_type": "code",
   "execution_count": null,
   "id": "c5882615",
   "metadata": {
    "scrolled": true
   },
   "outputs": [],
   "source": [
    "celltypes <- c('Astro', 'Exc','Inh','Micro','Oligo')\n",
    "for (ct in celltypes){\n",
    "    print(paste0('processing the celltype ', ct))\n",
    "    filename <- paste0('../../rdata/ge_celltypes_Sos/', 'SFG_',ct,'_ge.rds')\n",
    "    ge_so <- readRDS(filename)\n",
    "    ge_so <- as.Seurat(ge_so)\n",
    "    ge_so <- process_pca(ge_so,1000)\n",
    "    ge_so <- RunUMAP(ge_so , dims = 1:10, min.dist = 0.001, \n",
    "                     n_neighbors = 25, verbose=F)\n",
    "    print('gene expression profile process and UMAP added to the GE so')\n",
    "    peaks_so <- readRDS(paste0('../../rdata/peaks_celltype_Sos/','SFG_',ct,'_peaks.rds'))\n",
    "    ### have to make sure that both object are same size and cells are in the same order\n",
    "    ge_so$cellnames <- Cells(ge_so)\n",
    "    peaks_so$cellnames <- Cells(peaks_so)\n",
    "    peaks_so <- subset(peaks_so, subset= cellnames %in% ge_so$cellnames)\n",
    "    ge_so <- subset(ge_so, subset= cellnames %in% peaks_so$cellnames)\n",
    "    ge_so <- RenameCells(ge_so, new.names = str_sort(as.character(Cells(ge_so))))\n",
    "    peaks_so <- RenameCells(peaks_so, new.names = str_sort(as.character(Cells(peaks_so))))\n",
    "    peaks_so <- AddMetaData(peaks_so, metadata=ge_so@meta.data)\n",
    "    peaks_so@reductions <- ge_so@reductions\n",
    "    print('stuff is done and now saving the new seurat objects for the four main celltypes')\n",
    "    saveRDS(peaks_so, file=paste0('../../rdata/peaks_celltype_Sos/','SFG_',ct,'_peaks.rds'))\n",
    "    saveRDS(ge_so, file=paste0('../../rdata/ge_celltypes_Sos/', 'SFG_',ct,'_ge.rds'))\n",
    "}"
   ]
  },
  {
   "cell_type": "markdown",
   "id": "d7f24c38",
   "metadata": {},
   "source": [
    "## Okk perfect the KAPMANN data is ready, now lets prepare the Dim data the same way."
   ]
  },
  {
   "cell_type": "code",
   "execution_count": null,
   "id": "607c39a5",
   "metadata": {},
   "outputs": [],
   "source": [
    "setwd('/data/APAproject/post_qual/data/Dimitry_Velmeshev_ASD/')\n",
    "Dim_ge_so <- readRDS('rdata/Control_cell_types_GE_PFC.rds')"
   ]
  },
  {
   "cell_type": "code",
   "execution_count": null,
   "id": "17e39255",
   "metadata": {},
   "outputs": [],
   "source": [
    "table(Dim_ge_so$main_cellTypes)\n",
    "Dim_ge_so <- RunTSNE(Dim_ge_so, dims = 1:20, perplexity=200)\n",
    "DimPlot(Dim_ge_so, reduction='tsne', group.by='main_cellTypes')\n",
    "saveRDS(Dim_ge_so, 'rdata/Control_cell_types_GE_PFC.rds')"
   ]
  },
  {
   "cell_type": "code",
   "execution_count": null,
   "id": "94bca0e7",
   "metadata": {},
   "outputs": [],
   "source": [
    "table(Dim_ge_so$main_cellTypes)"
   ]
  },
  {
   "cell_type": "code",
   "execution_count": null,
   "id": "637a57de",
   "metadata": {},
   "outputs": [],
   "source": [
    "Dim_peaks_so <- readRDS('rdata/Control_celltypes_peaks.rds')\n",
    "Dim_peaks_so"
   ]
  },
  {
   "cell_type": "code",
   "execution_count": null,
   "id": "f24e41fd",
   "metadata": {},
   "outputs": [],
   "source": [
    "table(Dim_peaks_so$main_cellTypes)\n",
    "Dim_peaks_so$cellnames <- Cells(Dim_peaks_so)"
   ]
  },
  {
   "cell_type": "code",
   "execution_count": null,
   "id": "838b3ca3",
   "metadata": {
    "scrolled": true
   },
   "outputs": [],
   "source": [
    "celltypes <- c('Astrocytes', 'Excitatory_Neurons','Inhibitory_Neurons','Microglia','Oligodendrocytes')\n",
    "for (ct in celltypes){\n",
    "    print(ct)\n",
    "    print(paste0('processing the celltype ', ct))\n",
    "    ge_so <- subset(Dim_ge_so, subset= main_cellTypes==ct)\n",
    "    ge_so <- RunTSNE(ge_so, dims = 1:20, perplexity=200)\n",
    "    print('gene expression profile process and UMAP added to the GE so')\n",
    "    peaks_so <- subset(Dim_peaks_so, subset=cellnames %in% Cells(ge_so))\n",
    "    ### have to make sure that both object are same size and cells are in the same order\n",
    "    ge_so$cellnames <- Cells(ge_so)\n",
    "    peaks_so$cellnames <- Cells(peaks_so)\n",
    "    peaks_so <- subset(peaks_so, subset= cellnames %in% ge_so$cellnames)\n",
    "    ge_so <- subset(ge_so, subset= cellnames %in% peaks_so$cellnames)\n",
    "    ge_so <- RenameCells(ge_so, new.names = str_sort(as.character(Cells(ge_so))))\n",
    "    peaks_so <- RenameCells(peaks_so, new.names = str_sort(as.character(Cells(peaks_so))))\n",
    "    peaks_so <- AddMetaData(peaks_so, metadata=ge_so@meta.data)\n",
    "    peaks_so@reductions <- ge_so@reductions\n",
    "    print('stuff is done and now saving the new seurat objects for the four main celltypes')\n",
    "    saveRDS(peaks_so, file=paste0('rdata/peaks_celltype_Sos/','PFC_',ct,'_peaks.rds'))\n",
    "    saveRDS(ge_so, file=paste0('rdata/ge_celltypes_Sos/', 'PFC_',ct,'_ge.rds'))\n",
    "}"
   ]
  },
  {
   "cell_type": "code",
   "execution_count": null,
   "id": "d8d54b60",
   "metadata": {},
   "outputs": [],
   "source": [
    "getwd()"
   ]
  },
  {
   "cell_type": "code",
   "execution_count": null,
   "id": "f6577de0",
   "metadata": {},
   "outputs": [],
   "source": [
    "## now the priorities:\n",
    "#1 compare the EXc neurons to each other! this is after all the most important right?\n",
    "#2- Inh\n",
    "#3- Astrocytes\n",
    "#4- Oligo, and then the rest"
   ]
  },
  {
   "cell_type": "markdown",
   "id": "396dcb3c",
   "metadata": {},
   "source": [
    "# preparing the inputs for MAPPER! \n",
    "## lets make directory per control celltypes. and inside each celltype directory save the barcodes corresponding to the particular celltype. then subset the sample bam files to get \"n\" bam files for the celltype >> n here is the number of samples."
   ]
  },
  {
   "cell_type": "code",
   "execution_count": null,
   "id": "3bd5ade2",
   "metadata": {},
   "outputs": [],
   "source": [
    "Dim_ge_so <- readRDS('rdata/Control_cell_types_GE_PFC.rds')\n",
    "Dim_ge_so"
   ]
  },
  {
   "cell_type": "code",
   "execution_count": null,
   "id": "22f679c2",
   "metadata": {},
   "outputs": [],
   "source": [
    "table(Dim_ge_so$cluster)"
   ]
  },
  {
   "cell_type": "code",
   "execution_count": null,
   "id": "7e4fd12e",
   "metadata": {},
   "outputs": [],
   "source": [
    "save_dir <- \"/data/APAproject//post_qual/data/MAPPER_workflow/\""
   ]
  },
  {
   "cell_type": "code",
   "execution_count": null,
   "id": "7409b20e",
   "metadata": {},
   "outputs": [],
   "source": [
    "# tmp_so <- readRDS('rdata/Control_celltypes_GE.rds')\n",
    "Dim_ge_so$cell"
   ]
  },
  {
   "cell_type": "code",
   "execution_count": null,
   "id": "a8116f17",
   "metadata": {},
   "outputs": [],
   "source": [
    "df <- data.frame(cluster = Dim_ge_so$cluster, sample=Dim_ge_so$sample, cell=Dim_ge_so$cell)"
   ]
  },
  {
   "cell_type": "code",
   "execution_count": null,
   "id": "0adb0d5e",
   "metadata": {},
   "outputs": [],
   "source": [
    "head(df)"
   ]
  },
  {
   "cell_type": "code",
   "execution_count": null,
   "id": "72039096",
   "metadata": {},
   "outputs": [],
   "source": [
    "df <- data.frame(cluster = Dim_ge_so$cluster, sample=Dim_ge_so$sample, cell=Dim_ge_so$cell)\n",
    "tmp_df <- df %>% filter(cluster==\"AST-FB\")\n",
    "tmp_df2 <- tmp_df %>% filter(sample=='5976_BA9') %>% mutate(barcodes = str_replace(cell, \"_5976_BA9\", \"\"))\n",
    "tmp_df2"
   ]
  },
  {
   "cell_type": "code",
   "execution_count": null,
   "id": "07d7ace5",
   "metadata": {},
   "outputs": [],
   "source": [
    "for (celltype in unique(Dim_ge_so$cluster)){\n",
    "    new_dir = paste0(save_dir, celltype)\n",
    "    dir.create(new_dir, showWarnings = TRUE, recursive = T)\n",
    "#     tmp_df <- df %>% filter(cluster==celltype)\n",
    "    for (smp in unique(Dim_ge_so$sample)){\n",
    "        outname <- paste0(new_dir,\"/\",smp,\"_barcodes.tsv\")\n",
    "        tmp_df2 <- df %>% filter(cluster==celltype & sample==smp) %>% mutate(barcodes = str_replace(cell, paste0('_',sample), \"\"))\n",
    "        tmp_df3 <- as.data.frame(tmp_df2['barcodes'])\n",
    "        write.table(tmp_df3, outname, row.names=F, col.names=F, quote=F)\n",
    "        \n",
    "    }\n",
    "}"
   ]
  },
  {
   "cell_type": "code",
   "execution_count": null,
   "id": "001047a4",
   "metadata": {
    "scrolled": true
   },
   "outputs": [],
   "source": [
    "## ok now lets subset the bamfiles for each celltype"
   ]
  },
  {
   "cell_type": "code",
   "execution_count": null,
   "id": "cdc5724d",
   "metadata": {},
   "outputs": [],
   "source": [
    "tmp_df2"
   ]
  },
  {
   "cell_type": "code",
   "execution_count": null,
   "id": "91148c84",
   "metadata": {},
   "outputs": [],
   "source": [
    "/data/APAproject/post_qual/data/Dimitry_Velmeshev_ASD/bams_in"
   ]
  },
  {
   "cell_type": "code",
   "execution_count": null,
   "id": "21686110",
   "metadata": {},
   "outputs": [],
   "source": [
    "## ok now lets step a bit back and compare two main celltypes, lets say Oligodel and Neurons?"
   ]
  },
  {
   "cell_type": "code",
   "execution_count": null,
   "id": "d461b4cb",
   "metadata": {},
   "outputs": [],
   "source": [
    "table(Dim_ge_so$main_cellTypes)"
   ]
  },
  {
   "cell_type": "code",
   "execution_count": null,
   "id": "2d4034e0",
   "metadata": {},
   "outputs": [],
   "source": [
    "Dim_ge_so <- SetIdent(Dim_ge_so, value = Dim_ge_so$main_cellTypes)"
   ]
  },
  {
   "cell_type": "code",
   "execution_count": null,
   "id": "f4b8d5dc",
   "metadata": {},
   "outputs": [],
   "source": [
    "Dim_peaks_so <- readRDS('rdata/Control_celltypes_peaks.rds')\n",
    "Dim_peaks_so"
   ]
  },
  {
   "cell_type": "code",
   "execution_count": null,
   "id": "4a2e3cc6",
   "metadata": {},
   "outputs": [],
   "source": [
    "Dim_peaks_so_pfc <- subset(Dim_peaks_so, subset=region=='PFC')\n",
    "Dim_peaks_so_pfc <- SetIdent(Dim_peaks_so_pfc, value = Dim_peaks_so_pfc$main_cellTypes)\n",
    "Dim_peaks_so_pfc"
   ]
  },
  {
   "cell_type": "code",
   "execution_count": null,
   "id": "9cffea31",
   "metadata": {},
   "outputs": [],
   "source": [
    "# reference.file <- '/home/aiden/data/refgenome/refdata-gex-GRCh38-2020-A/genes//genes.gtf'\n",
    "# gtf_gr <- rtracklayer::import(reference.file)\n",
    "# gtf_TxDb <- GenomicFeatures::makeTxDbFromGFF(reference.file, format=\"gtf\")\n",
    "\n",
    "Oligo_Exc.res <- DetectUTRLengthShift(peaks.object = Dim_peaks_so_pfc, \n",
    "                                      gtf_gr = gtf_gr,\n",
    "                                      gtf_TxDb = gtf_TxDb,\n",
    "                                      population.1 = 'Oligodendrocytes', \n",
    "                                      population.2 = 'Excitatory_Neurons',\n",
    "                                        )\n",
    "Oligo_Exc.res"
   ]
  },
  {
   "cell_type": "code",
   "execution_count": null,
   "id": "97e71f21",
   "metadata": {},
   "outputs": [],
   "source": []
  },
  {
   "cell_type": "code",
   "execution_count": null,
   "id": "f266315e",
   "metadata": {},
   "outputs": [],
   "source": [
    "PlotUTRLengthShift(Oligo_Exc.res)"
   ]
  },
  {
   "cell_type": "code",
   "execution_count": null,
   "id": "8759dd70",
   "metadata": {},
   "outputs": [],
   "source": [
    "## does DE genes affect the DE peaks?\n",
    "Olig_Exc_DE_genes <- FindMarkers(Dim_ge_so, ident.1 = \"Oligodendrocytes\", ident.2 = 'Excitatory_Neurons')"
   ]
  },
  {
   "cell_type": "code",
   "execution_count": null,
   "id": "73f0ba2a",
   "metadata": {},
   "outputs": [],
   "source": [
    "Olig_Exc_DE_genes %>% filter(p_val_adj <= 0.000000000001)"
   ]
  },
  {
   "cell_type": "code",
   "execution_count": null,
   "id": "d20973db",
   "metadata": {},
   "outputs": [],
   "source": [
    "DefaultAssay(Dim_ge_so)"
   ]
  },
  {
   "cell_type": "code",
   "execution_count": null,
   "id": "a32cffd1",
   "metadata": {},
   "outputs": [],
   "source": [
    "\n",
    "Exc_Exc.res <- DetectUTRLengthShift(peaks.object = Dim_peaks_so_pfc, \n",
    "                                      gtf_gr = gtf_gr,\n",
    "                                      gtf_TxDb = gtf_TxDb,\n",
    "                                      population.1 = 'Excitatory_Neurons', \n",
    "                                      population.2 = 'Excitatory_Neurons')\n",
    "Exc_Exc.res"
   ]
  },
  {
   "cell_type": "code",
   "execution_count": null,
   "id": "4cc3377e",
   "metadata": {},
   "outputs": [],
   "source": [
    "table(Oligo_Exc.res['NumSites'])"
   ]
  },
  {
   "cell_type": "code",
   "execution_count": null,
   "id": "066e1b0f",
   "metadata": {},
   "outputs": [],
   "source": [
    "multi_loc_pas <- Oligo_Exc.res[Oligo_Exc.res['NumSites']>= 10,]"
   ]
  },
  {
   "cell_type": "code",
   "execution_count": null,
   "id": "bc917bac",
   "metadata": {},
   "outputs": [],
   "source": [
    "peak.annotations <- read.table(\"Sierra_out_1/DimitryV_peaks_annotated.txt\", \n",
    "                               header = TRUE,\n",
    "                               sep = \"\\t\",\n",
    "                               row.names = 1,\n",
    "                               stringsAsFactors = FALSE)\n",
    "peak.annotations"
   ]
  },
  {
   "cell_type": "code",
   "execution_count": null,
   "id": "dc4f068d",
   "metadata": {},
   "outputs": [],
   "source": [
    "peak.annotations['peak_names'] <- rownames(peak.annotations)"
   ]
  },
  {
   "cell_type": "code",
   "execution_count": null,
   "id": "2cd891cc",
   "metadata": {},
   "outputs": [],
   "source": [
    "peak.annotations %>% filter(peak_names %in% rownames(multi_loc_pas))"
   ]
  },
  {
   "cell_type": "code",
   "execution_count": null,
   "id": "f5c7a4d8",
   "metadata": {},
   "outputs": [],
   "source": [
    "GetRelativeExpression(\n",
    "  Dim_peaks_so_pfc,\n",
    "  peak.set = c('ATRX:chrX:77652002-77682143:-1'),\n",
    "  gene.name = NULL,\n",
    "  feature.type = c(\"UTR3\"),\n",
    "  p.count = 1\n",
    ")"
   ]
  },
  {
   "cell_type": "code",
   "execution_count": null,
   "id": "d7df05e9",
   "metadata": {},
   "outputs": [],
   "source": [
    "table(Dim_ge_so$main_cellTypes)"
   ]
  },
  {
   "cell_type": "code",
   "execution_count": null,
   "id": "bead752f",
   "metadata": {},
   "outputs": [],
   "source": [
    "### make meta celltype bams \n",
    "df <- data.frame(cluster = Dim_ge_so$main_cellTypes, sample=Dim_ge_so$sample, cell=Dim_ge_so$cell)\n",
    "# tmp_df <- df %>% filter(cluster==\"Excitatory_Neurons\")\n",
    "# tmp_df2 <- tmp_df %>% filter(sample=='5976_BA9') %>% mutate(barcodes = str_replace(cell, \"_5976_BA9\", \"\"))\n",
    "# tmp_df2"
   ]
  },
  {
   "cell_type": "code",
   "execution_count": null,
   "id": "b9ade214",
   "metadata": {},
   "outputs": [],
   "source": [
    "new_dir <- '/data/APAproject/post_qual/data/MAPPER_workflow'\n",
    "for (smp in unique(Dim_ge_so$sample)){\n",
    "        outname <- paste0(new_dir,\"/\",smp,\"_barcodes.tsv\")\n",
    "        tmp_df2 <- df %>% filter(cluster=='Excitatory_Neurons' & sample==smp) %>% mutate(barcodes = str_replace(cell, paste0('_',sample), \"\"))\n",
    "        tmp_df3 <- as.data.frame(tmp_df2['barcodes'])\n",
    "        write.table(tmp_df3, outname, row.names=F, col.names=F, quote=F)\n",
    "        \n",
    "    }"
   ]
  },
  {
   "cell_type": "code",
   "execution_count": null,
   "id": "20a1ec24",
   "metadata": {},
   "outputs": [],
   "source": [
    "df"
   ]
  },
  {
   "cell_type": "code",
   "execution_count": null,
   "id": "7cf6d918",
   "metadata": {},
   "outputs": [],
   "source": [
    "## cool now lets do it for SFG samples!\n",
    "SFG_Exc_cells <- readRDS('rdata/SFG_all_Neurons.rds')\n",
    "SFG_Exc_cells"
   ]
  },
  {
   "cell_type": "code",
   "execution_count": null,
   "id": "54fbdf74",
   "metadata": {},
   "outputs": [],
   "source": [
    "\n",
    "table(SFG_Exc_cells$clusterCellType)"
   ]
  },
  {
   "cell_type": "code",
   "execution_count": null,
   "id": "a66622f5",
   "metadata": {},
   "outputs": [],
   "source": [
    "Exc_peaks_AD_CT_n <- readRDS('../control_vs_pathology/rdata/Exc_peaks_CTandAD_so_final.rds')\n",
    "table(Exc_peaks_AD_CT_n$SampleID)"
   ]
  },
  {
   "cell_type": "code",
   "execution_count": null,
   "id": "2cdd9ca1",
   "metadata": {},
   "outputs": [],
   "source": [
    "SFG_Exc_cells$cellnames <- Cells(SFG_Exc_cells)\n",
    "SFG_Exc_cells$cellnames"
   ]
  },
  {
   "cell_type": "code",
   "execution_count": null,
   "id": "aad6a4c7",
   "metadata": {},
   "outputs": [],
   "source": [
    "SFG_Exc_cells <- subset(SFG_Exc_cells, subset=cellnames %in% Cells(Exc_peaks_AD_CT_n))\n",
    "SFG_Exc_cells"
   ]
  },
  {
   "cell_type": "code",
   "execution_count": null,
   "id": "47bc992b",
   "metadata": {},
   "outputs": [],
   "source": [
    "df <- data.frame(sample=SFG_Exc_cells$SampleID, cell=SFG_Exc_cells$cellnames)\n",
    "df"
   ]
  },
  {
   "cell_type": "code",
   "execution_count": null,
   "id": "10baf7e6",
   "metadata": {},
   "outputs": [],
   "source": [
    "new_dir <- '/data/APAproject/post_qual/data/MAPPER_workflow/Excitatory_Neurons/SFG_Exc_cells/'\n",
    "for (sample in unique(SFG_Exc_cells$SampleID)){\n",
    "    outname <- paste0(new_dir,sample,\"_barcodes.tsv\")\n",
    "    df2 <- df %>% mutate(cellbarcodes = str_replace(cell, paste0(sample,\"_\"), \"\"))\n",
    "    df3 <- df2 %>% mutate(cellbarcodes= paste0(cellbarcodes,'-1'))\n",
    "    tmp_df3 <- as.data.frame(df3['cellbarcodes'])\n",
    "    write.table(tmp_df3, outname, row.names=F, col.names=F, quote=F)\n",
    "}\n"
   ]
  },
  {
   "cell_type": "code",
   "execution_count": null,
   "id": "31a642aa",
   "metadata": {},
   "outputs": [],
   "source": [
    "AD_CT_ge_so <- readRDS('../control_vs_pathology/rdata//Exc_ge_CTandAD_merged.rds')\n",
    "AD_CT_ge_so"
   ]
  },
  {
   "cell_type": "code",
   "execution_count": 2,
   "id": "a37d5a52",
   "metadata": {},
   "outputs": [],
   "source": [
    "## check the counts in the SFG peaks so"
   ]
  },
  {
   "cell_type": "code",
   "execution_count": 4,
   "id": "c4a4e66c",
   "metadata": {},
   "outputs": [
    {
     "data": {
      "text/plain": [
       "An object of class Seurat \n",
       "354947 features across 90842 samples within 1 assay \n",
       "Active assay: RNA (354947 features, 0 variable features)"
      ]
     },
     "metadata": {},
     "output_type": "display_data"
    }
   ],
   "source": [
    "peaks_so_sfg <- readRDS('../control_vs_pathology/rdata/AD_CT_peaks_all_cells_SO_with_metadata.rds')\n",
    "peaks_so_sfg"
   ]
  },
  {
   "cell_type": "code",
   "execution_count": 6,
   "id": "ad0d6f7f",
   "metadata": {},
   "outputs": [
    {
     "data": {
      "text/plain": [
       "An object of class Seurat \n",
       "354947 features across 90842 samples within 1 assay \n",
       "Active assay: RNA (354947 features, 0 variable features)"
      ]
     },
     "metadata": {},
     "output_type": "display_data"
    }
   ],
   "source": [
    "peaks_so_sfg <- SetIdent(peaks_so_sfg , value = peaks_so_sfg$cond)\n",
    "peaks_so_sfg"
   ]
  },
  {
   "cell_type": "code",
   "execution_count": 8,
   "id": "dc82059a",
   "metadata": {},
   "outputs": [
    {
     "data": {
      "image/png": "[encoded data removed]",
      "text/plain": [
       "plot without title"
      ]
     },
     "metadata": {
      "image/png": {
       "height": 420,
       "width": 420
      }
     },
     "output_type": "display_data"
    }
   ],
   "source": [
    "VlnPlot(peaks_so_sfg, features = c(\"nFeature_RNA\", \"nCount_RNA\"), ncol = 2)"
   ]
  },
  {
   "cell_type": "code",
   "execution_count": 9,
   "id": "0db07edb",
   "metadata": {},
   "outputs": [
    {
     "data": {
      "text/html": [
       "5425.42317430264"
      ],
      "text/latex": [
       "5425.42317430264"
      ],
      "text/markdown": [
       "5425.42317430264"
      ],
      "text/plain": [
       "[1] 5425.423"
      ]
     },
     "metadata": {},
     "output_type": "display_data"
    }
   ],
   "source": [
    "mean(peaks_so_sfg$nCount_RNA)"
   ]
  },
  {
   "cell_type": "code",
   "execution_count": 10,
   "id": "0418ee26",
   "metadata": {},
   "outputs": [
    {
     "data": {
      "text/html": [
       "4019.82513595033"
      ],
      "text/latex": [
       "4019.82513595033"
      ],
      "text/markdown": [
       "4019.82513595033"
      ],
      "text/plain": [
       "[1] 4019.825"
      ]
     },
     "metadata": {},
     "output_type": "display_data"
    }
   ],
   "source": [
    "mean(peaks_so_sfg$nFeature_RNA)"
   ]
  },
  {
   "cell_type": "code",
   "execution_count": 11,
   "id": "483bfbe6",
   "metadata": {},
   "outputs": [
    {
     "data": {
      "image/png": "[encoded data removed]",
      "text/plain": [
       "plot without title"
      ]
     },
     "metadata": {
      "image/png": {
       "height": 420,
       "width": 420
      }
     },
     "output_type": "display_data"
    }
   ],
   "source": [
    "peaks_so_sfg <- SetIdent(peaks_so_sfg , value = peaks_so_sfg$main_celltype)\n",
    "VlnPlot(peaks_so_sfg, features = c(\"nFeature_RNA\", \"nCount_RNA\"), ncol = 2)"
   ]
  },
  {
   "cell_type": "code",
   "execution_count": 19,
   "id": "fa19b07f",
   "metadata": {
    "scrolled": true
   },
   "outputs": [],
   "source": [
    "samples <- sub(\".*-1_(.*)\",\"\\\\1\",Cells(peaks_so_sfg))\n",
    "control_samples <- samples[which(!startsWith(samples , 'SFG'))]"
   ]
  },
  {
   "cell_type": "code",
   "execution_count": 25,
   "id": "da015cd8",
   "metadata": {},
   "outputs": [],
   "source": []
  },
  {
   "cell_type": "code",
   "execution_count": 27,
   "id": "3fba2f57",
   "metadata": {},
   "outputs": [
    {
     "data": {
      "text/html": [
       "<style>\n",
       ".list-inline {list-style: none; margin:0; padding: 0}\n",
       ".list-inline>li {display: inline-block}\n",
       ".list-inline>li:not(:last-child)::after {content: \"\\00b7\"; padding: 0 .5ex}\n",
       "</style>\n",
       "<ol class=list-inline><li>'4341_BA46'</li><li>'5387_BA9'</li><li>'5408_PFC_Nova'</li><li>'5538_PFC_Nova'</li><li>'5577_BA9'</li><li>'5879_PFC_Nova'</li><li>'5893_PFC'</li><li>'5936_PFC_Nova'</li><li>'5958_BA9'</li><li>'5976_BA9'</li></ol>\n"
      ],
      "text/latex": [
       "\\begin{enumerate*}\n",
       "\\item '4341\\_BA46'\n",
       "\\item '5387\\_BA9'\n",
       "\\item '5408\\_PFC\\_Nova'\n",
       "\\item '5538\\_PFC\\_Nova'\n",
       "\\item '5577\\_BA9'\n",
       "\\item '5879\\_PFC\\_Nova'\n",
       "\\item '5893\\_PFC'\n",
       "\\item '5936\\_PFC\\_Nova'\n",
       "\\item '5958\\_BA9'\n",
       "\\item '5976\\_BA9'\n",
       "\\end{enumerate*}\n"
      ],
      "text/markdown": [
       "1. '4341_BA46'\n",
       "2. '5387_BA9'\n",
       "3. '5408_PFC_Nova'\n",
       "4. '5538_PFC_Nova'\n",
       "5. '5577_BA9'\n",
       "6. '5879_PFC_Nova'\n",
       "7. '5893_PFC'\n",
       "8. '5936_PFC_Nova'\n",
       "9. '5958_BA9'\n",
       "10. '5976_BA9'\n",
       "\n",
       "\n"
      ],
      "text/plain": [
       " [1] \"4341_BA46\"     \"5387_BA9\"      \"5408_PFC_Nova\" \"5538_PFC_Nova\"\n",
       " [5] \"5577_BA9\"      \"5879_PFC_Nova\" \"5893_PFC\"      \"5936_PFC_Nova\"\n",
       " [9] \"5958_BA9\"      \"5976_BA9\"     "
      ]
     },
     "metadata": {},
     "output_type": "display_data"
    }
   ],
   "source": [
    "names(table(control_samples))"
   ]
  },
  {
   "cell_type": "code",
   "execution_count": 5,
   "id": "ecc77a3d",
   "metadata": {},
   "outputs": [],
   "source": [
    "## lets subset to AD and Ct and then make peaks_stat df for each\n",
    "\n",
    "ct_peaks_so <- subset(peaks_so_sfg, subset=cond==\"CT\")\n",
    "ad_peaks_so <- subset(peaks_so_sfg, subset=cond=='AD')"
   ]
  },
  {
   "cell_type": "code",
   "execution_count": 29,
   "id": "ec52197d",
   "metadata": {},
   "outputs": [],
   "source": [
    "ct_peaks_so$samples <- sub(\".*-1_(.*)\",\"\\\\1\",Cells(ct_peaks_so))"
   ]
  },
  {
   "cell_type": "code",
   "execution_count": 30,
   "id": "631a10ed",
   "metadata": {},
   "outputs": [],
   "source": [
    "ad_peaks_so$samples <- sub(\"(.*)_.*\",\"\\\\1\",Cells(ad_peaks_so))"
   ]
  },
  {
   "cell_type": "code",
   "execution_count": 31,
   "id": "9febe1c4",
   "metadata": {},
   "outputs": [
    {
     "data": {
      "text/plain": [
       "\n",
       "    4341_BA46      5387_BA9 5408_PFC_Nova 5538_PFC_Nova      5577_BA9 \n",
       "         3849          6541          2255          3034          4131 \n",
       "5879_PFC_Nova      5893_PFC 5936_PFC_Nova      5958_BA9      5976_BA9 \n",
       "         1850          3317          2033          2083          1054 "
      ]
     },
     "metadata": {},
     "output_type": "display_data"
    }
   ],
   "source": [
    "table(ct_peaks_so$samples)"
   ]
  },
  {
   "cell_type": "code",
   "execution_count": 32,
   "id": "8e67e4f5",
   "metadata": {},
   "outputs": [
    {
     "data": {
      "text/plain": [
       "\n",
       " SFG1 SFG10  SFG2  SFG3  SFG4  SFG5  SFG6  SFG8  SFG9 \n",
       " 2517  7709  6541  3587  6254  6484  3946 12825 10832 "
      ]
     },
     "metadata": {},
     "output_type": "display_data"
    }
   ],
   "source": [
    "table(ad_peaks_so$samples)"
   ]
  },
  {
   "cell_type": "code",
   "execution_count": 33,
   "id": "2d2aa0cf",
   "metadata": {},
   "outputs": [
    {
     "data": {
      "text/html": [
       "<table class=\"dataframe\">\n",
       "<caption>A tibble: 10 × 3</caption>\n",
       "<thead>\n",
       "\t<tr><th scope=col>samples</th><th scope=col>median_peak_count</th><th scope=col>median_feature_count</th></tr>\n",
       "\t<tr><th scope=col>&lt;chr&gt;</th><th scope=col>&lt;dbl&gt;</th><th scope=col>&lt;dbl&gt;</th></tr>\n",
       "</thead>\n",
       "<tbody>\n",
       "\t<tr><td>4341_BA46    </td><td>2829.0</td><td>2387.0</td></tr>\n",
       "\t<tr><td>5387_BA9     </td><td>3862.0</td><td>3301.0</td></tr>\n",
       "\t<tr><td>5408_PFC_Nova</td><td>2825.0</td><td>2332.0</td></tr>\n",
       "\t<tr><td>5538_PFC_Nova</td><td>3231.0</td><td>2508.0</td></tr>\n",
       "\t<tr><td>5577_BA9     </td><td>2620.0</td><td>2237.0</td></tr>\n",
       "\t<tr><td>5879_PFC_Nova</td><td>3309.5</td><td>2713.5</td></tr>\n",
       "\t<tr><td>5893_PFC     </td><td>2649.0</td><td>2148.0</td></tr>\n",
       "\t<tr><td>5936_PFC_Nova</td><td>3056.0</td><td>2501.0</td></tr>\n",
       "\t<tr><td>5958_BA9     </td><td>6034.0</td><td>5001.0</td></tr>\n",
       "\t<tr><td>5976_BA9     </td><td>2594.0</td><td>2144.0</td></tr>\n",
       "</tbody>\n",
       "</table>\n"
      ],
      "text/latex": [
       "A tibble: 10 × 3\n",
       "\\begin{tabular}{lll}\n",
       " samples & median\\_peak\\_count & median\\_feature\\_count\\\\\n",
       " <chr> & <dbl> & <dbl>\\\\\n",
       "\\hline\n",
       "\t 4341\\_BA46     & 2829.0 & 2387.0\\\\\n",
       "\t 5387\\_BA9      & 3862.0 & 3301.0\\\\\n",
       "\t 5408\\_PFC\\_Nova & 2825.0 & 2332.0\\\\\n",
       "\t 5538\\_PFC\\_Nova & 3231.0 & 2508.0\\\\\n",
       "\t 5577\\_BA9      & 2620.0 & 2237.0\\\\\n",
       "\t 5879\\_PFC\\_Nova & 3309.5 & 2713.5\\\\\n",
       "\t 5893\\_PFC      & 2649.0 & 2148.0\\\\\n",
       "\t 5936\\_PFC\\_Nova & 3056.0 & 2501.0\\\\\n",
       "\t 5958\\_BA9      & 6034.0 & 5001.0\\\\\n",
       "\t 5976\\_BA9      & 2594.0 & 2144.0\\\\\n",
       "\\end{tabular}\n"
      ],
      "text/markdown": [
       "\n",
       "A tibble: 10 × 3\n",
       "\n",
       "| samples &lt;chr&gt; | median_peak_count &lt;dbl&gt; | median_feature_count &lt;dbl&gt; |\n",
       "|---|---|---|\n",
       "| 4341_BA46     | 2829.0 | 2387.0 |\n",
       "| 5387_BA9      | 3862.0 | 3301.0 |\n",
       "| 5408_PFC_Nova | 2825.0 | 2332.0 |\n",
       "| 5538_PFC_Nova | 3231.0 | 2508.0 |\n",
       "| 5577_BA9      | 2620.0 | 2237.0 |\n",
       "| 5879_PFC_Nova | 3309.5 | 2713.5 |\n",
       "| 5893_PFC      | 2649.0 | 2148.0 |\n",
       "| 5936_PFC_Nova | 3056.0 | 2501.0 |\n",
       "| 5958_BA9      | 6034.0 | 5001.0 |\n",
       "| 5976_BA9      | 2594.0 | 2144.0 |\n",
       "\n"
      ],
      "text/plain": [
       "   samples       median_peak_count median_feature_count\n",
       "1  4341_BA46     2829.0            2387.0              \n",
       "2  5387_BA9      3862.0            3301.0              \n",
       "3  5408_PFC_Nova 2825.0            2332.0              \n",
       "4  5538_PFC_Nova 3231.0            2508.0              \n",
       "5  5577_BA9      2620.0            2237.0              \n",
       "6  5879_PFC_Nova 3309.5            2713.5              \n",
       "7  5893_PFC      2649.0            2148.0              \n",
       "8  5936_PFC_Nova 3056.0            2501.0              \n",
       "9  5958_BA9      6034.0            5001.0              \n",
       "10 5976_BA9      2594.0            2144.0              "
      ]
     },
     "metadata": {},
     "output_type": "display_data"
    }
   ],
   "source": [
    "count_per_sample <- data.frame(samples=ct_peaks_so$samples, peak_count=ct_peaks_so$nCount_RNA,\n",
    "                               features=ct_peaks_so$nFeature_RNA)\n",
    "count_per_sample <- count_per_sample %>%\n",
    "  group_by(samples) %>%\n",
    "  summarise(median_peak_count = median(peak_count), median_feature_count=median(features))\n",
    "count_per_sample"
   ]
  },
  {
   "cell_type": "code",
   "execution_count": 34,
   "id": "f7c15317",
   "metadata": {},
   "outputs": [],
   "source": [
    "write.table(count_per_sample, file='results/Dim_peaks_stats.tsv', sep='\\t')"
   ]
  },
  {
   "cell_type": "code",
   "execution_count": 35,
   "id": "b907c100",
   "metadata": {
    "scrolled": false
   },
   "outputs": [
    {
     "data": {
      "text/html": [
       "<table class=\"dataframe\">\n",
       "<caption>A tibble: 9 × 3</caption>\n",
       "<thead>\n",
       "\t<tr><th scope=col>samples</th><th scope=col>median_peak_count</th><th scope=col>median_feature_count</th></tr>\n",
       "\t<tr><th scope=col>&lt;chr&gt;</th><th scope=col>&lt;dbl&gt;</th><th scope=col>&lt;dbl&gt;</th></tr>\n",
       "</thead>\n",
       "<tbody>\n",
       "\t<tr><td>SFG1 </td><td>1282.0</td><td>1035.0</td></tr>\n",
       "\t<tr><td>SFG10</td><td>2254.0</td><td>1810.0</td></tr>\n",
       "\t<tr><td>SFG2 </td><td>1728.0</td><td>1435.0</td></tr>\n",
       "\t<tr><td>SFG3 </td><td>1187.0</td><td>1006.0</td></tr>\n",
       "\t<tr><td>SFG4 </td><td>1618.5</td><td>1362.5</td></tr>\n",
       "\t<tr><td>SFG5 </td><td>2554.0</td><td>2069.0</td></tr>\n",
       "\t<tr><td>SFG6 </td><td>2220.5</td><td>1699.0</td></tr>\n",
       "\t<tr><td>SFG8 </td><td>1514.0</td><td>1290.0</td></tr>\n",
       "\t<tr><td>SFG9 </td><td>2669.0</td><td>2168.0</td></tr>\n",
       "</tbody>\n",
       "</table>\n"
      ],
      "text/latex": [
       "A tibble: 9 × 3\n",
       "\\begin{tabular}{lll}\n",
       " samples & median\\_peak\\_count & median\\_feature\\_count\\\\\n",
       " <chr> & <dbl> & <dbl>\\\\\n",
       "\\hline\n",
       "\t SFG1  & 1282.0 & 1035.0\\\\\n",
       "\t SFG10 & 2254.0 & 1810.0\\\\\n",
       "\t SFG2  & 1728.0 & 1435.0\\\\\n",
       "\t SFG3  & 1187.0 & 1006.0\\\\\n",
       "\t SFG4  & 1618.5 & 1362.5\\\\\n",
       "\t SFG5  & 2554.0 & 2069.0\\\\\n",
       "\t SFG6  & 2220.5 & 1699.0\\\\\n",
       "\t SFG8  & 1514.0 & 1290.0\\\\\n",
       "\t SFG9  & 2669.0 & 2168.0\\\\\n",
       "\\end{tabular}\n"
      ],
      "text/markdown": [
       "\n",
       "A tibble: 9 × 3\n",
       "\n",
       "| samples &lt;chr&gt; | median_peak_count &lt;dbl&gt; | median_feature_count &lt;dbl&gt; |\n",
       "|---|---|---|\n",
       "| SFG1  | 1282.0 | 1035.0 |\n",
       "| SFG10 | 2254.0 | 1810.0 |\n",
       "| SFG2  | 1728.0 | 1435.0 |\n",
       "| SFG3  | 1187.0 | 1006.0 |\n",
       "| SFG4  | 1618.5 | 1362.5 |\n",
       "| SFG5  | 2554.0 | 2069.0 |\n",
       "| SFG6  | 2220.5 | 1699.0 |\n",
       "| SFG8  | 1514.0 | 1290.0 |\n",
       "| SFG9  | 2669.0 | 2168.0 |\n",
       "\n"
      ],
      "text/plain": [
       "  samples median_peak_count median_feature_count\n",
       "1 SFG1    1282.0            1035.0              \n",
       "2 SFG10   2254.0            1810.0              \n",
       "3 SFG2    1728.0            1435.0              \n",
       "4 SFG3    1187.0            1006.0              \n",
       "5 SFG4    1618.5            1362.5              \n",
       "6 SFG5    2554.0            2069.0              \n",
       "7 SFG6    2220.5            1699.0              \n",
       "8 SFG8    1514.0            1290.0              \n",
       "9 SFG9    2669.0            2168.0              "
      ]
     },
     "metadata": {},
     "output_type": "display_data"
    }
   ],
   "source": [
    "count_per_sample <- data.frame(samples=ad_peaks_so$samples, peak_count=ad_peaks_so$nCount_RNA,\n",
    "                               features=ad_peaks_so$nFeature_RNA)\n",
    "count_per_sample <- count_per_sample %>%\n",
    "  group_by(samples) %>%\n",
    "  summarise(median_peak_count = median(peak_count), median_feature_count=median(features))\n",
    "count_per_sample"
   ]
  },
  {
   "cell_type": "code",
   "execution_count": 36,
   "id": "9e543804",
   "metadata": {},
   "outputs": [],
   "source": [
    "write.table(count_per_sample, file='results/Kapmann_peaks_stats.tsv', sep='\\t')"
   ]
  },
  {
   "cell_type": "code",
   "execution_count": 8,
   "id": "9a6fc237",
   "metadata": {},
   "outputs": [],
   "source": [
    "write.table(ad_peaks_so@meta.data, file='rdata/ad_metadata.tsv')"
   ]
  },
  {
   "cell_type": "code",
   "execution_count": 1,
   "id": "4df817df",
   "metadata": {},
   "outputs": [
    {
     "ename": "ERROR",
     "evalue": "Error in eval(expr, envir, enclos): object 'ct_peaks_so' not found\n",
     "output_type": "error",
     "traceback": [
      "Error in eval(expr, envir, enclos): object 'ct_peaks_so' not found\nTraceback:\n"
     ]
    }
   ],
   "source": [
    "ct_peaks_so"
   ]
  },
  {
   "cell_type": "code",
   "execution_count": null,
   "id": "fa7e5db2",
   "metadata": {},
   "outputs": [],
   "source": [
    "ct_peaks_so"
   ]
  }
 ],
 "metadata": {
  "kernelspec": {
   "display_name": "R",
   "language": "R",
   "name": "ir"
  },
  "language_info": {
   "codemirror_mode": "r",
   "file_extension": ".r",
   "mimetype": "text/x-r-source",
   "name": "R",
   "pygments_lexer": "r",
   "version": "4.1.0"
  }
 },
 "nbformat": 4,
 "nbformat_minor": 5
}
