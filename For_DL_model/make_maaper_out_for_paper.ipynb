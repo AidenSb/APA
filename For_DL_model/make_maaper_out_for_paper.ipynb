{
 "cells": [
  {
   "cell_type": "code",
   "execution_count": 1,
   "metadata": {
    "vscode": {
     "languageId": "r"
    }
   },
   "outputs": [],
   "source": [
    "import pandas as pd\n",
    "import os"
   ]
  },
  {
   "cell_type": "code",
   "execution_count": 2,
   "metadata": {
    "vscode": {
     "languageId": "r"
    }
   },
   "outputs": [],
   "source": [
    "ROOT = '/data1/APA/Paul_ALS_Data/bams_in/subscelltype_bamfiles/Mapper_outs/'\n",
    "celltypes = ['Excitatory', 'Inhibitory', 'Astrocytes', 'Oligodendrocytes', 'Microglia', 'OPC']\n"
   ]
  },
  {
   "cell_type": "code",
   "execution_count": 3,
   "metadata": {
    "vscode": {
     "languageId": "r"
    }
   },
   "outputs": [
    {
     "name": "stdout",
     "output_type": "stream",
     "text": [
      "['Astrocytes_sALSvsCTRL', 'Inhibitory_sALSvsCTRL', 'Excitatory_sALSvsCTRL', 'Excitatory_C9ALSvsCTRL', 'Astrocytes_C9ALSvsCTRL', 'Oligodendrocytes_C9ALSvsCTRL', 'OPC_C9ALSvsCTRL', 'Oligodendrocytes_sALSvsCTRL', 'OPC_sALSvsCTRL', 'Microglia_sALSvsCTRL', 'Inhibitory_C9ALSvsCTRL', 'Microglia_C9ALSvsCTRL']\n"
     ]
    }
   ],
   "source": [
    "# list dir with celltypes in the name of them \n",
    "celltype_dirs = [x for x in os.listdir(ROOT) if any([y in x for y in celltypes])]\n",
    "print(celltype_dirs)"
   ]
  },
  {
   "cell_type": "code",
   "execution_count": 6,
   "metadata": {
    "vscode": {
     "languageId": "r"
    }
   },
   "outputs": [],
   "source": [
    "writer = pd.ExcelWriter('combined_maaper_output_data.xlsx', engine='openpyxl')"
   ]
  },
  {
   "cell_type": "code",
   "execution_count": 7,
   "metadata": {
    "vscode": {
     "languageId": "r"
    }
   },
   "outputs": [],
   "source": [
    "# read in the gene.txt in each celltype dir as a dataframe and save each file with name in the sheet of excel file\n",
    "for celltype_dir in celltype_dirs:\n",
    "    df = pd.read_csv(os.path.join(ROOT, celltype_dir, 'gene.txt'), sep='\\t')\n",
    "    df.to_excel(writer, sheet_name=celltype_dir)\n",
    "\n",
    "writer.save()\n",
    "writer.close()\n"
   ]
  },
  {
   "cell_type": "code",
   "execution_count": null,
   "metadata": {
    "vscode": {
     "languageId": "r"
    }
   },
   "outputs": [],
   "source": []
  }
 ],
 "metadata": {
  "kernelspec": {
   "display_name": "R",
   "language": "R",
   "name": "ir"
  },
  "language_info": {
   "codemirror_mode": {
    "name": "ipython",
    "version": 3
   },
   "file_extension": ".py",
   "mimetype": "text/x-python",
   "name": "R",
   "nbconvert_exporter": "python",
   "pygments_lexer": "ipython3",
   "version": "3.8.8"
  }
 },
 "nbformat": 4,
 "nbformat_minor": 2
}
