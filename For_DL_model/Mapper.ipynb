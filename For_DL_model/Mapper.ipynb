{
 "cells": [
  {
   "cell_type": "code",
   "execution_count": 1,
   "id": "a0ba4b41-feae-4a83-9156-142386cebb7c",
   "metadata": {},
   "outputs": [],
   "source": [
    "library(MAAPER)\n",
    "root <- '/data1/APA/Paul_ALS_Data/bams_in/subscelltype_bamfiles/'"
   ]
  },
  {
   "cell_type": "code",
   "execution_count": 2,
   "id": "2b79353b-28a0-472a-8586-afd4c072c98c",
   "metadata": {},
   "outputs": [
    {
     "data": {
      "text/html": [
       "<style>\n",
       ".list-inline {list-style: none; margin:0; padding: 0}\n",
       ".list-inline>li {display: inline-block}\n",
       ".list-inline>li:not(:last-child)::after {content: \"\\00b7\"; padding: 0 .5ex}\n",
       "</style>\n",
       "<ol class=list-inline><li>'AST-FB'</li><li>'AST-PP'</li><li>'Endothelial'</li><li>'Excitatory'</li><li>'human.PAS.hg38.rds'</li><li>'IN-PV'</li><li>'IN-SST'</li><li>'IN-SV2C'</li><li>'IN-VIP'</li><li>'Inhibitory'</li><li>'L2-3'</li><li>'L4'</li><li>'L5-6'</li><li>'L5-6-CC'</li><li>'Mapper_outs'</li><li>'Microglia'</li><li>'Neu-NRGN-II'</li><li>'Oligodendrocytes'</li><li>'OPC'</li><li>'tst_APALog_Res.tsv'</li></ol>\n"
      ],
      "text/latex": [
       "\\begin{enumerate*}\n",
       "\\item 'AST-FB'\n",
       "\\item 'AST-PP'\n",
       "\\item 'Endothelial'\n",
       "\\item 'Excitatory'\n",
       "\\item 'human.PAS.hg38.rds'\n",
       "\\item 'IN-PV'\n",
       "\\item 'IN-SST'\n",
       "\\item 'IN-SV2C'\n",
       "\\item 'IN-VIP'\n",
       "\\item 'Inhibitory'\n",
       "\\item 'L2-3'\n",
       "\\item 'L4'\n",
       "\\item 'L5-6'\n",
       "\\item 'L5-6-CC'\n",
       "\\item 'Mapper\\_outs'\n",
       "\\item 'Microglia'\n",
       "\\item 'Neu-NRGN-II'\n",
       "\\item 'Oligodendrocytes'\n",
       "\\item 'OPC'\n",
       "\\item 'tst\\_APALog\\_Res.tsv'\n",
       "\\end{enumerate*}\n"
      ],
      "text/markdown": [
       "1. 'AST-FB'\n",
       "2. 'AST-PP'\n",
       "3. 'Endothelial'\n",
       "4. 'Excitatory'\n",
       "5. 'human.PAS.hg38.rds'\n",
       "6. 'IN-PV'\n",
       "7. 'IN-SST'\n",
       "8. 'IN-SV2C'\n",
       "9. 'IN-VIP'\n",
       "10. 'Inhibitory'\n",
       "11. 'L2-3'\n",
       "12. 'L4'\n",
       "13. 'L5-6'\n",
       "14. 'L5-6-CC'\n",
       "15. 'Mapper_outs'\n",
       "16. 'Microglia'\n",
       "17. 'Neu-NRGN-II'\n",
       "18. 'Oligodendrocytes'\n",
       "19. 'OPC'\n",
       "20. 'tst_APALog_Res.tsv'\n",
       "\n",
       "\n"
      ],
      "text/plain": [
       " [1] \"AST-FB\"             \"AST-PP\"             \"Endothelial\"       \n",
       " [4] \"Excitatory\"         \"human.PAS.hg38.rds\" \"IN-PV\"             \n",
       " [7] \"IN-SST\"             \"IN-SV2C\"            \"IN-VIP\"            \n",
       "[10] \"Inhibitory\"         \"L2-3\"               \"L4\"                \n",
       "[13] \"L5-6\"               \"L5-6-CC\"            \"Mapper_outs\"       \n",
       "[16] \"Microglia\"          \"Neu-NRGN-II\"        \"Oligodendrocytes\"  \n",
       "[19] \"OPC\"                \"tst_APALog_Res.tsv\""
      ]
     },
     "metadata": {},
     "output_type": "display_data"
    }
   ],
   "source": [
    "## lets run it for AST-FB and AST-PP\n",
    "setwd(root)\n",
    "list.files()"
   ]
  },
  {
   "cell_type": "code",
   "execution_count": 75,
   "id": "9f062d29-6885-4e2c-b5c0-af476bd409db",
   "metadata": {},
   "outputs": [
    {
     "data": {
      "text/html": [
       "<style>\n",
       ".list-inline {list-style: none; margin:0; padding: 0}\n",
       ".list-inline>li {display: inline-block}\n",
       ".list-inline>li:not(:last-child)::after {content: \"\\00b7\"; padding: 0 .5ex}\n",
       "</style>\n",
       "<ol class=list-inline><li>'ast_FB_C9ALSFTLD_pseudoB.bam'</li><li>'ast_FB_C9ALSnoFTLD_pseudoB.bam'</li><li>'ast_FB_control_pseudoB.bam'</li><li>'ast_FB_sALSnoFTLD_pseudoB.bam'</li><li>'C9ALSFTLD1_CTfiltered.bam'</li><li>'C9ALSFTLD2_CTfiltered.bam'</li><li>'C9ALSFTLD3_CTfiltered.bam'</li><li>'C9ALSFTLD4_CTfiltered.bam'</li><li>'C9ALSnoFTLD1_CTfiltered.bam'</li><li>'C9ALSnoFTLD3_CTfiltered.bam'</li><li>'C9noALSnoFTLD_CTfiltered.bam'</li><li>'CTRL1_CTfiltered.bam'</li><li>'CTRL2_CTfiltered.bam'</li><li>'CTRL3_CTfiltered.bam'</li><li>'CTRL4_CTfiltered.bam'</li><li>'CTRL5_CTfiltered.bam'</li><li>'CTRL6_CTfiltered.bam'</li><li>'sALSnoFTLD4_CTfiltered.bam'</li><li>'sALSnoFTLD5_CTfiltered.bam'</li><li>'sALSnoFTLD8_CTfiltered.bam'</li></ol>\n"
      ],
      "text/latex": [
       "\\begin{enumerate*}\n",
       "\\item 'ast\\_FB\\_C9ALSFTLD\\_pseudoB.bam'\n",
       "\\item 'ast\\_FB\\_C9ALSnoFTLD\\_pseudoB.bam'\n",
       "\\item 'ast\\_FB\\_control\\_pseudoB.bam'\n",
       "\\item 'ast\\_FB\\_sALSnoFTLD\\_pseudoB.bam'\n",
       "\\item 'C9ALSFTLD1\\_CTfiltered.bam'\n",
       "\\item 'C9ALSFTLD2\\_CTfiltered.bam'\n",
       "\\item 'C9ALSFTLD3\\_CTfiltered.bam'\n",
       "\\item 'C9ALSFTLD4\\_CTfiltered.bam'\n",
       "\\item 'C9ALSnoFTLD1\\_CTfiltered.bam'\n",
       "\\item 'C9ALSnoFTLD3\\_CTfiltered.bam'\n",
       "\\item 'C9noALSnoFTLD\\_CTfiltered.bam'\n",
       "\\item 'CTRL1\\_CTfiltered.bam'\n",
       "\\item 'CTRL2\\_CTfiltered.bam'\n",
       "\\item 'CTRL3\\_CTfiltered.bam'\n",
       "\\item 'CTRL4\\_CTfiltered.bam'\n",
       "\\item 'CTRL5\\_CTfiltered.bam'\n",
       "\\item 'CTRL6\\_CTfiltered.bam'\n",
       "\\item 'sALSnoFTLD4\\_CTfiltered.bam'\n",
       "\\item 'sALSnoFTLD5\\_CTfiltered.bam'\n",
       "\\item 'sALSnoFTLD8\\_CTfiltered.bam'\n",
       "\\end{enumerate*}\n"
      ],
      "text/markdown": [
       "1. 'ast_FB_C9ALSFTLD_pseudoB.bam'\n",
       "2. 'ast_FB_C9ALSnoFTLD_pseudoB.bam'\n",
       "3. 'ast_FB_control_pseudoB.bam'\n",
       "4. 'ast_FB_sALSnoFTLD_pseudoB.bam'\n",
       "5. 'C9ALSFTLD1_CTfiltered.bam'\n",
       "6. 'C9ALSFTLD2_CTfiltered.bam'\n",
       "7. 'C9ALSFTLD3_CTfiltered.bam'\n",
       "8. 'C9ALSFTLD4_CTfiltered.bam'\n",
       "9. 'C9ALSnoFTLD1_CTfiltered.bam'\n",
       "10. 'C9ALSnoFTLD3_CTfiltered.bam'\n",
       "11. 'C9noALSnoFTLD_CTfiltered.bam'\n",
       "12. 'CTRL1_CTfiltered.bam'\n",
       "13. 'CTRL2_CTfiltered.bam'\n",
       "14. 'CTRL3_CTfiltered.bam'\n",
       "15. 'CTRL4_CTfiltered.bam'\n",
       "16. 'CTRL5_CTfiltered.bam'\n",
       "17. 'CTRL6_CTfiltered.bam'\n",
       "18. 'sALSnoFTLD4_CTfiltered.bam'\n",
       "19. 'sALSnoFTLD5_CTfiltered.bam'\n",
       "20. 'sALSnoFTLD8_CTfiltered.bam'\n",
       "\n",
       "\n"
      ],
      "text/plain": [
       " [1] \"ast_FB_C9ALSFTLD_pseudoB.bam\"   \"ast_FB_C9ALSnoFTLD_pseudoB.bam\"\n",
       " [3] \"ast_FB_control_pseudoB.bam\"     \"ast_FB_sALSnoFTLD_pseudoB.bam\" \n",
       " [5] \"C9ALSFTLD1_CTfiltered.bam\"      \"C9ALSFTLD2_CTfiltered.bam\"     \n",
       " [7] \"C9ALSFTLD3_CTfiltered.bam\"      \"C9ALSFTLD4_CTfiltered.bam\"     \n",
       " [9] \"C9ALSnoFTLD1_CTfiltered.bam\"    \"C9ALSnoFTLD3_CTfiltered.bam\"   \n",
       "[11] \"C9noALSnoFTLD_CTfiltered.bam\"   \"CTRL1_CTfiltered.bam\"          \n",
       "[13] \"CTRL2_CTfiltered.bam\"           \"CTRL3_CTfiltered.bam\"          \n",
       "[15] \"CTRL4_CTfiltered.bam\"           \"CTRL5_CTfiltered.bam\"          \n",
       "[17] \"CTRL6_CTfiltered.bam\"           \"sALSnoFTLD4_CTfiltered.bam\"    \n",
       "[19] \"sALSnoFTLD5_CTfiltered.bam\"     \"sALSnoFTLD8_CTfiltered.bam\"    "
      ]
     },
     "metadata": {},
     "output_type": "display_data"
    }
   ],
   "source": [
    "setwd('AST-FB/')\n",
    "bamfiles = list.files(pattern = \"*.bam$\")\n",
    "bamfiles"
   ]
  },
  {
   "cell_type": "code",
   "execution_count": 76,
   "id": "e0c12166-b52d-413f-9eec-7ecd6f073071",
   "metadata": {},
   "outputs": [],
   "source": [
    "ast_fb_control_bams <- as.vector(paste0(root,\"AST-FB/\",bamfiles[which(startsWith(bamfiles, \"CTRL\"))]))\n",
    "ast_fb_ALSFTLD_bams <- as.vector(paste0(root,\"AST-FB/\",bamfiles[which(startsWith(bamfiles, \"C9ALSFTLD\"))]))\n",
    "ast_fb_ALSnoFTLD_bams <- as.vector(paste0(root,\"AST-FB/\",bamfiles[which(startsWith(bamfiles, \"C9ALSnoFTLD\"))]))\n",
    "ast_fb_sALSnoFTLD_bams <- as.vector(paste0(root,\"AST-FB/\",bamfiles[which(startsWith(bamfiles, \"sALSnoFTLD\"))]))\n",
    "ast_fb_noALSnoFTLD_bams <- as.vector(paste0(root,\"AST-FB/\",bamfiles[which(startsWith(bamfiles, \"C9noALSnoFTLD\"))]))"
   ]
  },
  {
   "cell_type": "code",
   "execution_count": 15,
   "id": "78a8489a-4772-45e9-92f8-a961e425b828",
   "metadata": {},
   "outputs": [],
   "source": [
    "reference.gtf <- '/home/aiden/data/refgenome/refdata-gex-GRCh38-2020-A/genes//genes.gtf'"
   ]
  },
  {
   "cell_type": "code",
   "execution_count": 16,
   "id": "4de9f03d-9432-44bc-b78e-e8849f0289d8",
   "metadata": {},
   "outputs": [],
   "source": [
    "apa_atlas <- readRDS('/data1/APA/Paul_ALS_Data/bams_in/subscelltype_bamfiles/human.PAS.hg38.rds')"
   ]
  },
  {
   "cell_type": "code",
   "execution_count": 10,
   "id": "76b0128d-97fd-40f0-986e-342dc5af46cb",
   "metadata": {
    "collapsed": true,
    "jupyter": {
     "outputs_hidden": true
    },
    "tags": []
   },
   "outputs": [
    {
     "name": "stderr",
     "output_type": "stream",
     "text": [
      "Warning message in dir.create(output_dir, recursive = T):\n",
      "“'/data1/APA/Paul_ALS_Data/bams_in/subscelltype_bamfiles/Mapper_outs/AST-PP' already exists”\n",
      "Prepare reference genome ...\n",
      "\n",
      "Import genomic features from the file as a GRanges object ... \n",
      "OK\n",
      "\n",
      "Prepare the 'metadata' data frame ... \n",
      "OK\n",
      "\n",
      "Make the TxDb object ... \n",
      "Warning message in .get_cds_IDX(mcols0$type, mcols0$phase):\n",
      "“The \"phase\" metadata column contains non-NA values for features of type\n",
      "  stop_codon. This information was ignored.”\n",
      "OK\n",
      "\n",
      "Sequence levels in GTF:\n",
      "\n"
     ]
    },
    {
     "name": "stdout",
     "output_type": "stream",
     "text": [
      " [1] \"chr1\"  \"chr2\"  \"chr3\"  \"chr4\"  \"chr5\"  \"chr6\"  \"chr7\"  \"chr8\"  \"chr9\" \n",
      "[10] \"chr10\" \"chr11\" \"chr12\" \"chr13\" \"chr14\" \"chr15\" \"chr16\" \"chr17\" \"chr18\"\n",
      "[19] \"chr19\" \"chr20\" \"chr21\" \"chr22\" \"chrX\"  \"chrY\"  \"chrM\" \n"
     ]
    },
    {
     "name": "stderr",
     "output_type": "stream",
     "text": [
      "Prepare PAS annotation ...\n",
      "\n",
      "16707 genes!\n",
      "\n",
      "Start training for condition c1 - sample 1 ...\n",
      "\n",
      "Warning message in mclapply(1:length(pas_by_gene_single), function(i) {:\n",
      "“all scheduled cores encountered errors in user code”\n",
      "1750 genes used for training ...\n",
      "\n",
      "1 fragments longer than 600 ...\n",
      "\n"
     ]
    },
    {
     "ename": "ERROR",
     "evalue": "Error in density.default(dist_all, from = 0, to = dist_thre, n = dist_thre + : argument 'x' must be numeric\n",
     "output_type": "error",
     "traceback": [
      "Error in density.default(dist_all, from = 0, to = dist_thre, n = dist_thre + : argument 'x' must be numeric\nTraceback:\n",
      "1. maaper(reference.gtf, apa_atlas, bam_c1 = ast_fb_ALSFTLD_bams, \n .     bam_c2 = ast_fb_control_bams, output_dir = ast_map_out, read_len = 76, \n .     ncores = 16)",
      "2. wrap(pas_by_gene_single, pas_by_gene = pas_annotation, exons_gr, \n .     bam_c1, bam_c2, density_train_path, dist_thre, num_thre, \n .     read_len, num_pas_thre, frac_pas_thre, ncores, save_path, \n .     run, subset, region, verbose, output_dir, paired = paired)",
      "3. lapply(conds, function(con) {\n .     if (con == \"c1\") {\n .         bam_paths = bam_c1\n .     }\n .     if (con == \"c2\") {\n .         bam_paths = bam_c2\n .     }\n .     ss = length(bam_paths)\n .     density_con = lapply(1:ss, function(k) {\n .         message(paste(\"Start training for condition\", con, \"-\", \n .             \"sample\", k, \"...\"))\n .         bam_path = bam_paths[k]\n .         pdist = get_pdist_singlePAS(bam_path, exons_gr, pas_by_gene_single, \n .             num_thre, dist_thre, ncores)\n .         gc()\n .         return(pdist)\n .     })\n . })",
      "4. FUN(X[[i]], ...)",
      "5. lapply(1:ss, function(k) {\n .     message(paste(\"Start training for condition\", con, \"-\", \"sample\", \n .         k, \"...\"))\n .     bam_path = bam_paths[k]\n .     pdist = get_pdist_singlePAS(bam_path, exons_gr, pas_by_gene_single, \n .         num_thre, dist_thre, ncores)\n .     gc()\n .     return(pdist)\n . })",
      "6. FUN(X[[i]], ...)",
      "7. get_pdist_singlePAS(bam_path, exons_gr, pas_by_gene_single, num_thre, \n .     dist_thre, ncores)",
      "8. density(dist_all, from = 0, to = dist_thre, n = dist_thre + 1)",
      "9. density.default(dist_all, from = 0, to = dist_thre, n = dist_thre + \n .     1)",
      "10. stop(\"argument 'x' must be numeric\")"
     ]
    }
   ],
   "source": [
    "### Okk lets see what MAAPER does \"fingers crossed\"\n",
    "outdir <- \"/data1/APA/Paul_ALS_Data/bams_in/subscelltype_bamfiles/Mapper_outs\"\n",
    "ast_map_out <- paste0(outdir,\"/AST-PP\")\n",
    "maaper(reference.gtf, apa_atlas, bam_c1=ast_fb_ALSFTLD_bams, bam_c2=ast_fb_control_bams, \n",
    "      output_dir=ast_map_out, read_len=76, ncores=16)"
   ]
  },
  {
   "cell_type": "code",
   "execution_count": 30,
   "id": "2194f118-d77b-411b-adba-b0a7ff66fd41",
   "metadata": {
    "collapsed": true,
    "jupyter": {
     "outputs_hidden": true
    },
    "tags": []
   },
   "outputs": [
    {
     "name": "stderr",
     "output_type": "stream",
     "text": [
      "Prepare reference genome ...\n",
      "\n",
      "Import genomic features from the file as a GRanges object ... \n",
      "OK\n",
      "\n",
      "Prepare the 'metadata' data frame ... \n",
      "OK\n",
      "\n",
      "Make the TxDb object ... \n",
      "Warning message in .get_cds_IDX(mcols0$type, mcols0$phase):\n",
      "“The \"phase\" metadata column contains non-NA values for features of type\n",
      "  stop_codon. This information was ignored.”\n",
      "OK\n",
      "\n",
      "Sequence levels in GTF:\n",
      "\n"
     ]
    },
    {
     "name": "stdout",
     "output_type": "stream",
     "text": [
      " [1] \"chr1\"  \"chr2\"  \"chr3\"  \"chr4\"  \"chr5\"  \"chr6\"  \"chr7\"  \"chr8\"  \"chr9\" \n",
      "[10] \"chr10\" \"chr11\" \"chr12\" \"chr13\" \"chr14\" \"chr15\" \"chr16\" \"chr17\" \"chr18\"\n",
      "[19] \"chr19\" \"chr20\" \"chr21\" \"chr22\" \"chrX\"  \"chrY\"  \"chrM\" \n"
     ]
    },
    {
     "name": "stderr",
     "output_type": "stream",
     "text": [
      "Prepare PAS annotation ...\n",
      "\n",
      "16707 genes!\n",
      "\n",
      "Start training for condition c1 - sample 1 ...\n",
      "\n",
      "87 genes used for training ...\n",
      "\n",
      "0.2315 fragments longer than 600 ...\n",
      "\n",
      "Start training for condition c2 - sample 1 ...\n",
      "\n",
      "301 genes used for training ...\n",
      "\n",
      "0.216 fragments longer than 600 ...\n",
      "\n",
      "Calculate APA events ...\n",
      "\n"
     ]
    },
    {
     "name": "stdout",
     "output_type": "stream",
     "text": [
      "[1] FALSE\n"
     ]
    },
    {
     "name": "stderr",
     "output_type": "stream",
     "text": [
      "Writing results for 5700 genes ...\n",
      "\n"
     ]
    }
   ],
   "source": [
    "outdir <- \"/data1/APA/Paul_ALS_Data/bams_in/subscelltype_bamfiles/Mapper_outs\"\n",
    "ast_map_out <- paste0(outdir,\"/tst\")\n",
    "maaper(reference.gtf, apa_atlas, bam_c1=\"C9ALSFTLD2_CTfiltered.bam\", bam_c2=\"CTRL5_CTfiltered.bam\", \n",
    "      output_dir=ast_map_out, read_len=76, ncores=32)"
   ]
  },
  {
   "cell_type": "code",
   "execution_count": 6,
   "id": "8aeb5394-9f12-44a2-90fd-492fff79171e",
   "metadata": {},
   "outputs": [],
   "source": []
  },
  {
   "cell_type": "markdown",
   "id": "9a0de60b-98a8-4eaa-a4c5-3271c5d1771d",
   "metadata": {
    "tags": []
   },
   "source": []
  },
  {
   "cell_type": "code",
   "execution_count": null,
   "id": "7733620c-bb78-40b2-9829-2e5bf8387572",
   "metadata": {
    "collapsed": true,
    "jupyter": {
     "outputs_hidden": true
    },
    "tags": []
   },
   "outputs": [
    {
     "name": "stderr",
     "output_type": "stream",
     "text": [
      "Prepare reference genome ...\n",
      "\n",
      "Import genomic features from the file as a GRanges object ... \n",
      "OK\n",
      "\n",
      "Prepare the 'metadata' data frame ... \n",
      "OK\n",
      "\n",
      "Make the TxDb object ... \n",
      "Warning message in .get_cds_IDX(mcols0$type, mcols0$phase):\n",
      "“The \"phase\" metadata column contains non-NA values for features of type\n",
      "  stop_codon. This information was ignored.”\n",
      "OK\n",
      "\n",
      "Sequence levels in GTF:\n",
      "\n"
     ]
    },
    {
     "name": "stdout",
     "output_type": "stream",
     "text": [
      " [1] \"chr1\"  \"chr2\"  \"chr3\"  \"chr4\"  \"chr5\"  \"chr6\"  \"chr7\"  \"chr8\"  \"chr9\" \n",
      "[10] \"chr10\" \"chr11\" \"chr12\" \"chr13\" \"chr14\" \"chr15\" \"chr16\" \"chr17\" \"chr18\"\n",
      "[19] \"chr19\" \"chr20\" \"chr21\" \"chr22\" \"chrX\"  \"chrY\"  \"chrM\" \n"
     ]
    },
    {
     "name": "stderr",
     "output_type": "stream",
     "text": [
      "Prepare PAS annotation ...\n",
      "\n",
      "16707 genes!\n",
      "\n",
      "Start training for condition c1 - sample 1 ...\n",
      "\n",
      "119 genes used for training ...\n",
      "\n",
      "0.1608 fragments longer than 600 ...\n",
      "\n",
      "Start training for condition c2 - sample 1 ...\n",
      "\n",
      "40 genes used for training ...\n",
      "\n",
      "0.3309 fragments longer than 600 ...\n",
      "\n",
      "Calculate APA events ...\n",
      "\n"
     ]
    }
   ],
   "source": [
    "## run for AST-FB pseudo-bulks\n",
    "### Okk lets see what MAAPER does \"fingers crossed\"\n",
    "outdir <- \"/data1/APA/Paul_ALS_Data/bams_in/subscelltype_bamfiles/Mapper_outs\"\n",
    "ast_map_out <- paste0(outdir,\"/AST-FB_pseudoB_paired\")\n",
    "maaper(reference.gtf, apa_atlas, bam_c1=\"ast_FB_C9ALSFTLD_pseudoB.bam\", bam_c2=\"ast_FB_control_pseudoB.bam\", \n",
    "      output_dir=ast_map_out, read_len=91, ncores=32, paired=TRUE)"
   ]
  },
  {
   "cell_type": "code",
   "execution_count": 65,
   "id": "30dec4f0-0ac8-4ed2-b010-0361565330d4",
   "metadata": {
    "collapsed": true,
    "jupyter": {
     "outputs_hidden": true
    },
    "tags": []
   },
   "outputs": [
    {
     "name": "stderr",
     "output_type": "stream",
     "text": [
      "Prepare reference genome ...\n",
      "\n",
      "Import genomic features from the file as a GRanges object ... \n",
      "OK\n",
      "\n",
      "Prepare the 'metadata' data frame ... \n",
      "OK\n",
      "\n",
      "Make the TxDb object ... \n",
      "Warning message in .get_cds_IDX(mcols0$type, mcols0$phase):\n",
      "“The \"phase\" metadata column contains non-NA values for features of type\n",
      "  stop_codon. This information was ignored.”\n",
      "OK\n",
      "\n",
      "Sequence levels in GTF:\n",
      "\n"
     ]
    },
    {
     "name": "stdout",
     "output_type": "stream",
     "text": [
      " [1] \"chr1\"  \"chr2\"  \"chr3\"  \"chr4\"  \"chr5\"  \"chr6\"  \"chr7\"  \"chr8\"  \"chr9\" \n",
      "[10] \"chr10\" \"chr11\" \"chr12\" \"chr13\" \"chr14\" \"chr15\" \"chr16\" \"chr17\" \"chr18\"\n",
      "[19] \"chr19\" \"chr20\" \"chr21\" \"chr22\" \"chrX\"  \"chrY\"  \"chrM\" \n"
     ]
    },
    {
     "name": "stderr",
     "output_type": "stream",
     "text": [
      "Prepare PAS annotation ...\n",
      "\n",
      "16707 genes!\n",
      "\n",
      "Start training for condition c1 - sample 1 ...\n",
      "\n",
      "Warning message in mclapply(1:length(pas_by_gene_single), function(i) {:\n",
      "“all scheduled cores encountered errors in user code”\n",
      "1750 genes used for training ...\n",
      "\n",
      "1 fragments longer than 600 ...\n",
      "\n"
     ]
    },
    {
     "ename": "ERROR",
     "evalue": "Error in density.default(dist_all, from = 0, to = dist_thre, n = dist_thre + : argument 'x' must be numeric\n",
     "output_type": "error",
     "traceback": [
      "Error in density.default(dist_all, from = 0, to = dist_thre, n = dist_thre + : argument 'x' must be numeric\nTraceback:\n",
      "1. maaper(reference.gtf, apa_atlas, bam_c1 = \"C9ALSnoFTLD3_CTfiltered\", \n .     bam_c2 = \"ast_FB_control_pseudoB.bam\", output_dir = ast_map_out, \n .     read_len = 91, ncores = 60)",
      "2. wrap(pas_by_gene_single, pas_by_gene = pas_annotation, exons_gr, \n .     bam_c1, bam_c2, density_train_path, dist_thre, num_thre, \n .     read_len, num_pas_thre, frac_pas_thre, ncores, save_path, \n .     run, subset, region, verbose, output_dir, paired = paired)",
      "3. lapply(conds, function(con) {\n .     if (con == \"c1\") {\n .         bam_paths = bam_c1\n .     }\n .     if (con == \"c2\") {\n .         bam_paths = bam_c2\n .     }\n .     ss = length(bam_paths)\n .     density_con = lapply(1:ss, function(k) {\n .         message(paste(\"Start training for condition\", con, \"-\", \n .             \"sample\", k, \"...\"))\n .         bam_path = bam_paths[k]\n .         pdist = get_pdist_singlePAS(bam_path, exons_gr, pas_by_gene_single, \n .             num_thre, dist_thre, ncores)\n .         gc()\n .         return(pdist)\n .     })\n . })",
      "4. FUN(X[[i]], ...)",
      "5. lapply(1:ss, function(k) {\n .     message(paste(\"Start training for condition\", con, \"-\", \"sample\", \n .         k, \"...\"))\n .     bam_path = bam_paths[k]\n .     pdist = get_pdist_singlePAS(bam_path, exons_gr, pas_by_gene_single, \n .         num_thre, dist_thre, ncores)\n .     gc()\n .     return(pdist)\n . })",
      "6. FUN(X[[i]], ...)",
      "7. get_pdist_singlePAS(bam_path, exons_gr, pas_by_gene_single, num_thre, \n .     dist_thre, ncores)",
      "8. density(dist_all, from = 0, to = dist_thre, n = dist_thre + 1)",
      "9. density.default(dist_all, from = 0, to = dist_thre, n = dist_thre + \n .     1)",
      "10. stop(\"argument 'x' must be numeric\")"
     ]
    }
   ],
   "source": [
    "## run for AST-FB pseudo-bulks\n",
    "### Okk lets see what MAAPER does \"fingers crossed\"\n",
    "outdir <- \"/data1/APA/Paul_ALS_Data/bams_in/subscelltype_bamfiles/Mapper_outs\"\n",
    "ast_map_out <- paste0(outdir,\"/AST-FB_c9alsnoftld\")\n",
    "maaper(reference.gtf, apa_atlas, bam_c1='C9ALSnoFTLD3_CTfiltered', bam_c2=\"ast_FB_control_pseudoB.bam\", \n",
    "      output_dir=ast_map_out, read_len=91, ncores=60)"
   ]
  },
  {
   "cell_type": "markdown",
   "id": "a137d47b-d090-475f-81fd-d5830b8fbb38",
   "metadata": {
    "tags": []
   },
   "source": [
    "## Ok the problem is when the bam file is too small we can have issue, so for these cases I will make a pseudo bulk and then run the maaper a bit pain in the butt but whatever!!\n",
    "## for AST-FB:\n",
    "### one pseudo bulk for control\n",
    "### and merge sALS 3 and 4"
   ]
  },
  {
   "cell_type": "code",
   "execution_count": 57,
   "id": "63698d83-c9b5-4984-a080-e89e4d4ac408",
   "metadata": {
    "collapsed": true,
    "jupyter": {
     "outputs_hidden": true
    },
    "tags": []
   },
   "outputs": [
    {
     "name": "stderr",
     "output_type": "stream",
     "text": [
      "Warning message in dir.create(output_dir, recursive = T):\n",
      "“'/data1/APA/Paul_ALS_Data/bams_in/subscelltype_bamfiles/Mapper_outs/AST-FB_C9ALSFTLDvsCTRL' already exists”\n",
      "Prepare reference genome ...\n",
      "\n",
      "Import genomic features from the file as a GRanges object ... \n",
      "OK\n",
      "\n",
      "Prepare the 'metadata' data frame ... \n",
      "OK\n",
      "\n",
      "Make the TxDb object ... \n",
      "Warning message in .get_cds_IDX(mcols0$type, mcols0$phase):\n",
      "“The \"phase\" metadata column contains non-NA values for features of type\n",
      "  stop_codon. This information was ignored.”\n",
      "OK\n",
      "\n",
      "Sequence levels in GTF:\n",
      "\n"
     ]
    },
    {
     "name": "stdout",
     "output_type": "stream",
     "text": [
      " [1] \"chr1\"  \"chr2\"  \"chr3\"  \"chr4\"  \"chr5\"  \"chr6\"  \"chr7\"  \"chr8\"  \"chr9\" \n",
      "[10] \"chr10\" \"chr11\" \"chr12\" \"chr13\" \"chr14\" \"chr15\" \"chr16\" \"chr17\" \"chr18\"\n",
      "[19] \"chr19\" \"chr20\" \"chr21\" \"chr22\" \"chrX\"  \"chrY\"  \"chrM\" \n"
     ]
    },
    {
     "name": "stderr",
     "output_type": "stream",
     "text": [
      "Prepare PAS annotation ...\n",
      "\n",
      "16707 genes!\n",
      "\n",
      "Start training for condition c1 - sample 1 ...\n",
      "\n",
      "4 genes used for training ...\n",
      "\n",
      "0.1746 fragments longer than 600 ...\n",
      "\n",
      "Start training for condition c1 - sample 2 ...\n",
      "\n",
      "34 genes used for training ...\n",
      "\n",
      "0.2187 fragments longer than 600 ...\n",
      "\n",
      "Start training for condition c1 - sample 3 ...\n",
      "\n",
      "2 genes used for training ...\n",
      "\n",
      "0.2965 fragments longer than 600 ...\n",
      "\n",
      "Start training for condition c1 - sample 4 ...\n",
      "\n",
      "64 genes used for training ...\n",
      "\n",
      "0.118 fragments longer than 600 ...\n",
      "\n",
      "Start training for condition c2 - sample 1 ...\n",
      "\n",
      "40 genes used for training ...\n",
      "\n",
      "0.3309 fragments longer than 600 ...\n",
      "\n",
      "Calculate APA events ...\n",
      "\n"
     ]
    },
    {
     "name": "stdout",
     "output_type": "stream",
     "text": [
      "[1] FALSE\n"
     ]
    },
    {
     "name": "stderr",
     "output_type": "stream",
     "text": [
      "Writing results for 1583 genes ...\n",
      "\n"
     ]
    }
   ],
   "source": [
    "## ok c9ALS bam files vector vs pseudo CTRL\n",
    "outdir <- \"/data1/APA/Paul_ALS_Data/bams_in/subscelltype_bamfiles/Mapper_outs\"\n",
    "ast_map_out <- paste0(outdir,\"/AST-FB_C9ALSFTLDvsCTRL\")\n",
    "maaper(reference.gtf, apa_atlas, bam_c1=ast_fb_ALSFTLD_bams, bam_c2=\"ast_FB_control_pseudoB.bam\", \n",
    "      output_dir=ast_map_out, read_len=91, ncores=60,)"
   ]
  },
  {
   "cell_type": "code",
   "execution_count": 67,
   "id": "095086ff-88f1-4759-b415-7ac9ecd7e71f",
   "metadata": {},
   "outputs": [
    {
     "data": {
      "text/html": [
       "<style>\n",
       ".list-inline {list-style: none; margin:0; padding: 0}\n",
       ".list-inline>li {display: inline-block}\n",
       ".list-inline>li:not(:last-child)::after {content: \"\\00b7\"; padding: 0 .5ex}\n",
       "</style>\n",
       "<ol class=list-inline><li>'/data1/APA/Paul_ALS_Data/bams_in/subscelltype_bamfiles/AST-FB/C9ALSFTLD1_CTfiltered.bam'</li><li>'/data1/APA/Paul_ALS_Data/bams_in/subscelltype_bamfiles/AST-FB/C9ALSFTLD2_CTfiltered.bam'</li><li>'/data1/APA/Paul_ALS_Data/bams_in/subscelltype_bamfiles/AST-FB/C9ALSFTLD3_CTfiltered.bam'</li><li>'/data1/APA/Paul_ALS_Data/bams_in/subscelltype_bamfiles/AST-FB/C9ALSFTLD4_CTfiltered.bam'</li></ol>\n"
      ],
      "text/latex": [
       "\\begin{enumerate*}\n",
       "\\item '/data1/APA/Paul\\_ALS\\_Data/bams\\_in/subscelltype\\_bamfiles/AST-FB/C9ALSFTLD1\\_CTfiltered.bam'\n",
       "\\item '/data1/APA/Paul\\_ALS\\_Data/bams\\_in/subscelltype\\_bamfiles/AST-FB/C9ALSFTLD2\\_CTfiltered.bam'\n",
       "\\item '/data1/APA/Paul\\_ALS\\_Data/bams\\_in/subscelltype\\_bamfiles/AST-FB/C9ALSFTLD3\\_CTfiltered.bam'\n",
       "\\item '/data1/APA/Paul\\_ALS\\_Data/bams\\_in/subscelltype\\_bamfiles/AST-FB/C9ALSFTLD4\\_CTfiltered.bam'\n",
       "\\end{enumerate*}\n"
      ],
      "text/markdown": [
       "1. '/data1/APA/Paul_ALS_Data/bams_in/subscelltype_bamfiles/AST-FB/C9ALSFTLD1_CTfiltered.bam'\n",
       "2. '/data1/APA/Paul_ALS_Data/bams_in/subscelltype_bamfiles/AST-FB/C9ALSFTLD2_CTfiltered.bam'\n",
       "3. '/data1/APA/Paul_ALS_Data/bams_in/subscelltype_bamfiles/AST-FB/C9ALSFTLD3_CTfiltered.bam'\n",
       "4. '/data1/APA/Paul_ALS_Data/bams_in/subscelltype_bamfiles/AST-FB/C9ALSFTLD4_CTfiltered.bam'\n",
       "\n",
       "\n"
      ],
      "text/plain": [
       "[1] \"/data1/APA/Paul_ALS_Data/bams_in/subscelltype_bamfiles/AST-FB/C9ALSFTLD1_CTfiltered.bam\"\n",
       "[2] \"/data1/APA/Paul_ALS_Data/bams_in/subscelltype_bamfiles/AST-FB/C9ALSFTLD2_CTfiltered.bam\"\n",
       "[3] \"/data1/APA/Paul_ALS_Data/bams_in/subscelltype_bamfiles/AST-FB/C9ALSFTLD3_CTfiltered.bam\"\n",
       "[4] \"/data1/APA/Paul_ALS_Data/bams_in/subscelltype_bamfiles/AST-FB/C9ALSFTLD4_CTfiltered.bam\""
      ]
     },
     "metadata": {},
     "output_type": "display_data"
    }
   ],
   "source": [
    "##lets run one for all C9ALS vs ctrl and then one for sALS vs ctrl\n",
    "ast_fb_C9ALS_bams <- as.vector(paste0(root,\"AST-FB/\",bamfiles[which(startsWith(bamfiles, \"C9ALSFTLD\"))]))\n",
    "ast_fb_C9ALS_bams"
   ]
  },
  {
   "cell_type": "code",
   "execution_count": 68,
   "id": "7fcb436e-8615-477d-a81c-7b3e7b5d13ac",
   "metadata": {
    "collapsed": true,
    "jupyter": {
     "outputs_hidden": true
    },
    "tags": []
   },
   "outputs": [
    {
     "name": "stderr",
     "output_type": "stream",
     "text": [
      "Warning message in dir.create(output_dir, recursive = T):\n",
      "“'/data1/APA/Paul_ALS_Data/bams_in/subscelltype_bamfiles/Mapper_outs/AST-FB_C9ALSvsCTRL' already exists”\n",
      "Prepare reference genome ...\n",
      "\n",
      "Import genomic features from the file as a GRanges object ... \n",
      "OK\n",
      "\n",
      "Prepare the 'metadata' data frame ... \n",
      "OK\n",
      "\n",
      "Make the TxDb object ... \n",
      "Warning message in .get_cds_IDX(mcols0$type, mcols0$phase):\n",
      "“The \"phase\" metadata column contains non-NA values for features of type\n",
      "  stop_codon. This information was ignored.”\n",
      "OK\n",
      "\n",
      "Sequence levels in GTF:\n",
      "\n"
     ]
    },
    {
     "name": "stdout",
     "output_type": "stream",
     "text": [
      " [1] \"chr1\"  \"chr2\"  \"chr3\"  \"chr4\"  \"chr5\"  \"chr6\"  \"chr7\"  \"chr8\"  \"chr9\" \n",
      "[10] \"chr10\" \"chr11\" \"chr12\" \"chr13\" \"chr14\" \"chr15\" \"chr16\" \"chr17\" \"chr18\"\n",
      "[19] \"chr19\" \"chr20\" \"chr21\" \"chr22\" \"chrX\"  \"chrY\"  \"chrM\" \n"
     ]
    },
    {
     "name": "stderr",
     "output_type": "stream",
     "text": [
      "Prepare PAS annotation ...\n",
      "\n",
      "16707 genes!\n",
      "\n",
      "Start training for condition c1 - sample 1 ...\n",
      "\n",
      "4 genes used for training ...\n",
      "\n",
      "0.1746 fragments longer than 600 ...\n",
      "\n",
      "Start training for condition c1 - sample 2 ...\n",
      "\n",
      "34 genes used for training ...\n",
      "\n",
      "0.2187 fragments longer than 600 ...\n",
      "\n",
      "Start training for condition c1 - sample 3 ...\n",
      "\n",
      "2 genes used for training ...\n",
      "\n",
      "0.2965 fragments longer than 600 ...\n",
      "\n",
      "Start training for condition c1 - sample 4 ...\n",
      "\n",
      "64 genes used for training ...\n",
      "\n",
      "0.118 fragments longer than 600 ...\n",
      "\n",
      "Start training for condition c2 - sample 1 ...\n",
      "\n",
      "40 genes used for training ...\n",
      "\n",
      "0.3309 fragments longer than 600 ...\n",
      "\n",
      "Calculate APA events ...\n",
      "\n"
     ]
    },
    {
     "name": "stdout",
     "output_type": "stream",
     "text": [
      "[1] FALSE\n"
     ]
    },
    {
     "name": "stderr",
     "output_type": "stream",
     "text": [
      "Writing results for 1583 genes ...\n",
      "\n"
     ]
    }
   ],
   "source": [
    "outdir <- \"/data1/APA/Paul_ALS_Data/bams_in/subscelltype_bamfiles/Mapper_outs\"\n",
    "ast_map_out <- paste0(outdir,\"/AST-FB_C9ALSvsCTRL\")\n",
    "maaper(reference.gtf, apa_atlas, bam_c1=ast_fb_C9ALS_bams, bam_c2=\"ast_FB_control_pseudoB.bam\", \n",
    "      output_dir=ast_map_out, read_len=91, ncores=60)"
   ]
  },
  {
   "cell_type": "code",
   "execution_count": 77,
   "id": "b442474e-cbaa-4889-b9f9-ce6c5de01e7a",
   "metadata": {},
   "outputs": [
    {
     "data": {
      "text/html": [
       "<style>\n",
       ".list-inline {list-style: none; margin:0; padding: 0}\n",
       ".list-inline>li {display: inline-block}\n",
       ".list-inline>li:not(:last-child)::after {content: \"\\00b7\"; padding: 0 .5ex}\n",
       "</style>\n",
       "<ol class=list-inline><li>'/data1/APA/Paul_ALS_Data/bams_in/subscelltype_bamfiles/AST-FB/sALSnoFTLD4_CTfiltered.bam'</li><li>'/data1/APA/Paul_ALS_Data/bams_in/subscelltype_bamfiles/AST-FB/sALSnoFTLD5_CTfiltered.bam'</li><li>'/data1/APA/Paul_ALS_Data/bams_in/subscelltype_bamfiles/AST-FB/sALSnoFTLD8_CTfiltered.bam'</li></ol>\n"
      ],
      "text/latex": [
       "\\begin{enumerate*}\n",
       "\\item '/data1/APA/Paul\\_ALS\\_Data/bams\\_in/subscelltype\\_bamfiles/AST-FB/sALSnoFTLD4\\_CTfiltered.bam'\n",
       "\\item '/data1/APA/Paul\\_ALS\\_Data/bams\\_in/subscelltype\\_bamfiles/AST-FB/sALSnoFTLD5\\_CTfiltered.bam'\n",
       "\\item '/data1/APA/Paul\\_ALS\\_Data/bams\\_in/subscelltype\\_bamfiles/AST-FB/sALSnoFTLD8\\_CTfiltered.bam'\n",
       "\\end{enumerate*}\n"
      ],
      "text/markdown": [
       "1. '/data1/APA/Paul_ALS_Data/bams_in/subscelltype_bamfiles/AST-FB/sALSnoFTLD4_CTfiltered.bam'\n",
       "2. '/data1/APA/Paul_ALS_Data/bams_in/subscelltype_bamfiles/AST-FB/sALSnoFTLD5_CTfiltered.bam'\n",
       "3. '/data1/APA/Paul_ALS_Data/bams_in/subscelltype_bamfiles/AST-FB/sALSnoFTLD8_CTfiltered.bam'\n",
       "\n",
       "\n"
      ],
      "text/plain": [
       "[1] \"/data1/APA/Paul_ALS_Data/bams_in/subscelltype_bamfiles/AST-FB/sALSnoFTLD4_CTfiltered.bam\"\n",
       "[2] \"/data1/APA/Paul_ALS_Data/bams_in/subscelltype_bamfiles/AST-FB/sALSnoFTLD5_CTfiltered.bam\"\n",
       "[3] \"/data1/APA/Paul_ALS_Data/bams_in/subscelltype_bamfiles/AST-FB/sALSnoFTLD8_CTfiltered.bam\""
      ]
     },
     "metadata": {},
     "output_type": "display_data"
    }
   ],
   "source": [
    "ast_fb_sALSnoFTLD_bams"
   ]
  },
  {
   "cell_type": "code",
   "execution_count": 81,
   "id": "f83b003f-915e-4577-b8c8-c253d9e316c6",
   "metadata": {
    "collapsed": true,
    "jupyter": {
     "outputs_hidden": true
    },
    "tags": []
   },
   "outputs": [
    {
     "name": "stderr",
     "output_type": "stream",
     "text": [
      "Warning message in dir.create(output_dir, recursive = T):\n",
      "“'/data1/APA/Paul_ALS_Data/bams_in/subscelltype_bamfiles/Mapper_outs/AST-FB_sALSvsCTRL' already exists”\n",
      "Prepare reference genome ...\n",
      "\n",
      "Import genomic features from the file as a GRanges object ... \n",
      "OK\n",
      "\n",
      "Prepare the 'metadata' data frame ... \n",
      "OK\n",
      "\n",
      "Make the TxDb object ... \n",
      "Warning message in .get_cds_IDX(mcols0$type, mcols0$phase):\n",
      "“The \"phase\" metadata column contains non-NA values for features of type\n",
      "  stop_codon. This information was ignored.”\n",
      "OK\n",
      "\n",
      "Sequence levels in GTF:\n",
      "\n"
     ]
    },
    {
     "name": "stdout",
     "output_type": "stream",
     "text": [
      " [1] \"chr1\"  \"chr2\"  \"chr3\"  \"chr4\"  \"chr5\"  \"chr6\"  \"chr7\"  \"chr8\"  \"chr9\" \n",
      "[10] \"chr10\" \"chr11\" \"chr12\" \"chr13\" \"chr14\" \"chr15\" \"chr16\" \"chr17\" \"chr18\"\n",
      "[19] \"chr19\" \"chr20\" \"chr21\" \"chr22\" \"chrX\"  \"chrY\"  \"chrM\" \n"
     ]
    },
    {
     "name": "stderr",
     "output_type": "stream",
     "text": [
      "Prepare PAS annotation ...\n",
      "\n",
      "16707 genes!\n",
      "\n",
      "Start training for condition c1 - sample 1 ...\n",
      "\n",
      "24 genes used for training ...\n",
      "\n",
      "0.1933 fragments longer than 600 ...\n",
      "\n",
      "Start training for condition c2 - sample 1 ...\n",
      "\n",
      "40 genes used for training ...\n",
      "\n",
      "0.3309 fragments longer than 600 ...\n",
      "\n",
      "Calculate APA events ...\n",
      "\n"
     ]
    },
    {
     "name": "stdout",
     "output_type": "stream",
     "text": [
      "[1] FALSE\n"
     ]
    },
    {
     "name": "stderr",
     "output_type": "stream",
     "text": [
      "Writing results for 983 genes ...\n",
      "\n"
     ]
    }
   ],
   "source": [
    "outdir <- \"/data1/APA/Paul_ALS_Data/bams_in/subscelltype_bamfiles/Mapper_outs\"\n",
    "ast_map_out <- paste0(outdir,\"/AST-FB_sALSvsCTRL\")\n",
    "maaper(reference.gtf, apa_atlas, bam_c1=\"ast_FB_sALSnoFTLD_pseudoB.bam\", bam_c2=\"ast_FB_control_pseudoB.bam\", \n",
    "      output_dir=ast_map_out, read_len=91, ncores=60)"
   ]
  },
  {
   "cell_type": "code",
   "execution_count": 2,
   "id": "a7bfa7a3-d890-4238-be73-27bcf1743fa4",
   "metadata": {},
   "outputs": [],
   "source": [
    "call_mapper <- function(path, c1, c2){\n",
    "    outdir <- \"/data1/APA/Paul_ALS_Data/bams_in/subscelltype_bamfiles/Mapper_outs\"\n",
    "    ast_map_out <- paste0(outdir,\"/\", path)\n",
    "    maaper(reference.gtf, apa_atlas, bam_c1=c1, bam_c2=c2, \n",
    "          output_dir=ast_map_out, read_len=91, ncores=62, bed=TRUE)\n",
    "\n",
    "}"
   ]
  },
  {
   "cell_type": "code",
   "execution_count": 82,
   "id": "9a4df4e5-6406-4ac7-8584-7782b29241a4",
   "metadata": {},
   "outputs": [],
   "source": [
    "## lets do it with AST-PP\n",
    "setwd('../AST-PP/')\n",
    "bamfiles = list.files(pattern = \"*.bam$\")\n",
    "ast_fb_control_bams <- as.vector(paste0(root,\"AST-PP/\",bamfiles[which(startsWith(bamfiles, \"CTRL\"))]))\n",
    "ast_fb_C9ALS_bams <- as.vector(paste0(root,\"AST-PP/\",bamfiles[which(startsWith(bamfiles, \"C9ALS\"))]))\n",
    "ast_fb_sALSnoFTLD_bams <- as.vector(paste0(root,\"AST-PP/\",bamfiles[which(startsWith(bamfiles, \"sALSnoFTLD\"))]))"
   ]
  },
  {
   "cell_type": "code",
   "execution_count": 83,
   "id": "675554b0-b05b-4c99-8054-ce8a4eabebaa",
   "metadata": {},
   "outputs": [
    {
     "data": {
      "text/html": [
       "<style>\n",
       ".list-inline {list-style: none; margin:0; padding: 0}\n",
       ".list-inline>li {display: inline-block}\n",
       ".list-inline>li:not(:last-child)::after {content: \"\\00b7\"; padding: 0 .5ex}\n",
       "</style>\n",
       "<ol class=list-inline><li>'/data1/APA/Paul_ALS_Data/bams_in/subscelltype_bamfiles/AST-PP/C9ALSFTLD1_CTfiltered.bam'</li><li>'/data1/APA/Paul_ALS_Data/bams_in/subscelltype_bamfiles/AST-PP/C9ALSFTLD2_CTfiltered.bam'</li><li>'/data1/APA/Paul_ALS_Data/bams_in/subscelltype_bamfiles/AST-PP/C9ALSFTLD3_CTfiltered.bam'</li><li>'/data1/APA/Paul_ALS_Data/bams_in/subscelltype_bamfiles/AST-PP/C9ALSFTLD4_CTfiltered.bam'</li><li>'/data1/APA/Paul_ALS_Data/bams_in/subscelltype_bamfiles/AST-PP/C9ALSnoFTLD1_CTfiltered.bam'</li><li>'/data1/APA/Paul_ALS_Data/bams_in/subscelltype_bamfiles/AST-PP/C9ALSnoFTLD3_CTfiltered.bam'</li></ol>\n"
      ],
      "text/latex": [
       "\\begin{enumerate*}\n",
       "\\item '/data1/APA/Paul\\_ALS\\_Data/bams\\_in/subscelltype\\_bamfiles/AST-PP/C9ALSFTLD1\\_CTfiltered.bam'\n",
       "\\item '/data1/APA/Paul\\_ALS\\_Data/bams\\_in/subscelltype\\_bamfiles/AST-PP/C9ALSFTLD2\\_CTfiltered.bam'\n",
       "\\item '/data1/APA/Paul\\_ALS\\_Data/bams\\_in/subscelltype\\_bamfiles/AST-PP/C9ALSFTLD3\\_CTfiltered.bam'\n",
       "\\item '/data1/APA/Paul\\_ALS\\_Data/bams\\_in/subscelltype\\_bamfiles/AST-PP/C9ALSFTLD4\\_CTfiltered.bam'\n",
       "\\item '/data1/APA/Paul\\_ALS\\_Data/bams\\_in/subscelltype\\_bamfiles/AST-PP/C9ALSnoFTLD1\\_CTfiltered.bam'\n",
       "\\item '/data1/APA/Paul\\_ALS\\_Data/bams\\_in/subscelltype\\_bamfiles/AST-PP/C9ALSnoFTLD3\\_CTfiltered.bam'\n",
       "\\end{enumerate*}\n"
      ],
      "text/markdown": [
       "1. '/data1/APA/Paul_ALS_Data/bams_in/subscelltype_bamfiles/AST-PP/C9ALSFTLD1_CTfiltered.bam'\n",
       "2. '/data1/APA/Paul_ALS_Data/bams_in/subscelltype_bamfiles/AST-PP/C9ALSFTLD2_CTfiltered.bam'\n",
       "3. '/data1/APA/Paul_ALS_Data/bams_in/subscelltype_bamfiles/AST-PP/C9ALSFTLD3_CTfiltered.bam'\n",
       "4. '/data1/APA/Paul_ALS_Data/bams_in/subscelltype_bamfiles/AST-PP/C9ALSFTLD4_CTfiltered.bam'\n",
       "5. '/data1/APA/Paul_ALS_Data/bams_in/subscelltype_bamfiles/AST-PP/C9ALSnoFTLD1_CTfiltered.bam'\n",
       "6. '/data1/APA/Paul_ALS_Data/bams_in/subscelltype_bamfiles/AST-PP/C9ALSnoFTLD3_CTfiltered.bam'\n",
       "\n",
       "\n"
      ],
      "text/plain": [
       "[1] \"/data1/APA/Paul_ALS_Data/bams_in/subscelltype_bamfiles/AST-PP/C9ALSFTLD1_CTfiltered.bam\"  \n",
       "[2] \"/data1/APA/Paul_ALS_Data/bams_in/subscelltype_bamfiles/AST-PP/C9ALSFTLD2_CTfiltered.bam\"  \n",
       "[3] \"/data1/APA/Paul_ALS_Data/bams_in/subscelltype_bamfiles/AST-PP/C9ALSFTLD3_CTfiltered.bam\"  \n",
       "[4] \"/data1/APA/Paul_ALS_Data/bams_in/subscelltype_bamfiles/AST-PP/C9ALSFTLD4_CTfiltered.bam\"  \n",
       "[5] \"/data1/APA/Paul_ALS_Data/bams_in/subscelltype_bamfiles/AST-PP/C9ALSnoFTLD1_CTfiltered.bam\"\n",
       "[6] \"/data1/APA/Paul_ALS_Data/bams_in/subscelltype_bamfiles/AST-PP/C9ALSnoFTLD3_CTfiltered.bam\""
      ]
     },
     "metadata": {},
     "output_type": "display_data"
    }
   ],
   "source": [
    "ast_fb_C9ALS_bams"
   ]
  },
  {
   "cell_type": "code",
   "execution_count": 89,
   "id": "f96faacf-c599-4d79-86a1-694880949630",
   "metadata": {},
   "outputs": [
    {
     "data": {
      "text/html": [
       "<style>\n",
       ".list-inline {list-style: none; margin:0; padding: 0}\n",
       ".list-inline>li {display: inline-block}\n",
       ".list-inline>li:not(:last-child)::after {content: \"\\00b7\"; padding: 0 .5ex}\n",
       "</style>\n",
       "<ol class=list-inline><li>'/data1/APA/Paul_ALS_Data/bams_in/subscelltype_bamfiles/AST-PP/sALSnoFTLD3_CTfiltered.bam'</li><li>'/data1/APA/Paul_ALS_Data/bams_in/subscelltype_bamfiles/AST-PP/sALSnoFTLD4_CTfiltered.bam'</li><li>'/data1/APA/Paul_ALS_Data/bams_in/subscelltype_bamfiles/AST-PP/sALSnoFTLD5_CTfiltered.bam'</li><li>'/data1/APA/Paul_ALS_Data/bams_in/subscelltype_bamfiles/AST-PP/sALSnoFTLD8_CTfiltered.bam'</li></ol>\n"
      ],
      "text/latex": [
       "\\begin{enumerate*}\n",
       "\\item '/data1/APA/Paul\\_ALS\\_Data/bams\\_in/subscelltype\\_bamfiles/AST-PP/sALSnoFTLD3\\_CTfiltered.bam'\n",
       "\\item '/data1/APA/Paul\\_ALS\\_Data/bams\\_in/subscelltype\\_bamfiles/AST-PP/sALSnoFTLD4\\_CTfiltered.bam'\n",
       "\\item '/data1/APA/Paul\\_ALS\\_Data/bams\\_in/subscelltype\\_bamfiles/AST-PP/sALSnoFTLD5\\_CTfiltered.bam'\n",
       "\\item '/data1/APA/Paul\\_ALS\\_Data/bams\\_in/subscelltype\\_bamfiles/AST-PP/sALSnoFTLD8\\_CTfiltered.bam'\n",
       "\\end{enumerate*}\n"
      ],
      "text/markdown": [
       "1. '/data1/APA/Paul_ALS_Data/bams_in/subscelltype_bamfiles/AST-PP/sALSnoFTLD3_CTfiltered.bam'\n",
       "2. '/data1/APA/Paul_ALS_Data/bams_in/subscelltype_bamfiles/AST-PP/sALSnoFTLD4_CTfiltered.bam'\n",
       "3. '/data1/APA/Paul_ALS_Data/bams_in/subscelltype_bamfiles/AST-PP/sALSnoFTLD5_CTfiltered.bam'\n",
       "4. '/data1/APA/Paul_ALS_Data/bams_in/subscelltype_bamfiles/AST-PP/sALSnoFTLD8_CTfiltered.bam'\n",
       "\n",
       "\n"
      ],
      "text/plain": [
       "[1] \"/data1/APA/Paul_ALS_Data/bams_in/subscelltype_bamfiles/AST-PP/sALSnoFTLD3_CTfiltered.bam\"\n",
       "[2] \"/data1/APA/Paul_ALS_Data/bams_in/subscelltype_bamfiles/AST-PP/sALSnoFTLD4_CTfiltered.bam\"\n",
       "[3] \"/data1/APA/Paul_ALS_Data/bams_in/subscelltype_bamfiles/AST-PP/sALSnoFTLD5_CTfiltered.bam\"\n",
       "[4] \"/data1/APA/Paul_ALS_Data/bams_in/subscelltype_bamfiles/AST-PP/sALSnoFTLD8_CTfiltered.bam\""
      ]
     },
     "metadata": {},
     "output_type": "display_data"
    }
   ],
   "source": [
    "ast_fb_sALSnoFTLD_bams"
   ]
  },
  {
   "cell_type": "code",
   "execution_count": 90,
   "id": "1aa0ce96-f85a-4ac9-8583-aea9b78f1e1b",
   "metadata": {
    "collapsed": true,
    "jupyter": {
     "outputs_hidden": true
    },
    "tags": []
   },
   "outputs": [
    {
     "name": "stderr",
     "output_type": "stream",
     "text": [
      "Prepare reference genome ...\n",
      "\n",
      "Import genomic features from the file as a GRanges object ... \n",
      "OK\n",
      "\n",
      "Prepare the 'metadata' data frame ... \n",
      "OK\n",
      "\n",
      "Make the TxDb object ... \n",
      "Warning message in .get_cds_IDX(mcols0$type, mcols0$phase):\n",
      "“The \"phase\" metadata column contains non-NA values for features of type\n",
      "  stop_codon. This information was ignored.”\n",
      "OK\n",
      "\n",
      "Sequence levels in GTF:\n",
      "\n"
     ]
    },
    {
     "name": "stdout",
     "output_type": "stream",
     "text": [
      " [1] \"chr1\"  \"chr2\"  \"chr3\"  \"chr4\"  \"chr5\"  \"chr6\"  \"chr7\"  \"chr8\"  \"chr9\" \n",
      "[10] \"chr10\" \"chr11\" \"chr12\" \"chr13\" \"chr14\" \"chr15\" \"chr16\" \"chr17\" \"chr18\"\n",
      "[19] \"chr19\" \"chr20\" \"chr21\" \"chr22\" \"chrX\"  \"chrY\"  \"chrM\" \n"
     ]
    },
    {
     "name": "stderr",
     "output_type": "stream",
     "text": [
      "Prepare PAS annotation ...\n",
      "\n",
      "16707 genes!\n",
      "\n",
      "Start training for condition c1 - sample 1 ...\n",
      "\n",
      "90 genes used for training ...\n",
      "\n",
      "0.2553 fragments longer than 600 ...\n",
      "\n",
      "Start training for condition c1 - sample 2 ...\n",
      "\n",
      "87 genes used for training ...\n",
      "\n",
      "0.2315 fragments longer than 600 ...\n",
      "\n",
      "Start training for condition c1 - sample 3 ...\n",
      "\n",
      "209 genes used for training ...\n",
      "\n",
      "0.3375 fragments longer than 600 ...\n",
      "\n",
      "Start training for condition c1 - sample 4 ...\n",
      "\n",
      "127 genes used for training ...\n",
      "\n",
      "0.1043 fragments longer than 600 ...\n",
      "\n",
      "Start training for condition c1 - sample 5 ...\n",
      "\n",
      "192 genes used for training ...\n",
      "\n",
      "0.3792 fragments longer than 600 ...\n",
      "\n",
      "Start training for condition c1 - sample 6 ...\n",
      "\n",
      "156 genes used for training ...\n",
      "\n",
      "0.3735 fragments longer than 600 ...\n",
      "\n",
      "Start training for condition c2 - sample 1 ...\n",
      "\n",
      "230 genes used for training ...\n",
      "\n",
      "0.3042 fragments longer than 600 ...\n",
      "\n",
      "Start training for condition c2 - sample 2 ...\n",
      "\n",
      "258 genes used for training ...\n",
      "\n",
      "0.3104 fragments longer than 600 ...\n",
      "\n",
      "Start training for condition c2 - sample 3 ...\n",
      "\n",
      "216 genes used for training ...\n",
      "\n",
      "0.2765 fragments longer than 600 ...\n",
      "\n",
      "Start training for condition c2 - sample 4 ...\n",
      "\n",
      "178 genes used for training ...\n",
      "\n",
      "0.3673 fragments longer than 600 ...\n",
      "\n",
      "Start training for condition c2 - sample 5 ...\n",
      "\n",
      "301 genes used for training ...\n",
      "\n",
      "0.216 fragments longer than 600 ...\n",
      "\n",
      "Start training for condition c2 - sample 6 ...\n",
      "\n",
      "64 genes used for training ...\n",
      "\n",
      "0.2218 fragments longer than 600 ...\n",
      "\n",
      "Calculate APA events ...\n",
      "\n"
     ]
    },
    {
     "name": "stdout",
     "output_type": "stream",
     "text": [
      "[1] FALSE\n"
     ]
    },
    {
     "name": "stderr",
     "output_type": "stream",
     "text": [
      "Writing results for 11007 genes ...\n",
      "\n"
     ]
    }
   ],
   "source": [
    "call_mapper(\"AST-PP_C9ALSvsCTRL\",ast_fb_C9ALS_bams,ast_fb_control_bams)"
   ]
  },
  {
   "cell_type": "code",
   "execution_count": 91,
   "id": "0623fa04-4641-40a3-94e9-f0c9a6ce1143",
   "metadata": {
    "collapsed": true,
    "jupyter": {
     "outputs_hidden": true
    },
    "tags": []
   },
   "outputs": [
    {
     "name": "stderr",
     "output_type": "stream",
     "text": [
      "Prepare reference genome ...\n",
      "\n",
      "Import genomic features from the file as a GRanges object ... \n",
      "OK\n",
      "\n",
      "Prepare the 'metadata' data frame ... \n",
      "OK\n",
      "\n",
      "Make the TxDb object ... \n",
      "Warning message in .get_cds_IDX(mcols0$type, mcols0$phase):\n",
      "“The \"phase\" metadata column contains non-NA values for features of type\n",
      "  stop_codon. This information was ignored.”\n",
      "OK\n",
      "\n",
      "Sequence levels in GTF:\n",
      "\n"
     ]
    },
    {
     "name": "stdout",
     "output_type": "stream",
     "text": [
      " [1] \"chr1\"  \"chr2\"  \"chr3\"  \"chr4\"  \"chr5\"  \"chr6\"  \"chr7\"  \"chr8\"  \"chr9\" \n",
      "[10] \"chr10\" \"chr11\" \"chr12\" \"chr13\" \"chr14\" \"chr15\" \"chr16\" \"chr17\" \"chr18\"\n",
      "[19] \"chr19\" \"chr20\" \"chr21\" \"chr22\" \"chrX\"  \"chrY\"  \"chrM\" \n"
     ]
    },
    {
     "name": "stderr",
     "output_type": "stream",
     "text": [
      "Prepare PAS annotation ...\n",
      "\n",
      "16707 genes!\n",
      "\n",
      "Start training for condition c1 - sample 1 ...\n",
      "\n",
      "335 genes used for training ...\n",
      "\n",
      "0.2116 fragments longer than 600 ...\n",
      "\n",
      "Start training for condition c2 - sample 1 ...\n",
      "\n",
      "230 genes used for training ...\n",
      "\n",
      "0.3042 fragments longer than 600 ...\n",
      "\n",
      "Start training for condition c2 - sample 2 ...\n",
      "\n",
      "258 genes used for training ...\n",
      "\n",
      "0.3104 fragments longer than 600 ...\n",
      "\n",
      "Start training for condition c2 - sample 3 ...\n",
      "\n",
      "216 genes used for training ...\n",
      "\n",
      "0.2765 fragments longer than 600 ...\n",
      "\n",
      "Start training for condition c2 - sample 4 ...\n",
      "\n",
      "178 genes used for training ...\n",
      "\n",
      "0.3673 fragments longer than 600 ...\n",
      "\n",
      "Start training for condition c2 - sample 5 ...\n",
      "\n",
      "301 genes used for training ...\n",
      "\n",
      "0.216 fragments longer than 600 ...\n",
      "\n",
      "Start training for condition c2 - sample 6 ...\n",
      "\n",
      "64 genes used for training ...\n",
      "\n",
      "0.2218 fragments longer than 600 ...\n",
      "\n",
      "Calculate APA events ...\n",
      "\n"
     ]
    },
    {
     "name": "stdout",
     "output_type": "stream",
     "text": [
      "[1] FALSE\n"
     ]
    },
    {
     "name": "stderr",
     "output_type": "stream",
     "text": [
      "Writing results for 11450 genes ...\n",
      "\n"
     ]
    }
   ],
   "source": [
    "# call_mapper(\"AST-PP\",ast_fb_sALSnoFTLD_bams,ast_fb_control_bams)\n",
    "call_mapper(\"AST-PP_sALSvsCTRL\",\"as_fb_sALS_pseudoB.bam\",ast_fb_control_bams)"
   ]
  },
  {
   "cell_type": "code",
   "execution_count": 92,
   "id": "c1b430ac-1506-4fbb-b52e-e3ca799e0ff9",
   "metadata": {
    "collapsed": true,
    "jupyter": {
     "outputs_hidden": true
    },
    "tags": []
   },
   "outputs": [
    {
     "name": "stderr",
     "output_type": "stream",
     "text": [
      "Prepare reference genome ...\n",
      "\n",
      "Import genomic features from the file as a GRanges object ... \n",
      "OK\n",
      "\n",
      "Prepare the 'metadata' data frame ... \n",
      "OK\n",
      "\n",
      "Make the TxDb object ... \n",
      "Warning message in .get_cds_IDX(mcols0$type, mcols0$phase):\n",
      "“The \"phase\" metadata column contains non-NA values for features of type\n",
      "  stop_codon. This information was ignored.”\n",
      "OK\n",
      "\n",
      "Sequence levels in GTF:\n",
      "\n"
     ]
    },
    {
     "name": "stdout",
     "output_type": "stream",
     "text": [
      " [1] \"chr1\"  \"chr2\"  \"chr3\"  \"chr4\"  \"chr5\"  \"chr6\"  \"chr7\"  \"chr8\"  \"chr9\" \n",
      "[10] \"chr10\" \"chr11\" \"chr12\" \"chr13\" \"chr14\" \"chr15\" \"chr16\" \"chr17\" \"chr18\"\n",
      "[19] \"chr19\" \"chr20\" \"chr21\" \"chr22\" \"chrX\"  \"chrY\"  \"chrM\" \n"
     ]
    },
    {
     "name": "stderr",
     "output_type": "stream",
     "text": [
      "Prepare PAS annotation ...\n",
      "\n",
      "16707 genes!\n",
      "\n",
      "Start training for condition c1 - sample 1 ...\n",
      "\n",
      "215 genes used for training ...\n",
      "\n",
      "0.211 fragments longer than 600 ...\n",
      "\n",
      "Start training for condition c1 - sample 2 ...\n",
      "\n",
      "235 genes used for training ...\n",
      "\n",
      "0.1951 fragments longer than 600 ...\n",
      "\n",
      "Start training for condition c1 - sample 3 ...\n",
      "\n",
      "0 genes used for training ...\n",
      "\n",
      "NaN fragments longer than 600 ...\n",
      "\n"
     ]
    },
    {
     "ename": "ERROR",
     "evalue": "Error in density.default(dist_all, from = 0, to = dist_thre, n = dist_thre + : argument 'x' must be numeric\n",
     "output_type": "error",
     "traceback": [
      "Error in density.default(dist_all, from = 0, to = dist_thre, n = dist_thre + : argument 'x' must be numeric\nTraceback:\n",
      "1. call_mapper(\"tst\", ast_fb_sALSnoFTLD_bams, ast_fb_control_bams)",
      "2. maaper(reference.gtf, apa_atlas, bam_c1 = c1, bam_c2 = c2, output_dir = ast_map_out, \n .     read_len = 91, ncores = 60)   # at line 4-5 of file <text>",
      "3. wrap(pas_by_gene_single, pas_by_gene = pas_annotation, exons_gr, \n .     bam_c1, bam_c2, density_train_path, dist_thre, num_thre, \n .     read_len, num_pas_thre, frac_pas_thre, ncores, save_path, \n .     run, subset, region, verbose, output_dir, paired = paired)",
      "4. lapply(conds, function(con) {\n .     if (con == \"c1\") {\n .         bam_paths = bam_c1\n .     }\n .     if (con == \"c2\") {\n .         bam_paths = bam_c2\n .     }\n .     ss = length(bam_paths)\n .     density_con = lapply(1:ss, function(k) {\n .         message(paste(\"Start training for condition\", con, \"-\", \n .             \"sample\", k, \"...\"))\n .         bam_path = bam_paths[k]\n .         pdist = get_pdist_singlePAS(bam_path, exons_gr, pas_by_gene_single, \n .             num_thre, dist_thre, ncores)\n .         gc()\n .         return(pdist)\n .     })\n . })",
      "5. FUN(X[[i]], ...)",
      "6. lapply(1:ss, function(k) {\n .     message(paste(\"Start training for condition\", con, \"-\", \"sample\", \n .         k, \"...\"))\n .     bam_path = bam_paths[k]\n .     pdist = get_pdist_singlePAS(bam_path, exons_gr, pas_by_gene_single, \n .         num_thre, dist_thre, ncores)\n .     gc()\n .     return(pdist)\n . })",
      "7. FUN(X[[i]], ...)",
      "8. get_pdist_singlePAS(bam_path, exons_gr, pas_by_gene_single, num_thre, \n .     dist_thre, ncores)",
      "9. density(dist_all, from = 0, to = dist_thre, n = dist_thre + 1)",
      "10. density.default(dist_all, from = 0, to = dist_thre, n = dist_thre + \n  .     1)",
      "11. stop(\"argument 'x' must be numeric\")"
     ]
    }
   ],
   "source": [
    "call_mapper(\"tst\",ast_fb_sALSnoFTLD_bams,ast_fb_control_bams)"
   ]
  },
  {
   "cell_type": "code",
   "execution_count": 93,
   "id": "c597e6c5-d616-4076-b04c-198bdb559e4f",
   "metadata": {
    "collapsed": true,
    "jupyter": {
     "outputs_hidden": true
    },
    "tags": []
   },
   "outputs": [
    {
     "name": "stderr",
     "output_type": "stream",
     "text": [
      "Prepare reference genome ...\n",
      "\n",
      "Import genomic features from the file as a GRanges object ... \n",
      "OK\n",
      "\n",
      "Prepare the 'metadata' data frame ... \n",
      "OK\n",
      "\n",
      "Make the TxDb object ... \n",
      "Warning message in .get_cds_IDX(mcols0$type, mcols0$phase):\n",
      "“The \"phase\" metadata column contains non-NA values for features of type\n",
      "  stop_codon. This information was ignored.”\n",
      "OK\n",
      "\n",
      "Sequence levels in GTF:\n",
      "\n"
     ]
    },
    {
     "name": "stdout",
     "output_type": "stream",
     "text": [
      " [1] \"chr1\"  \"chr2\"  \"chr3\"  \"chr4\"  \"chr5\"  \"chr6\"  \"chr7\"  \"chr8\"  \"chr9\" \n",
      "[10] \"chr10\" \"chr11\" \"chr12\" \"chr13\" \"chr14\" \"chr15\" \"chr16\" \"chr17\" \"chr18\"\n",
      "[19] \"chr19\" \"chr20\" \"chr21\" \"chr22\" \"chrX\"  \"chrY\"  \"chrM\" \n"
     ]
    },
    {
     "name": "stderr",
     "output_type": "stream",
     "text": [
      "Prepare PAS annotation ...\n",
      "\n",
      "16707 genes!\n",
      "\n",
      "Start training for condition c1 - sample 1 ...\n",
      "\n",
      "25 genes used for training ...\n",
      "\n",
      "0.1933 fragments longer than 600 ...\n",
      "\n",
      "Start training for condition c2 - sample 1 ...\n",
      "\n",
      "12 genes used for training ...\n",
      "\n",
      "0.1521 fragments longer than 600 ...\n",
      "\n",
      "Calculate APA events ...\n",
      "\n"
     ]
    },
    {
     "name": "stdout",
     "output_type": "stream",
     "text": [
      "[1] FALSE\n"
     ]
    },
    {
     "name": "stderr",
     "output_type": "stream",
     "text": [
      "Writing results for 127 genes ...\n",
      "\n"
     ]
    }
   ],
   "source": [
    "setwd(\"../Endothelial/\")\n",
    "call_mapper(\"Endothelial_ALSvsCTRL\", \"End_ALS_pseudoB.bam\", \"End_CTRL_pseudoB.bam\")"
   ]
  },
  {
   "cell_type": "code",
   "execution_count": 112,
   "id": "198de07c-9a56-4504-906b-8007fbc52c11",
   "metadata": {},
   "outputs": [],
   "source": [
    "## lets do it with IN-PV\n",
    "setwd('../IN-PV/')\n",
    "bamfiles = list.files(pattern = \"*.bam$\")\n",
    "control_bams <- as.vector(paste0(root,\"IN-PV/\",bamfiles[which(startsWith(bamfiles, \"CTRL\"))]))\n",
    "C9ALS_bams <- as.vector(paste0(root,\"IN-PV/\",bamfiles[which(startsWith(bamfiles, \"C9ALS\"))]))\n",
    "sALS_bams <- as.vector(paste0(root,\"IN-PV/\",bamfiles[which(startsWith(bamfiles, \"sALSnoFTLD\"))]))"
   ]
  },
  {
   "cell_type": "code",
   "execution_count": 106,
   "id": "4a6a2e7d-067a-4420-8ec2-19397c9d27d7",
   "metadata": {
    "collapsed": true,
    "jupyter": {
     "outputs_hidden": true
    },
    "tags": []
   },
   "outputs": [
    {
     "name": "stderr",
     "output_type": "stream",
     "text": [
      "Warning message in dir.create(output_dir, recursive = T):\n",
      "“'/data1/APA/Paul_ALS_Data/bams_in/subscelltype_bamfiles/Mapper_outs/IN-PV_C9ALSvsCTRL' already exists”\n",
      "Prepare reference genome ...\n",
      "\n",
      "Import genomic features from the file as a GRanges object ... \n",
      "OK\n",
      "\n",
      "Prepare the 'metadata' data frame ... \n",
      "OK\n",
      "\n",
      "Make the TxDb object ... \n",
      "Warning message in .get_cds_IDX(mcols0$type, mcols0$phase):\n",
      "“The \"phase\" metadata column contains non-NA values for features of type\n",
      "  stop_codon. This information was ignored.”\n",
      "OK\n",
      "\n",
      "Sequence levels in GTF:\n",
      "\n"
     ]
    },
    {
     "name": "stdout",
     "output_type": "stream",
     "text": [
      " [1] \"chr1\"  \"chr2\"  \"chr3\"  \"chr4\"  \"chr5\"  \"chr6\"  \"chr7\"  \"chr8\"  \"chr9\" \n",
      "[10] \"chr10\" \"chr11\" \"chr12\" \"chr13\" \"chr14\" \"chr15\" \"chr16\" \"chr17\" \"chr18\"\n",
      "[19] \"chr19\" \"chr20\" \"chr21\" \"chr22\" \"chrX\"  \"chrY\"  \"chrM\" \n"
     ]
    },
    {
     "name": "stderr",
     "output_type": "stream",
     "text": [
      "Prepare PAS annotation ...\n",
      "\n",
      "16707 genes!\n",
      "\n",
      "Start training for condition c1 - sample 1 ...\n",
      "\n",
      "41 genes used for training ...\n",
      "\n",
      "0.2543 fragments longer than 600 ...\n",
      "\n",
      "Start training for condition c1 - sample 2 ...\n",
      "\n",
      "61 genes used for training ...\n",
      "\n",
      "0.2378 fragments longer than 600 ...\n",
      "\n",
      "Start training for condition c1 - sample 3 ...\n",
      "\n",
      "1 genes used for training ...\n",
      "\n",
      "0.1111 fragments longer than 600 ...\n",
      "\n",
      "Start training for condition c1 - sample 4 ...\n",
      "\n",
      "72 genes used for training ...\n",
      "\n",
      "0.0926 fragments longer than 600 ...\n",
      "\n",
      "Start training for condition c1 - sample 5 ...\n",
      "\n",
      "25 genes used for training ...\n",
      "\n",
      "0.3327 fragments longer than 600 ...\n",
      "\n",
      "Start training for condition c1 - sample 6 ...\n",
      "\n",
      "13 genes used for training ...\n",
      "\n",
      "0.609 fragments longer than 600 ...\n",
      "\n",
      "Start training for condition c2 - sample 1 ...\n",
      "\n",
      "22 genes used for training ...\n",
      "\n",
      "0.6815 fragments longer than 600 ...\n",
      "\n",
      "Start training for condition c2 - sample 2 ...\n",
      "\n",
      "91 genes used for training ...\n",
      "\n",
      "0.3505 fragments longer than 600 ...\n",
      "\n",
      "Start training for condition c2 - sample 3 ...\n",
      "\n",
      "4 genes used for training ...\n",
      "\n",
      "0.546 fragments longer than 600 ...\n",
      "\n",
      "Start training for condition c2 - sample 4 ...\n",
      "\n",
      "11 genes used for training ...\n",
      "\n",
      "0.1694 fragments longer than 600 ...\n",
      "\n",
      "Calculate APA events ...\n",
      "\n"
     ]
    },
    {
     "name": "stdout",
     "output_type": "stream",
     "text": [
      "[1] FALSE\n"
     ]
    },
    {
     "name": "stderr",
     "output_type": "stream",
     "text": [
      "Writing results for 5089 genes ...\n",
      "\n",
      "Writing BED for 5089 genes ...\n",
      "\n"
     ]
    },
    {
     "data": {
      "text/html": [
       "0"
      ],
      "text/latex": [
       "0"
      ],
      "text/markdown": [
       "0"
      ],
      "text/plain": [
       "[1] 0"
      ]
     },
     "metadata": {},
     "output_type": "display_data"
    }
   ],
   "source": [
    "call_mapper(\"IN-PV_C9ALSvsCTRL\", C9ALS_bams, control_bams)"
   ]
  },
  {
   "cell_type": "code",
   "execution_count": 114,
   "id": "4d32ebed-465f-491a-9380-e81573def19f",
   "metadata": {
    "collapsed": true,
    "jupyter": {
     "outputs_hidden": true
    },
    "tags": []
   },
   "outputs": [
    {
     "name": "stderr",
     "output_type": "stream",
     "text": [
      "Warning message in dir.create(output_dir, recursive = T):\n",
      "“'/data1/APA/Paul_ALS_Data/bams_in/subscelltype_bamfiles/Mapper_outs/IN-PV_sALSvsCTRL' already exists”\n",
      "Prepare reference genome ...\n",
      "\n",
      "Import genomic features from the file as a GRanges object ... \n",
      "OK\n",
      "\n",
      "Prepare the 'metadata' data frame ... \n",
      "OK\n",
      "\n",
      "Make the TxDb object ... \n",
      "Warning message in .get_cds_IDX(mcols0$type, mcols0$phase):\n",
      "“The \"phase\" metadata column contains non-NA values for features of type\n",
      "  stop_codon. This information was ignored.”\n",
      "OK\n",
      "\n",
      "Sequence levels in GTF:\n",
      "\n"
     ]
    },
    {
     "name": "stdout",
     "output_type": "stream",
     "text": [
      " [1] \"chr1\"  \"chr2\"  \"chr3\"  \"chr4\"  \"chr5\"  \"chr6\"  \"chr7\"  \"chr8\"  \"chr9\" \n",
      "[10] \"chr10\" \"chr11\" \"chr12\" \"chr13\" \"chr14\" \"chr15\" \"chr16\" \"chr17\" \"chr18\"\n",
      "[19] \"chr19\" \"chr20\" \"chr21\" \"chr22\" \"chrX\"  \"chrY\"  \"chrM\" \n"
     ]
    },
    {
     "name": "stderr",
     "output_type": "stream",
     "text": [
      "Prepare PAS annotation ...\n",
      "\n",
      "16707 genes!\n",
      "\n",
      "Start training for condition c1 - sample 1 ...\n",
      "\n",
      "70 genes used for training ...\n",
      "\n",
      "0.18 fragments longer than 600 ...\n",
      "\n",
      "Start training for condition c2 - sample 1 ...\n",
      "\n",
      "22 genes used for training ...\n",
      "\n",
      "0.6815 fragments longer than 600 ...\n",
      "\n",
      "Start training for condition c2 - sample 2 ...\n",
      "\n",
      "91 genes used for training ...\n",
      "\n",
      "0.3505 fragments longer than 600 ...\n",
      "\n",
      "Start training for condition c2 - sample 3 ...\n",
      "\n",
      "4 genes used for training ...\n",
      "\n",
      "0.546 fragments longer than 600 ...\n",
      "\n",
      "Start training for condition c2 - sample 4 ...\n",
      "\n",
      "11 genes used for training ...\n",
      "\n",
      "0.1694 fragments longer than 600 ...\n",
      "\n",
      "Calculate APA events ...\n",
      "\n"
     ]
    },
    {
     "name": "stdout",
     "output_type": "stream",
     "text": [
      "[1] FALSE\n"
     ]
    },
    {
     "name": "stderr",
     "output_type": "stream",
     "text": [
      "Writing results for 4253 genes ...\n",
      "\n",
      "Writing BED for 4253 genes ...\n",
      "\n"
     ]
    },
    {
     "data": {
      "text/html": [
       "0"
      ],
      "text/latex": [
       "0"
      ],
      "text/markdown": [
       "0"
      ],
      "text/plain": [
       "[1] 0"
      ]
     },
     "metadata": {},
     "output_type": "display_data"
    }
   ],
   "source": [
    "call_mapper(\"IN-PV_sALSvsCTRL\", \"IN-PV_sALS_pseudoB.bam\", control_bams)"
   ]
  },
  {
   "cell_type": "code",
   "execution_count": 110,
   "id": "bdb9a896-47b0-4af8-a310-8d1ee257f214",
   "metadata": {},
   "outputs": [
    {
     "data": {
      "text/html": [
       "<style>\n",
       ".list-inline {list-style: none; margin:0; padding: 0}\n",
       ".list-inline>li {display: inline-block}\n",
       ".list-inline>li:not(:last-child)::after {content: \"\\00b7\"; padding: 0 .5ex}\n",
       "</style>\n",
       "<ol class=list-inline><li>'/data1/APA/Paul_ALS_Data/bams_in/subscelltype_bamfiles/IN-PV/sALSnoFTLD3_CTfiltered.bam'</li><li>'/data1/APA/Paul_ALS_Data/bams_in/subscelltype_bamfiles/IN-PV/sALSnoFTLD4_5_CTfiltered.bam'</li><li>'/data1/APA/Paul_ALS_Data/bams_in/subscelltype_bamfiles/IN-PV/sALSnoFTLD8_CTfiltered.bam'</li></ol>\n"
      ],
      "text/latex": [
       "\\begin{enumerate*}\n",
       "\\item '/data1/APA/Paul\\_ALS\\_Data/bams\\_in/subscelltype\\_bamfiles/IN-PV/sALSnoFTLD3\\_CTfiltered.bam'\n",
       "\\item '/data1/APA/Paul\\_ALS\\_Data/bams\\_in/subscelltype\\_bamfiles/IN-PV/sALSnoFTLD4\\_5\\_CTfiltered.bam'\n",
       "\\item '/data1/APA/Paul\\_ALS\\_Data/bams\\_in/subscelltype\\_bamfiles/IN-PV/sALSnoFTLD8\\_CTfiltered.bam'\n",
       "\\end{enumerate*}\n"
      ],
      "text/markdown": [
       "1. '/data1/APA/Paul_ALS_Data/bams_in/subscelltype_bamfiles/IN-PV/sALSnoFTLD3_CTfiltered.bam'\n",
       "2. '/data1/APA/Paul_ALS_Data/bams_in/subscelltype_bamfiles/IN-PV/sALSnoFTLD4_5_CTfiltered.bam'\n",
       "3. '/data1/APA/Paul_ALS_Data/bams_in/subscelltype_bamfiles/IN-PV/sALSnoFTLD8_CTfiltered.bam'\n",
       "\n",
       "\n"
      ],
      "text/plain": [
       "[1] \"/data1/APA/Paul_ALS_Data/bams_in/subscelltype_bamfiles/IN-PV/sALSnoFTLD3_CTfiltered.bam\"  \n",
       "[2] \"/data1/APA/Paul_ALS_Data/bams_in/subscelltype_bamfiles/IN-PV/sALSnoFTLD4_5_CTfiltered.bam\"\n",
       "[3] \"/data1/APA/Paul_ALS_Data/bams_in/subscelltype_bamfiles/IN-PV/sALSnoFTLD8_CTfiltered.bam\"  "
      ]
     },
     "metadata": {},
     "output_type": "display_data"
    }
   ],
   "source": [
    "sALS_bams"
   ]
  },
  {
   "cell_type": "code",
   "execution_count": 119,
   "id": "5fe9ed70-bffc-4140-b8c7-bd59a63a7d0c",
   "metadata": {},
   "outputs": [],
   "source": [
    "## lets do it with IN-SST\n",
    "setwd('../IN-SST/')\n",
    "bamfiles = list.files(pattern = \"*.bam$\")\n",
    "control_bams <- as.vector(paste0(root,\"IN-SST/\",bamfiles[which(startsWith(bamfiles, \"CTRL\"))]))\n",
    "C9ALS_bams <- as.vector(paste0(root,\"IN-SST/\",bamfiles[which(startsWith(bamfiles, \"C9ALS\"))]))\n",
    "sALS_bams <- as.vector(paste0(root,\"IN-SST/\",bamfiles[which(startsWith(bamfiles, \"sALSnoFTLD\"))]))"
   ]
  },
  {
   "cell_type": "code",
   "execution_count": 116,
   "id": "dca8c4ad-d43b-4325-b851-aa104a9ddf1a",
   "metadata": {
    "collapsed": true,
    "jupyter": {
     "outputs_hidden": true
    },
    "tags": []
   },
   "outputs": [
    {
     "name": "stderr",
     "output_type": "stream",
     "text": [
      "Prepare reference genome ...\n",
      "\n",
      "Import genomic features from the file as a GRanges object ... \n",
      "OK\n",
      "\n",
      "Prepare the 'metadata' data frame ... \n",
      "OK\n",
      "\n",
      "Make the TxDb object ... \n",
      "Warning message in .get_cds_IDX(mcols0$type, mcols0$phase):\n",
      "“The \"phase\" metadata column contains non-NA values for features of type\n",
      "  stop_codon. This information was ignored.”\n",
      "OK\n",
      "\n",
      "Sequence levels in GTF:\n",
      "\n"
     ]
    },
    {
     "name": "stdout",
     "output_type": "stream",
     "text": [
      " [1] \"chr1\"  \"chr2\"  \"chr3\"  \"chr4\"  \"chr5\"  \"chr6\"  \"chr7\"  \"chr8\"  \"chr9\" \n",
      "[10] \"chr10\" \"chr11\" \"chr12\" \"chr13\" \"chr14\" \"chr15\" \"chr16\" \"chr17\" \"chr18\"\n",
      "[19] \"chr19\" \"chr20\" \"chr21\" \"chr22\" \"chrX\"  \"chrY\"  \"chrM\" \n"
     ]
    },
    {
     "name": "stderr",
     "output_type": "stream",
     "text": [
      "Prepare PAS annotation ...\n",
      "\n",
      "16707 genes!\n",
      "\n",
      "Start training for condition c1 - sample 1 ...\n",
      "\n",
      "28 genes used for training ...\n",
      "\n",
      "0.1587 fragments longer than 600 ...\n",
      "\n",
      "Start training for condition c1 - sample 2 ...\n",
      "\n",
      "88 genes used for training ...\n",
      "\n",
      "0.2057 fragments longer than 600 ...\n",
      "\n",
      "Start training for condition c1 - sample 3 ...\n",
      "\n",
      "14 genes used for training ...\n",
      "\n",
      "0.306 fragments longer than 600 ...\n",
      "\n",
      "Start training for condition c1 - sample 4 ...\n",
      "\n",
      "67 genes used for training ...\n",
      "\n",
      "0.1085 fragments longer than 600 ...\n",
      "\n",
      "Start training for condition c1 - sample 5 ...\n",
      "\n",
      "25 genes used for training ...\n",
      "\n",
      "0.3604 fragments longer than 600 ...\n",
      "\n",
      "Start training for condition c1 - sample 6 ...\n",
      "\n",
      "5 genes used for training ...\n",
      "\n",
      "0.5047 fragments longer than 600 ...\n",
      "\n",
      "Start training for condition c2 - sample 1 ...\n",
      "\n",
      "7 genes used for training ...\n",
      "\n",
      "0.1367 fragments longer than 600 ...\n",
      "\n",
      "Start training for condition c2 - sample 2 ...\n",
      "\n",
      "93 genes used for training ...\n",
      "\n",
      "0.5724 fragments longer than 600 ...\n",
      "\n",
      "Start training for condition c2 - sample 3 ...\n",
      "\n",
      "71 genes used for training ...\n",
      "\n",
      "0.3604 fragments longer than 600 ...\n",
      "\n",
      "Start training for condition c2 - sample 4 ...\n",
      "\n",
      "37 genes used for training ...\n",
      "\n",
      "0.5241 fragments longer than 600 ...\n",
      "\n",
      "Start training for condition c2 - sample 5 ...\n",
      "\n",
      "31 genes used for training ...\n",
      "\n",
      "0.2281 fragments longer than 600 ...\n",
      "\n",
      "Calculate APA events ...\n",
      "\n"
     ]
    },
    {
     "name": "stdout",
     "output_type": "stream",
     "text": [
      "[1] FALSE\n"
     ]
    },
    {
     "name": "stderr",
     "output_type": "stream",
     "text": [
      "Writing results for 6432 genes ...\n",
      "\n",
      "Writing BED for 6432 genes ...\n",
      "\n"
     ]
    },
    {
     "data": {
      "text/html": [
       "0"
      ],
      "text/latex": [
       "0"
      ],
      "text/markdown": [
       "0"
      ],
      "text/plain": [
       "[1] 0"
      ]
     },
     "metadata": {},
     "output_type": "display_data"
    }
   ],
   "source": [
    "call_mapper(\"IN-SST_C9ALSvsCTRL\", C9ALS_bams, control_bams)"
   ]
  },
  {
   "cell_type": "code",
   "execution_count": 121,
   "id": "ae91602f-956c-42d2-be01-8dfaa8b4ad33",
   "metadata": {
    "collapsed": true,
    "jupyter": {
     "outputs_hidden": true
    },
    "tags": []
   },
   "outputs": [
    {
     "name": "stderr",
     "output_type": "stream",
     "text": [
      "Warning message in dir.create(output_dir, recursive = T):\n",
      "“'/data1/APA/Paul_ALS_Data/bams_in/subscelltype_bamfiles/Mapper_outs/IN-SST_sALSvsCTRL' already exists”\n",
      "Prepare reference genome ...\n",
      "\n",
      "Import genomic features from the file as a GRanges object ... \n",
      "OK\n",
      "\n",
      "Prepare the 'metadata' data frame ... \n",
      "OK\n",
      "\n",
      "Make the TxDb object ... \n",
      "Warning message in .get_cds_IDX(mcols0$type, mcols0$phase):\n",
      "“The \"phase\" metadata column contains non-NA values for features of type\n",
      "  stop_codon. This information was ignored.”\n",
      "OK\n",
      "\n",
      "Sequence levels in GTF:\n",
      "\n"
     ]
    },
    {
     "name": "stdout",
     "output_type": "stream",
     "text": [
      " [1] \"chr1\"  \"chr2\"  \"chr3\"  \"chr4\"  \"chr5\"  \"chr6\"  \"chr7\"  \"chr8\"  \"chr9\" \n",
      "[10] \"chr10\" \"chr11\" \"chr12\" \"chr13\" \"chr14\" \"chr15\" \"chr16\" \"chr17\" \"chr18\"\n",
      "[19] \"chr19\" \"chr20\" \"chr21\" \"chr22\" \"chrX\"  \"chrY\"  \"chrM\" \n"
     ]
    },
    {
     "name": "stderr",
     "output_type": "stream",
     "text": [
      "Prepare PAS annotation ...\n",
      "\n",
      "16707 genes!\n",
      "\n",
      "Start training for condition c1 - sample 1 ...\n",
      "\n",
      "45 genes used for training ...\n",
      "\n",
      "0.1322 fragments longer than 600 ...\n",
      "\n",
      "Start training for condition c1 - sample 2 ...\n",
      "\n",
      "49 genes used for training ...\n",
      "\n",
      "0.1106 fragments longer than 600 ...\n",
      "\n",
      "Start training for condition c2 - sample 1 ...\n",
      "\n",
      "7 genes used for training ...\n",
      "\n",
      "0.1367 fragments longer than 600 ...\n",
      "\n",
      "Start training for condition c2 - sample 2 ...\n",
      "\n",
      "93 genes used for training ...\n",
      "\n",
      "0.5724 fragments longer than 600 ...\n",
      "\n",
      "Start training for condition c2 - sample 3 ...\n",
      "\n",
      "71 genes used for training ...\n",
      "\n",
      "0.3604 fragments longer than 600 ...\n",
      "\n",
      "Start training for condition c2 - sample 4 ...\n",
      "\n",
      "37 genes used for training ...\n",
      "\n",
      "0.5241 fragments longer than 600 ...\n",
      "\n",
      "Start training for condition c2 - sample 5 ...\n",
      "\n",
      "31 genes used for training ...\n",
      "\n",
      "0.2281 fragments longer than 600 ...\n",
      "\n",
      "Calculate APA events ...\n",
      "\n"
     ]
    },
    {
     "name": "stdout",
     "output_type": "stream",
     "text": [
      "[1] FALSE\n"
     ]
    },
    {
     "name": "stderr",
     "output_type": "stream",
     "text": [
      "Writing results for 5022 genes ...\n",
      "\n",
      "Writing BED for 5022 genes ...\n",
      "\n"
     ]
    },
    {
     "data": {
      "text/html": [
       "0"
      ],
      "text/latex": [
       "0"
      ],
      "text/markdown": [
       "0"
      ],
      "text/plain": [
       "[1] 0"
      ]
     },
     "metadata": {},
     "output_type": "display_data"
    }
   ],
   "source": [
    "call_mapper(\"IN-SST_sALSvsCTRL\", sALS_bams, control_bams)"
   ]
  },
  {
   "cell_type": "code",
   "execution_count": 132,
   "id": "798e67a8-a92b-40fe-81ea-17b306d14c2c",
   "metadata": {},
   "outputs": [],
   "source": [
    "## lets do it with IN-VIP\n",
    "setwd('../IN-VIP/')\n",
    "bamfiles = list.files(pattern = \"*.bam$\")\n",
    "control_bams <- as.vector(paste0(root,\"IN-VIP/\",bamfiles[which(startsWith(bamfiles, \"CTRL\"))]))\n",
    "C9ALS_bams <- as.vector(paste0(root,\"IN-VIP/\",bamfiles[which(startsWith(bamfiles, \"C9ALS\"))]))\n",
    "sALS_bams <- as.vector(paste0(root,\"IN-VIP/\",bamfiles[which(startsWith(bamfiles, \"sALSnoFTLD\"))]))"
   ]
  },
  {
   "cell_type": "code",
   "execution_count": 133,
   "id": "d4794b8a-7f11-4983-9c1d-4c7950004390",
   "metadata": {
    "collapsed": true,
    "jupyter": {
     "outputs_hidden": true
    },
    "tags": []
   },
   "outputs": [
    {
     "name": "stderr",
     "output_type": "stream",
     "text": [
      "Warning message in dir.create(output_dir, recursive = T):\n",
      "“'/data1/APA/Paul_ALS_Data/bams_in/subscelltype_bamfiles/Mapper_outs/IN-VIP_C9ALSvsCTRL' already exists”\n",
      "Prepare reference genome ...\n",
      "\n",
      "Import genomic features from the file as a GRanges object ... \n",
      "OK\n",
      "\n",
      "Prepare the 'metadata' data frame ... \n",
      "OK\n",
      "\n",
      "Make the TxDb object ... \n",
      "Warning message in .get_cds_IDX(mcols0$type, mcols0$phase):\n",
      "“The \"phase\" metadata column contains non-NA values for features of type\n",
      "  stop_codon. This information was ignored.”\n",
      "OK\n",
      "\n",
      "Sequence levels in GTF:\n",
      "\n"
     ]
    },
    {
     "name": "stdout",
     "output_type": "stream",
     "text": [
      " [1] \"chr1\"  \"chr2\"  \"chr3\"  \"chr4\"  \"chr5\"  \"chr6\"  \"chr7\"  \"chr8\"  \"chr9\" \n",
      "[10] \"chr10\" \"chr11\" \"chr12\" \"chr13\" \"chr14\" \"chr15\" \"chr16\" \"chr17\" \"chr18\"\n",
      "[19] \"chr19\" \"chr20\" \"chr21\" \"chr22\" \"chrX\"  \"chrY\"  \"chrM\" \n"
     ]
    },
    {
     "name": "stderr",
     "output_type": "stream",
     "text": [
      "Prepare PAS annotation ...\n",
      "\n",
      "16707 genes!\n",
      "\n",
      "Start training for condition c1 - sample 1 ...\n",
      "\n",
      "114 genes used for training ...\n",
      "\n",
      "0.192 fragments longer than 600 ...\n",
      "\n",
      "Start training for condition c1 - sample 2 ...\n",
      "\n",
      "3 genes used for training ...\n",
      "\n",
      "0.1688 fragments longer than 600 ...\n",
      "\n",
      "Start training for condition c1 - sample 3 ...\n",
      "\n",
      "98 genes used for training ...\n",
      "\n",
      "0.0934 fragments longer than 600 ...\n",
      "\n",
      "Start training for condition c1 - sample 4 ...\n",
      "\n",
      "29 genes used for training ...\n",
      "\n",
      "0.2929 fragments longer than 600 ...\n",
      "\n",
      "Start training for condition c1 - sample 5 ...\n",
      "\n",
      "26 genes used for training ...\n",
      "\n",
      "0.5385 fragments longer than 600 ...\n",
      "\n",
      "Start training for condition c2 - sample 1 ...\n",
      "\n",
      "115 genes used for training ...\n",
      "\n",
      "0.3345 fragments longer than 600 ...\n",
      "\n",
      "Start training for condition c2 - sample 2 ...\n",
      "\n",
      "23 genes used for training ...\n",
      "\n",
      "0.6669 fragments longer than 600 ...\n",
      "\n",
      "Start training for condition c2 - sample 3 ...\n",
      "\n",
      "5 genes used for training ...\n",
      "\n",
      "0.2945 fragments longer than 600 ...\n",
      "\n",
      "Start training for condition c2 - sample 4 ...\n",
      "\n",
      "96 genes used for training ...\n",
      "\n",
      "0.1836 fragments longer than 600 ...\n",
      "\n",
      "Calculate APA events ...\n",
      "\n"
     ]
    },
    {
     "name": "stdout",
     "output_type": "stream",
     "text": [
      "[1] FALSE\n"
     ]
    },
    {
     "name": "stderr",
     "output_type": "stream",
     "text": [
      "Writing results for 7381 genes ...\n",
      "\n",
      "Writing BED for 7381 genes ...\n",
      "\n"
     ]
    },
    {
     "data": {
      "text/html": [
       "0"
      ],
      "text/latex": [
       "0"
      ],
      "text/markdown": [
       "0"
      ],
      "text/plain": [
       "[1] 0"
      ]
     },
     "metadata": {},
     "output_type": "display_data"
    }
   ],
   "source": [
    "call_mapper(\"IN-VIP_C9ALSvsCTRL\", C9ALS_bams, control_bams)"
   ]
  },
  {
   "cell_type": "code",
   "execution_count": 134,
   "id": "bb50e96f-ddcd-4f4c-b79d-533c36706d7a",
   "metadata": {
    "collapsed": true,
    "jupyter": {
     "outputs_hidden": true
    },
    "tags": []
   },
   "outputs": [
    {
     "name": "stderr",
     "output_type": "stream",
     "text": [
      "Prepare reference genome ...\n",
      "\n",
      "Import genomic features from the file as a GRanges object ... \n",
      "OK\n",
      "\n",
      "Prepare the 'metadata' data frame ... \n",
      "OK\n",
      "\n",
      "Make the TxDb object ... \n",
      "Warning message in .get_cds_IDX(mcols0$type, mcols0$phase):\n",
      "“The \"phase\" metadata column contains non-NA values for features of type\n",
      "  stop_codon. This information was ignored.”\n",
      "OK\n",
      "\n",
      "Sequence levels in GTF:\n",
      "\n"
     ]
    },
    {
     "name": "stdout",
     "output_type": "stream",
     "text": [
      " [1] \"chr1\"  \"chr2\"  \"chr3\"  \"chr4\"  \"chr5\"  \"chr6\"  \"chr7\"  \"chr8\"  \"chr9\" \n",
      "[10] \"chr10\" \"chr11\" \"chr12\" \"chr13\" \"chr14\" \"chr15\" \"chr16\" \"chr17\" \"chr18\"\n",
      "[19] \"chr19\" \"chr20\" \"chr21\" \"chr22\" \"chrX\"  \"chrY\"  \"chrM\" \n"
     ]
    },
    {
     "name": "stderr",
     "output_type": "stream",
     "text": [
      "Prepare PAS annotation ...\n",
      "\n",
      "16707 genes!\n",
      "\n",
      "Start training for condition c1 - sample 1 ...\n",
      "\n",
      "40 genes used for training ...\n",
      "\n",
      "0.1469 fragments longer than 600 ...\n",
      "\n",
      "Start training for condition c2 - sample 1 ...\n",
      "\n",
      "115 genes used for training ...\n",
      "\n",
      "0.3345 fragments longer than 600 ...\n",
      "\n",
      "Start training for condition c2 - sample 2 ...\n",
      "\n",
      "23 genes used for training ...\n",
      "\n",
      "0.6669 fragments longer than 600 ...\n",
      "\n",
      "Start training for condition c2 - sample 3 ...\n",
      "\n",
      "5 genes used for training ...\n",
      "\n",
      "0.2945 fragments longer than 600 ...\n",
      "\n",
      "Start training for condition c2 - sample 4 ...\n",
      "\n",
      "96 genes used for training ...\n",
      "\n",
      "0.1836 fragments longer than 600 ...\n",
      "\n",
      "Calculate APA events ...\n",
      "\n"
     ]
    },
    {
     "name": "stdout",
     "output_type": "stream",
     "text": [
      "[1] FALSE\n"
     ]
    },
    {
     "name": "stderr",
     "output_type": "stream",
     "text": [
      "Writing results for 2836 genes ...\n",
      "\n",
      "Writing BED for 2836 genes ...\n",
      "\n"
     ]
    },
    {
     "data": {
      "text/html": [
       "0"
      ],
      "text/latex": [
       "0"
      ],
      "text/markdown": [
       "0"
      ],
      "text/plain": [
       "[1] 0"
      ]
     },
     "metadata": {},
     "output_type": "display_data"
    }
   ],
   "source": [
    "call_mapper(\"IN-VIP_sALSvsCTRL\", sALS_bams, control_bams)"
   ]
  },
  {
   "cell_type": "code",
   "execution_count": 154,
   "id": "82105bd6-6e56-4535-967c-a0d75ce602b3",
   "metadata": {},
   "outputs": [],
   "source": [
    "## lets do it with IN-VIP\n",
    "setwd('../L2-3/')\n",
    "bamfiles = list.files(pattern = \"*.bam$\")\n",
    "control_bams <- as.vector(paste0(root,\"L2-3/\",bamfiles[which(startsWith(bamfiles, \"CTRL\"))]))\n",
    "C9ALS_bams <- as.vector(paste0(root,\"L2-3/\",bamfiles[which(startsWith(bamfiles, \"C9ALS\"))]))\n",
    "sALS_bams <- as.vector(paste0(root,\"L2-3/\",bamfiles[which(startsWith(bamfiles, \"sALSnoFTLD\"))]))"
   ]
  },
  {
   "cell_type": "code",
   "execution_count": 155,
   "id": "66854626-5820-4501-88e1-bd78d6ba28cc",
   "metadata": {},
   "outputs": [
    {
     "data": {
      "text/html": [
       "<style>\n",
       ".list-inline {list-style: none; margin:0; padding: 0}\n",
       ".list-inline>li {display: inline-block}\n",
       ".list-inline>li:not(:last-child)::after {content: \"\\00b7\"; padding: 0 .5ex}\n",
       "</style>\n",
       "<ol class=list-inline><li>'/data1/APA/Paul_ALS_Data/bams_in/subscelltype_bamfiles/L2-3/sALSnoFTLD34_CTfiltered.bam'</li><li>'/data1/APA/Paul_ALS_Data/bams_in/subscelltype_bamfiles/L2-3/sALSnoFTLD58_CTfiltered.bam'</li></ol>\n"
      ],
      "text/latex": [
       "\\begin{enumerate*}\n",
       "\\item '/data1/APA/Paul\\_ALS\\_Data/bams\\_in/subscelltype\\_bamfiles/L2-3/sALSnoFTLD34\\_CTfiltered.bam'\n",
       "\\item '/data1/APA/Paul\\_ALS\\_Data/bams\\_in/subscelltype\\_bamfiles/L2-3/sALSnoFTLD58\\_CTfiltered.bam'\n",
       "\\end{enumerate*}\n"
      ],
      "text/markdown": [
       "1. '/data1/APA/Paul_ALS_Data/bams_in/subscelltype_bamfiles/L2-3/sALSnoFTLD34_CTfiltered.bam'\n",
       "2. '/data1/APA/Paul_ALS_Data/bams_in/subscelltype_bamfiles/L2-3/sALSnoFTLD58_CTfiltered.bam'\n",
       "\n",
       "\n"
      ],
      "text/plain": [
       "[1] \"/data1/APA/Paul_ALS_Data/bams_in/subscelltype_bamfiles/L2-3/sALSnoFTLD34_CTfiltered.bam\"\n",
       "[2] \"/data1/APA/Paul_ALS_Data/bams_in/subscelltype_bamfiles/L2-3/sALSnoFTLD58_CTfiltered.bam\""
      ]
     },
     "metadata": {},
     "output_type": "display_data"
    }
   ],
   "source": [
    "sALS_bams"
   ]
  },
  {
   "cell_type": "code",
   "execution_count": 149,
   "id": "1e6913da-ff4e-4bf5-bda5-5b062fb62a42",
   "metadata": {
    "collapsed": true,
    "jupyter": {
     "outputs_hidden": true
    },
    "tags": []
   },
   "outputs": [
    {
     "name": "stderr",
     "output_type": "stream",
     "text": [
      "Warning message in dir.create(output_dir, recursive = T):\n",
      "“'/data1/APA/Paul_ALS_Data/bams_in/subscelltype_bamfiles/Mapper_outs/L2-3_C9ALSvsCTRL' already exists”\n",
      "Prepare reference genome ...\n",
      "\n",
      "Import genomic features from the file as a GRanges object ... \n",
      "OK\n",
      "\n",
      "Prepare the 'metadata' data frame ... \n",
      "OK\n",
      "\n",
      "Make the TxDb object ... \n",
      "Warning message in .get_cds_IDX(mcols0$type, mcols0$phase):\n",
      "“The \"phase\" metadata column contains non-NA values for features of type\n",
      "  stop_codon. This information was ignored.”\n",
      "OK\n",
      "\n",
      "Sequence levels in GTF:\n",
      "\n"
     ]
    },
    {
     "name": "stdout",
     "output_type": "stream",
     "text": [
      " [1] \"chr1\"  \"chr2\"  \"chr3\"  \"chr4\"  \"chr5\"  \"chr6\"  \"chr7\"  \"chr8\"  \"chr9\" \n",
      "[10] \"chr10\" \"chr11\" \"chr12\" \"chr13\" \"chr14\" \"chr15\" \"chr16\" \"chr17\" \"chr18\"\n",
      "[19] \"chr19\" \"chr20\" \"chr21\" \"chr22\" \"chrX\"  \"chrY\"  \"chrM\" \n"
     ]
    },
    {
     "name": "stderr",
     "output_type": "stream",
     "text": [
      "Prepare PAS annotation ...\n",
      "\n",
      "16707 genes!\n",
      "\n",
      "Start training for condition c1 - sample 1 ...\n",
      "\n",
      "166 genes used for training ...\n",
      "\n",
      "0.195 fragments longer than 600 ...\n",
      "\n",
      "Start training for condition c1 - sample 2 ...\n",
      "\n",
      "178 genes used for training ...\n",
      "\n",
      "0.4306 fragments longer than 600 ...\n",
      "\n",
      "Start training for condition c2 - sample 1 ...\n",
      "\n",
      "119 genes used for training ...\n",
      "\n",
      "0.4895 fragments longer than 600 ...\n",
      "\n",
      "Start training for condition c2 - sample 2 ...\n",
      "\n",
      "157 genes used for training ...\n",
      "\n",
      "0.3111 fragments longer than 600 ...\n",
      "\n",
      "Calculate APA events ...\n",
      "\n"
     ]
    },
    {
     "name": "stdout",
     "output_type": "stream",
     "text": [
      "[1] FALSE\n"
     ]
    },
    {
     "name": "stderr",
     "output_type": "stream",
     "text": [
      "Writing results for 8735 genes ...\n",
      "\n",
      "Writing BED for 8735 genes ...\n",
      "\n"
     ]
    },
    {
     "data": {
      "text/html": [
       "0"
      ],
      "text/latex": [
       "0"
      ],
      "text/markdown": [
       "0"
      ],
      "text/plain": [
       "[1] 0"
      ]
     },
     "metadata": {},
     "output_type": "display_data"
    }
   ],
   "source": [
    "call_mapper(\"L2-3_C9ALSvsCTRL\", C9ALS_bams, control_bams)"
   ]
  },
  {
   "cell_type": "code",
   "execution_count": 156,
   "id": "bb78f679-5382-4c5d-917f-3dc355ba0299",
   "metadata": {
    "collapsed": true,
    "jupyter": {
     "outputs_hidden": true
    },
    "tags": []
   },
   "outputs": [
    {
     "name": "stderr",
     "output_type": "stream",
     "text": [
      "Warning message in dir.create(output_dir, recursive = T):\n",
      "“'/data1/APA/Paul_ALS_Data/bams_in/subscelltype_bamfiles/Mapper_outs/L2-3_sALSvsCTRL' already exists”\n",
      "Prepare reference genome ...\n",
      "\n",
      "Import genomic features from the file as a GRanges object ... \n",
      "OK\n",
      "\n",
      "Prepare the 'metadata' data frame ... \n",
      "OK\n",
      "\n",
      "Make the TxDb object ... \n",
      "Warning message in .get_cds_IDX(mcols0$type, mcols0$phase):\n",
      "“The \"phase\" metadata column contains non-NA values for features of type\n",
      "  stop_codon. This information was ignored.”\n",
      "OK\n",
      "\n",
      "Sequence levels in GTF:\n",
      "\n"
     ]
    },
    {
     "name": "stdout",
     "output_type": "stream",
     "text": [
      " [1] \"chr1\"  \"chr2\"  \"chr3\"  \"chr4\"  \"chr5\"  \"chr6\"  \"chr7\"  \"chr8\"  \"chr9\" \n",
      "[10] \"chr10\" \"chr11\" \"chr12\" \"chr13\" \"chr14\" \"chr15\" \"chr16\" \"chr17\" \"chr18\"\n",
      "[19] \"chr19\" \"chr20\" \"chr21\" \"chr22\" \"chrX\"  \"chrY\"  \"chrM\" \n"
     ]
    },
    {
     "name": "stderr",
     "output_type": "stream",
     "text": [
      "Prepare PAS annotation ...\n",
      "\n",
      "16707 genes!\n",
      "\n",
      "Start training for condition c1 - sample 1 ...\n",
      "\n",
      "27 genes used for training ...\n",
      "\n",
      "0.2654 fragments longer than 600 ...\n",
      "\n",
      "Start training for condition c1 - sample 2 ...\n",
      "\n",
      "4 genes used for training ...\n",
      "\n",
      "0.2151 fragments longer than 600 ...\n",
      "\n",
      "Start training for condition c2 - sample 1 ...\n",
      "\n",
      "119 genes used for training ...\n",
      "\n",
      "0.4895 fragments longer than 600 ...\n",
      "\n",
      "Start training for condition c2 - sample 2 ...\n",
      "\n",
      "157 genes used for training ...\n",
      "\n",
      "0.3111 fragments longer than 600 ...\n",
      "\n",
      "Calculate APA events ...\n",
      "\n"
     ]
    },
    {
     "name": "stdout",
     "output_type": "stream",
     "text": [
      "[1] FALSE\n"
     ]
    },
    {
     "name": "stderr",
     "output_type": "stream",
     "text": [
      "Writing results for 2183 genes ...\n",
      "\n",
      "Writing BED for 2183 genes ...\n",
      "\n"
     ]
    },
    {
     "data": {
      "text/html": [
       "0"
      ],
      "text/latex": [
       "0"
      ],
      "text/markdown": [
       "0"
      ],
      "text/plain": [
       "[1] 0"
      ]
     },
     "metadata": {},
     "output_type": "display_data"
    }
   ],
   "source": [
    "call_mapper(\"L2-3_sALSvsCTRL\", sALS_bams, control_bams)"
   ]
  },
  {
   "cell_type": "code",
   "execution_count": 160,
   "id": "50deb289-f6b4-4034-88cf-d3598bcc1eee",
   "metadata": {},
   "outputs": [],
   "source": [
    "## lets do it with IL4\n",
    "setwd('../L4/')\n",
    "bamfiles = list.files(pattern = \"*.bam$\")\n",
    "control_bams <- as.vector(paste0(root,\"L4/\",bamfiles[which(startsWith(bamfiles, \"CTRL\"))]))\n",
    "C9ALS_bams <- as.vector(paste0(root,\"L4/\",bamfiles[which(startsWith(bamfiles, \"C9ALS\"))]))\n",
    "sALS_bams <- as.vector(paste0(root,\"L4/\",bamfiles[which(startsWith(bamfiles, \"sALSnoFTLD\"))]))"
   ]
  },
  {
   "cell_type": "code",
   "execution_count": 166,
   "id": "2aa0a58a-5a9b-4aba-92dc-9fa0fea00082",
   "metadata": {},
   "outputs": [],
   "source": [
    "C9ALS_bams <- c(\"C9ALSFTLD_ALL_CTfiltered.bam\", \"C9ALSnoFTLD1_CTfiltered.bam\", \"C9ALSnoFTLD3_CTfiltered.bam\")"
   ]
  },
  {
   "cell_type": "code",
   "execution_count": 167,
   "id": "6ba21ad8-36a9-4374-bcb1-1f35e4ec0d67",
   "metadata": {
    "collapsed": true,
    "jupyter": {
     "outputs_hidden": true
    },
    "tags": []
   },
   "outputs": [
    {
     "name": "stderr",
     "output_type": "stream",
     "text": [
      "Warning message in dir.create(output_dir, recursive = T):\n",
      "“'/data1/APA/Paul_ALS_Data/bams_in/subscelltype_bamfiles/Mapper_outs/L4_C9ALSvsCTRL' already exists”\n",
      "Prepare reference genome ...\n",
      "\n",
      "Import genomic features from the file as a GRanges object ... \n",
      "OK\n",
      "\n",
      "Prepare the 'metadata' data frame ... \n",
      "OK\n",
      "\n",
      "Make the TxDb object ... \n",
      "Warning message in .get_cds_IDX(mcols0$type, mcols0$phase):\n",
      "“The \"phase\" metadata column contains non-NA values for features of type\n",
      "  stop_codon. This information was ignored.”\n",
      "OK\n",
      "\n",
      "Sequence levels in GTF:\n",
      "\n"
     ]
    },
    {
     "name": "stdout",
     "output_type": "stream",
     "text": [
      " [1] \"chr1\"  \"chr2\"  \"chr3\"  \"chr4\"  \"chr5\"  \"chr6\"  \"chr7\"  \"chr8\"  \"chr9\" \n",
      "[10] \"chr10\" \"chr11\" \"chr12\" \"chr13\" \"chr14\" \"chr15\" \"chr16\" \"chr17\" \"chr18\"\n",
      "[19] \"chr19\" \"chr20\" \"chr21\" \"chr22\" \"chrX\"  \"chrY\"  \"chrM\" \n"
     ]
    },
    {
     "name": "stderr",
     "output_type": "stream",
     "text": [
      "Prepare PAS annotation ...\n",
      "\n",
      "16707 genes!\n",
      "\n",
      "Start training for condition c1 - sample 1 ...\n",
      "\n",
      "113 genes used for training ...\n",
      "\n",
      "0.2148 fragments longer than 600 ...\n",
      "\n",
      "Start training for condition c1 - sample 2 ...\n",
      "\n",
      "29 genes used for training ...\n",
      "\n",
      "0.4764 fragments longer than 600 ...\n",
      "\n",
      "Start training for condition c1 - sample 3 ...\n",
      "\n",
      "23 genes used for training ...\n",
      "\n",
      "0.5223 fragments longer than 600 ...\n",
      "\n",
      "Start training for condition c2 - sample 1 ...\n",
      "\n",
      "78 genes used for training ...\n",
      "\n",
      "0.3564 fragments longer than 600 ...\n",
      "\n",
      "Calculate APA events ...\n",
      "\n"
     ]
    },
    {
     "name": "stdout",
     "output_type": "stream",
     "text": [
      "[1] FALSE\n"
     ]
    },
    {
     "name": "stderr",
     "output_type": "stream",
     "text": [
      "Writing results for 3968 genes ...\n",
      "\n",
      "Writing BED for 3968 genes ...\n",
      "\n"
     ]
    },
    {
     "data": {
      "text/html": [
       "0"
      ],
      "text/latex": [
       "0"
      ],
      "text/markdown": [
       "0"
      ],
      "text/plain": [
       "[1] 0"
      ]
     },
     "metadata": {},
     "output_type": "display_data"
    }
   ],
   "source": [
    "call_mapper(\"L4_C9ALSvsCTRL\", C9ALS_bams, control_bams)"
   ]
  },
  {
   "cell_type": "code",
   "execution_count": 169,
   "id": "0177f131-deb6-4572-8dd2-e4040640240a",
   "metadata": {
    "collapsed": true,
    "jupyter": {
     "outputs_hidden": true
    },
    "tags": []
   },
   "outputs": [
    {
     "name": "stderr",
     "output_type": "stream",
     "text": [
      "Warning message in dir.create(output_dir, recursive = T):\n",
      "“'/data1/APA/Paul_ALS_Data/bams_in/subscelltype_bamfiles/Mapper_outs/L4_sALSvsCTRL' already exists”\n",
      "Prepare reference genome ...\n",
      "\n",
      "Import genomic features from the file as a GRanges object ... \n",
      "OK\n",
      "\n",
      "Prepare the 'metadata' data frame ... \n",
      "OK\n",
      "\n",
      "Make the TxDb object ... \n",
      "Warning message in .get_cds_IDX(mcols0$type, mcols0$phase):\n",
      "“The \"phase\" metadata column contains non-NA values for features of type\n",
      "  stop_codon. This information was ignored.”\n",
      "OK\n",
      "\n",
      "Sequence levels in GTF:\n",
      "\n"
     ]
    },
    {
     "name": "stdout",
     "output_type": "stream",
     "text": [
      " [1] \"chr1\"  \"chr2\"  \"chr3\"  \"chr4\"  \"chr5\"  \"chr6\"  \"chr7\"  \"chr8\"  \"chr9\" \n",
      "[10] \"chr10\" \"chr11\" \"chr12\" \"chr13\" \"chr14\" \"chr15\" \"chr16\" \"chr17\" \"chr18\"\n",
      "[19] \"chr19\" \"chr20\" \"chr21\" \"chr22\" \"chrX\"  \"chrY\"  \"chrM\" \n"
     ]
    },
    {
     "name": "stderr",
     "output_type": "stream",
     "text": [
      "Prepare PAS annotation ...\n",
      "\n",
      "16707 genes!\n",
      "\n",
      "Start training for condition c1 - sample 1 ...\n",
      "\n",
      "31 genes used for training ...\n",
      "\n",
      "0.3051 fragments longer than 600 ...\n",
      "\n",
      "Start training for condition c2 - sample 1 ...\n",
      "\n",
      "78 genes used for training ...\n",
      "\n",
      "0.3564 fragments longer than 600 ...\n",
      "\n",
      "Calculate APA events ...\n",
      "\n"
     ]
    },
    {
     "name": "stdout",
     "output_type": "stream",
     "text": [
      "[1] FALSE\n"
     ]
    },
    {
     "name": "stderr",
     "output_type": "stream",
     "text": [
      "Writing results for 1698 genes ...\n",
      "\n",
      "Writing BED for 1698 genes ...\n",
      "\n"
     ]
    },
    {
     "data": {
      "text/html": [
       "0"
      ],
      "text/latex": [
       "0"
      ],
      "text/markdown": [
       "0"
      ],
      "text/plain": [
       "[1] 0"
      ]
     },
     "metadata": {},
     "output_type": "display_data"
    }
   ],
   "source": [
    "call_mapper(\"L4_sALSvsCTRL\", 'sALS_all_CTfiltered.bam', control_bams)"
   ]
  },
  {
   "cell_type": "code",
   "execution_count": 170,
   "id": "212e0ca2-dafd-4a14-bf17-9493d284ec51",
   "metadata": {
    "collapsed": true,
    "jupyter": {
     "outputs_hidden": true
    },
    "tags": []
   },
   "outputs": [
    {
     "name": "stderr",
     "output_type": "stream",
     "text": [
      "Prepare reference genome ...\n",
      "\n",
      "Import genomic features from the file as a GRanges object ... \n",
      "OK\n",
      "\n",
      "Prepare the 'metadata' data frame ... \n",
      "OK\n",
      "\n",
      "Make the TxDb object ... \n",
      "Warning message in .get_cds_IDX(mcols0$type, mcols0$phase):\n",
      "“The \"phase\" metadata column contains non-NA values for features of type\n",
      "  stop_codon. This information was ignored.”\n",
      "OK\n",
      "\n",
      "Sequence levels in GTF:\n",
      "\n"
     ]
    },
    {
     "name": "stdout",
     "output_type": "stream",
     "text": [
      " [1] \"chr1\"  \"chr2\"  \"chr3\"  \"chr4\"  \"chr5\"  \"chr6\"  \"chr7\"  \"chr8\"  \"chr9\" \n",
      "[10] \"chr10\" \"chr11\" \"chr12\" \"chr13\" \"chr14\" \"chr15\" \"chr16\" \"chr17\" \"chr18\"\n",
      "[19] \"chr19\" \"chr20\" \"chr21\" \"chr22\" \"chrX\"  \"chrY\"  \"chrM\" \n"
     ]
    },
    {
     "name": "stderr",
     "output_type": "stream",
     "text": [
      "Prepare PAS annotation ...\n",
      "\n",
      "16707 genes!\n",
      "\n",
      "Start training for condition c1 - sample 1 ...\n",
      "\n",
      "14 genes used for training ...\n",
      "\n",
      "0.3856 fragments longer than 600 ...\n",
      "\n",
      "Start training for condition c2 - sample 1 ...\n",
      "\n",
      "36 genes used for training ...\n",
      "\n",
      "0.429 fragments longer than 600 ...\n",
      "\n",
      "Calculate APA events ...\n",
      "\n"
     ]
    },
    {
     "name": "stdout",
     "output_type": "stream",
     "text": [
      "[1] FALSE\n"
     ]
    },
    {
     "name": "stderr",
     "output_type": "stream",
     "text": [
      "Writing results for 954 genes ...\n",
      "\n",
      "Writing BED for 954 genes ...\n",
      "\n"
     ]
    },
    {
     "data": {
      "text/html": [
       "0"
      ],
      "text/latex": [
       "0"
      ],
      "text/markdown": [
       "0"
      ],
      "text/plain": [
       "[1] 0"
      ]
     },
     "metadata": {},
     "output_type": "display_data"
    }
   ],
   "source": [
    "setwd(\"../L5-6/\")\n",
    "call_mapper(\"L5-6_C9ALSvsCTRL\", \"C9ALS_all_CTfiltered.bam\", \"CTRL_All_CTfiltered.bam\")"
   ]
  },
  {
   "cell_type": "code",
   "execution_count": null,
   "id": "f8e1481b-5554-4604-8cc9-6ecff51c61cc",
   "metadata": {
    "collapsed": true,
    "jupyter": {
     "outputs_hidden": true
    },
    "tags": []
   },
   "outputs": [
    {
     "name": "stderr",
     "output_type": "stream",
     "text": [
      "Warning message in dir.create(output_dir, recursive = T):\n",
      "“'/data1/APA/Paul_ALS_Data/bams_in/subscelltype_bamfiles/Mapper_outs/L5-6_C9ALSvsCTRL' already exists”\n",
      "Prepare reference genome ...\n",
      "\n",
      "Import genomic features from the file as a GRanges object ... \n",
      "OK\n",
      "\n",
      "Prepare the 'metadata' data frame ... \n",
      "OK\n",
      "\n",
      "Make the TxDb object ... \n",
      "Warning message in .get_cds_IDX(mcols0$type, mcols0$phase):\n",
      "“The \"phase\" metadata column contains non-NA values for features of type\n",
      "  stop_codon. This information was ignored.”\n",
      "OK\n",
      "\n",
      "Sequence levels in GTF:\n",
      "\n"
     ]
    },
    {
     "name": "stdout",
     "output_type": "stream",
     "text": [
      " [1] \"chr1\"  \"chr2\"  \"chr3\"  \"chr4\"  \"chr5\"  \"chr6\"  \"chr7\"  \"chr8\"  \"chr9\" \n",
      "[10] \"chr10\" \"chr11\" \"chr12\" \"chr13\" \"chr14\" \"chr15\" \"chr16\" \"chr17\" \"chr18\"\n",
      "[19] \"chr19\" \"chr20\" \"chr21\" \"chr22\" \"chrX\"  \"chrY\"  \"chrM\" \n"
     ]
    },
    {
     "name": "stderr",
     "output_type": "stream",
     "text": [
      "Prepare PAS annotation ...\n",
      "\n",
      "16707 genes!\n",
      "\n",
      "Start training for condition c1 - sample 1 ...\n",
      "\n",
      "11 genes used for training ...\n",
      "\n",
      "0.385 fragments longer than 600 ...\n",
      "\n",
      "Start training for condition c2 - sample 1 ...\n",
      "\n",
      "36 genes used for training ...\n",
      "\n",
      "0.429 fragments longer than 600 ...\n",
      "\n",
      "Calculate APA events ...\n",
      "\n"
     ]
    }
   ],
   "source": [
    "call_mapper(\"L5-6_C9ALSvsCTRL\", \"sALS_ALL_CTfiltered.bam\", \"CTRL_All_CTfiltered.bam\")"
   ]
  },
  {
   "cell_type": "code",
   "execution_count": 172,
   "id": "d1de2180-837f-435b-b544-42d3e8d41863",
   "metadata": {
    "collapsed": true,
    "jupyter": {
     "outputs_hidden": true
    },
    "tags": []
   },
   "outputs": [
    {
     "name": "stderr",
     "output_type": "stream",
     "text": [
      "Prepare reference genome ...\n",
      "\n",
      "Import genomic features from the file as a GRanges object ... \n",
      "OK\n",
      "\n",
      "Prepare the 'metadata' data frame ... \n",
      "OK\n",
      "\n",
      "Make the TxDb object ... \n",
      "Warning message in .get_cds_IDX(mcols0$type, mcols0$phase):\n",
      "“The \"phase\" metadata column contains non-NA values for features of type\n",
      "  stop_codon. This information was ignored.”\n",
      "OK\n",
      "\n",
      "Sequence levels in GTF:\n",
      "\n"
     ]
    },
    {
     "name": "stdout",
     "output_type": "stream",
     "text": [
      " [1] \"chr1\"  \"chr2\"  \"chr3\"  \"chr4\"  \"chr5\"  \"chr6\"  \"chr7\"  \"chr8\"  \"chr9\" \n",
      "[10] \"chr10\" \"chr11\" \"chr12\" \"chr13\" \"chr14\" \"chr15\" \"chr16\" \"chr17\" \"chr18\"\n",
      "[19] \"chr19\" \"chr20\" \"chr21\" \"chr22\" \"chrX\"  \"chrY\"  \"chrM\" \n"
     ]
    },
    {
     "name": "stderr",
     "output_type": "stream",
     "text": [
      "Prepare PAS annotation ...\n",
      "\n",
      "16707 genes!\n",
      "\n",
      "Start training for condition c1 - sample 1 ...\n",
      "\n",
      "9 genes used for training ...\n",
      "\n",
      "0.515 fragments longer than 600 ...\n",
      "\n",
      "Start training for condition c2 - sample 1 ...\n",
      "\n",
      "2 genes used for training ...\n",
      "\n",
      "0.0887 fragments longer than 600 ...\n",
      "\n",
      "Calculate APA events ...\n",
      "\n"
     ]
    },
    {
     "name": "stdout",
     "output_type": "stream",
     "text": [
      "[1] FALSE\n"
     ]
    },
    {
     "name": "stderr",
     "output_type": "stream",
     "text": [
      "Writing results for 151 genes ...\n",
      "\n",
      "Writing BED for 151 genes ...\n",
      "\n"
     ]
    },
    {
     "data": {
      "text/html": [
       "0"
      ],
      "text/latex": [
       "0"
      ],
      "text/markdown": [
       "0"
      ],
      "text/plain": [
       "[1] 0"
      ]
     },
     "metadata": {},
     "output_type": "display_data"
    }
   ],
   "source": [
    "setwd('../L5-6-CC/')\n",
    "call_mapper(\"L5-6-CC_C9ALSvsCTRL\", \"C9ALS_All_CTfiltered.bam\", \"CTRL_ALL_CTfiltered.bam\")"
   ]
  },
  {
   "cell_type": "code",
   "execution_count": 173,
   "id": "ffe9f731-9667-4380-8134-d9361e68ccca",
   "metadata": {},
   "outputs": [
    {
     "name": "stderr",
     "output_type": "stream",
     "text": [
      "Prepare reference genome ...\n",
      "\n",
      "Import genomic features from the file as a GRanges object ... \n",
      "OK\n",
      "\n",
      "Prepare the 'metadata' data frame ... \n",
      "OK\n",
      "\n",
      "Make the TxDb object ... \n",
      "Warning message in .get_cds_IDX(mcols0$type, mcols0$phase):\n",
      "“The \"phase\" metadata column contains non-NA values for features of type\n",
      "  stop_codon. This information was ignored.”\n",
      "OK\n",
      "\n",
      "Sequence levels in GTF:\n",
      "\n"
     ]
    },
    {
     "name": "stdout",
     "output_type": "stream",
     "text": [
      " [1] \"chr1\"  \"chr2\"  \"chr3\"  \"chr4\"  \"chr5\"  \"chr6\"  \"chr7\"  \"chr8\"  \"chr9\" \n",
      "[10] \"chr10\" \"chr11\" \"chr12\" \"chr13\" \"chr14\" \"chr15\" \"chr16\" \"chr17\" \"chr18\"\n",
      "[19] \"chr19\" \"chr20\" \"chr21\" \"chr22\" \"chrX\"  \"chrY\"  \"chrM\" \n"
     ]
    },
    {
     "name": "stderr",
     "output_type": "stream",
     "text": [
      "Prepare PAS annotation ...\n",
      "\n",
      "16707 genes!\n",
      "\n",
      "Start training for condition c1 - sample 1 ...\n",
      "\n",
      "7 genes used for training ...\n",
      "\n",
      "0.1632 fragments longer than 600 ...\n",
      "\n",
      "Start training for condition c2 - sample 1 ...\n",
      "\n",
      "2 genes used for training ...\n",
      "\n",
      "0.0887 fragments longer than 600 ...\n",
      "\n",
      "Calculate APA events ...\n",
      "\n"
     ]
    },
    {
     "name": "stdout",
     "output_type": "stream",
     "text": [
      "[1] FALSE\n"
     ]
    },
    {
     "name": "stderr",
     "output_type": "stream",
     "text": [
      "Writing results for 106 genes ...\n",
      "\n",
      "Writing BED for 106 genes ...\n",
      "\n"
     ]
    },
    {
     "data": {
      "text/html": [
       "0"
      ],
      "text/latex": [
       "0"
      ],
      "text/markdown": [
       "0"
      ],
      "text/plain": [
       "[1] 0"
      ]
     },
     "metadata": {},
     "output_type": "display_data"
    }
   ],
   "source": [
    "call_mapper(\"L5-6-CC_sALSvsCTRL\", \"sALS_ALL_CTfiltered.bam\", \"CTRL_ALL_CTfiltered.bam\")"
   ]
  },
  {
   "cell_type": "code",
   "execution_count": 181,
   "id": "d1e94667-2851-4a8a-995e-26d9ca2fad8b",
   "metadata": {},
   "outputs": [],
   "source": [
    "## lets do it with IL4\n",
    "setwd('../Microglia/')\n",
    "bamfiles = list.files(pattern = \"*.bam$\")\n",
    "control_bams <- as.vector(paste0(root,\"Microglia/\",bamfiles[which(startsWith(bamfiles, \"CTRL\"))]))\n",
    "C9ALS_bams <- as.vector(paste0(root,\"Microglia/\",bamfiles[which(startsWith(bamfiles, \"C9ALS\"))]))\n",
    "sALS_bams <- as.vector(paste0(root,\"Microglia/\",bamfiles[which(startsWith(bamfiles, \"sALSnoFTLD\"))]))"
   ]
  },
  {
   "cell_type": "code",
   "execution_count": 182,
   "id": "3457dced-51eb-4a2d-a699-e8ac3b1fff28",
   "metadata": {},
   "outputs": [
    {
     "data": {
      "text/html": [
       "<style>\n",
       ".list-inline {list-style: none; margin:0; padding: 0}\n",
       ".list-inline>li {display: inline-block}\n",
       ".list-inline>li:not(:last-child)::after {content: \"\\00b7\"; padding: 0 .5ex}\n",
       "</style>\n",
       "<ol class=list-inline><li>'/data1/APA/Paul_ALS_Data/bams_in/subscelltype_bamfiles/Microglia/sALSnoFTLD3_CTfiltered.bam'</li><li>'/data1/APA/Paul_ALS_Data/bams_in/subscelltype_bamfiles/Microglia/sALSnoFTLD45_CTfiltered.bam'</li><li>'/data1/APA/Paul_ALS_Data/bams_in/subscelltype_bamfiles/Microglia/sALSnoFTLD8_CTfiltered.bam'</li></ol>\n"
      ],
      "text/latex": [
       "\\begin{enumerate*}\n",
       "\\item '/data1/APA/Paul\\_ALS\\_Data/bams\\_in/subscelltype\\_bamfiles/Microglia/sALSnoFTLD3\\_CTfiltered.bam'\n",
       "\\item '/data1/APA/Paul\\_ALS\\_Data/bams\\_in/subscelltype\\_bamfiles/Microglia/sALSnoFTLD45\\_CTfiltered.bam'\n",
       "\\item '/data1/APA/Paul\\_ALS\\_Data/bams\\_in/subscelltype\\_bamfiles/Microglia/sALSnoFTLD8\\_CTfiltered.bam'\n",
       "\\end{enumerate*}\n"
      ],
      "text/markdown": [
       "1. '/data1/APA/Paul_ALS_Data/bams_in/subscelltype_bamfiles/Microglia/sALSnoFTLD3_CTfiltered.bam'\n",
       "2. '/data1/APA/Paul_ALS_Data/bams_in/subscelltype_bamfiles/Microglia/sALSnoFTLD45_CTfiltered.bam'\n",
       "3. '/data1/APA/Paul_ALS_Data/bams_in/subscelltype_bamfiles/Microglia/sALSnoFTLD8_CTfiltered.bam'\n",
       "\n",
       "\n"
      ],
      "text/plain": [
       "[1] \"/data1/APA/Paul_ALS_Data/bams_in/subscelltype_bamfiles/Microglia/sALSnoFTLD3_CTfiltered.bam\" \n",
       "[2] \"/data1/APA/Paul_ALS_Data/bams_in/subscelltype_bamfiles/Microglia/sALSnoFTLD45_CTfiltered.bam\"\n",
       "[3] \"/data1/APA/Paul_ALS_Data/bams_in/subscelltype_bamfiles/Microglia/sALSnoFTLD8_CTfiltered.bam\" "
      ]
     },
     "metadata": {},
     "output_type": "display_data"
    }
   ],
   "source": [
    "sALS_bams"
   ]
  },
  {
   "cell_type": "code",
   "execution_count": 178,
   "id": "bc2a6da3-7a66-49f4-9a3c-6a0fc49ea414",
   "metadata": {
    "collapsed": true,
    "jupyter": {
     "outputs_hidden": true
    },
    "tags": []
   },
   "outputs": [
    {
     "name": "stderr",
     "output_type": "stream",
     "text": [
      "Prepare reference genome ...\n",
      "\n",
      "Import genomic features from the file as a GRanges object ... \n",
      "OK\n",
      "\n",
      "Prepare the 'metadata' data frame ... \n",
      "OK\n",
      "\n",
      "Make the TxDb object ... \n",
      "Warning message in .get_cds_IDX(mcols0$type, mcols0$phase):\n",
      "“The \"phase\" metadata column contains non-NA values for features of type\n",
      "  stop_codon. This information was ignored.”\n",
      "OK\n",
      "\n",
      "Sequence levels in GTF:\n",
      "\n"
     ]
    },
    {
     "name": "stdout",
     "output_type": "stream",
     "text": [
      " [1] \"chr1\"  \"chr2\"  \"chr3\"  \"chr4\"  \"chr5\"  \"chr6\"  \"chr7\"  \"chr8\"  \"chr9\" \n",
      "[10] \"chr10\" \"chr11\" \"chr12\" \"chr13\" \"chr14\" \"chr15\" \"chr16\" \"chr17\" \"chr18\"\n",
      "[19] \"chr19\" \"chr20\" \"chr21\" \"chr22\" \"chrX\"  \"chrY\"  \"chrM\" \n"
     ]
    },
    {
     "name": "stderr",
     "output_type": "stream",
     "text": [
      "Prepare PAS annotation ...\n",
      "\n",
      "16707 genes!\n",
      "\n",
      "Start training for condition c1 - sample 1 ...\n",
      "\n",
      "46 genes used for training ...\n",
      "\n",
      "0.3962 fragments longer than 600 ...\n",
      "\n",
      "Start training for condition c1 - sample 2 ...\n",
      "\n",
      "55 genes used for training ...\n",
      "\n",
      "0.5335 fragments longer than 600 ...\n",
      "\n",
      "Start training for condition c1 - sample 3 ...\n",
      "\n",
      "99 genes used for training ...\n",
      "\n",
      "0.5749 fragments longer than 600 ...\n",
      "\n",
      "Start training for condition c1 - sample 4 ...\n",
      "\n",
      "133 genes used for training ...\n",
      "\n",
      "0.3033 fragments longer than 600 ...\n",
      "\n",
      "Start training for condition c1 - sample 5 ...\n",
      "\n",
      "15 genes used for training ...\n",
      "\n",
      "0.657 fragments longer than 600 ...\n",
      "\n",
      "Start training for condition c1 - sample 6 ...\n",
      "\n",
      "47 genes used for training ...\n",
      "\n",
      "0.6193 fragments longer than 600 ...\n",
      "\n",
      "Start training for condition c2 - sample 1 ...\n",
      "\n",
      "63 genes used for training ...\n",
      "\n",
      "0.6245 fragments longer than 600 ...\n",
      "\n",
      "Start training for condition c2 - sample 2 ...\n",
      "\n",
      "261 genes used for training ...\n",
      "\n",
      "0.5402 fragments longer than 600 ...\n",
      "\n",
      "Start training for condition c2 - sample 3 ...\n",
      "\n",
      "124 genes used for training ...\n",
      "\n",
      "0.5801 fragments longer than 600 ...\n",
      "\n",
      "Start training for condition c2 - sample 4 ...\n",
      "\n",
      "115 genes used for training ...\n",
      "\n",
      "0.5429 fragments longer than 600 ...\n",
      "\n",
      "Start training for condition c2 - sample 5 ...\n",
      "\n",
      "24 genes used for training ...\n",
      "\n",
      "0.5851 fragments longer than 600 ...\n",
      "\n",
      "Start training for condition c2 - sample 6 ...\n",
      "\n",
      "29 genes used for training ...\n",
      "\n",
      "0.7034 fragments longer than 600 ...\n",
      "\n",
      "Calculate APA events ...\n",
      "\n"
     ]
    },
    {
     "name": "stdout",
     "output_type": "stream",
     "text": [
      "[1] FALSE\n"
     ]
    },
    {
     "name": "stderr",
     "output_type": "stream",
     "text": [
      "Writing results for 6917 genes ...\n",
      "\n",
      "Writing BED for 6917 genes ...\n",
      "\n"
     ]
    },
    {
     "data": {
      "text/html": [
       "0"
      ],
      "text/latex": [
       "0"
      ],
      "text/markdown": [
       "0"
      ],
      "text/plain": [
       "[1] 0"
      ]
     },
     "metadata": {},
     "output_type": "display_data"
    }
   ],
   "source": [
    "call_mapper(\"Microglia_C9ALSvsCTRL\", C9ALS_bams, control_bams)"
   ]
  },
  {
   "cell_type": "code",
   "execution_count": 183,
   "id": "bcc60c1c-a133-473c-8191-04282d1f898f",
   "metadata": {
    "collapsed": true,
    "jupyter": {
     "outputs_hidden": true
    },
    "tags": []
   },
   "outputs": [
    {
     "name": "stderr",
     "output_type": "stream",
     "text": [
      "Warning message in dir.create(output_dir, recursive = T):\n",
      "“'/data1/APA/Paul_ALS_Data/bams_in/subscelltype_bamfiles/Mapper_outs/Microglia_sALSvsCTRL' already exists”\n",
      "Prepare reference genome ...\n",
      "\n",
      "Import genomic features from the file as a GRanges object ... \n",
      "OK\n",
      "\n",
      "Prepare the 'metadata' data frame ... \n",
      "OK\n",
      "\n",
      "Make the TxDb object ... \n",
      "Warning message in .get_cds_IDX(mcols0$type, mcols0$phase):\n",
      "“The \"phase\" metadata column contains non-NA values for features of type\n",
      "  stop_codon. This information was ignored.”\n",
      "OK\n",
      "\n",
      "Sequence levels in GTF:\n",
      "\n"
     ]
    },
    {
     "name": "stdout",
     "output_type": "stream",
     "text": [
      " [1] \"chr1\"  \"chr2\"  \"chr3\"  \"chr4\"  \"chr5\"  \"chr6\"  \"chr7\"  \"chr8\"  \"chr9\" \n",
      "[10] \"chr10\" \"chr11\" \"chr12\" \"chr13\" \"chr14\" \"chr15\" \"chr16\" \"chr17\" \"chr18\"\n",
      "[19] \"chr19\" \"chr20\" \"chr21\" \"chr22\" \"chrX\"  \"chrY\"  \"chrM\" \n"
     ]
    },
    {
     "name": "stderr",
     "output_type": "stream",
     "text": [
      "Prepare PAS annotation ...\n",
      "\n",
      "16707 genes!\n",
      "\n",
      "Start training for condition c1 - sample 1 ...\n",
      "\n",
      "120 genes used for training ...\n",
      "\n",
      "0.4136 fragments longer than 600 ...\n",
      "\n",
      "Start training for condition c1 - sample 2 ...\n",
      "\n",
      "72 genes used for training ...\n",
      "\n",
      "0.4664 fragments longer than 600 ...\n",
      "\n",
      "Start training for condition c1 - sample 3 ...\n",
      "\n",
      "78 genes used for training ...\n",
      "\n",
      "0.4185 fragments longer than 600 ...\n",
      "\n",
      "Start training for condition c2 - sample 1 ...\n",
      "\n",
      "63 genes used for training ...\n",
      "\n",
      "0.6245 fragments longer than 600 ...\n",
      "\n",
      "Start training for condition c2 - sample 2 ...\n",
      "\n",
      "261 genes used for training ...\n",
      "\n",
      "0.5402 fragments longer than 600 ...\n",
      "\n",
      "Start training for condition c2 - sample 3 ...\n",
      "\n",
      "124 genes used for training ...\n",
      "\n",
      "0.5801 fragments longer than 600 ...\n",
      "\n",
      "Start training for condition c2 - sample 4 ...\n",
      "\n",
      "115 genes used for training ...\n",
      "\n",
      "0.5429 fragments longer than 600 ...\n",
      "\n",
      "Start training for condition c2 - sample 5 ...\n",
      "\n",
      "24 genes used for training ...\n",
      "\n",
      "0.5851 fragments longer than 600 ...\n",
      "\n",
      "Start training for condition c2 - sample 6 ...\n",
      "\n",
      "29 genes used for training ...\n",
      "\n",
      "0.7034 fragments longer than 600 ...\n",
      "\n",
      "Calculate APA events ...\n",
      "\n"
     ]
    },
    {
     "name": "stdout",
     "output_type": "stream",
     "text": [
      "[1] FALSE\n"
     ]
    },
    {
     "name": "stderr",
     "output_type": "stream",
     "text": [
      "Writing results for 6241 genes ...\n",
      "\n",
      "Writing BED for 6241 genes ...\n",
      "\n"
     ]
    },
    {
     "data": {
      "text/html": [
       "0"
      ],
      "text/latex": [
       "0"
      ],
      "text/markdown": [
       "0"
      ],
      "text/plain": [
       "[1] 0"
      ]
     },
     "metadata": {},
     "output_type": "display_data"
    }
   ],
   "source": [
    "call_mapper(\"Microglia_sALSvsCTRL\", sALS_bams, control_bams)"
   ]
  },
  {
   "cell_type": "code",
   "execution_count": 12,
   "id": "12248edc-5d04-49b7-a686-98b5f338a302",
   "metadata": {},
   "outputs": [],
   "source": [
    "## lets do it with IL4\n",
    "setwd(\"../Oligodendrocytes/\")\n",
    "bamfiles = list.files(pattern = \"*.bam$\")\n",
    "control_bams <- as.vector(paste0(root,\"Oligodendrocytes/\",bamfiles[which(startsWith(bamfiles, \"CTRL\"))]))\n",
    "C9ALS_bams <- as.vector(paste0(root,\"Oligodendrocytes/\",bamfiles[which(startsWith(bamfiles, \"C9ALS\"))]))\n",
    "sALS_bams <- as.vector(paste0(root,\"Oligodendrocytes/\",bamfiles[which(startsWith(bamfiles, \"sALSnoFTLD\"))]))"
   ]
  },
  {
   "cell_type": "code",
   "execution_count": 13,
   "id": "c8fbf6ae-a53b-42f1-8eaa-a4d8eea6d4a5",
   "metadata": {},
   "outputs": [
    {
     "data": {
      "text/html": [
       "<style>\n",
       ".list-inline {list-style: none; margin:0; padding: 0}\n",
       ".list-inline>li {display: inline-block}\n",
       ".list-inline>li:not(:last-child)::after {content: \"\\00b7\"; padding: 0 .5ex}\n",
       "</style>\n",
       "<ol class=list-inline><li>'/data1/APA/Paul_ALS_Data/bams_in/subscelltype_bamfiles/Oligodendrocytes/sALSnoFTLD3_CTfiltered.bam'</li><li>'/data1/APA/Paul_ALS_Data/bams_in/subscelltype_bamfiles/Oligodendrocytes/sALSnoFTLD4_CTfiltered.bam'</li><li>'/data1/APA/Paul_ALS_Data/bams_in/subscelltype_bamfiles/Oligodendrocytes/sALSnoFTLD58_CTfiltered.bam'</li></ol>\n"
      ],
      "text/latex": [
       "\\begin{enumerate*}\n",
       "\\item '/data1/APA/Paul\\_ALS\\_Data/bams\\_in/subscelltype\\_bamfiles/Oligodendrocytes/sALSnoFTLD3\\_CTfiltered.bam'\n",
       "\\item '/data1/APA/Paul\\_ALS\\_Data/bams\\_in/subscelltype\\_bamfiles/Oligodendrocytes/sALSnoFTLD4\\_CTfiltered.bam'\n",
       "\\item '/data1/APA/Paul\\_ALS\\_Data/bams\\_in/subscelltype\\_bamfiles/Oligodendrocytes/sALSnoFTLD58\\_CTfiltered.bam'\n",
       "\\end{enumerate*}\n"
      ],
      "text/markdown": [
       "1. '/data1/APA/Paul_ALS_Data/bams_in/subscelltype_bamfiles/Oligodendrocytes/sALSnoFTLD3_CTfiltered.bam'\n",
       "2. '/data1/APA/Paul_ALS_Data/bams_in/subscelltype_bamfiles/Oligodendrocytes/sALSnoFTLD4_CTfiltered.bam'\n",
       "3. '/data1/APA/Paul_ALS_Data/bams_in/subscelltype_bamfiles/Oligodendrocytes/sALSnoFTLD58_CTfiltered.bam'\n",
       "\n",
       "\n"
      ],
      "text/plain": [
       "[1] \"/data1/APA/Paul_ALS_Data/bams_in/subscelltype_bamfiles/Oligodendrocytes/sALSnoFTLD3_CTfiltered.bam\" \n",
       "[2] \"/data1/APA/Paul_ALS_Data/bams_in/subscelltype_bamfiles/Oligodendrocytes/sALSnoFTLD4_CTfiltered.bam\" \n",
       "[3] \"/data1/APA/Paul_ALS_Data/bams_in/subscelltype_bamfiles/Oligodendrocytes/sALSnoFTLD58_CTfiltered.bam\""
      ]
     },
     "metadata": {},
     "output_type": "display_data"
    }
   ],
   "source": [
    "sALS_bams"
   ]
  },
  {
   "cell_type": "code",
   "execution_count": null,
   "id": "c337202b-ac77-4746-a563-9f5817c9880c",
   "metadata": {
    "collapsed": true,
    "jupyter": {
     "outputs_hidden": true
    },
    "tags": []
   },
   "outputs": [
    {
     "name": "stderr",
     "output_type": "stream",
     "text": [
      "Prepare reference genome ...\n",
      "\n",
      "Import genomic features from the file as a GRanges object ... \n",
      "OK\n",
      "\n",
      "Prepare the 'metadata' data frame ... \n",
      "OK\n",
      "\n",
      "Make the TxDb object ... \n",
      "Warning message in .get_cds_IDX(mcols0$type, mcols0$phase):\n",
      "“The \"phase\" metadata column contains non-NA values for features of type\n",
      "  stop_codon. This information was ignored.”\n",
      "OK\n",
      "\n",
      "Sequence levels in GTF:\n",
      "\n"
     ]
    },
    {
     "name": "stdout",
     "output_type": "stream",
     "text": [
      " [1] \"chr1\"  \"chr2\"  \"chr3\"  \"chr4\"  \"chr5\"  \"chr6\"  \"chr7\"  \"chr8\"  \"chr9\" \n",
      "[10] \"chr10\" \"chr11\" \"chr12\" \"chr13\" \"chr14\" \"chr15\" \"chr16\" \"chr17\" \"chr18\"\n",
      "[19] \"chr19\" \"chr20\" \"chr21\" \"chr22\" \"chrX\"  \"chrY\"  \"chrM\" \n"
     ]
    },
    {
     "name": "stderr",
     "output_type": "stream",
     "text": [
      "Prepare PAS annotation ...\n",
      "\n",
      "16707 genes!\n",
      "\n",
      "Start training for condition c1 - sample 1 ...\n",
      "\n",
      "118 genes used for training ...\n",
      "\n",
      "0.1664 fragments longer than 600 ...\n",
      "\n",
      "Start training for condition c1 - sample 2 ...\n",
      "\n",
      "165 genes used for training ...\n",
      "\n",
      "0.1871 fragments longer than 600 ...\n",
      "\n",
      "Start training for condition c1 - sample 3 ...\n",
      "\n",
      "378 genes used for training ...\n",
      "\n",
      "0.3058 fragments longer than 600 ...\n",
      "\n",
      "Start training for condition c1 - sample 4 ...\n",
      "\n",
      "280 genes used for training ...\n",
      "\n",
      "0.1337 fragments longer than 600 ...\n",
      "\n",
      "Start training for condition c1 - sample 5 ...\n",
      "\n",
      "167 genes used for training ...\n",
      "\n",
      "0.3489 fragments longer than 600 ...\n",
      "\n",
      "Start training for condition c1 - sample 6 ...\n",
      "\n",
      "154 genes used for training ...\n",
      "\n",
      "0.3249 fragments longer than 600 ...\n",
      "\n",
      "Start training for condition c2 - sample 1 ...\n",
      "\n",
      "239 genes used for training ...\n",
      "\n",
      "0.3322 fragments longer than 600 ...\n",
      "\n",
      "Start training for condition c2 - sample 2 ...\n",
      "\n",
      "305 genes used for training ...\n",
      "\n",
      "0.3704 fragments longer than 600 ...\n",
      "\n",
      "Start training for condition c2 - sample 3 ...\n",
      "\n",
      "202 genes used for training ...\n",
      "\n",
      "0.2616 fragments longer than 600 ...\n",
      "\n",
      "Start training for condition c2 - sample 4 ...\n",
      "\n",
      "343 genes used for training ...\n",
      "\n",
      "0.3364 fragments longer than 600 ...\n",
      "\n",
      "Start training for condition c2 - sample 5 ...\n",
      "\n",
      "231 genes used for training ...\n",
      "\n",
      "0.2325 fragments longer than 600 ...\n",
      "\n",
      "Start training for condition c2 - sample 6 ...\n",
      "\n",
      "277 genes used for training ...\n",
      "\n",
      "0.2019 fragments longer than 600 ...\n",
      "\n",
      "Calculate APA events ...\n",
      "\n"
     ]
    }
   ],
   "source": [
    "call_mapper(\"Oligodendrocytes_C9ALSvsCTRL\", C9ALS_bams, control_bams)"
   ]
  },
  {
   "cell_type": "code",
   "execution_count": 17,
   "id": "911c6a97-4c65-41fa-9e9a-cdb668c2c437",
   "metadata": {
    "collapsed": true,
    "jupyter": {
     "outputs_hidden": true
    },
    "tags": []
   },
   "outputs": [
    {
     "name": "stderr",
     "output_type": "stream",
     "text": [
      "Warning message in dir.create(output_dir, recursive = T):\n",
      "“'/data1/APA/Paul_ALS_Data/bams_in/subscelltype_bamfiles/Mapper_outs/Oligodendrocytes_sALSvsCTRL' already exists”\n",
      "Prepare reference genome ...\n",
      "\n",
      "Import genomic features from the file as a GRanges object ... \n",
      "OK\n",
      "\n",
      "Prepare the 'metadata' data frame ... \n",
      "OK\n",
      "\n",
      "Make the TxDb object ... \n",
      "Warning message in .get_cds_IDX(mcols0$type, mcols0$phase):\n",
      "“The \"phase\" metadata column contains non-NA values for features of type\n",
      "  stop_codon. This information was ignored.”\n",
      "OK\n",
      "\n",
      "Sequence levels in GTF:\n",
      "\n"
     ]
    },
    {
     "name": "stdout",
     "output_type": "stream",
     "text": [
      " [1] \"chr1\"  \"chr2\"  \"chr3\"  \"chr4\"  \"chr5\"  \"chr6\"  \"chr7\"  \"chr8\"  \"chr9\" \n",
      "[10] \"chr10\" \"chr11\" \"chr12\" \"chr13\" \"chr14\" \"chr15\" \"chr16\" \"chr17\" \"chr18\"\n",
      "[19] \"chr19\" \"chr20\" \"chr21\" \"chr22\" \"chrX\"  \"chrY\"  \"chrM\" \n"
     ]
    },
    {
     "name": "stderr",
     "output_type": "stream",
     "text": [
      "Prepare PAS annotation ...\n",
      "\n",
      "16707 genes!\n",
      "\n",
      "Start training for condition c1 - sample 1 ...\n",
      "\n",
      "287 genes used for training ...\n",
      "\n",
      "0.2027 fragments longer than 600 ...\n",
      "\n",
      "Start training for condition c1 - sample 2 ...\n",
      "\n",
      "252 genes used for training ...\n",
      "\n",
      "0.2346 fragments longer than 600 ...\n",
      "\n",
      "Start training for condition c1 - sample 3 ...\n",
      "\n",
      "54 genes used for training ...\n",
      "\n",
      "0.1669 fragments longer than 600 ...\n",
      "\n",
      "Start training for condition c2 - sample 1 ...\n",
      "\n",
      "239 genes used for training ...\n",
      "\n",
      "0.3322 fragments longer than 600 ...\n",
      "\n",
      "Start training for condition c2 - sample 2 ...\n",
      "\n",
      "305 genes used for training ...\n",
      "\n",
      "0.3704 fragments longer than 600 ...\n",
      "\n",
      "Start training for condition c2 - sample 3 ...\n",
      "\n",
      "202 genes used for training ...\n",
      "\n",
      "0.2616 fragments longer than 600 ...\n",
      "\n",
      "Start training for condition c2 - sample 4 ...\n",
      "\n",
      "343 genes used for training ...\n",
      "\n",
      "0.3364 fragments longer than 600 ...\n",
      "\n",
      "Start training for condition c2 - sample 5 ...\n",
      "\n",
      "231 genes used for training ...\n",
      "\n",
      "0.2325 fragments longer than 600 ...\n",
      "\n",
      "Start training for condition c2 - sample 6 ...\n",
      "\n",
      "277 genes used for training ...\n",
      "\n",
      "0.2019 fragments longer than 600 ...\n",
      "\n",
      "Calculate APA events ...\n",
      "\n"
     ]
    },
    {
     "name": "stdout",
     "output_type": "stream",
     "text": [
      "[1] FALSE\n"
     ]
    },
    {
     "name": "stderr",
     "output_type": "stream",
     "text": [
      "Writing results for 11532 genes ...\n",
      "\n",
      "Writing BED for 11532 genes ...\n",
      "\n"
     ]
    },
    {
     "data": {
      "text/html": [
       "0"
      ],
      "text/latex": [
       "0"
      ],
      "text/markdown": [
       "0"
      ],
      "text/plain": [
       "[1] 0"
      ]
     },
     "metadata": {},
     "output_type": "display_data"
    }
   ],
   "source": [
    "call_mapper(\"Oligodendrocytes_sALSvsCTRL\", sALS_bams, control_bams)"
   ]
  },
  {
   "cell_type": "code",
   "execution_count": 25,
   "id": "fb85dd8a-db4f-45c2-a387-caefc5e80c5f",
   "metadata": {},
   "outputs": [],
   "source": [
    "## lets do it with IL4\n",
    "setwd('../OPC/')\n",
    "bamfiles = list.files(pattern = \"*.bam$\")\n",
    "control_bams <- as.vector(paste0(root,\"OPC/\",bamfiles[which(startsWith(bamfiles, \"CTRL\"))]))\n",
    "C9ALS_bams <- as.vector(paste0(root,\"OPC/\",bamfiles[which(startsWith(bamfiles, \"C9ALS\"))]))\n",
    "sALS_bams <- as.vector(paste0(root,\"OPC/\",bamfiles[which(startsWith(bamfiles, \"sALSnoFTLD\"))]))"
   ]
  },
  {
   "cell_type": "code",
   "execution_count": 21,
   "id": "3a438110-34f1-4ba0-a2c5-e973333fb8db",
   "metadata": {},
   "outputs": [
    {
     "data": {
      "text/html": [
       "<style>\n",
       ".list-inline {list-style: none; margin:0; padding: 0}\n",
       ".list-inline>li {display: inline-block}\n",
       ".list-inline>li:not(:last-child)::after {content: \"\\00b7\"; padding: 0 .5ex}\n",
       "</style>\n",
       "<ol class=list-inline><li>'/data1/APA/Paul_ALS_Data/bams_in/subscelltype_bamfiles/OPC/C9ALSFTLD1_CTfiltered.bam'</li><li>'/data1/APA/Paul_ALS_Data/bams_in/subscelltype_bamfiles/OPC/C9ALSFTLD2_CTfiltered.bam'</li><li>'/data1/APA/Paul_ALS_Data/bams_in/subscelltype_bamfiles/OPC/C9ALSFTLD3_CTfiltered.bam'</li><li>'/data1/APA/Paul_ALS_Data/bams_in/subscelltype_bamfiles/OPC/C9ALSFTLD4_CTfiltered.bam'</li><li>'/data1/APA/Paul_ALS_Data/bams_in/subscelltype_bamfiles/OPC/C9ALSnoFTLD1_CTfiltered.bam'</li><li>'/data1/APA/Paul_ALS_Data/bams_in/subscelltype_bamfiles/OPC/C9ALSnoFTLD3_CTfiltered.bam'</li></ol>\n"
      ],
      "text/latex": [
       "\\begin{enumerate*}\n",
       "\\item '/data1/APA/Paul\\_ALS\\_Data/bams\\_in/subscelltype\\_bamfiles/OPC/C9ALSFTLD1\\_CTfiltered.bam'\n",
       "\\item '/data1/APA/Paul\\_ALS\\_Data/bams\\_in/subscelltype\\_bamfiles/OPC/C9ALSFTLD2\\_CTfiltered.bam'\n",
       "\\item '/data1/APA/Paul\\_ALS\\_Data/bams\\_in/subscelltype\\_bamfiles/OPC/C9ALSFTLD3\\_CTfiltered.bam'\n",
       "\\item '/data1/APA/Paul\\_ALS\\_Data/bams\\_in/subscelltype\\_bamfiles/OPC/C9ALSFTLD4\\_CTfiltered.bam'\n",
       "\\item '/data1/APA/Paul\\_ALS\\_Data/bams\\_in/subscelltype\\_bamfiles/OPC/C9ALSnoFTLD1\\_CTfiltered.bam'\n",
       "\\item '/data1/APA/Paul\\_ALS\\_Data/bams\\_in/subscelltype\\_bamfiles/OPC/C9ALSnoFTLD3\\_CTfiltered.bam'\n",
       "\\end{enumerate*}\n"
      ],
      "text/markdown": [
       "1. '/data1/APA/Paul_ALS_Data/bams_in/subscelltype_bamfiles/OPC/C9ALSFTLD1_CTfiltered.bam'\n",
       "2. '/data1/APA/Paul_ALS_Data/bams_in/subscelltype_bamfiles/OPC/C9ALSFTLD2_CTfiltered.bam'\n",
       "3. '/data1/APA/Paul_ALS_Data/bams_in/subscelltype_bamfiles/OPC/C9ALSFTLD3_CTfiltered.bam'\n",
       "4. '/data1/APA/Paul_ALS_Data/bams_in/subscelltype_bamfiles/OPC/C9ALSFTLD4_CTfiltered.bam'\n",
       "5. '/data1/APA/Paul_ALS_Data/bams_in/subscelltype_bamfiles/OPC/C9ALSnoFTLD1_CTfiltered.bam'\n",
       "6. '/data1/APA/Paul_ALS_Data/bams_in/subscelltype_bamfiles/OPC/C9ALSnoFTLD3_CTfiltered.bam'\n",
       "\n",
       "\n"
      ],
      "text/plain": [
       "[1] \"/data1/APA/Paul_ALS_Data/bams_in/subscelltype_bamfiles/OPC/C9ALSFTLD1_CTfiltered.bam\"  \n",
       "[2] \"/data1/APA/Paul_ALS_Data/bams_in/subscelltype_bamfiles/OPC/C9ALSFTLD2_CTfiltered.bam\"  \n",
       "[3] \"/data1/APA/Paul_ALS_Data/bams_in/subscelltype_bamfiles/OPC/C9ALSFTLD3_CTfiltered.bam\"  \n",
       "[4] \"/data1/APA/Paul_ALS_Data/bams_in/subscelltype_bamfiles/OPC/C9ALSFTLD4_CTfiltered.bam\"  \n",
       "[5] \"/data1/APA/Paul_ALS_Data/bams_in/subscelltype_bamfiles/OPC/C9ALSnoFTLD1_CTfiltered.bam\"\n",
       "[6] \"/data1/APA/Paul_ALS_Data/bams_in/subscelltype_bamfiles/OPC/C9ALSnoFTLD3_CTfiltered.bam\""
      ]
     },
     "metadata": {},
     "output_type": "display_data"
    }
   ],
   "source": [
    "C9ALS_bams"
   ]
  },
  {
   "cell_type": "code",
   "execution_count": 22,
   "id": "80022d3d-9a71-473f-9892-fcbd3f07f864",
   "metadata": {
    "collapsed": true,
    "jupyter": {
     "outputs_hidden": true
    },
    "tags": []
   },
   "outputs": [
    {
     "name": "stderr",
     "output_type": "stream",
     "text": [
      "Warning message in dir.create(output_dir, recursive = T):\n",
      "“'/data1/APA/Paul_ALS_Data/bams_in/subscelltype_bamfiles/Mapper_outs/OPC_C9ALSvsCTRL' already exists”\n",
      "Prepare reference genome ...\n",
      "\n",
      "Import genomic features from the file as a GRanges object ... \n",
      "OK\n",
      "\n",
      "Prepare the 'metadata' data frame ... \n",
      "OK\n",
      "\n",
      "Make the TxDb object ... \n",
      "Warning message in .get_cds_IDX(mcols0$type, mcols0$phase):\n",
      "“The \"phase\" metadata column contains non-NA values for features of type\n",
      "  stop_codon. This information was ignored.”\n",
      "OK\n",
      "\n",
      "Sequence levels in GTF:\n",
      "\n"
     ]
    },
    {
     "name": "stdout",
     "output_type": "stream",
     "text": [
      " [1] \"chr1\"  \"chr2\"  \"chr3\"  \"chr4\"  \"chr5\"  \"chr6\"  \"chr7\"  \"chr8\"  \"chr9\" \n",
      "[10] \"chr10\" \"chr11\" \"chr12\" \"chr13\" \"chr14\" \"chr15\" \"chr16\" \"chr17\" \"chr18\"\n",
      "[19] \"chr19\" \"chr20\" \"chr21\" \"chr22\" \"chrX\"  \"chrY\"  \"chrM\" \n"
     ]
    },
    {
     "name": "stderr",
     "output_type": "stream",
     "text": [
      "Prepare PAS annotation ...\n",
      "\n",
      "16707 genes!\n",
      "\n",
      "Start training for condition c1 - sample 1 ...\n",
      "\n",
      "34 genes used for training ...\n",
      "\n",
      "0.178 fragments longer than 600 ...\n",
      "\n",
      "Start training for condition c1 - sample 2 ...\n",
      "\n",
      "40 genes used for training ...\n",
      "\n",
      "0.2217 fragments longer than 600 ...\n",
      "\n",
      "Start training for condition c1 - sample 3 ...\n",
      "\n",
      "46 genes used for training ...\n",
      "\n",
      "0.2245 fragments longer than 600 ...\n",
      "\n",
      "Start training for condition c1 - sample 4 ...\n",
      "\n",
      "152 genes used for training ...\n",
      "\n",
      "0.0957 fragments longer than 600 ...\n",
      "\n",
      "Start training for condition c1 - sample 5 ...\n",
      "\n",
      "65 genes used for training ...\n",
      "\n",
      "0.2988 fragments longer than 600 ...\n",
      "\n",
      "Start training for condition c1 - sample 6 ...\n",
      "\n",
      "32 genes used for training ...\n",
      "\n",
      "0.2708 fragments longer than 600 ...\n",
      "\n",
      "Start training for condition c2 - sample 1 ...\n",
      "\n",
      "145 genes used for training ...\n",
      "\n",
      "0.2756 fragments longer than 600 ...\n",
      "\n",
      "Start training for condition c2 - sample 2 ...\n",
      "\n",
      "243 genes used for training ...\n",
      "\n",
      "0.3062 fragments longer than 600 ...\n",
      "\n",
      "Start training for condition c2 - sample 3 ...\n",
      "\n",
      "201 genes used for training ...\n",
      "\n",
      "0.3025 fragments longer than 600 ...\n",
      "\n",
      "Start training for condition c2 - sample 4 ...\n",
      "\n",
      "258 genes used for training ...\n",
      "\n",
      "0.2142 fragments longer than 600 ...\n",
      "\n",
      "Calculate APA events ...\n",
      "\n"
     ]
    },
    {
     "name": "stdout",
     "output_type": "stream",
     "text": [
      "[1] FALSE\n"
     ]
    },
    {
     "name": "stderr",
     "output_type": "stream",
     "text": [
      "Writing results for 9774 genes ...\n",
      "\n",
      "Writing BED for 9774 genes ...\n",
      "\n"
     ]
    },
    {
     "data": {
      "text/html": [
       "0"
      ],
      "text/latex": [
       "0"
      ],
      "text/markdown": [
       "0"
      ],
      "text/plain": [
       "[1] 0"
      ]
     },
     "metadata": {},
     "output_type": "display_data"
    }
   ],
   "source": [
    "call_mapper(\"OPC_C9ALSvsCTRL\", C9ALS_bams, control_bams)"
   ]
  },
  {
   "cell_type": "code",
   "execution_count": 26,
   "id": "ec01e482-914c-41bf-aa55-2f8d8e1ebbe4",
   "metadata": {},
   "outputs": [
    {
     "data": {
      "text/html": [
       "<style>\n",
       ".list-inline {list-style: none; margin:0; padding: 0}\n",
       ".list-inline>li {display: inline-block}\n",
       ".list-inline>li:not(:last-child)::after {content: \"\\00b7\"; padding: 0 .5ex}\n",
       "</style>\n",
       "<ol class=list-inline><li>'/data1/APA/Paul_ALS_Data/bams_in/subscelltype_bamfiles/OPC/sALSnoFTLD345_CTfiltered.bam'</li><li>'/data1/APA/Paul_ALS_Data/bams_in/subscelltype_bamfiles/OPC/sALSnoFTLD8_CTfiltered.bam'</li></ol>\n"
      ],
      "text/latex": [
       "\\begin{enumerate*}\n",
       "\\item '/data1/APA/Paul\\_ALS\\_Data/bams\\_in/subscelltype\\_bamfiles/OPC/sALSnoFTLD345\\_CTfiltered.bam'\n",
       "\\item '/data1/APA/Paul\\_ALS\\_Data/bams\\_in/subscelltype\\_bamfiles/OPC/sALSnoFTLD8\\_CTfiltered.bam'\n",
       "\\end{enumerate*}\n"
      ],
      "text/markdown": [
       "1. '/data1/APA/Paul_ALS_Data/bams_in/subscelltype_bamfiles/OPC/sALSnoFTLD345_CTfiltered.bam'\n",
       "2. '/data1/APA/Paul_ALS_Data/bams_in/subscelltype_bamfiles/OPC/sALSnoFTLD8_CTfiltered.bam'\n",
       "\n",
       "\n"
      ],
      "text/plain": [
       "[1] \"/data1/APA/Paul_ALS_Data/bams_in/subscelltype_bamfiles/OPC/sALSnoFTLD345_CTfiltered.bam\"\n",
       "[2] \"/data1/APA/Paul_ALS_Data/bams_in/subscelltype_bamfiles/OPC/sALSnoFTLD8_CTfiltered.bam\"  "
      ]
     },
     "metadata": {},
     "output_type": "display_data"
    }
   ],
   "source": [
    "sALS_bams"
   ]
  },
  {
   "cell_type": "code",
   "execution_count": 27,
   "id": "b83599ba-03c1-4860-84b1-e4074bba4e9b",
   "metadata": {
    "collapsed": true,
    "jupyter": {
     "outputs_hidden": true
    },
    "tags": []
   },
   "outputs": [
    {
     "name": "stderr",
     "output_type": "stream",
     "text": [
      "Warning message in dir.create(output_dir, recursive = T):\n",
      "“'/data1/APA/Paul_ALS_Data/bams_in/subscelltype_bamfiles/Mapper_outs/OPC_sALSvsCTRL' already exists”\n",
      "Prepare reference genome ...\n",
      "\n",
      "Import genomic features from the file as a GRanges object ... \n",
      "OK\n",
      "\n",
      "Prepare the 'metadata' data frame ... \n",
      "OK\n",
      "\n",
      "Make the TxDb object ... \n",
      "Warning message in .get_cds_IDX(mcols0$type, mcols0$phase):\n",
      "“The \"phase\" metadata column contains non-NA values for features of type\n",
      "  stop_codon. This information was ignored.”\n",
      "OK\n",
      "\n",
      "Sequence levels in GTF:\n",
      "\n"
     ]
    },
    {
     "name": "stdout",
     "output_type": "stream",
     "text": [
      " [1] \"chr1\"  \"chr2\"  \"chr3\"  \"chr4\"  \"chr5\"  \"chr6\"  \"chr7\"  \"chr8\"  \"chr9\" \n",
      "[10] \"chr10\" \"chr11\" \"chr12\" \"chr13\" \"chr14\" \"chr15\" \"chr16\" \"chr17\" \"chr18\"\n",
      "[19] \"chr19\" \"chr20\" \"chr21\" \"chr22\" \"chrX\"  \"chrY\"  \"chrM\" \n"
     ]
    },
    {
     "name": "stderr",
     "output_type": "stream",
     "text": [
      "Prepare PAS annotation ...\n",
      "\n",
      "16707 genes!\n",
      "\n",
      "Start training for condition c1 - sample 1 ...\n",
      "\n",
      "106 genes used for training ...\n",
      "\n",
      "0.213 fragments longer than 600 ...\n",
      "\n",
      "Start training for condition c1 - sample 2 ...\n",
      "\n",
      "100 genes used for training ...\n",
      "\n",
      "0.1988 fragments longer than 600 ...\n",
      "\n",
      "Start training for condition c2 - sample 1 ...\n",
      "\n",
      "145 genes used for training ...\n",
      "\n",
      "0.2756 fragments longer than 600 ...\n",
      "\n",
      "Start training for condition c2 - sample 2 ...\n",
      "\n",
      "243 genes used for training ...\n",
      "\n",
      "0.3062 fragments longer than 600 ...\n",
      "\n",
      "Start training for condition c2 - sample 3 ...\n",
      "\n",
      "201 genes used for training ...\n",
      "\n",
      "0.3025 fragments longer than 600 ...\n",
      "\n",
      "Start training for condition c2 - sample 4 ...\n",
      "\n",
      "258 genes used for training ...\n",
      "\n",
      "0.2142 fragments longer than 600 ...\n",
      "\n",
      "Calculate APA events ...\n",
      "\n"
     ]
    },
    {
     "name": "stdout",
     "output_type": "stream",
     "text": [
      "[1] FALSE\n"
     ]
    },
    {
     "name": "stderr",
     "output_type": "stream",
     "text": [
      "Writing results for 9013 genes ...\n",
      "\n",
      "Writing BED for 9013 genes ...\n",
      "\n"
     ]
    },
    {
     "data": {
      "text/html": [
       "0"
      ],
      "text/latex": [
       "0"
      ],
      "text/markdown": [
       "0"
      ],
      "text/plain": [
       "[1] 0"
      ]
     },
     "metadata": {},
     "output_type": "display_data"
    }
   ],
   "source": [
    "call_mapper(\"OPC_sALSvsCTRL\", sALS_bams, control_bams)"
   ]
  },
  {
   "cell_type": "code",
   "execution_count": 39,
   "id": "0f65c963-2402-41e2-b6ac-dd8345441eac",
   "metadata": {},
   "outputs": [],
   "source": [
    "## lets do it with IL4\n",
    "setwd('../Excitatory//')\n",
    "bamfiles = list.files(pattern = \"*.bam$\")\n",
    "control_bams <- as.vector(paste0(root,\"Excitatory/\",bamfiles[which(startsWith(bamfiles, \"CTRL\"))]))\n",
    "C9ALS_bams <- as.vector(paste0(root,\"Excitatory/\",bamfiles[which(startsWith(bamfiles, \"C9ALS\"))]))\n",
    "sALS_bams <- as.vector(paste0(root,\"Excitatory/\",bamfiles[which(startsWith(bamfiles, \"sALSnoFTLD\"))]))"
   ]
  },
  {
   "cell_type": "code",
   "execution_count": null,
   "id": "719acd5d-c4d7-44e7-b93e-cd3975871829",
   "metadata": {
    "collapsed": true,
    "jupyter": {
     "outputs_hidden": true
    },
    "tags": []
   },
   "outputs": [
    {
     "name": "stderr",
     "output_type": "stream",
     "text": [
      "Warning message in dir.create(output_dir, recursive = T):\n",
      "“'/data1/APA/Paul_ALS_Data/bams_in/subscelltype_bamfiles/Mapper_outs/Excitatory_C9ALSvsCTRL' already exists”\n",
      "Prepare reference genome ...\n",
      "\n",
      "Import genomic features from the file as a GRanges object ... \n",
      "OK\n",
      "\n",
      "Prepare the 'metadata' data frame ... \n",
      "OK\n",
      "\n",
      "Make the TxDb object ... \n",
      "Warning message in .get_cds_IDX(mcols0$type, mcols0$phase):\n",
      "“The \"phase\" metadata column contains non-NA values for features of type\n",
      "  stop_codon. This information was ignored.”\n",
      "OK\n",
      "\n",
      "Sequence levels in GTF:\n",
      "\n"
     ]
    },
    {
     "name": "stdout",
     "output_type": "stream",
     "text": [
      " [1] \"chr1\"  \"chr2\"  \"chr3\"  \"chr4\"  \"chr5\"  \"chr6\"  \"chr7\"  \"chr8\"  \"chr9\" \n",
      "[10] \"chr10\" \"chr11\" \"chr12\" \"chr13\" \"chr14\" \"chr15\" \"chr16\" \"chr17\" \"chr18\"\n",
      "[19] \"chr19\" \"chr20\" \"chr21\" \"chr22\" \"chrX\"  \"chrY\"  \"chrM\" \n"
     ]
    },
    {
     "name": "stderr",
     "output_type": "stream",
     "text": [
      "Prepare PAS annotation ...\n",
      "\n",
      "16707 genes!\n",
      "\n",
      "Start training for condition c1 - sample 1 ...\n",
      "\n",
      "55 genes used for training ...\n",
      "\n",
      "0.2327 fragments longer than 600 ...\n",
      "\n",
      "Start training for condition c1 - sample 2 ...\n",
      "\n",
      "198 genes used for training ...\n",
      "\n",
      "0.2102 fragments longer than 600 ...\n",
      "\n",
      "Start training for condition c1 - sample 3 ...\n",
      "\n",
      "1 genes used for training ...\n",
      "\n",
      "0.0973 fragments longer than 600 ...\n",
      "\n",
      "Start training for condition c1 - sample 4 ...\n",
      "\n",
      "31 genes used for training ...\n",
      "\n",
      "0.0948 fragments longer than 600 ...\n",
      "\n",
      "Start training for condition c1 - sample 5 ...\n",
      "\n",
      "142 genes used for training ...\n",
      "\n",
      "0.4007 fragments longer than 600 ...\n",
      "\n",
      "Start training for condition c1 - sample 6 ...\n",
      "\n",
      "147 genes used for training ...\n",
      "\n",
      "0.4695 fragments longer than 600 ...\n",
      "\n",
      "Start training for condition c2 - sample 1 ...\n",
      "\n",
      "23 genes used for training ...\n",
      "\n",
      "0.5431 fragments longer than 600 ...\n",
      "\n",
      "Start training for condition c2 - sample 2 ...\n",
      "\n",
      "101 genes used for training ...\n",
      "\n",
      "0.5071 fragments longer than 600 ...\n",
      "\n",
      "Start training for condition c2 - sample 3 ...\n",
      "\n",
      "208 genes used for training ...\n",
      "\n",
      "0.3114 fragments longer than 600 ...\n",
      "\n",
      "Start training for condition c2 - sample 4 ...\n",
      "\n",
      "3 genes used for training ...\n",
      "\n",
      "0.2894 fragments longer than 600 ...\n",
      "\n",
      "Calculate APA events ...\n",
      "\n"
     ]
    }
   ],
   "source": [
    "call_mapper(\"Excitatory_C9ALSvsCTRL\", C9ALS_bams, control_bams)"
   ]
  },
  {
   "cell_type": "code",
   "execution_count": 40,
   "id": "372d8e0c-4d55-47ad-9978-dd83082d8838",
   "metadata": {},
   "outputs": [
    {
     "data": {
      "text/html": [
       "<style>\n",
       ".list-inline {list-style: none; margin:0; padding: 0}\n",
       ".list-inline>li {display: inline-block}\n",
       ".list-inline>li:not(:last-child)::after {content: \"\\00b7\"; padding: 0 .5ex}\n",
       "</style>\n",
       "<ol class=list-inline><li>'/data1/APA/Paul_ALS_Data/bams_in/subscelltype_bamfiles/Excitatory/sALSnoFTLD3_CTfiltered.bam'</li><li>'/data1/APA/Paul_ALS_Data/bams_in/subscelltype_bamfiles/Excitatory/sALSnoFTLD4_CTfiltered.bam'</li><li>'/data1/APA/Paul_ALS_Data/bams_in/subscelltype_bamfiles/Excitatory/sALSnoFTLD58_CTfiltered.bam'</li></ol>\n"
      ],
      "text/latex": [
       "\\begin{enumerate*}\n",
       "\\item '/data1/APA/Paul\\_ALS\\_Data/bams\\_in/subscelltype\\_bamfiles/Excitatory/sALSnoFTLD3\\_CTfiltered.bam'\n",
       "\\item '/data1/APA/Paul\\_ALS\\_Data/bams\\_in/subscelltype\\_bamfiles/Excitatory/sALSnoFTLD4\\_CTfiltered.bam'\n",
       "\\item '/data1/APA/Paul\\_ALS\\_Data/bams\\_in/subscelltype\\_bamfiles/Excitatory/sALSnoFTLD58\\_CTfiltered.bam'\n",
       "\\end{enumerate*}\n"
      ],
      "text/markdown": [
       "1. '/data1/APA/Paul_ALS_Data/bams_in/subscelltype_bamfiles/Excitatory/sALSnoFTLD3_CTfiltered.bam'\n",
       "2. '/data1/APA/Paul_ALS_Data/bams_in/subscelltype_bamfiles/Excitatory/sALSnoFTLD4_CTfiltered.bam'\n",
       "3. '/data1/APA/Paul_ALS_Data/bams_in/subscelltype_bamfiles/Excitatory/sALSnoFTLD58_CTfiltered.bam'\n",
       "\n",
       "\n"
      ],
      "text/plain": [
       "[1] \"/data1/APA/Paul_ALS_Data/bams_in/subscelltype_bamfiles/Excitatory/sALSnoFTLD3_CTfiltered.bam\" \n",
       "[2] \"/data1/APA/Paul_ALS_Data/bams_in/subscelltype_bamfiles/Excitatory/sALSnoFTLD4_CTfiltered.bam\" \n",
       "[3] \"/data1/APA/Paul_ALS_Data/bams_in/subscelltype_bamfiles/Excitatory/sALSnoFTLD58_CTfiltered.bam\""
      ]
     },
     "metadata": {},
     "output_type": "display_data"
    }
   ],
   "source": [
    "sALS_bams"
   ]
  },
  {
   "cell_type": "code",
   "execution_count": 41,
   "id": "cd9e7bae-58d0-4de6-97f6-bac236263f60",
   "metadata": {
    "collapsed": true,
    "jupyter": {
     "outputs_hidden": true
    },
    "tags": []
   },
   "outputs": [
    {
     "name": "stderr",
     "output_type": "stream",
     "text": [
      "Warning message in dir.create(output_dir, recursive = T):\n",
      "“'/data1/APA/Paul_ALS_Data/bams_in/subscelltype_bamfiles/Mapper_outs/Excitatory_sALSvsCTRL' already exists”\n",
      "Prepare reference genome ...\n",
      "\n",
      "Import genomic features from the file as a GRanges object ... \n",
      "OK\n",
      "\n",
      "Prepare the 'metadata' data frame ... \n",
      "OK\n",
      "\n",
      "Make the TxDb object ... \n",
      "Warning message in .get_cds_IDX(mcols0$type, mcols0$phase):\n",
      "“The \"phase\" metadata column contains non-NA values for features of type\n",
      "  stop_codon. This information was ignored.”\n",
      "OK\n",
      "\n",
      "Sequence levels in GTF:\n",
      "\n"
     ]
    },
    {
     "name": "stdout",
     "output_type": "stream",
     "text": [
      " [1] \"chr1\"  \"chr2\"  \"chr3\"  \"chr4\"  \"chr5\"  \"chr6\"  \"chr7\"  \"chr8\"  \"chr9\" \n",
      "[10] \"chr10\" \"chr11\" \"chr12\" \"chr13\" \"chr14\" \"chr15\" \"chr16\" \"chr17\" \"chr18\"\n",
      "[19] \"chr19\" \"chr20\" \"chr21\" \"chr22\" \"chrX\"  \"chrY\"  \"chrM\" \n"
     ]
    },
    {
     "name": "stderr",
     "output_type": "stream",
     "text": [
      "Prepare PAS annotation ...\n",
      "\n",
      "16707 genes!\n",
      "\n",
      "Start training for condition c1 - sample 1 ...\n",
      "\n",
      "27 genes used for training ...\n",
      "\n",
      "0.1305 fragments longer than 600 ...\n",
      "\n",
      "Start training for condition c1 - sample 2 ...\n",
      "\n",
      "39 genes used for training ...\n",
      "\n",
      "0.3491 fragments longer than 600 ...\n",
      "\n",
      "Start training for condition c1 - sample 3 ...\n",
      "\n",
      "26 genes used for training ...\n",
      "\n",
      "0.2283 fragments longer than 600 ...\n",
      "\n",
      "Start training for condition c2 - sample 1 ...\n",
      "\n",
      "23 genes used for training ...\n",
      "\n",
      "0.5431 fragments longer than 600 ...\n",
      "\n",
      "Start training for condition c2 - sample 2 ...\n",
      "\n",
      "101 genes used for training ...\n",
      "\n",
      "0.5071 fragments longer than 600 ...\n",
      "\n",
      "Start training for condition c2 - sample 3 ...\n",
      "\n",
      "208 genes used for training ...\n",
      "\n",
      "0.3114 fragments longer than 600 ...\n",
      "\n",
      "Start training for condition c2 - sample 4 ...\n",
      "\n",
      "3 genes used for training ...\n",
      "\n",
      "0.2894 fragments longer than 600 ...\n",
      "\n",
      "Calculate APA events ...\n",
      "\n"
     ]
    },
    {
     "name": "stdout",
     "output_type": "stream",
     "text": [
      "[1] FALSE\n"
     ]
    },
    {
     "name": "stderr",
     "output_type": "stream",
     "text": [
      "Writing results for 4928 genes ...\n",
      "\n",
      "Writing BED for 4928 genes ...\n",
      "\n"
     ]
    },
    {
     "data": {
      "text/html": [
       "0"
      ],
      "text/latex": [
       "0"
      ],
      "text/markdown": [
       "0"
      ],
      "text/plain": [
       "[1] 0"
      ]
     },
     "metadata": {},
     "output_type": "display_data"
    }
   ],
   "source": [
    "call_mapper(\"Excitatory_sALSvsCTRL\", sALS_bams, control_bams)"
   ]
  },
  {
   "cell_type": "code",
   "execution_count": 48,
   "id": "100b5375-ce6a-4fa2-9f19-1c16914d3f5f",
   "metadata": {},
   "outputs": [],
   "source": [
    "## lets do it with IL4\n",
    "setwd('../Inhibitory/')\n",
    "bamfiles = list.files(pattern = \"*.bam$\")\n",
    "control_bams <- as.vector(paste0(root,\"Inhibitory/\",bamfiles[which(startsWith(bamfiles, \"CTRL\"))]))\n",
    "C9ALS_bams <- as.vector(paste0(root,\"Inhibitory/\",bamfiles[which(startsWith(bamfiles, \"C9ALS\"))]))\n",
    "sALS_bams <- as.vector(paste0(root,\"Inhibitory/\",bamfiles[which(startsWith(bamfiles, \"sALSnoFTLD\"))]))"
   ]
  },
  {
   "cell_type": "code",
   "execution_count": 44,
   "id": "c1fcb7d6-0055-4d46-88a6-04c09645210b",
   "metadata": {
    "collapsed": true,
    "jupyter": {
     "outputs_hidden": true
    },
    "tags": []
   },
   "outputs": [
    {
     "name": "stderr",
     "output_type": "stream",
     "text": [
      "Prepare reference genome ...\n",
      "\n",
      "Import genomic features from the file as a GRanges object ... \n",
      "OK\n",
      "\n",
      "Prepare the 'metadata' data frame ... \n",
      "OK\n",
      "\n",
      "Make the TxDb object ... \n",
      "Warning message in .get_cds_IDX(mcols0$type, mcols0$phase):\n",
      "“The \"phase\" metadata column contains non-NA values for features of type\n",
      "  stop_codon. This information was ignored.”\n",
      "OK\n",
      "\n",
      "Sequence levels in GTF:\n",
      "\n"
     ]
    },
    {
     "name": "stdout",
     "output_type": "stream",
     "text": [
      " [1] \"chr1\"  \"chr2\"  \"chr3\"  \"chr4\"  \"chr5\"  \"chr6\"  \"chr7\"  \"chr8\"  \"chr9\" \n",
      "[10] \"chr10\" \"chr11\" \"chr12\" \"chr13\" \"chr14\" \"chr15\" \"chr16\" \"chr17\" \"chr18\"\n",
      "[19] \"chr19\" \"chr20\" \"chr21\" \"chr22\" \"chrX\"  \"chrY\"  \"chrM\" \n"
     ]
    },
    {
     "name": "stderr",
     "output_type": "stream",
     "text": [
      "Prepare PAS annotation ...\n",
      "\n",
      "16707 genes!\n",
      "\n",
      "Start training for condition c1 - sample 1 ...\n",
      "\n",
      "130 genes used for training ...\n",
      "\n",
      "0.2072 fragments longer than 600 ...\n",
      "\n",
      "Start training for condition c1 - sample 2 ...\n",
      "\n",
      "226 genes used for training ...\n",
      "\n",
      "0.2148 fragments longer than 600 ...\n",
      "\n",
      "Start training for condition c1 - sample 3 ...\n",
      "\n",
      "37 genes used for training ...\n",
      "\n",
      "0.2577 fragments longer than 600 ...\n",
      "\n",
      "Start training for condition c1 - sample 4 ...\n",
      "\n",
      "205 genes used for training ...\n",
      "\n",
      "0.1068 fragments longer than 600 ...\n",
      "\n",
      "Start training for condition c1 - sample 5 ...\n",
      "\n",
      "106 genes used for training ...\n",
      "\n",
      "0.3369 fragments longer than 600 ...\n",
      "\n",
      "Start training for condition c1 - sample 6 ...\n",
      "\n",
      "77 genes used for training ...\n",
      "\n",
      "0.4992 fragments longer than 600 ...\n",
      "\n",
      "Start training for condition c2 - sample 1 ...\n",
      "\n",
      "5 genes used for training ...\n",
      "\n",
      "0.0813 fragments longer than 600 ...\n",
      "\n",
      "Start training for condition c2 - sample 2 ...\n",
      "\n",
      "121 genes used for training ...\n",
      "\n",
      "0.5907 fragments longer than 600 ...\n",
      "\n",
      "Start training for condition c2 - sample 3 ...\n",
      "\n",
      "205 genes used for training ...\n",
      "\n",
      "0.3579 fragments longer than 600 ...\n",
      "\n",
      "Start training for condition c2 - sample 4 ...\n",
      "\n",
      "66 genes used for training ...\n",
      "\n",
      "0.4984 fragments longer than 600 ...\n",
      "\n",
      "Start training for condition c2 - sample 5 ...\n",
      "\n",
      "144 genes used for training ...\n",
      "\n",
      "0.2068 fragments longer than 600 ...\n",
      "\n",
      "Start training for condition c2 - sample 6 ...\n",
      "\n",
      "17 genes used for training ...\n",
      "\n",
      "0.1658 fragments longer than 600 ...\n",
      "\n",
      "Calculate APA events ...\n",
      "\n"
     ]
    },
    {
     "name": "stdout",
     "output_type": "stream",
     "text": [
      "[1] FALSE\n"
     ]
    },
    {
     "name": "stderr",
     "output_type": "stream",
     "text": [
      "Writing results for 10400 genes ...\n",
      "\n",
      "Writing BED for 10400 genes ...\n",
      "\n"
     ]
    },
    {
     "data": {
      "text/html": [
       "0"
      ],
      "text/latex": [
       "0"
      ],
      "text/markdown": [
       "0"
      ],
      "text/plain": [
       "[1] 0"
      ]
     },
     "metadata": {},
     "output_type": "display_data"
    }
   ],
   "source": [
    "call_mapper(\"Inhibitory_C9ALSvsCTRL\", C9ALS_bams, control_bams)"
   ]
  },
  {
   "cell_type": "code",
   "execution_count": 49,
   "id": "ec033e4c-9297-4d41-86f1-942786442093",
   "metadata": {
    "collapsed": true,
    "jupyter": {
     "outputs_hidden": true
    },
    "tags": []
   },
   "outputs": [
    {
     "name": "stderr",
     "output_type": "stream",
     "text": [
      "Warning message in dir.create(output_dir, recursive = T):\n",
      "“'/data1/APA/Paul_ALS_Data/bams_in/subscelltype_bamfiles/Mapper_outs/Inhibitory_sALSvsCTRL' already exists”\n",
      "Prepare reference genome ...\n",
      "\n",
      "Import genomic features from the file as a GRanges object ... \n",
      "OK\n",
      "\n",
      "Prepare the 'metadata' data frame ... \n",
      "OK\n",
      "\n",
      "Make the TxDb object ... \n",
      "Warning message in .get_cds_IDX(mcols0$type, mcols0$phase):\n",
      "“The \"phase\" metadata column contains non-NA values for features of type\n",
      "  stop_codon. This information was ignored.”\n",
      "OK\n",
      "\n",
      "Sequence levels in GTF:\n",
      "\n"
     ]
    },
    {
     "name": "stdout",
     "output_type": "stream",
     "text": [
      " [1] \"chr1\"  \"chr2\"  \"chr3\"  \"chr4\"  \"chr5\"  \"chr6\"  \"chr7\"  \"chr8\"  \"chr9\" \n",
      "[10] \"chr10\" \"chr11\" \"chr12\" \"chr13\" \"chr14\" \"chr15\" \"chr16\" \"chr17\" \"chr18\"\n",
      "[19] \"chr19\" \"chr20\" \"chr21\" \"chr22\" \"chrX\"  \"chrY\"  \"chrM\" \n"
     ]
    },
    {
     "name": "stderr",
     "output_type": "stream",
     "text": [
      "Prepare PAS annotation ...\n",
      "\n",
      "16707 genes!\n",
      "\n",
      "Start training for condition c1 - sample 1 ...\n",
      "\n",
      "91 genes used for training ...\n",
      "\n",
      "0.1545 fragments longer than 600 ...\n",
      "\n",
      "Start training for condition c1 - sample 2 ...\n",
      "\n",
      "1 genes used for training ...\n",
      "\n",
      "0 fragments longer than 600 ...\n",
      "\n",
      "Start training for condition c1 - sample 3 ...\n",
      "\n",
      "114 genes used for training ...\n",
      "\n",
      "0.1418 fragments longer than 600 ...\n",
      "\n",
      "Start training for condition c2 - sample 1 ...\n",
      "\n",
      "5 genes used for training ...\n",
      "\n",
      "0.0813 fragments longer than 600 ...\n",
      "\n",
      "Start training for condition c2 - sample 2 ...\n",
      "\n",
      "121 genes used for training ...\n",
      "\n",
      "0.5907 fragments longer than 600 ...\n",
      "\n",
      "Start training for condition c2 - sample 3 ...\n",
      "\n",
      "205 genes used for training ...\n",
      "\n",
      "0.3579 fragments longer than 600 ...\n",
      "\n",
      "Start training for condition c2 - sample 4 ...\n",
      "\n",
      "66 genes used for training ...\n",
      "\n",
      "0.4984 fragments longer than 600 ...\n",
      "\n",
      "Start training for condition c2 - sample 5 ...\n",
      "\n",
      "144 genes used for training ...\n",
      "\n",
      "0.2068 fragments longer than 600 ...\n",
      "\n",
      "Start training for condition c2 - sample 6 ...\n",
      "\n",
      "17 genes used for training ...\n",
      "\n",
      "0.1658 fragments longer than 600 ...\n",
      "\n",
      "Calculate APA events ...\n",
      "\n"
     ]
    },
    {
     "name": "stdout",
     "output_type": "stream",
     "text": [
      "[1] FALSE\n"
     ]
    },
    {
     "name": "stderr",
     "output_type": "stream",
     "text": [
      "Writing results for 8511 genes ...\n",
      "\n",
      "Writing BED for 8511 genes ...\n",
      "\n"
     ]
    },
    {
     "data": {
      "text/html": [
       "0"
      ],
      "text/latex": [
       "0"
      ],
      "text/markdown": [
       "0"
      ],
      "text/plain": [
       "[1] 0"
      ]
     },
     "metadata": {},
     "output_type": "display_data"
    }
   ],
   "source": [
    "call_mapper(\"Inhibitory_sALSvsCTRL\", sALS_bams, control_bams)"
   ]
  },
  {
   "cell_type": "code",
   "execution_count": 47,
   "id": "bacd2398-59dc-470e-b972-97b3a82a028e",
   "metadata": {},
   "outputs": [
    {
     "data": {
      "text/html": [
       "<style>\n",
       ".list-inline {list-style: none; margin:0; padding: 0}\n",
       ".list-inline>li {display: inline-block}\n",
       ".list-inline>li:not(:last-child)::after {content: \"\\00b7\"; padding: 0 .5ex}\n",
       "</style>\n",
       "<ol class=list-inline><li>'/data1/APA/Paul_ALS_Data/bams_in/subscelltype_bamfiles/Inhibitory/sALSnoFTLD3_CTfiltered.bam'</li><li>'/data1/APA/Paul_ALS_Data/bams_in/subscelltype_bamfiles/Inhibitory/sALSnoFTLD4_CTfiltered.bam'</li><li>'/data1/APA/Paul_ALS_Data/bams_in/subscelltype_bamfiles/Inhibitory/sALSnoFTLD5_CTfiltered.bam'</li><li>'/data1/APA/Paul_ALS_Data/bams_in/subscelltype_bamfiles/Inhibitory/sALSnoFTLD8_CTfiltered.bam'</li></ol>\n"
      ],
      "text/latex": [
       "\\begin{enumerate*}\n",
       "\\item '/data1/APA/Paul\\_ALS\\_Data/bams\\_in/subscelltype\\_bamfiles/Inhibitory/sALSnoFTLD3\\_CTfiltered.bam'\n",
       "\\item '/data1/APA/Paul\\_ALS\\_Data/bams\\_in/subscelltype\\_bamfiles/Inhibitory/sALSnoFTLD4\\_CTfiltered.bam'\n",
       "\\item '/data1/APA/Paul\\_ALS\\_Data/bams\\_in/subscelltype\\_bamfiles/Inhibitory/sALSnoFTLD5\\_CTfiltered.bam'\n",
       "\\item '/data1/APA/Paul\\_ALS\\_Data/bams\\_in/subscelltype\\_bamfiles/Inhibitory/sALSnoFTLD8\\_CTfiltered.bam'\n",
       "\\end{enumerate*}\n"
      ],
      "text/markdown": [
       "1. '/data1/APA/Paul_ALS_Data/bams_in/subscelltype_bamfiles/Inhibitory/sALSnoFTLD3_CTfiltered.bam'\n",
       "2. '/data1/APA/Paul_ALS_Data/bams_in/subscelltype_bamfiles/Inhibitory/sALSnoFTLD4_CTfiltered.bam'\n",
       "3. '/data1/APA/Paul_ALS_Data/bams_in/subscelltype_bamfiles/Inhibitory/sALSnoFTLD5_CTfiltered.bam'\n",
       "4. '/data1/APA/Paul_ALS_Data/bams_in/subscelltype_bamfiles/Inhibitory/sALSnoFTLD8_CTfiltered.bam'\n",
       "\n",
       "\n"
      ],
      "text/plain": [
       "[1] \"/data1/APA/Paul_ALS_Data/bams_in/subscelltype_bamfiles/Inhibitory/sALSnoFTLD3_CTfiltered.bam\"\n",
       "[2] \"/data1/APA/Paul_ALS_Data/bams_in/subscelltype_bamfiles/Inhibitory/sALSnoFTLD4_CTfiltered.bam\"\n",
       "[3] \"/data1/APA/Paul_ALS_Data/bams_in/subscelltype_bamfiles/Inhibitory/sALSnoFTLD5_CTfiltered.bam\"\n",
       "[4] \"/data1/APA/Paul_ALS_Data/bams_in/subscelltype_bamfiles/Inhibitory/sALSnoFTLD8_CTfiltered.bam\""
      ]
     },
     "metadata": {},
     "output_type": "display_data"
    }
   ],
   "source": [
    "sALS_bams"
   ]
  },
  {
   "cell_type": "code",
   "execution_count": 2,
   "id": "320ded52-bc6f-4856-a2a5-9d739bf93b37",
   "metadata": {},
   "outputs": [
    {
     "data": {
      "text/html": [
       "'/home/aiden/codes/APA_stuff/post_qual/APA/For_DL_model'"
      ],
      "text/latex": [
       "'/home/aiden/codes/APA\\_stuff/post\\_qual/APA/For\\_DL\\_model'"
      ],
      "text/markdown": [
       "'/home/aiden/codes/APA_stuff/post_qual/APA/For_DL_model'"
      ],
      "text/plain": [
       "[1] \"/home/aiden/codes/APA_stuff/post_qual/APA/For_DL_model\""
      ]
     },
     "metadata": {},
     "output_type": "display_data"
    }
   ],
   "source": [
    "read"
   ]
  },
  {
   "cell_type": "code",
   "execution_count": 12,
   "id": "801af721-d86f-4d63-a858-0141649afc73",
   "metadata": {},
   "outputs": [
    {
     "data": {
      "text/html": [
       "1.30102999566398"
      ],
      "text/latex": [
       "1.30102999566398"
      ],
      "text/markdown": [
       "1.30102999566398"
      ],
      "text/plain": [
       "[1] 1.30103"
      ]
     },
     "metadata": {},
     "output_type": "display_data"
    }
   ],
   "source": [
    "-log(0.05,10)"
   ]
  },
  {
   "cell_type": "markdown",
   "id": "28d24786-8d36-4eba-aea4-a53bbaf2a147",
   "metadata": {},
   "source": [
    "## lets plot the REDU and ReLu dist plots"
   ]
  },
  {
   "cell_type": "code",
   "execution_count": null,
   "id": "85db68a7-a069-4349-a64c-1eb13db092ab",
   "metadata": {},
   "outputs": [],
   "source": []
  }
 ],
 "metadata": {
  "kernelspec": {
   "display_name": "R",
   "language": "R",
   "name": "ir"
  },
  "language_info": {
   "codemirror_mode": "r",
   "file_extension": ".r",
   "mimetype": "text/x-r-source",
   "name": "R",
   "pygments_lexer": "r",
   "version": "4.1.0"
  }
 },
 "nbformat": 4,
 "nbformat_minor": 5
}
