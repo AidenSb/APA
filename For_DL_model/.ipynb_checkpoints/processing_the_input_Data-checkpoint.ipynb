{
 "cells": [
  {
   "cell_type": "code",
   "execution_count": 149,
   "metadata": {
    "tags": []
   },
   "outputs": [],
   "source": [
    "import os\n",
    "import pandas as pd\n",
    "import numpy as np\n",
    "from Bio import SeqIO\n",
    "import pickle\n",
    "from multiprocessing import Pool"
   ]
  },
  {
   "cell_type": "code",
   "execution_count": 5,
   "metadata": {},
   "outputs": [],
   "source": [
    "%config Completer.use_jedi = False\n",
    "%config IPCompleter.greedy=True"
   ]
  },
  {
   "cell_type": "code",
   "execution_count": 4,
   "metadata": {
    "collapsed": true,
    "jupyter": {
     "outputs_hidden": true
    },
    "tags": []
   },
   "outputs": [
    {
     "data": {
      "text/plain": [
       "['IN-SST_C9ALSvsCTRL',\n",
       " 'L4_C9ALSvsCTRL',\n",
       " 'Inhibitory_sALSvsCTRL',\n",
       " 'L5-6-CC_C9ALSvsCTRL',\n",
       " 'Excitatory_sALSvsCTRL',\n",
       " 'L5-6_C9ALSvsCTRL',\n",
       " 'Excitatory_C9ALSvsCTRL',\n",
       " 'L2-3_sALSvsCTRL',\n",
       " 'AST-FB_sALSvsCTRL',\n",
       " 'Oligodendrocytes_C9ALSvsCTRL',\n",
       " 'get_fasta_for_switches.sh',\n",
       " 'OPC_C9ALSvsCTRL',\n",
       " 'IN-VIP_C9ALSvsCTRL',\n",
       " 'L4_sALSvsCTRL',\n",
       " 'AST-PP_C9ALSvsCTRL',\n",
       " 'IN-VIP_sALSvsCTRL',\n",
       " 'AST-PP_sALSvsCTRL',\n",
       " 'L5-6-CC_sALSvsCTRL',\n",
       " 'IN-PV_C9ALSvsCTRL',\n",
       " 'Oligodendrocytes_sALSvsCTRL',\n",
       " 'IN-SST_sALSvsCTRL',\n",
       " 'OPC_sALSvsCTRL',\n",
       " 'L2-3_C9ALSvsCTRL',\n",
       " 'Microglia_sALSvsCTRL',\n",
       " 'Inhibitory_C9ALSvsCTRL',\n",
       " 'Microglia_C9ALSvsCTRL',\n",
       " 'Endothelial_ALSvsCTRL',\n",
       " 'IN-PV_sALSvsCTRL',\n",
       " 'AST-FB_C9ALSvsCTRL']"
      ]
     },
     "execution_count": 4,
     "metadata": {},
     "output_type": "execute_result"
    }
   ],
   "source": [
    "data_root = '/data1/APA/Paul_ALS_Data/bams_in/subscelltype_bamfiles/Mapper_outs/'\n",
    "os.listdir(data_root)"
   ]
  },
  {
   "cell_type": "code",
   "execution_count": 5,
   "metadata": {
    "tags": []
   },
   "outputs": [
    {
     "data": {
      "text/plain": [
       "['IN-SST_C9ALSvsCTRL',\n",
       " 'L4_C9ALSvsCTRL',\n",
       " 'L5-6-CC_C9ALSvsCTRL',\n",
       " 'L5-6_C9ALSvsCTRL',\n",
       " 'Excitatory_C9ALSvsCTRL',\n",
       " 'Oligodendrocytes_C9ALSvsCTRL',\n",
       " 'OPC_C9ALSvsCTRL',\n",
       " 'IN-VIP_C9ALSvsCTRL',\n",
       " 'AST-PP_C9ALSvsCTRL',\n",
       " 'IN-PV_C9ALSvsCTRL',\n",
       " 'L2-3_C9ALSvsCTRL',\n",
       " 'Inhibitory_C9ALSvsCTRL',\n",
       " 'Microglia_C9ALSvsCTRL',\n",
       " 'AST-FB_C9ALSvsCTRL']"
      ]
     },
     "execution_count": 5,
     "metadata": {},
     "output_type": "execute_result"
    }
   ],
   "source": [
    "## lets focus on C9ALS\n",
    "ct = [ e for e in os.listdir(data_root) if 'C9ALS' in e]\n",
    "ct"
   ]
  },
  {
   "cell_type": "code",
   "execution_count": 6,
   "metadata": {},
   "outputs": [],
   "source": [
    "sequences_dict = {}\n",
    "for ct_cn in ct:\n",
    "    inp_fa = data_root + \"/{}/switch_DNA_sequence.fa\".format(ct_cn)\n",
    "    inp_fa = SeqIO.parse(inp_fa, \"fasta\")\n",
    "    for rec in inp_fa:\n",
    "        if rec.id not in sequences_dict:\n",
    "            sequences_dict[rec.id] = str(rec.seq)\n",
    "        else:\n",
    "            continue  "
   ]
  },
  {
   "cell_type": "code",
   "execution_count": 7,
   "metadata": {
    "tags": []
   },
   "outputs": [
    {
     "data": {
      "text/plain": [
       "107427"
      ]
     },
     "execution_count": 7,
     "metadata": {},
     "output_type": "execute_result"
    }
   ],
   "source": [
    "len(sequences_dict)"
   ]
  },
  {
   "cell_type": "code",
   "execution_count": 8,
   "metadata": {
    "tags": []
   },
   "outputs": [
    {
     "data": {
      "text/plain": [
       "'chr2:AAK1:69461526:69472042:-'"
      ]
     },
     "execution_count": 8,
     "metadata": {},
     "output_type": "execute_result"
    }
   ],
   "source": [
    "list(sequences_dict.keys())[10]"
   ]
  },
  {
   "cell_type": "code",
   "execution_count": 9,
   "metadata": {
    "collapsed": true,
    "jupyter": {
     "outputs_hidden": true
    }
   },
   "outputs": [
    {
     "data": {
      "text/plain": [
       "['AST-FB',\n",
       " 'AST-PP',\n",
       " 'Excitatory',\n",
       " 'IN-PV',\n",
       " 'IN-SST',\n",
       " 'IN-VIP',\n",
       " 'Inhibitory',\n",
       " 'L2-3',\n",
       " 'L4',\n",
       " 'L5-6',\n",
       " 'L5-6-CC',\n",
       " 'Microglia',\n",
       " 'OPC',\n",
       " 'Oligodendrocytes']"
      ]
     },
     "execution_count": 9,
     "metadata": {},
     "output_type": "execute_result"
    }
   ],
   "source": [
    "celltypes = [e.split('_')[0] for e in ct]\n",
    "celltypes = sorted(celltypes)\n",
    "celltypes"
   ]
  },
  {
   "cell_type": "code",
   "execution_count": 76,
   "metadata": {
    "collapsed": true,
    "jupyter": {
     "outputs_hidden": true
    },
    "tags": []
   },
   "outputs": [
    {
     "data": {
      "text/plain": [
       "{'AST-FB': 0,\n",
       " 'AST-PP': 1,\n",
       " 'Excitatory': 2,\n",
       " 'IN-PV': 3,\n",
       " 'IN-SST': 4,\n",
       " 'IN-VIP': 5,\n",
       " 'Inhibitory': 6,\n",
       " 'L2-3': 7,\n",
       " 'L4': 8,\n",
       " 'L5-6': 9,\n",
       " 'L5-6-CC': 10,\n",
       " 'Microglia': 11,\n",
       " 'OPC': 12,\n",
       " 'Oligodendrocytes': 13}"
      ]
     },
     "execution_count": 76,
     "metadata": {},
     "output_type": "execute_result"
    }
   ],
   "source": [
    "celltypes_order = {}\n",
    "for e,i in enumerate(celltypes):\n",
    "    celltypes_order[i] = e\n",
    "celltypes_order"
   ]
  },
  {
   "cell_type": "code",
   "execution_count": 122,
   "metadata": {
    "tags": []
   },
   "outputs": [
    {
     "data": {
      "text/plain": [
       "107427"
      ]
     },
     "execution_count": 122,
     "metadata": {},
     "output_type": "execute_result"
    }
   ],
   "source": [
    "labels = {}\n",
    "for key in sequences_dict.keys():\n",
    "    labels[key] = np.zeros((14,2), dtype=float)\n",
    "len(labels)"
   ]
  },
  {
   "cell_type": "code",
   "execution_count": 123,
   "metadata": {},
   "outputs": [],
   "source": [
    "def get_lfc_logp(df, name):\n",
    "    tmp_df =  df.loc[df['switch_name'] == name]\n",
    "    lfc = round(float(tmp_df['LFC_PA_Usage']),4)\n",
    "    nlogp = round(float(tmp_df['negative_logFDR']),4)\n",
    "    return([lfc,nlogp])\n"
   ]
  },
  {
   "cell_type": "code",
   "execution_count": 124,
   "metadata": {},
   "outputs": [],
   "source": [
    "for ct in celltypes:\n",
    "    df_name = data_root + ct + \"_C9ALSvsCTRL/APAlog_res_metadata_added.tsv\"\n",
    "    inp_df = pd.read_csv(df_name, sep='\\t')\n",
    "    ct_idx = celltypes_order[ct]\n",
    "    for key in list(labels.keys()):\n",
    "        if key in inp_df['switch_name'].values:\n",
    "            res = get_lfc_logp(inp_df, key)\n",
    "            labels[key][ct_idx] = res\n",
    "        else:\n",
    "            continue"
   ]
  },
  {
   "cell_type": "code",
   "execution_count": 131,
   "metadata": {
    "collapsed": true,
    "jupyter": {
     "outputs_hidden": true
    }
   },
   "outputs": [
    {
     "data": {
      "text/plain": [
       "{'chr12:AACS:125140928:125143316:+': array([[ 0.    ,  0.    ],\n",
       "        [ 0.0197,  0.0595],\n",
       "        [-0.7202,  7.8307],\n",
       "        [ 0.    ,  0.    ],\n",
       "        [ 0.7973,  4.3538],\n",
       "        [ 0.    ,  0.    ],\n",
       "        [ 0.4728,  3.7107],\n",
       "        [-0.7088,  5.2996],\n",
       "        [ 0.    ,  0.    ],\n",
       "        [ 0.    ,  0.    ],\n",
       "        [ 0.    ,  0.    ],\n",
       "        [ 0.    ,  0.    ],\n",
       "        [ 0.4067,  1.5954],\n",
       "        [ 0.5094,  8.9315]]),\n",
       " 'chr4:AADAT:170060271:170060673:-': array([[ 0.    ,  0.    ],\n",
       "        [-0.0885,  0.3384],\n",
       "        [ 0.    ,  0.    ],\n",
       "        [ 1.3189,  5.5945],\n",
       "        [ 1.1698,  6.8452],\n",
       "        [ 2.0254, 11.2648],\n",
       "        [ 1.5136, 23.2604],\n",
       "        [ 0.    ,  0.    ],\n",
       "        [ 0.    ,  0.    ],\n",
       "        [ 0.    ,  0.    ],\n",
       "        [ 0.    ,  0.    ],\n",
       "        [ 0.    ,  0.    ],\n",
       "        [ 0.1105,  0.3281],\n",
       "        [ 0.7901, 25.9075]]),\n",
       " 'chr2:AAK1:69457997:69461526:-': array([[ 0.    ,  0.    ],\n",
       "        [ 0.6892, 13.9665],\n",
       "        [ 0.1218,  0.8157],\n",
       "        [ 0.9573, 15.6674],\n",
       "        [ 0.9868, 33.864 ],\n",
       "        [ 1.1391, 13.2375],\n",
       "        [ 0.9693, 66.4382],\n",
       "        [ 0.0804,  0.3593],\n",
       "        [ 0.4858,  2.2533],\n",
       "        [ 0.    ,  0.    ],\n",
       "        [ 0.    ,  0.    ],\n",
       "        [ 1.5274, 25.2277],\n",
       "        [ 0.3552,  3.1697],\n",
       "        [ 0.3212, 13.6946]]),\n",
       " 'chr2:AAK1:69457997:69464011:-': array([[ 0.00000e+00,  0.00000e+00],\n",
       "        [-6.44000e-02,  3.19000e-01],\n",
       "        [-2.31000e-01,  1.73990e+00],\n",
       "        [ 4.48000e-01,  3.13920e+00],\n",
       "        [ 1.14250e+00,  3.84350e+01],\n",
       "        [ 1.00860e+00,  9.20750e+00],\n",
       "        [ 1.04640e+00,  7.21415e+01],\n",
       "        [-3.02900e-01,  1.86570e+00],\n",
       "        [-2.38400e-01,  6.34100e-01],\n",
       "        [ 0.00000e+00,  0.00000e+00],\n",
       "        [ 0.00000e+00,  0.00000e+00],\n",
       "        [ 8.05600e-01,  7.69820e+00],\n",
       "        [ 5.01300e-01,  5.46480e+00],\n",
       "        [ 2.81900e-01,  1.14074e+01]]),\n",
       " 'chr2:AAK1:69457997:69465314:-': array([[ 0.    ,  0.    ],\n",
       "        [ 0.    ,  0.    ],\n",
       "        [ 0.    ,  0.    ],\n",
       "        [ 0.    ,  0.    ],\n",
       "        [ 2.3401, 39.4864],\n",
       "        [ 0.    ,  0.    ],\n",
       "        [ 0.    ,  0.    ],\n",
       "        [ 0.    ,  0.    ],\n",
       "        [ 0.    ,  0.    ],\n",
       "        [ 0.    ,  0.    ],\n",
       "        [ 0.    ,  0.    ],\n",
       "        [ 0.    ,  0.    ],\n",
       "        [ 0.    ,  0.    ],\n",
       "        [ 0.    ,  0.    ]])}"
      ]
     },
     "execution_count": 131,
     "metadata": {},
     "output_type": "execute_result"
    }
   ],
   "source": [
    "dict(list(labels.items())[0:5])"
   ]
  },
  {
   "cell_type": "markdown",
   "metadata": {},
   "source": [
    "## ok we have the sequences and labels dictionaries.\n",
    "## next lets translate the sequences to the sense RNAs \n",
    "## then make all data dictionary"
   ]
  },
  {
   "cell_type": "code",
   "execution_count": 141,
   "metadata": {},
   "outputs": [],
   "source": [
    "def transcribe_positive_strand(seq):\n",
    "    \"\"\" input is the 5' to 3' coding squence\n",
    "        so the RNA will be exact sequence except\n",
    "        U instead of T\n",
    "    \"\"\"\n",
    "    return(seq.replace('T','U'))\n",
    "\n",
    "def transcribe_negative_strand(seq):\n",
    "    \"\"\" input is the 5' to 3' template squence\n",
    "        so the function complement and returns\n",
    "        the reverse of sequence\n",
    "    \"\"\"\n",
    "    complement = {'A': 'U', 'C': 'G', 'G': 'C', 'T': 'A'}\n",
    "    return \"\".join(complement.get(base, base) for base in reversed(seq))"
   ]
  },
  {
   "cell_type": "code",
   "execution_count": null,
   "metadata": {},
   "outputs": [],
   "source": [
    "transcribed_sequences = {}\n",
    "for key,value in sequences_dict.items():\n",
    "    strand = key.split(':')[-1]\n",
    "    if strand == '+':\n",
    "        transcribed_sequences[key] = transcribe_positive_strand(value)\n",
    "    else:\n",
    "        transcribed_sequences[key] = transcribe_negative_strand(value)"
   ]
  },
  {
   "cell_type": "code",
   "execution_count": 145,
   "metadata": {},
   "outputs": [],
   "source": [
    "all_data_dict = {}\n",
    "for key,value in transcribed_sequences.items():\n",
    "    all_data_dict[value] = labels[key]"
   ]
  },
  {
   "cell_type": "code",
   "execution_count": 146,
   "metadata": {
    "collapsed": true,
    "jupyter": {
     "outputs_hidden": true
    }
   },
   "outputs": [
    {
     "data": {
      "text/plain": [
       "{'GUGAGGCGGGACAAACUUGUCUUCCUCACACCCAUCUUACUUCCUCUUAUGAGGAAACCCAGAGAGAUGAGGGGUCUUGCCCAAGGAAGGGGUGUCCAUAGUCAGCUCUGCCUUCUGCUCACCCAGAAUAAAGACCUGGGGACCCCGCGAGGGUCAUGGCCAAGUGGAAUGGACUCCUGGCAUUUGAGGGCUUCCCGACUGCAGCCCUCAGGCAGCCAUGGCUGUCCCAAGUCCAGCGGGCCUUUGCUCGGGUCAUGGCUGGGAUGUCUGGCCCUUCCUGACAGGAGGCUGCUGGGCUCCUGUCUACUUGGGGACGCCUCAUGCAGGAGCUGGUGUGGGGGUGGGCAGGGGGGCGGUGGCUUCUUCCUUUCUCUUUCCCUUUCCUCUACCUUUUCCCCUCUCCCCAGAGGAAAUGGUAGCAGGAUUUCUUUUAAGAGGAUGCUGCUGUAUUUUGCCAGCGGGUGGAAGGUGGCGGUAUUAGCUCCCGUGAGCUGCACGUGGACCCCUGUGUGAAGCGUAGCAGGGCACAGAGCAGGCGAGACGUUUGCAUCUCACAGCGGGAGGGCCGGCGACAUCACAUGAAGUGACAGGCAGGCCCUUGGAAGCCGGUGCUUAGAUCCUUAAUUAGUUCACACGUCGACUGAAUUUUCAAGUGAAUGAAUUUUAAUUACAUCUCAGGUUAAAAAAAAAAAAAGGCGCCAGUGAUCGAGGACUCGUCACUGGGCUCUGUUGCUCCUGAAGUUUCCUAGCCCACAACACACCAACACUGCCAAGGGCUCUUCUGGAUUCAAGGUGAAACACAUGUGCCAUAAAUCUUGGAGCUCUGAAUGUUUGGAAAGGGCCCGACUGUGAGAAGAAGUAACACACCGUCCCGUGCAGAUGGCUGGCUCUGAGGAGGAGUUCAUGGGAGCUUGGGGACACUCUUGCCUCUAGUUCUAGGAAGCUGGGCCACUUCUGAAGUAAUGGCAAUAUCAAUAAAGUAAUGGUCUUUAUCAUAGAAUAACGUGAUAAAAUAUAUAGAGAAGUAAAAAAGUAUAAAUAAAAGUAAAAUCAUCAUAAAACAUAGUAGCUAGGCACUUCUGAAGCUGUGUGUGCACUGAUUCAUUCACCCAGUGACUCACAGCCUUAUAGCCUAGGUGCUGGCACCCCUACUUUCAUUCGAGGAAGUGAACUCAGGUUCAGGAAUUUACCCAGCAUCCCCCAGAUGGGGUGGCAGGAGCCACAUCUUCCCUGAAAACUUUCUUGCCCAGGGUGUCUGCUGGGAUUUAGGAAUGGUCUAUGCCUGCAUUUUUAUCCUGGUCAGGCUGACCCUGAACCCUGAGAGAUACUCUUUUUUAUAUUCCCAUCUGGAAUAUGCACUGCCGGGGUCAGUGGGGUGUCUGGAGGGCCCUCUCGAGGCCAGCUUGGAUGUGACACGUGUCGUGGGUCCCAACGGGGCCCAGUAGAGUGUGCAGCGUUAGAAAAAUGAACAUGCUCGGCUGGGCGCGGUGGCUCACGCCUGUGAUCCUAGCACUUUGGGAGGCCAAGAUGGGUGGAUCAUGAGGUCAGGAGAUCAAGACCAUCCUGGCUAACAUGAGACCAUCCUGGUGAAACCCCAUCUCUACUAAAAAUACAAAAAAUUAGCUGGGCGUGGUGGCAGGUGCCUAUGGUCCCAGCUACUCAGGAGGCUGAGGUAGGAGAAUGGUGUGAACCUGGGAGGGGGAGCUUGCAGUAAGCGGAGAUUGCACCACUGCACUCCAGCCUGGGUGACAGAGUGCGACUCUGUCUCAAAAAAAAAAAAAAGAAAAAAAAAGAAAAAAAGAAAAAUGAACAUGCUCAUGGUGACCUCUGGGCAACUUUGAAAUAGCCUCAGUUUCUCAACAGCCGUGCCAGGGGGCGGGGGUGGGGUGUGGAGAGUGUUAGAGUUGAGUUUCAGCACCAGUCCUUGAAAGUGCCUUUCAGAAGAACAGGUUUUAUCCCCCAAACAGAGAGACAGUGGUCAGUUCACCGUACUUCGGUGCACGUUUGCAGACCUGGUGGGAAGAGGGGCAUCUUAGAGCCGAGACCCAUUCACUCUUGGCACUCCAGGUGGAGCUGGGCCUUUGGGGCCUGGAUAUAUCCAGGGCUGCGGAUUUUCCCCCCUUCAGGUUUAAAUGUUCCUGUUUUUCUACCUUUCCCUCGCAGUAUACGCUCAACGGCAAGAAAGUGGAAGUUGCCGUCAAACAGAUCAUCGCUGGAAAAGCCGUGGAGCAAGGAGGUGCUUUCUCGAACCCCGAGACCCUGGAUCUGUACCGGGACAUCCCUGAGCUGCAGGGCUUCUGAGUCAGACUGGCUGGCGUGUCACUCAGCCGCACCCGUGUGCACUGUAACUUUUGUGUGCUCAAGAAAUUAUACAGAAACCUACAGCUGUUGUAAAAGGAUGCUCGCACCAAGUGUUCUGUAGGCUUGGGGAGGGAUCGUUUCUCUGUUUUGUUAAAUCUGGUGGGUACCUGGAUCUUCCACACGAGUGGGAUUCUGGCCUUCAGAGACCAGGAGGGAGUGUCUGGGCCGCAGGUGUGGCACUGUGGUGAGAGUGUGUGUCUUUGCACACACAGUGCAGCGGGAACGGUGGGGCUGGCUGGUGCUGAAGACAGACACACUCCUGAGCCAAGGUCUUGUCUUCAACCUCCCCGUCCCGUUGUCCCAUUUUGCUCUGUGAAGGUGCAAAUCCCUUUCUUCCCUUCCCAUCUCAGGCUCUCCUGUUUUCCCUCAGGGUCCAGUAUGCCUUUGAGCUUUAGCUGUUAGAAAGGAACCCCCGUGACUUGACACAGCUUUCACAGCUGGCUGCUAGGACCGGCGGGCUGGGUGUUCACGUGUGUCUGUGUCAUGGAUGCAAUGCAGGCCCUGGAGGACUGUGCGUCACCCGUCAACCAGAGCGUGCCUCCGGGCCAGCUUCCCUCCAAGGAAUGAGUGGAUUUCAUACAGGAUCUCUUUAUUGCACAGACUGAAUGGCUUUACAUGUUUCUAAUGUGAAUUAGGCAUGUGAAGCAGUGGGUGUCCACCCGUGUCCCUCAUGGGUGAGCCCUCCAGCUGUGAGCCCAGGCAGUGUGGUCACCGAGUGAGGACCCUCCUCACCAGGAACCGCAUCCCUGUGCUGCCUCCACCUGAGAGUUGCUAGGGGGUUCUUGUCGAGAUCAUGUCAUCAGCACCCCUAAGUCAAGUCACGGGUUUCCAUAGCCAGGCAGUUGGUAUGUACAAUUCAGUUCAGCGUAUGAACUUGUAUCUCUAAUCUGAUGUCCAUUUUUAUAUUUUUUGAAACUGAGCACAAUGAAAUCCUUUCUUGAAUCAUUUUCCUUUUGGAUUAUAAAAAUAUGGGGGAAAGUGCUAUGAUGAAUUUUAUGCAAUAAAUGUAUACAUGUGUGCACAUGCA': array([[ 0.    ,  0.    ],\n",
       "        [ 0.0197,  0.0595],\n",
       "        [-0.7202,  7.8307],\n",
       "        [ 0.    ,  0.    ],\n",
       "        [ 0.7973,  4.3538],\n",
       "        [ 0.    ,  0.    ],\n",
       "        [ 0.4728,  3.7107],\n",
       "        [-0.7088,  5.2996],\n",
       "        [ 0.    ,  0.    ],\n",
       "        [ 0.    ,  0.    ],\n",
       "        [ 0.    ,  0.    ],\n",
       "        [ 0.    ,  0.    ],\n",
       "        [ 0.4067,  1.5954],\n",
       "        [ 0.5094,  8.9315]]),\n",
       " 'UGCAUGAAUAAUGUAUCACAACCUACUGAGCUGCGUAAAUUGUCAUGUUAUGAGGAAAACUUCUUUCCUUCCUUUAUUGAAUUAACAUGAGCCAGAAGUACAAAUUCAUGAUGGCUGUCACUUUCUCUGAAGAAAAAAGUAUCAGCAAGGGUCAAAUAGAAUAAUAUUCUGAAUCACAAUCUAGCUUUAACCAAAAUAAGCUGUGUAUGUGGAAAUCAAACAGAAGAGCUAUAAAUUGAACAGUGCCAUUAACCUUGAGAAGAGUUUAUAUUUAUCCUUGGAAAGGGACAUUUUUGGCAUGUUCUUUAUUUACUUGCUUUCUCAUGUCAUUAAAUGUGUUUUUCAUAAGGUCUCUCUGUUUUAAUGUAUUAGUGGAGUUGGGCAAUUGAAUCUAUAUAAAAUGCAGGUGAGAGAUUAUGUAAAAUCUAAAAUAAUCCAUGUUAUGGAUAAAAUGGAAAAUGAUCUUGAAGGCCACGAGAACAACAACAACAACAAAAUCCUGAAAAUCUGAUGUACUUCAGUCUUCAUAUUUUAAUAGAAAUUGAUGGCAUCCUGCACAGAUAAAGUUGAUGUUAAACUUGACUUUUCAAUGCCUUCUCUCAACCUUAGACAGAUACUCUUUGUUUGGAUUUUUAAAGUUAUUACAGAGUUUUCCAAUAUAGUAUCCUAAUUUAAUUAAUUCUAAUUUUUUUUUUCUGUUUUAGGCCUUCCAGGUAUUAGCACAACUUAUAAAAGAAUCUUUAUGAAGAAAUUAAACUAGGUUGGGCAUGGUGGCUCACACCUAUAAUCCCAGCACUUUGGGAGGCAGAGGAGGGAGGAUCACUUGAACCCAGGAAUUCAAGGCUGCAGUAAGCUACGAUCACACCACUGCACUCUGGCCUGCAUGCACUCUGGCCUGCAUGGCAGAACAAGACCCUGUCUCUAAAAAAAGAGAAAGAAAUCAAACUAAUCAUGCUGCUCAUGGAUUUUUCCAAUAAAUUUCUUGUUUUGGCAGGAAGAAAUGAACACUGGUAUUAGACUUAAAGAUUAAAUUUCCUCAAACAUGUCCUAUCUGUAGUAGUUCAACUAGACACCUUUUAAAGUGCCUCUAAAUUCAUCAGAUGGCCAAACUGUAUUUAUAAUCCACUUAGGCAUUUUGAAAAACUUUCAACCUGUAAAAAGUUACUUUUAUCUUGGAUUUAUUAUGAAGAACUUUGUAGUUGCUUUGUAAUUUCCCAUAAAUUGUCUUUGAAACUAACAUUUUACACUGAAUUAUUUUGAGAUUUUAAAGAAGUAAUUAAGUGCAAAAUGGUAUAUAAUGUGUACUUUUUCUACUUUUAGGAAAAUUUAAUGAGAGCUUAUUGCAAAAAUUGUUAUAAUUUGGUCAUUAUAAGUGACUUUUAGUAAAAGUACCAUAAACCUU': array([[ 0.    ,  0.    ],\n",
       "        [-0.0885,  0.3384],\n",
       "        [ 0.    ,  0.    ],\n",
       "        [ 1.3189,  5.5945],\n",
       "        [ 1.1698,  6.8452],\n",
       "        [ 2.0254, 11.2648],\n",
       "        [ 1.5136, 23.2604],\n",
       "        [ 0.    ,  0.    ],\n",
       "        [ 0.    ,  0.    ],\n",
       "        [ 0.    ,  0.    ],\n",
       "        [ 0.    ,  0.    ],\n",
       "        [ 0.    ,  0.    ],\n",
       "        [ 0.1105,  0.3281],\n",
       "        [ 0.7901, 25.9075]])}"
      ]
     },
     "execution_count": 146,
     "metadata": {},
     "output_type": "execute_result"
    }
   ],
   "source": [
    "dict(list(all_data_dict.items())[0:2])"
   ]
  },
  {
   "cell_type": "code",
   "execution_count": 150,
   "metadata": {},
   "outputs": [],
   "source": [
    "outname = data_root + 'C9ALS_ALL_training_test_data.pkl'\n",
    "with open(outname, 'wb') as f:\n",
    "    pickle.dump(all_data_dict, f)"
   ]
  },
  {
   "cell_type": "markdown",
   "metadata": {},
   "source": [
    "## Okk lets do the same thing for sALS and we are done with data processing :) "
   ]
  },
  {
   "cell_type": "code",
   "execution_count": 152,
   "metadata": {},
   "outputs": [
    {
     "data": {
      "text/plain": [
       "['Inhibitory_sALSvsCTRL',\n",
       " 'Excitatory_sALSvsCTRL',\n",
       " 'L2-3_sALSvsCTRL',\n",
       " 'AST-FB_sALSvsCTRL',\n",
       " 'L4_sALSvsCTRL',\n",
       " 'IN-VIP_sALSvsCTRL',\n",
       " 'AST-PP_sALSvsCTRL',\n",
       " 'L5-6-CC_sALSvsCTRL',\n",
       " 'Oligodendrocytes_sALSvsCTRL',\n",
       " 'IN-SST_sALSvsCTRL',\n",
       " 'OPC_sALSvsCTRL',\n",
       " 'Microglia_sALSvsCTRL',\n",
       " 'IN-PV_sALSvsCTRL']"
      ]
     },
     "execution_count": 152,
     "metadata": {},
     "output_type": "execute_result"
    }
   ],
   "source": [
    "ct = [ e for e in os.listdir(data_root) if 'sALS' in e]\n",
    "ct"
   ]
  },
  {
   "cell_type": "code",
   "execution_count": 153,
   "metadata": {},
   "outputs": [
    {
     "data": {
      "text/plain": [
       "13"
      ]
     },
     "execution_count": 153,
     "metadata": {},
     "output_type": "execute_result"
    }
   ],
   "source": [
    "len(ct)"
   ]
  },
  {
   "cell_type": "code",
   "execution_count": 154,
   "metadata": {},
   "outputs": [],
   "source": [
    "sequences_dict = {}\n",
    "for ct_cn in ct:\n",
    "    inp_fa = data_root + \"/{}/switch_DNA_sequence.fa\".format(ct_cn)\n",
    "    inp_fa = SeqIO.parse(inp_fa, \"fasta\")\n",
    "    for rec in inp_fa:\n",
    "        if rec.id not in sequences_dict:\n",
    "            sequences_dict[rec.id] = str(rec.seq)\n",
    "        else:\n",
    "            continue  "
   ]
  },
  {
   "cell_type": "code",
   "execution_count": 155,
   "metadata": {},
   "outputs": [
    {
     "data": {
      "text/plain": [
       "107834"
      ]
     },
     "execution_count": 155,
     "metadata": {},
     "output_type": "execute_result"
    }
   ],
   "source": [
    "len(sequences_dict)"
   ]
  },
  {
   "cell_type": "code",
   "execution_count": 157,
   "metadata": {},
   "outputs": [
    {
     "data": {
      "text/plain": [
       "['AST-FB',\n",
       " 'AST-PP',\n",
       " 'Excitatory',\n",
       " 'IN-PV',\n",
       " 'IN-SST',\n",
       " 'IN-VIP',\n",
       " 'Inhibitory',\n",
       " 'L2-3',\n",
       " 'L4',\n",
       " 'L5-6-CC',\n",
       " 'Microglia',\n",
       " 'OPC',\n",
       " 'Oligodendrocytes']"
      ]
     },
     "execution_count": 157,
     "metadata": {},
     "output_type": "execute_result"
    }
   ],
   "source": [
    "celltypes = [e.split('_')[0] for e in ct]\n",
    "celltypes = sorted(celltypes)\n",
    "celltypes"
   ]
  },
  {
   "cell_type": "code",
   "execution_count": 158,
   "metadata": {},
   "outputs": [
    {
     "data": {
      "text/plain": [
       "{'AST-FB': 0,\n",
       " 'AST-PP': 1,\n",
       " 'Excitatory': 2,\n",
       " 'IN-PV': 3,\n",
       " 'IN-SST': 4,\n",
       " 'IN-VIP': 5,\n",
       " 'Inhibitory': 6,\n",
       " 'L2-3': 7,\n",
       " 'L4': 8,\n",
       " 'L5-6-CC': 9,\n",
       " 'Microglia': 10,\n",
       " 'OPC': 11,\n",
       " 'Oligodendrocytes': 12}"
      ]
     },
     "execution_count": 158,
     "metadata": {},
     "output_type": "execute_result"
    }
   ],
   "source": [
    "celltypes_order = {}\n",
    "for e,i in enumerate(celltypes):\n",
    "    celltypes_order[i] = e\n",
    "celltypes_order"
   ]
  },
  {
   "cell_type": "code",
   "execution_count": 159,
   "metadata": {},
   "outputs": [
    {
     "data": {
      "text/plain": [
       "107834"
      ]
     },
     "execution_count": 159,
     "metadata": {},
     "output_type": "execute_result"
    }
   ],
   "source": [
    "labels = {}\n",
    "for key in sequences_dict.keys():\n",
    "    labels[key] = np.zeros((13,2), dtype=float)\n",
    "len(labels)"
   ]
  },
  {
   "cell_type": "code",
   "execution_count": 160,
   "metadata": {},
   "outputs": [],
   "source": [
    "for ct in celltypes:\n",
    "    df_name = data_root + ct + \"_sALSvsCTRL/APAlog_res_metadata_added.tsv\"\n",
    "    inp_df = pd.read_csv(df_name, sep='\\t')\n",
    "    ct_idx = celltypes_order[ct]\n",
    "    for key in list(labels.keys()):\n",
    "        if key in inp_df['switch_name'].values:\n",
    "            res = get_lfc_logp(inp_df, key)\n",
    "            labels[key][ct_idx] = res\n",
    "        else:\n",
    "            continue"
   ]
  },
  {
   "cell_type": "code",
   "execution_count": 161,
   "metadata": {},
   "outputs": [],
   "source": [
    "transcribed_sequences = {}\n",
    "for key,value in sequences_dict.items():\n",
    "    strand = key.split(':')[-1]\n",
    "    if strand == '+':\n",
    "        transcribed_sequences[key] = transcribe_positive_strand(value)\n",
    "    else:\n",
    "        transcribed_sequences[key] = transcribe_negative_strand(value)\n",
    "all_data_dict = {}\n",
    "for key,value in transcribed_sequences.items():\n",
    "    all_data_dict[value] = labels[key]"
   ]
  },
  {
   "cell_type": "code",
   "execution_count": 162,
   "metadata": {
    "collapsed": true,
    "jupyter": {
     "outputs_hidden": true
    }
   },
   "outputs": [
    {
     "data": {
      "text/plain": [
       "{'GUGAGGCGGGACAAACUUGUCUUCCUCACACCCAUCUUACUUCCUCUUAUGAGGAAACCCAGAGAGAUGAGGGGUCUUGCCCAAGGAAGGGGUGUCCAUAGUCAGCUCUGCCUUCUGCUCACCCAGAAUAAAGACCUGGGGACCCCGCGAGGGUCAUGGCCAAGUGGAAUGGACUCCUGGCAUUUGAGGGCUUCCCGACUGCAGCCCUCAGGCAGCCAUGGCUGUCCCAAGUCCAGCGGGCCUUUGCUCGGGUCAUGGCUGGGAUGUCUGGCCCUUCCUGACAGGAGGCUGCUGGGCUCCUGUCUACUUGGGGACGCCUCAUGCAGGAGCUGGUGUGGGGGUGGGCAGGGGGGCGGUGGCUUCUUCCUUUCUCUUUCCCUUUCCUCUACCUUUUCCCCUCUCCCCAGAGGAAAUGGUAGCAGGAUUUCUUUUAAGAGGAUGCUGCUGUAUUUUGCCAGCGGGUGGAAGGUGGCGGUAUUAGCUCCCGUGAGCUGCACGUGGACCCCUGUGUGAAGCGUAGCAGGGCACAGAGCAGGCGAGACGUUUGCAUCUCACAGCGGGAGGGCCGGCGACAUCACAUGAAGUGACAGGCAGGCCCUUGGAAGCCGGUGCUUAGAUCCUUAAUUAGUUCACACGUCGACUGAAUUUUCAAGUGAAUGAAUUUUAAUUACAUCUCAGGUUAAAAAAAAAAAAAGGCGCCAGUGAUCGAGGACUCGUCACUGGGCUCUGUUGCUCCUGAAGUUUCCUAGCCCACAACACACCAACACUGCCAAGGGCUCUUCUGGAUUCAAGGUGAAACACAUGUGCCAUAAAUCUUGGAGCUCUGAAUGUUUGGAAAGGGCCCGACUGUGAGAAGAAGUAACACACCGUCCCGUGCAGAUGGCUGGCUCUGAGGAGGAGUUCAUGGGAGCUUGGGGACACUCUUGCCUCUAGUUCUAGGAAGCUGGGCCACUUCUGAAGUAAUGGCAAUAUCAAUAAAGUAAUGGUCUUUAUCAUAGAAUAACGUGAUAAAAUAUAUAGAGAAGUAAAAAAGUAUAAAUAAAAGUAAAAUCAUCAUAAAACAUAGUAGCUAGGCACUUCUGAAGCUGUGUGUGCACUGAUUCAUUCACCCAGUGACUCACAGCCUUAUAGCCUAGGUGCUGGCACCCCUACUUUCAUUCGAGGAAGUGAACUCAGGUUCAGGAAUUUACCCAGCAUCCCCCAGAUGGGGUGGCAGGAGCCACAUCUUCCCUGAAAACUUUCUUGCCCAGGGUGUCUGCUGGGAUUUAGGAAUGGUCUAUGCCUGCAUUUUUAUCCUGGUCAGGCUGACCCUGAACCCUGAGAGAUACUCUUUUUUAUAUUCCCAUCUGGAAUAUGCACUGCCGGGGUCAGUGGGGUGUCUGGAGGGCCCUCUCGAGGCCAGCUUGGAUGUGACACGUGUCGUGGGUCCCAACGGGGCCCAGUAGAGUGUGCAGCGUUAGAAAAAUGAACAUGCUCGGCUGGGCGCGGUGGCUCACGCCUGUGAUCCUAGCACUUUGGGAGGCCAAGAUGGGUGGAUCAUGAGGUCAGGAGAUCAAGACCAUCCUGGCUAACAUGAGACCAUCCUGGUGAAACCCCAUCUCUACUAAAAAUACAAAAAAUUAGCUGGGCGUGGUGGCAGGUGCCUAUGGUCCCAGCUACUCAGGAGGCUGAGGUAGGAGAAUGGUGUGAACCUGGGAGGGGGAGCUUGCAGUAAGCGGAGAUUGCACCACUGCACUCCAGCCUGGGUGACAGAGUGCGACUCUGUCUCAAAAAAAAAAAAAAGAAAAAAAAAGAAAAAAAGAAAAAUGAACAUGCUCAUGGUGACCUCUGGGCAACUUUGAAAUAGCCUCAGUUUCUCAACAGCCGUGCCAGGGGGCGGGGGUGGGGUGUGGAGAGUGUUAGAGUUGAGUUUCAGCACCAGUCCUUGAAAGUGCCUUUCAGAAGAACAGGUUUUAUCCCCCAAACAGAGAGACAGUGGUCAGUUCACCGUACUUCGGUGCACGUUUGCAGACCUGGUGGGAAGAGGGGCAUCUUAGAGCCGAGACCCAUUCACUCUUGGCACUCCAGGUGGAGCUGGGCCUUUGGGGCCUGGAUAUAUCCAGGGCUGCGGAUUUUCCCCCCUUCAGGUUUAAAUGUUCCUGUUUUUCUACCUUUCCCUCGCAGUAUACGCUCAACGGCAAGAAAGUGGAAGUUGCCGUCAAACAGAUCAUCGCUGGAAAAGCCGUGGAGCAAGGAGGUGCUUUCUCGAACCCCGAGACCCUGGAUCUGUACCGGGACAUCCCUGAGCUGCAGGGCUUCUGAGUCAGACUGGCUGGCGUGUCACUCAGCCGCACCCGUGUGCACUGUAACUUUUGUGUGCUCAAGAAAUUAUACAGAAACCUACAGCUGUUGUAAAAGGAUGCUCGCACCAAGUGUUCUGUAGGCUUGGGGAGGGAUCGUUUCUCUGUUUUGUUAAAUCUGGUGGGUACCUGGAUCUUCCACACGAGUGGGAUUCUGGCCUUCAGAGACCAGGAGGGAGUGUCUGGGCCGCAGGUGUGGCACUGUGGUGAGAGUGUGUGUCUUUGCACACACAGUGCAGCGGGAACGGUGGGGCUGGCUGGUGCUGAAGACAGACACACUCCUGAGCCAAGGUCUUGUCUUCAACCUCCCCGUCCCGUUGUCCCAUUUUGCUCUGUGAAGGUGCAAAUCCCUUUCUUCCCUUCCCAUCUCAGGCUCUCCUGUUUUCCCUCAGGGUCCAGUAUGCCUUUGAGCUUUAGCUGUUAGAAAGGAACCCCCGUGACUUGACACAGCUUUCACAGCUGGCUGCUAGGACCGGCGGGCUGGGUGUUCACGUGUGUCUGUGUCAUGGAUGCAAUGCAGGCCCUGGAGGACUGUGCGUCACCCGUCAACCAGAGCGUGCCUCCGGGCCAGCUUCCCUCCAAGGAAUGAGUGGAUUUCAUACAGGAUCUCUUUAUUGCACAGACUGAAUGGCUUUACAUGUUUCUAAUGUGAAUUAGGCAUGUGAAGCAGUGGGUGUCCACCCGUGUCCCUCAUGGGUGAGCCCUCCAGCUGUGAGCCCAGGCAGUGUGGUCACCGAGUGAGGACCCUCCUCACCAGGAACCGCAUCCCUGUGCUGCCUCCACCUGAGAGUUGCUAGGGGGUUCUUGUCGAGAUCAUGUCAUCAGCACCCCUAAGUCAAGUCACGGGUUUCCAUAGCCAGGCAGUUGGUAUGUACAAUUCAGUUCAGCGUAUGAACUUGUAUCUCUAAUCUGAUGUCCAUUUUUAUAUUUUUUGAAACUGAGCACAAUGAAAUCCUUUCUUGAAUCAUUUUCCUUUUGGAUUAUAAAAAUAUGGGGGAAAGUGCUAUGAUGAAUUUUAUGCAAUAAAUGUAUACAUGUGUGCACAUGCA': array([[ 0.    ,  0.    ],\n",
       "        [-0.2292,  1.2425],\n",
       "        [ 0.0125,  0.0209],\n",
       "        [ 0.    ,  0.    ],\n",
       "        [ 0.9282,  3.7821],\n",
       "        [ 0.    ,  0.    ],\n",
       "        [ 0.7718,  4.6142],\n",
       "        [ 0.1085,  0.1563],\n",
       "        [ 0.    ,  0.    ],\n",
       "        [ 0.    ,  0.    ],\n",
       "        [ 0.    ,  0.    ],\n",
       "        [-1.0337,  8.7543],\n",
       "        [ 0.1895,  1.2722]]),\n",
       " 'UGCAUGAAUAAUGUAUCACAACCUACUGAGCUGCGUAAAUUGUCAUGUUAUGAGGAAAACUUCUUUCCUUCCUUUAUUGAAUUAACAUGAGCCAGAAGUACAAAUUCAUGAUGGCUGUCACUUUCUCUGAAGAAAAAAGUAUCAGCAAGGGUCAAAUAGAAUAAUAUUCUGAAUCACAAUCUAGCUUUAACCAAAAUAAGCUGUGUAUGUGGAAAUCAAACAGAAGAGCUAUAAAUUGAACAGUGCCAUUAACCUUGAGAAGAGUUUAUAUUUAUCCUUGGAAAGGGACAUUUUUGGCAUGUUCUUUAUUUACUUGCUUUCUCAUGUCAUUAAAUGUGUUUUUCAUAAGGUCUCUCUGUUUUAAUGUAUUAGUGGAGUUGGGCAAUUGAAUCUAUAUAAAAUGCAGGUGAGAGAUUAUGUAAAAUCUAAAAUAAUCCAUGUUAUGGAUAAAAUGGAAAAUGAUCUUGAAGGCCACGAGAACAACAACAACAACAAAAUCCUGAAAAUCUGAUGUACUUCAGUCUUCAUAUUUUAAUAGAAAUUGAUGGCAUCCUGCACAGAUAAAGUUGAUGUUAAACUUGACUUUUCAAUGCCUUCUCUCAACCUUAGACAGAUACUCUUUGUUUGGAUUUUUAAAGUUAUUACAGAGUUUUCCAAUAUAGUAUCCUAAUUUAAUUAAUUCUAAUUUUUUUUUUCUGUUUUAGGCCUUCCAGGUAUUAGCACAACUUAUAAAAGAAUCUUUAUGAAGAAAUUAAACUAGGUUGGGCAUGGUGGCUCACACCUAUAAUCCCAGCACUUUGGGAGGCAGAGGAGGGAGGAUCACUUGAACCCAGGAAUUCAAGGCUGCAGUAAGCUACGAUCACACCACUGCACUCUGGCCUGCAUGCACUCUGGCCUGCAUGGCAGAACAAGACCCUGUCUCUAAAAAAAGAGAAAGAAAUCAAACUAAUCAUGCUGCUCAUGGAUUUUUCCAAUAAAUUUCUUGUUUUGGCAGGAAGAAAUGAACACUGGUAUUAGACUUAAAGAUUAAAUUUCCUCAAACAUGUCCUAUCUGUAGUAGUUCAACUAGACACCUUUUAAAGUGCCUCUAAAUUCAUCAGAUGGCCAAACUGUAUUUAUAAUCCACUUAGGCAUUUUGAAAAACUUUCAACCUGUAAAAAGUUACUUUUAUCUUGGAUUUAUUAUGAAGAACUUUGUAGUUGCUUUGUAAUUUCCCAUAAAUUGUCUUUGAAACUAACAUUUUACACUGAAUUAUUUUGAGAUUUUAAAGAAGUAAUUAAGUGCAAAAUGGUAUAUAAUGUGUACUUUUUCUACUUUUAGGAAAAUUUAAUGAGAGCUUAUUGCAAAAAUUGUUAUAAUUUGGUCAUUAUAAGUGACUUUUAGUAAAAGUACCAUAAACCUU': array([[ 0.    ,  0.    ],\n",
       "        [ 0.2992,  1.5525],\n",
       "        [ 0.    ,  0.    ],\n",
       "        [ 0.    ,  0.    ],\n",
       "        [ 0.7029,  2.418 ],\n",
       "        [ 0.    ,  0.    ],\n",
       "        [ 0.8061,  4.6267],\n",
       "        [ 0.    ,  0.    ],\n",
       "        [ 0.    ,  0.    ],\n",
       "        [ 0.    ,  0.    ],\n",
       "        [ 0.    ,  0.    ],\n",
       "        [ 0.5912,  3.2522],\n",
       "        [ 1.0317, 30.8258]])}"
      ]
     },
     "execution_count": 162,
     "metadata": {},
     "output_type": "execute_result"
    }
   ],
   "source": [
    "dict(list(all_data_dict.items())[0:2])"
   ]
  },
  {
   "cell_type": "code",
   "execution_count": 164,
   "metadata": {},
   "outputs": [],
   "source": [
    "outname = data_root + 'sALS_ALL_training_test_data.pkl'\n",
    "with open(outname, 'wb') as f:\n",
    "    pickle.dump(all_data_dict, f)"
   ]
  },
  {
   "cell_type": "code",
   "execution_count": 163,
   "metadata": {},
   "outputs": [
    {
     "data": {
      "text/plain": [
       "107457"
      ]
     },
     "execution_count": 163,
     "metadata": {},
     "output_type": "execute_result"
    }
   ],
   "source": [
    "len(all_data_dict)"
   ]
  },
  {
   "cell_type": "code",
   "execution_count": null,
   "metadata": {},
   "outputs": [],
   "source": []
  },
  {
   "cell_type": "markdown",
   "metadata": {},
   "source": [
    "## sanity checks :) "
   ]
  },
  {
   "cell_type": "code",
   "execution_count": 167,
   "metadata": {},
   "outputs": [],
   "source": [
    "with open(data_root + 'C9ALS_ALL_training_test_data.pkl', 'rb') as inputFile:\n",
    "        C9ALS_data = pickle.load(inputFile)\n",
    "        \n",
    "with open(data_root + 'sALS_ALL_training_test_data.pkl', 'rb') as inputFile:\n",
    "        sALS_data = pickle.load(inputFile)"
   ]
  },
  {
   "cell_type": "code",
   "execution_count": 171,
   "metadata": {},
   "outputs": [
    {
     "data": {
      "text/plain": [
       "107051"
      ]
     },
     "execution_count": 171,
     "metadata": {},
     "output_type": "execute_result"
    }
   ],
   "source": [
    "len(C9ALS_data)"
   ]
  },
  {
   "cell_type": "code",
   "execution_count": 172,
   "metadata": {},
   "outputs": [
    {
     "data": {
      "text/plain": [
       "107457"
      ]
     },
     "execution_count": 172,
     "metadata": {},
     "output_type": "execute_result"
    }
   ],
   "source": [
    "len(sALS_data)"
   ]
  },
  {
   "cell_type": "code",
   "execution_count": null,
   "metadata": {},
   "outputs": [],
   "source": []
  }
 ],
 "metadata": {
  "kernelspec": {
   "display_name": "Python 3",
   "language": "python",
   "name": "python3"
  },
  "language_info": {
   "codemirror_mode": {
    "name": "ipython",
    "version": 3
   },
   "file_extension": ".py",
   "mimetype": "text/x-python",
   "name": "python",
   "nbconvert_exporter": "python",
   "pygments_lexer": "ipython3",
   "version": "3.7.4"
  }
 },
 "nbformat": 4,
 "nbformat_minor": 5
}
