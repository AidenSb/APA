{
 "cells": [
  {
   "cell_type": "code",
   "execution_count": 1,
   "id": "47d86bbe",
   "metadata": {},
   "outputs": [],
   "source": [
    "import os\n",
    "import pandas as pd\n",
    "import seaborn as sns\n",
    "import matplotlib.pyplot as plt\n",
    "import numpy as np\n",
    "os.chdir('/data1/APA/Paul_ALS_Data/bams_in/subscelltype_bamfiles/Mapper_outs/')"
   ]
  },
  {
   "cell_type": "code",
   "execution_count": 4,
   "id": "f63cdb0d",
   "metadata": {},
   "outputs": [],
   "source": [
    "# CTs = [ct for ct in os.listdir() if 'CTRL' in ct]\n",
    "# CTs = list(set(CTs))\n",
    "CTs = ['Astrocytes_sALSvsCTRL',\n",
    " 'Astrocytes_C9ALSvsCTRL']"
   ]
  },
  {
   "cell_type": "code",
   "execution_count": 3,
   "id": "e66fc265",
   "metadata": {},
   "outputs": [],
   "source": [
    "def plot_redu(df, name):\n",
    "    dat = df['REDu']\n",
    "    dat.replace([np.inf, -np.inf], np.nan, inplace=True)\n",
    "    dat.dropna(inplace=True)\n",
    "    ax = sns.distplot(dat)\n",
    "    ax.set(xlabel='REDu', ylabel='Density')\n",
    "    plt.axvline(dat.median(),\n",
    "                color='red', label=round(dat.median(),2))\n",
    "    plt.legend()\n",
    "    outname = \"REDU_plots/\" + name + '_REDu_distplots.png'\n",
    "    plt.savefig(outname)\n",
    "    plt.clf()"
   ]
  },
  {
   "cell_type": "code",
   "execution_count": 6,
   "id": "7fdc9ff6",
   "metadata": {},
   "outputs": [
    {
     "name": "stdout",
     "output_type": "stream",
     "text": [
      "Astrocytes_sALSvsCTRL\n",
      "(11075, 18)\n"
     ]
    },
    {
     "name": "stderr",
     "output_type": "stream",
     "text": [
      "/home/aiden/anaconda3/envs/for_DL/lib/python3.8/site-packages/seaborn/distributions.py:2619: FutureWarning: `distplot` is a deprecated function and will be removed in a future version. Please adapt your code to use either `displot` (a figure-level function with similar flexibility) or `histplot` (an axes-level function for histograms).\n",
      "  warnings.warn(msg, FutureWarning)\n"
     ]
    },
    {
     "name": "stdout",
     "output_type": "stream",
     "text": [
      "Astrocytes_C9ALSvsCTRL\n",
      "(11495, 20)\n"
     ]
    },
    {
     "name": "stderr",
     "output_type": "stream",
     "text": [
      "/home/aiden/anaconda3/envs/for_DL/lib/python3.8/site-packages/seaborn/distributions.py:2619: FutureWarning: `distplot` is a deprecated function and will be removed in a future version. Please adapt your code to use either `displot` (a figure-level function with similar flexibility) or `histplot` (an axes-level function for histograms).\n",
      "  warnings.warn(msg, FutureWarning)\n"
     ]
    },
    {
     "data": {
      "text/plain": [
       "<Figure size 432x288 with 0 Axes>"
      ]
     },
     "metadata": {},
     "output_type": "display_data"
    }
   ],
   "source": [
    "for ct_cn in CTs:\n",
    "    file = ct_cn + \"/gene.txt\"\n",
    "    df = pd.read_csv(file, sep='\\t')\n",
    "    print(ct_cn)\n",
    "    print(df.shape)\n",
    "    plot_redu(df, ct_cn)"
   ]
  },
  {
   "cell_type": "code",
   "execution_count": 2,
   "id": "e0e35ef8",
   "metadata": {},
   "outputs": [
    {
     "data": {
      "text/html": [
       "<div>\n",
       "<style scoped>\n",
       "    .dataframe tbody tr th:only-of-type {\n",
       "        vertical-align: middle;\n",
       "    }\n",
       "\n",
       "    .dataframe tbody tr th {\n",
       "        vertical-align: top;\n",
       "    }\n",
       "\n",
       "    .dataframe thead th {\n",
       "        text-align: right;\n",
       "    }\n",
       "</style>\n",
       "<table border=\"1\" class=\"dataframe\">\n",
       "  <thead>\n",
       "    <tr style=\"text-align: right;\">\n",
       "      <th></th>\n",
       "      <th>gene</th>\n",
       "      <th>npas</th>\n",
       "      <th>pval</th>\n",
       "      <th>RLDu</th>\n",
       "      <th>RLDi</th>\n",
       "      <th>REDu</th>\n",
       "      <th>REDu.pval</th>\n",
       "      <th>REDi</th>\n",
       "      <th>REDi.pval</th>\n",
       "      <th>nread.c1.1</th>\n",
       "      <th>nread.c1.2</th>\n",
       "      <th>nread.c1.3</th>\n",
       "      <th>nread.c1.4</th>\n",
       "      <th>nread.c1.5</th>\n",
       "      <th>nread.c2.1</th>\n",
       "      <th>nread.c2.2</th>\n",
       "      <th>nread.c2.3</th>\n",
       "      <th>nread.c2.4</th>\n",
       "      <th>nread.c2.5</th>\n",
       "    </tr>\n",
       "  </thead>\n",
       "  <tbody>\n",
       "    <tr>\n",
       "      <th>0</th>\n",
       "      <td>B3GALT6</td>\n",
       "      <td>2</td>\n",
       "      <td>0.000002</td>\n",
       "      <td>1.600</td>\n",
       "      <td>NaN</td>\n",
       "      <td>2.720</td>\n",
       "      <td>6.070000e-07</td>\n",
       "      <td>NaN</td>\n",
       "      <td>NaN</td>\n",
       "      <td>0</td>\n",
       "      <td>72</td>\n",
       "      <td>0</td>\n",
       "      <td>0</td>\n",
       "      <td>0</td>\n",
       "      <td>0</td>\n",
       "      <td>0</td>\n",
       "      <td>0</td>\n",
       "      <td>63</td>\n",
       "      <td>0</td>\n",
       "    </tr>\n",
       "    <tr>\n",
       "      <th>1</th>\n",
       "      <td>PUSL1</td>\n",
       "      <td>4</td>\n",
       "      <td>0.130000</td>\n",
       "      <td>0.212</td>\n",
       "      <td>NaN</td>\n",
       "      <td>0.964</td>\n",
       "      <td>1.220000e-02</td>\n",
       "      <td>NaN</td>\n",
       "      <td>NaN</td>\n",
       "      <td>37</td>\n",
       "      <td>193</td>\n",
       "      <td>0</td>\n",
       "      <td>0</td>\n",
       "      <td>88</td>\n",
       "      <td>79</td>\n",
       "      <td>0</td>\n",
       "      <td>40</td>\n",
       "      <td>125</td>\n",
       "      <td>0</td>\n",
       "    </tr>\n",
       "    <tr>\n",
       "      <th>2</th>\n",
       "      <td>MIB2</td>\n",
       "      <td>2</td>\n",
       "      <td>0.003960</td>\n",
       "      <td>NaN</td>\n",
       "      <td>0.917</td>\n",
       "      <td>NaN</td>\n",
       "      <td>NaN</td>\n",
       "      <td>0.917</td>\n",
       "      <td>1.150000e-03</td>\n",
       "      <td>61</td>\n",
       "      <td>315</td>\n",
       "      <td>0</td>\n",
       "      <td>0</td>\n",
       "      <td>327</td>\n",
       "      <td>467</td>\n",
       "      <td>75</td>\n",
       "      <td>384</td>\n",
       "      <td>931</td>\n",
       "      <td>0</td>\n",
       "    </tr>\n",
       "    <tr>\n",
       "      <th>3</th>\n",
       "      <td>PRKCZ</td>\n",
       "      <td>4</td>\n",
       "      <td>0.003760</td>\n",
       "      <td>-0.334</td>\n",
       "      <td>0.641</td>\n",
       "      <td>-0.564</td>\n",
       "      <td>1.610000e-02</td>\n",
       "      <td>0.836</td>\n",
       "      <td>2.510000e-08</td>\n",
       "      <td>170</td>\n",
       "      <td>589</td>\n",
       "      <td>0</td>\n",
       "      <td>105</td>\n",
       "      <td>491</td>\n",
       "      <td>488</td>\n",
       "      <td>57</td>\n",
       "      <td>446</td>\n",
       "      <td>848</td>\n",
       "      <td>29</td>\n",
       "    </tr>\n",
       "    <tr>\n",
       "      <th>4</th>\n",
       "      <td>SKI</td>\n",
       "      <td>5</td>\n",
       "      <td>0.394000</td>\n",
       "      <td>-0.143</td>\n",
       "      <td>-0.228</td>\n",
       "      <td>-0.556</td>\n",
       "      <td>5.310000e-02</td>\n",
       "      <td>0.177</td>\n",
       "      <td>6.460000e-01</td>\n",
       "      <td>34</td>\n",
       "      <td>150</td>\n",
       "      <td>0</td>\n",
       "      <td>34</td>\n",
       "      <td>162</td>\n",
       "      <td>293</td>\n",
       "      <td>34</td>\n",
       "      <td>126</td>\n",
       "      <td>220</td>\n",
       "      <td>0</td>\n",
       "    </tr>\n",
       "  </tbody>\n",
       "</table>\n",
       "</div>"
      ],
      "text/plain": [
       "      gene  npas      pval   RLDu   RLDi   REDu     REDu.pval   REDi  \\\n",
       "0  B3GALT6     2  0.000002  1.600    NaN  2.720  6.070000e-07    NaN   \n",
       "1    PUSL1     4  0.130000  0.212    NaN  0.964  1.220000e-02    NaN   \n",
       "2     MIB2     2  0.003960    NaN  0.917    NaN           NaN  0.917   \n",
       "3    PRKCZ     4  0.003760 -0.334  0.641 -0.564  1.610000e-02  0.836   \n",
       "4      SKI     5  0.394000 -0.143 -0.228 -0.556  5.310000e-02  0.177   \n",
       "\n",
       "      REDi.pval  nread.c1.1  nread.c1.2  nread.c1.3  nread.c1.4  nread.c1.5  \\\n",
       "0           NaN           0          72           0           0           0   \n",
       "1           NaN          37         193           0           0          88   \n",
       "2  1.150000e-03          61         315           0           0         327   \n",
       "3  2.510000e-08         170         589           0         105         491   \n",
       "4  6.460000e-01          34         150           0          34         162   \n",
       "\n",
       "   nread.c2.1  nread.c2.2  nread.c2.3  nread.c2.4  nread.c2.5  \n",
       "0           0           0           0          63           0  \n",
       "1          79           0          40         125           0  \n",
       "2         467          75         384         931           0  \n",
       "3         488          57         446         848          29  \n",
       "4         293          34         126         220           0  "
      ]
     },
     "execution_count": 2,
     "metadata": {},
     "output_type": "execute_result"
    }
   ],
   "source": [
    "# lets read in a maaper outout for Excitatory neurons and see what we have\n",
    "df = pd.read_csv('Excitatory_C9ALSvsCTRL/gene.txt', sep='\\t')\n",
    "df.head()"
   ]
  },
  {
   "cell_type": "code",
   "execution_count": 3,
   "id": "15322fe7",
   "metadata": {},
   "outputs": [
    {
     "data": {
      "text/plain": [
       "(9255, 19)"
      ]
     },
     "execution_count": 3,
     "metadata": {},
     "output_type": "execute_result"
    }
   ],
   "source": [
    "df.shape"
   ]
  },
  {
   "cell_type": "code",
   "execution_count": null,
   "id": "f935bdd2",
   "metadata": {},
   "outputs": [],
   "source": []
  }
 ],
 "metadata": {
  "kernelspec": {
   "display_name": "for_DL",
   "language": "python",
   "name": "python3"
  },
  "language_info": {
   "codemirror_mode": {
    "name": "ipython",
    "version": 3
   },
   "file_extension": ".py",
   "mimetype": "text/x-python",
   "name": "python",
   "nbconvert_exporter": "python",
   "pygments_lexer": "ipython3",
   "version": "3.8.8 (default, Feb 24 2021, 21:46:12) \n[GCC 7.3.0]"
  },
  "vscode": {
   "interpreter": {
    "hash": "6f11c830247e235ea1ebef008272d12985c9cda98a41f6fe963865aa30aff05f"
   }
  }
 },
 "nbformat": 4,
 "nbformat_minor": 5
}
