{
 "cells": [
  {
   "cell_type": "code",
   "execution_count": 1,
   "id": "47d86bbe",
   "metadata": {},
   "outputs": [],
   "source": [
    "import os\n",
    "import pandas as pd\n",
    "import seaborn as sns\n",
    "import matplotlib.pyplot as plt\n",
    "import numpy as np\n",
    "os.chdir('/data1/APA/Paul_ALS_Data/bams_in/subscelltype_bamfiles/Mapper_outs/')"
   ]
  },
  {
   "cell_type": "code",
   "execution_count": 4,
   "id": "f63cdb0d",
   "metadata": {},
   "outputs": [],
   "source": [
    "# CTs = [ct for ct in os.listdir() if 'CTRL' in ct]\n",
    "# CTs = list(set(CTs))\n",
    "CTs = ['Astrocytes_sALSvsCTRL',\n",
    " 'Astrocytes_C9ALSvsCTRL']"
   ]
  },
  {
   "cell_type": "code",
   "execution_count": 3,
   "id": "e66fc265",
   "metadata": {},
   "outputs": [],
   "source": [
    "def plot_redu(df, name):\n",
    "    dat = df['REDu']\n",
    "    dat.replace([np.inf, -np.inf], np.nan, inplace=True)\n",
    "    dat.dropna(inplace=True)\n",
    "    ax = sns.distplot(dat)\n",
    "    ax.set(xlabel='REDu', ylabel='Density')\n",
    "    plt.axvline(dat.median(),\n",
    "                color='red', label=round(dat.median(),2))\n",
    "    plt.legend()\n",
    "    outname = \"REDU_plots/\" + name + '_REDu_distplots.png'\n",
    "    plt.savefig(outname)\n",
    "    plt.clf()"
   ]
  },
  {
   "cell_type": "code",
   "execution_count": 6,
   "id": "7fdc9ff6",
   "metadata": {},
   "outputs": [
    {
     "name": "stdout",
     "output_type": "stream",
     "text": [
      "Astrocytes_sALSvsCTRL\n",
      "(11075, 18)\n"
     ]
    },
    {
     "name": "stderr",
     "output_type": "stream",
     "text": [
      "/home/aiden/anaconda3/envs/for_DL/lib/python3.8/site-packages/seaborn/distributions.py:2619: FutureWarning: `distplot` is a deprecated function and will be removed in a future version. Please adapt your code to use either `displot` (a figure-level function with similar flexibility) or `histplot` (an axes-level function for histograms).\n",
      "  warnings.warn(msg, FutureWarning)\n"
     ]
    },
    {
     "name": "stdout",
     "output_type": "stream",
     "text": [
      "Astrocytes_C9ALSvsCTRL\n",
      "(11495, 20)\n"
     ]
    },
    {
     "name": "stderr",
     "output_type": "stream",
     "text": [
      "/home/aiden/anaconda3/envs/for_DL/lib/python3.8/site-packages/seaborn/distributions.py:2619: FutureWarning: `distplot` is a deprecated function and will be removed in a future version. Please adapt your code to use either `displot` (a figure-level function with similar flexibility) or `histplot` (an axes-level function for histograms).\n",
      "  warnings.warn(msg, FutureWarning)\n"
     ]
    },
    {
     "data": {
      "text/plain": [
       "<Figure size 432x288 with 0 Axes>"
      ]
     },
     "metadata": {},
     "output_type": "display_data"
    }
   ],
   "source": [
    "for ct_cn in CTs:\n",
    "    file = ct_cn + \"/gene.txt\"\n",
    "    df = pd.read_csv(file, sep='\\t')\n",
    "    print(ct_cn)\n",
    "    print(df.shape)\n",
    "    plot_redu(df, ct_cn)"
   ]
  },
  {
   "cell_type": "code",
   "execution_count": null,
   "id": "e0e35ef8",
   "metadata": {},
   "outputs": [],
   "source": []
  }
 ],
 "metadata": {
  "kernelspec": {
   "display_name": "for_DL",
   "language": "python",
   "name": "for_dl"
  },
  "language_info": {
   "codemirror_mode": {
    "name": "ipython",
    "version": 3
   },
   "file_extension": ".py",
   "mimetype": "text/x-python",
   "name": "python",
   "nbconvert_exporter": "python",
   "pygments_lexer": "ipython3",
   "version": "3.8.8"
  }
 },
 "nbformat": 4,
 "nbformat_minor": 5
}
