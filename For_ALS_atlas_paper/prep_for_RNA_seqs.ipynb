{
 "cells": [
  {
   "cell_type": "code",
   "execution_count": 1,
   "metadata": {},
   "outputs": [],
   "source": [
    "import os\n",
    "import pandas as pd\n",
    "import numpy as np"
   ]
  },
  {
   "cell_type": "code",
   "execution_count": 2,
   "metadata": {},
   "outputs": [],
   "source": [
    "bed_dirs = '/data1/APA/Paul_ALS_Data/results/second_run_upregulated_longer_utr_regions'"
   ]
  },
  {
   "cell_type": "code",
   "execution_count": 5,
   "metadata": {},
   "outputs": [
    {
     "data": {
      "text/plain": [
       "['C9ALSnoFTLD_OPC_upregulated_longer_utr_region.bed',\n",
       " 'C9ALSnoFTLD_Microglia_upregulated_longer_utr_region.bed',\n",
       " 'C9ALSnoFTLD_Oligodendrocytes_upregulated_longer_utr_region.bed',\n",
       " 'sALSnoFTLD_Microglia_upregulated_longer_utr_region.bed',\n",
       " 'C9ALSFTLD_OPC_upregulated_longer_utr_region.bed',\n",
       " 'sALSnoFTLD_Excitatory_upregulated_longer_utr_region.bed',\n",
       " 'C9noALSnoFTLD_Microglia_upregulated_longer_utr_region.bed',\n",
       " 'C9ALSFTLD_Oligodendrocytes_upregulated_longer_utr_region.bed',\n",
       " 'C9ALSnoFTLD_Inhibitory_upregulated_longer_utr_region.bed',\n",
       " 'C9ALSFTLD_Microglia_upregulated_longer_utr_region.bed',\n",
       " 'C9noALSnoFTLD_Inhibitory_upregulated_longer_utr_region.bed',\n",
       " 'C9noALSnoFTLD_Excitatory_upregulated_longer_utr_region.bed',\n",
       " 'sALSnoFTLD_OPC_upregulated_longer_utr_region.bed',\n",
       " 'C9ALSFTLD_Excitatory_upregulated_longer_utr_region.bed',\n",
       " 'sALSnoFTLD_Astrocytes_upregulated_longer_utr_region.bed',\n",
       " 'C9ALSFTLD_Astrocytes_upregulated_longer_utr_region.bed',\n",
       " 'sALSnoFTLD_Oligodendrocytes_upregulated_longer_utr_region.bed',\n",
       " 'C9ALSFTLD_Inhibitory_upregulated_longer_utr_region.bed',\n",
       " 'C9ALSnoFTLD_Excitatory_upregulated_longer_utr_region.bed',\n",
       " 'C9ALSnoFTLD_Astrocytes_upregulated_longer_utr_region.bed',\n",
       " 'C9noALSnoFTLD_OPC_upregulated_longer_utr_region.bed',\n",
       " 'sALSnoFTLD_Inhibitory_upregulated_longer_utr_region.bed',\n",
       " 'C9noALSnoFTLD_Oligodendrocytes_upregulated_longer_utr_region.bed',\n",
       " 'C9noALSnoFTLD_Astrocytes_upregulated_longer_utr_region.bed']"
      ]
     },
     "execution_count": 5,
     "metadata": {},
     "output_type": "execute_result"
    }
   ],
   "source": [
    "beds = [bed for bed in os.listdir(bed_dirs) if \".bed\" in bed]\n",
    "beds"
   ]
  },
  {
   "cell_type": "code",
   "execution_count": 27,
   "metadata": {},
   "outputs": [],
   "source": [
    "utr_table_dirs = '/home/aiden/codes/APA_stuff/post_qual/APA/For_ALS_atlas_paper/UTR_shift_results/'"
   ]
  },
  {
   "cell_type": "code",
   "execution_count": 54,
   "metadata": {
    "collapsed": true,
    "jupyter": {
     "outputs_hidden": true
    }
   },
   "outputs": [
    {
     "name": "stdout",
     "output_type": "stream",
     "text": [
      "/data1/APA/Paul_ALS_Data/results/second_run_upregulated_longer_utr_regions/C9ALSnoFTLD_OPC_upregulated_longer_utr_region_2.bed\n",
      "/data1/APA/Paul_ALS_Data/results/second_run_upregulated_longer_utr_regions/C9ALSnoFTLD_Microglia_upregulated_longer_utr_region_2.bed\n",
      "/data1/APA/Paul_ALS_Data/results/second_run_upregulated_longer_utr_regions/C9ALSnoFTLD_Oligodendrocytes_upregulated_longer_utr_region_2.bed\n",
      "/data1/APA/Paul_ALS_Data/results/second_run_upregulated_longer_utr_regions/sALSnoFTLD_Microglia_upregulated_longer_utr_region_2.bed\n",
      "/data1/APA/Paul_ALS_Data/results/second_run_upregulated_longer_utr_regions/C9ALSFTLD_OPC_upregulated_longer_utr_region_2.bed\n",
      "/data1/APA/Paul_ALS_Data/results/second_run_upregulated_longer_utr_regions/sALSnoFTLD_Excitatory_upregulated_longer_utr_region_2.bed\n",
      "/data1/APA/Paul_ALS_Data/results/second_run_upregulated_longer_utr_regions/C9noALSnoFTLD_Microglia_upregulated_longer_utr_region_2.bed\n",
      "/data1/APA/Paul_ALS_Data/results/second_run_upregulated_longer_utr_regions/C9ALSFTLD_Oligodendrocytes_upregulated_longer_utr_region_2.bed\n",
      "/data1/APA/Paul_ALS_Data/results/second_run_upregulated_longer_utr_regions/C9ALSnoFTLD_Inhibitory_upregulated_longer_utr_region_2.bed\n",
      "/data1/APA/Paul_ALS_Data/results/second_run_upregulated_longer_utr_regions/C9ALSFTLD_Microglia_upregulated_longer_utr_region_2.bed\n",
      "/data1/APA/Paul_ALS_Data/results/second_run_upregulated_longer_utr_regions/C9noALSnoFTLD_Inhibitory_upregulated_longer_utr_region_2.bed\n",
      "/data1/APA/Paul_ALS_Data/results/second_run_upregulated_longer_utr_regions/C9noALSnoFTLD_Excitatory_upregulated_longer_utr_region_2.bed\n",
      "/data1/APA/Paul_ALS_Data/results/second_run_upregulated_longer_utr_regions/sALSnoFTLD_OPC_upregulated_longer_utr_region_2.bed\n",
      "/data1/APA/Paul_ALS_Data/results/second_run_upregulated_longer_utr_regions/C9ALSFTLD_Excitatory_upregulated_longer_utr_region_2.bed\n",
      "/data1/APA/Paul_ALS_Data/results/second_run_upregulated_longer_utr_regions/sALSnoFTLD_Astrocytes_upregulated_longer_utr_region_2.bed\n",
      "/data1/APA/Paul_ALS_Data/results/second_run_upregulated_longer_utr_regions/C9ALSFTLD_Astrocytes_upregulated_longer_utr_region_2.bed\n",
      "/data1/APA/Paul_ALS_Data/results/second_run_upregulated_longer_utr_regions/sALSnoFTLD_Oligodendrocytes_upregulated_longer_utr_region_2.bed\n",
      "/data1/APA/Paul_ALS_Data/results/second_run_upregulated_longer_utr_regions/C9ALSFTLD_Inhibitory_upregulated_longer_utr_region_2.bed\n",
      "/data1/APA/Paul_ALS_Data/results/second_run_upregulated_longer_utr_regions/C9ALSnoFTLD_Excitatory_upregulated_longer_utr_region_2.bed\n",
      "/data1/APA/Paul_ALS_Data/results/second_run_upregulated_longer_utr_regions/C9ALSnoFTLD_Astrocytes_upregulated_longer_utr_region_2.bed\n",
      "/data1/APA/Paul_ALS_Data/results/second_run_upregulated_longer_utr_regions/C9noALSnoFTLD_OPC_upregulated_longer_utr_region_2.bed\n",
      "/data1/APA/Paul_ALS_Data/results/second_run_upregulated_longer_utr_regions/sALSnoFTLD_Inhibitory_upregulated_longer_utr_region_2.bed\n",
      "/data1/APA/Paul_ALS_Data/results/second_run_upregulated_longer_utr_regions/C9noALSnoFTLD_Oligodendrocytes_upregulated_longer_utr_region_2.bed\n",
      "/data1/APA/Paul_ALS_Data/results/second_run_upregulated_longer_utr_regions/C9noALSnoFTLD_Astrocytes_upregulated_longer_utr_region_2.bed\n"
     ]
    }
   ],
   "source": [
    "for bed in beds:\n",
    "    ct_dn = bed.split('_upregulated_')[0]\n",
    "    utr_table_file = utr_table_dirs + ct_dn + \"_utr_shift_table.tsv\"\n",
    "    utr_table = pd.read_csv(utr_table_file, sep='\\t')\n",
    "    utr_table['id'] = list(utr_table.index)\n",
    "    utr_table['gene'] = [g.split(':')[0] for g in list(utr_table.index)]\n",
    "    utr_table['strand'] = [g.split(':')[-1] for g in list(utr_table.index)]\n",
    "    bfile = open(bed_dirs+\"/\"+bed,'r+')\n",
    "    bfile = bfile.readlines()\n",
    "    print(bed_dirs+\"/\"+bed.split('.')[0]+'_2.bed')\n",
    "    nbfile = open(bed_dirs+\"/\"+bed.split('.')[0]+'_2.bed','w+')\n",
    "    for line in bfile:\n",
    "        gene = line.split('\\t')[-1].split(':')[1]\n",
    "        strand = list(utr_table[utr_table['gene'] ==gene]['strand'])[0]\n",
    "        line2 = line.strip('\\n') + ':' + strand + '\\n'\n",
    "        nbfile.write(line2)\n",
    "    nbfile.close()"
   ]
  },
  {
   "cell_type": "code",
   "execution_count": 55,
   "metadata": {
    "collapsed": true,
    "jupyter": {
     "outputs_hidden": true
    }
   },
   "outputs": [
    {
     "name": "stdout",
     "output_type": "stream",
     "text": [
      "-f\n"
     ]
    },
    {
     "ename": "FileNotFoundError",
     "evalue": "[Errno 2] No such file or directory: '-f'",
     "output_type": "error",
     "traceback": [
      "\u001b[0;31m---------------------------------------------------------------------------\u001b[0m",
      "\u001b[0;31mFileNotFoundError\u001b[0m                         Traceback (most recent call last)",
      "\u001b[0;32m<ipython-input-55-4707ecd9866b>\u001b[0m in \u001b[0;36m<module>\u001b[0;34m\u001b[0m\n\u001b[1;32m     21\u001b[0m \u001b[0mutr_seqs\u001b[0m \u001b[0;34m=\u001b[0m \u001b[0msys\u001b[0m\u001b[0;34m.\u001b[0m\u001b[0margv\u001b[0m\u001b[0;34m[\u001b[0m\u001b[0;36m1\u001b[0m\u001b[0;34m]\u001b[0m\u001b[0;34m\u001b[0m\u001b[0;34m\u001b[0m\u001b[0m\n\u001b[1;32m     22\u001b[0m \u001b[0mprint\u001b[0m\u001b[0;34m(\u001b[0m\u001b[0mutr_seqs\u001b[0m\u001b[0;34m)\u001b[0m\u001b[0;34m\u001b[0m\u001b[0;34m\u001b[0m\u001b[0m\n\u001b[0;32m---> 23\u001b[0;31m \u001b[0mrecord_dict\u001b[0m \u001b[0;34m=\u001b[0m \u001b[0mSeqIO\u001b[0m\u001b[0;34m.\u001b[0m\u001b[0mto_dict\u001b[0m\u001b[0;34m(\u001b[0m\u001b[0mSeqIO\u001b[0m\u001b[0;34m.\u001b[0m\u001b[0mparse\u001b[0m\u001b[0;34m(\u001b[0m\u001b[0mutr_seqs\u001b[0m\u001b[0;34m,\u001b[0m \u001b[0;34m\"fasta\"\u001b[0m\u001b[0;34m)\u001b[0m\u001b[0;34m)\u001b[0m\u001b[0;34m\u001b[0m\u001b[0;34m\u001b[0m\u001b[0m\n\u001b[0m\u001b[1;32m     24\u001b[0m \u001b[0mroot\u001b[0m \u001b[0;34m=\u001b[0m \u001b[0;34m'//data1/APA/Paul_ALS_Data/results/'\u001b[0m\u001b[0;34m\u001b[0m\u001b[0;34m\u001b[0m\u001b[0m\n\u001b[1;32m     25\u001b[0m \u001b[0moutname\u001b[0m \u001b[0;34m=\u001b[0m \u001b[0mroot\u001b[0m \u001b[0;34m+\u001b[0m \u001b[0mutr_seqs\u001b[0m\u001b[0;34m[\u001b[0m\u001b[0;34m:\u001b[0m\u001b[0;34m-\u001b[0m\u001b[0;36m3\u001b[0m\u001b[0;34m]\u001b[0m\u001b[0;34m+\u001b[0m\u001b[0;34m'_RNA.fa'\u001b[0m\u001b[0;34m\u001b[0m\u001b[0;34m\u001b[0m\u001b[0m\n",
      "\u001b[0;32m~/anaconda3/lib/python3.7/site-packages/Bio/SeqIO/__init__.py\u001b[0m in \u001b[0;36mparse\u001b[0;34m(handle, format, alphabet)\u001b[0m\n\u001b[1;32m    603\u001b[0m     \u001b[0miterator_generator\u001b[0m \u001b[0;34m=\u001b[0m \u001b[0m_FormatToIterator\u001b[0m\u001b[0;34m.\u001b[0m\u001b[0mget\u001b[0m\u001b[0;34m(\u001b[0m\u001b[0mformat\u001b[0m\u001b[0;34m)\u001b[0m\u001b[0;34m\u001b[0m\u001b[0;34m\u001b[0m\u001b[0m\n\u001b[1;32m    604\u001b[0m     \u001b[0;32mif\u001b[0m \u001b[0miterator_generator\u001b[0m\u001b[0;34m:\u001b[0m\u001b[0;34m\u001b[0m\u001b[0;34m\u001b[0m\u001b[0m\n\u001b[0;32m--> 605\u001b[0;31m         \u001b[0;32mreturn\u001b[0m \u001b[0miterator_generator\u001b[0m\u001b[0;34m(\u001b[0m\u001b[0mhandle\u001b[0m\u001b[0;34m)\u001b[0m\u001b[0;34m\u001b[0m\u001b[0;34m\u001b[0m\u001b[0m\n\u001b[0m\u001b[1;32m    606\u001b[0m     \u001b[0;32mif\u001b[0m \u001b[0mformat\u001b[0m \u001b[0;32min\u001b[0m \u001b[0mAlignIO\u001b[0m\u001b[0;34m.\u001b[0m\u001b[0m_FormatToIterator\u001b[0m\u001b[0;34m:\u001b[0m\u001b[0;34m\u001b[0m\u001b[0;34m\u001b[0m\u001b[0m\n\u001b[1;32m    607\u001b[0m         \u001b[0;31m# Use Bio.AlignIO to read in the alignments\u001b[0m\u001b[0;34m\u001b[0m\u001b[0;34m\u001b[0m\u001b[0;34m\u001b[0m\u001b[0m\n",
      "\u001b[0;32m~/anaconda3/lib/python3.7/site-packages/Bio/SeqIO/FastaIO.py\u001b[0m in \u001b[0;36m__init__\u001b[0;34m(self, source, alphabet, title2ids)\u001b[0m\n\u001b[1;32m    181\u001b[0m             \u001b[0;32mraise\u001b[0m \u001b[0mValueError\u001b[0m\u001b[0;34m(\u001b[0m\u001b[0;34m\"The alphabet argument is no longer supported\"\u001b[0m\u001b[0;34m)\u001b[0m\u001b[0;34m\u001b[0m\u001b[0;34m\u001b[0m\u001b[0m\n\u001b[1;32m    182\u001b[0m         \u001b[0mself\u001b[0m\u001b[0;34m.\u001b[0m\u001b[0mtitle2ids\u001b[0m \u001b[0;34m=\u001b[0m \u001b[0mtitle2ids\u001b[0m\u001b[0;34m\u001b[0m\u001b[0;34m\u001b[0m\u001b[0m\n\u001b[0;32m--> 183\u001b[0;31m         \u001b[0msuper\u001b[0m\u001b[0;34m(\u001b[0m\u001b[0;34m)\u001b[0m\u001b[0;34m.\u001b[0m\u001b[0m__init__\u001b[0m\u001b[0;34m(\u001b[0m\u001b[0msource\u001b[0m\u001b[0;34m,\u001b[0m \u001b[0mmode\u001b[0m\u001b[0;34m=\u001b[0m\u001b[0;34m\"t\"\u001b[0m\u001b[0;34m,\u001b[0m \u001b[0mfmt\u001b[0m\u001b[0;34m=\u001b[0m\u001b[0;34m\"Fasta\"\u001b[0m\u001b[0;34m)\u001b[0m\u001b[0;34m\u001b[0m\u001b[0;34m\u001b[0m\u001b[0m\n\u001b[0m\u001b[1;32m    184\u001b[0m \u001b[0;34m\u001b[0m\u001b[0m\n\u001b[1;32m    185\u001b[0m     \u001b[0;32mdef\u001b[0m \u001b[0mparse\u001b[0m\u001b[0;34m(\u001b[0m\u001b[0mself\u001b[0m\u001b[0;34m,\u001b[0m \u001b[0mhandle\u001b[0m\u001b[0;34m)\u001b[0m\u001b[0;34m:\u001b[0m\u001b[0;34m\u001b[0m\u001b[0;34m\u001b[0m\u001b[0m\n",
      "\u001b[0;32m~/anaconda3/lib/python3.7/site-packages/Bio/SeqIO/Interfaces.py\u001b[0m in \u001b[0;36m__init__\u001b[0;34m(self, source, alphabet, mode, fmt)\u001b[0m\n\u001b[1;32m     46\u001b[0m             \u001b[0;32mraise\u001b[0m \u001b[0mValueError\u001b[0m\u001b[0;34m(\u001b[0m\u001b[0;34m\"The alphabet argument is no longer supported\"\u001b[0m\u001b[0;34m)\u001b[0m\u001b[0;34m\u001b[0m\u001b[0;34m\u001b[0m\u001b[0m\n\u001b[1;32m     47\u001b[0m         \u001b[0;32mtry\u001b[0m\u001b[0;34m:\u001b[0m\u001b[0;34m\u001b[0m\u001b[0;34m\u001b[0m\u001b[0m\n\u001b[0;32m---> 48\u001b[0;31m             \u001b[0mself\u001b[0m\u001b[0;34m.\u001b[0m\u001b[0mstream\u001b[0m \u001b[0;34m=\u001b[0m \u001b[0mopen\u001b[0m\u001b[0;34m(\u001b[0m\u001b[0msource\u001b[0m\u001b[0;34m,\u001b[0m \u001b[0;34m\"r\"\u001b[0m \u001b[0;34m+\u001b[0m \u001b[0mmode\u001b[0m\u001b[0;34m)\u001b[0m\u001b[0;34m\u001b[0m\u001b[0;34m\u001b[0m\u001b[0m\n\u001b[0m\u001b[1;32m     49\u001b[0m             \u001b[0mself\u001b[0m\u001b[0;34m.\u001b[0m\u001b[0mshould_close_stream\u001b[0m \u001b[0;34m=\u001b[0m \u001b[0;32mTrue\u001b[0m\u001b[0;34m\u001b[0m\u001b[0;34m\u001b[0m\u001b[0m\n\u001b[1;32m     50\u001b[0m         \u001b[0;32mexcept\u001b[0m \u001b[0mTypeError\u001b[0m\u001b[0;34m:\u001b[0m  \u001b[0;31m# not a path, assume we received a stream\u001b[0m\u001b[0;34m\u001b[0m\u001b[0;34m\u001b[0m\u001b[0m\n",
      "\u001b[0;31mFileNotFoundError\u001b[0m: [Errno 2] No such file or directory: '-f'"
     ]
    }
   ],
   "source": [
    "import os,glob,subprocess\n",
    "import pandas as pd\n",
    "import sys\n",
    "from Bio import SeqIO\n",
    "## DNA to RNA converting\n",
    "def transcribe_positive_strand(seq):\n",
    "    \"\"\" input is the 5' to 3' coding squence\n",
    "        so the RNA will be exact sequence except\n",
    "        U instead of T\n",
    "    \"\"\"\n",
    "    return(seq.replace('T','U'))\n",
    "\n",
    "def transcribe_negative_strand(seq):\n",
    "    \"\"\" input is the 5' to 3' template squence\n",
    "        so the function complement and returns\n",
    "        the reverse of sequence\n",
    "    \"\"\"\n",
    "    complement = {'A': 'U', 'C': 'G', 'G': 'C', 'T': 'A'}\n",
    "    return \"\".join(complement.get(base, base) for base in reversed(seq))\n",
    "## read in the UTR fasta file and change DNA to RNA\n",
    "utr_seqs = '/data1/APA/Paul_ALS_Data/results/second_run_upregulated_longer_utr_regions/beds_with_strands/C9ALSnoFTLD_OPC_upregulated_longer_utr_region_2.fa'\n",
    "print(utr_seqs)\n",
    "record_dict = SeqIO.to_dict(SeqIO.parse(utr_seqs, \"fasta\"))\n",
    "root = '//data1/APA/Paul_ALS_Data/results/'\n",
    "outname = root + utr_seqs[:-3]+'_RNA.fa'\n",
    "# outfile = open(outname, 'w')\n",
    "for record in record_dict:\n",
    "    name = record\n",
    "    header = \">\"+name+'\\n'\n",
    "    outfile.write(header)\n",
    "    strand = name.split(':')[-1]\n",
    "    if strand == '1':\n",
    "        seq = transcribe_positive_strand(str(record_dict[record].seq)) + '\\n'\n",
    "    else:\n",
    "        seq = transcribe_negative_strand(str(record_dict[record].seq)) + '\\n'\n",
    "    outfile.write(seq)\n",
    "    seq=''\n",
    "    header=''\n",
    "outfile.close()"
   ]
  },
  {
   "cell_type": "code",
   "execution_count": null,
   "metadata": {},
   "outputs": [],
   "source": []
  }
 ],
 "metadata": {
  "kernelspec": {
   "display_name": "Python 3 (ipykernel)",
   "language": "python",
   "name": "python3"
  },
  "language_info": {
   "codemirror_mode": {
    "name": "ipython",
    "version": 3
   },
   "file_extension": ".py",
   "mimetype": "text/x-python",
   "name": "python",
   "nbconvert_exporter": "python",
   "pygments_lexer": "ipython3",
   "version": "3.7.4"
  }
 },
 "nbformat": 4,
 "nbformat_minor": 4
}
